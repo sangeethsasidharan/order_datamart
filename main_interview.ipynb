{
 "cells": [
  {
   "cell_type": "code",
   "execution_count": 0,
   "metadata": {
    "application/vnd.databricks.v1+cell": {
     "cellMetadata": {
      "byteLimit": 2048000,
      "rowLimit": 10000
     },
     "inputWidgets": {},
     "nuid": "4ae843ef-bf1f-4f76-ba3d-559bf26380bb",
     "showTitle": false,
     "tableResultSettingsMap": {},
     "title": ""
    }
   },
   "outputs": [],
   "source": [
    "%load_ext autoreload\n",
    "%autoreload 2\n"
   ]
  },
  {
   "cell_type": "markdown",
   "metadata": {
    "application/vnd.databricks.v1+cell": {
     "cellMetadata": {},
     "inputWidgets": {},
     "nuid": "55e596fd-6d0a-4854-b042-84ebc16b1a41",
     "showTitle": false,
     "tableResultSettingsMap": {},
     "title": ""
    }
   },
   "source": [
    "**Assumptions**\n",
    "- Assuming product_id is the unique business key in products file, if any duplicate will pick up first product sorterd by dec \n",
    "- Same for customer_id in customer file , If found duplicates will pick up the first customer sorted by customer name\n",
    "- Seen some customer names with special charters eg \"Fra9876nk Gasti  ;.,.,neau\", Since no insturction given on how to handle this special chareters , For now leaving as is, If we required can remove such special character\n",
    "- During join to prepare fact_orders for non matching customer and product join , Lookup fields have kept 'UNKNOWN' since not specified what to do with this, IF required i can handle accordigily and filter out this records, \n",
    "- For fact_order prepration applied left join and not removed any non joining records\n",
    "- To read excel source right approch would be to use this \"https://medium.com/@amitjoshi7/how-to-read-excel-files-using-pyspark-in-databricks-637bb21b90be\" but in databricks free edition we can not install any maven depdency i have used this \"https://spark.apache.org/docs/latest/api/python/reference/pyspark.pandas/api/pyspark.pandas.read_excel.html\" \n"
   ]
  },
  {
   "cell_type": "markdown",
   "metadata": {
    "application/vnd.databricks.v1+cell": {
     "cellMetadata": {},
     "inputWidgets": {},
     "nuid": "4c8bbb95-7fcb-468e-ae20-b9908c1298ca",
     "showTitle": false,
     "tableResultSettingsMap": {},
     "title": ""
    }
   },
   "source": [
    "Below are the layers and transformations\n",
    "\n",
    "Actual data saved in '**Prod**' schema\n",
    "\n",
    "**RAW layer**\n",
    "Column names are formatted , below tables created with as is data \n",
    "- raw_products \n",
    "- raw_orders\n",
    "- raw_customers\n",
    "\n",
    "**Enriched layer**\n",
    "Data types are formatted , Duplicate records are removed, Below are the tables\n",
    "- enriched_products\n",
    "- enriched_orders\n",
    "- enriched_customers\n",
    "\n",
    "**Fact layer**\n",
    "3 data set combined to create fact table with required lookup columns from the product and customer table\n",
    "Profit is rounded to 2 decimal\n",
    "\n",
    "**Agg layer**\n",
    "Fact order profit data aggregated by required fields  "
   ]
  },
  {
   "cell_type": "code",
   "execution_count": 0,
   "metadata": {
    "application/vnd.databricks.v1+cell": {
     "cellMetadata": {
      "byteLimit": 2048000,
      "rowLimit": 10000
     },
     "inputWidgets": {},
     "nuid": "c2dececd-5468-41fc-9f1b-19b307b94aba",
     "showTitle": false,
     "tableResultSettingsMap": {},
     "title": ""
    }
   },
   "outputs": [],
   "source": [
    "%pip install openpyxl"
   ]
  },
  {
   "cell_type": "code",
   "execution_count": 0,
   "metadata": {
    "application/vnd.databricks.v1+cell": {
     "cellMetadata": {
      "byteLimit": 2048000,
      "rowLimit": 10000
     },
     "inputWidgets": {},
     "nuid": "70ce84af-34cc-4847-9cce-2aa5692cd96e",
     "showTitle": false,
     "tableResultSettingsMap": {},
     "title": ""
    }
   },
   "outputs": [],
   "source": [
    "dbutils.library.restartPython()"
   ]
  },
  {
   "cell_type": "code",
   "execution_count": 0,
   "metadata": {
    "application/vnd.databricks.v1+cell": {
     "cellMetadata": {
      "byteLimit": 2048000,
      "rowLimit": 10000
     },
     "inputWidgets": {},
     "nuid": "ee5bedd6-938d-4fdb-8241-19311fff6c20",
     "showTitle": false,
     "tableResultSettingsMap": {},
     "title": ""
    }
   },
   "outputs": [],
   "source": [
    "from common_functions import * "
   ]
  },
  {
   "cell_type": "code",
   "execution_count": 0,
   "metadata": {
    "application/vnd.databricks.v1+cell": {
     "cellMetadata": {
      "byteLimit": 2048000,
      "rowLimit": 10000
     },
     "inputWidgets": {},
     "nuid": "fee9294b-d4fd-4ce0-a0b8-f9189f44434e",
     "showTitle": false,
     "tableResultSettingsMap": {},
     "title": ""
    }
   },
   "outputs": [],
   "source": [
    "\n",
    "from pyspark.sql import SparkSession \n",
    "import pyspark.pandas as ps\n",
    "\n",
    "products_df = spark.read.csv(\n",
    "    '/Volumes/workspace/interview/interview_volume/Products.csv',\n",
    "    header=True,        # Use first line as column names\n",
    "    quote='\"',        # Handle commas inside double quotes\n",
    "    escape='\"',\n",
    "    inferSchema=True,   # Automatically infer data types\n",
    ")\n",
    "\n",
    "orders_df = spark.read.json(\n",
    "    '/Volumes/workspace/interview/interview_volume/Orders.json',\n",
    "    multiLine=True\n",
    ")\n",
    "\n",
    "customer_psdf = ps.read_excel(\n",
    "    \"/Volumes/workspace/interview/interview_volume/Customer.xlsx\",\n",
    "    dtype=str,\n",
    "    sheet_name=\"Worksheet\"   # optional\n",
    ")\n",
    "customer_df = customer_psdf.to_spark()\n",
    "\n",
    "\n"
   ]
  },
  {
   "cell_type": "code",
   "execution_count": 0,
   "metadata": {
    "application/vnd.databricks.v1+cell": {
     "cellMetadata": {
      "byteLimit": 2048000,
      "rowLimit": 10000
     },
     "inputWidgets": {},
     "nuid": "42835eab-4bbb-4456-8f75-e2d2b4950a41",
     "showTitle": false,
     "tableResultSettingsMap": {},
     "title": ""
    }
   },
   "outputs": [],
   "source": [
    "env_name = 'prod'"
   ]
  },
  {
   "cell_type": "code",
   "execution_count": 0,
   "metadata": {
    "application/vnd.databricks.v1+cell": {
     "cellMetadata": {
      "byteLimit": 2048000,
      "rowLimit": 10000
     },
     "inputWidgets": {},
     "nuid": "0b9a791c-c9d0-4fd5-b780-2cbb600f2af7",
     "showTitle": false,
     "tableResultSettingsMap": {},
     "title": ""
    }
   },
   "outputs": [],
   "source": [
    "product_raw_df,order_raw_df,customer_raw_df=create_raw_layer(products_df, orders_df, customer_df)\n",
    "save_table(spark, product_raw_df, env_name, 'raw_products')\n",
    "save_table(spark,order_raw_df, env_name, 'raw_orders')\n",
    "save_table(spark, customer_raw_df, env_name, 'raw_customer')\n",
    "\n",
    "products_df_raw = read_table(spark, env_name, 'raw_products')\n",
    "orders_df_raw = read_table(spark, env_name, 'raw_orders')\n",
    "customer_df_raw = read_table(spark, env_name, 'raw_customer')\n",
    "\n",
    "products_df_enriched, orders_df_enriched, customer_df_enriched = \\\n",
    "create_enriched_layer(products_df_raw, orders_df_raw, customer_df_raw)\n",
    "\n",
    "save_table(spark, products_df_enriched, env_name, 'enriched_products')\n",
    "save_table(spark, orders_df_enriched, env_name, 'enriched_orders')\n",
    "save_table(spark, customer_df_enriched, env_name, 'enriched_customer')\n",
    "\n",
    "\n",
    "fact_df = create_fact_table(products_df_enriched, orders_df_enriched, customer_df_enriched)\n",
    "save_table(spark, fact_df, env_name, 'fact_orders')\n",
    "\n",
    "\n",
    "agg_df= create_agg_table(fact_df)\n",
    "save_table(spark, agg_df, env_name, 'agg_orders')\n"
   ]
  },
  {
   "cell_type": "code",
   "execution_count": 0,
   "metadata": {
    "application/vnd.databricks.v1+cell": {
     "cellMetadata": {
      "byteLimit": 2048000,
      "implicitDf": true,
      "rowLimit": 10000
     },
     "inputWidgets": {},
     "nuid": "458b5496-15cb-4985-8e43-c728b17c5dd9",
     "showTitle": false,
     "tableResultSettingsMap": {},
     "title": ""
    }
   },
   "outputs": [],
   "source": [
    "%sql\n",
    "-- Create an aggregate table that shows profit by year\n",
    "select order_year, sum(profit)profit\n",
    "from prod.agg_orders\n",
    "group by 1\n",
    "order by 1 desc"
   ]
  },
  {
   "cell_type": "code",
   "execution_count": 0,
   "metadata": {
    "application/vnd.databricks.v1+cell": {
     "cellMetadata": {
      "byteLimit": 2048000,
      "implicitDf": true,
      "rowLimit": 10000
     },
     "inputWidgets": {},
     "nuid": "44da6bbb-3d9e-4f73-84ba-2cabbf5fa800",
     "showTitle": false,
     "tableResultSettingsMap": {},
     "title": ""
    }
   },
   "outputs": [],
   "source": [
    "%sql\n",
    "-- Create an aggregate table that shows profit by order_year, product_category\n",
    "select order_year, product_category, sum(profit)profit\n",
    "from prod.agg_orders\n",
    "group by 1, 2\n",
    "order by 1 desc,2"
   ]
  },
  {
   "cell_type": "code",
   "execution_count": 0,
   "metadata": {
    "application/vnd.databricks.v1+cell": {
     "cellMetadata": {
      "byteLimit": 2048000,
      "implicitDf": true,
      "rowLimit": 10000
     },
     "inputWidgets": {},
     "nuid": "09ad8fff-2982-48eb-8d2f-3cac7efdd6f3",
     "showTitle": false,
     "tableResultSettingsMap": {
      "0": {
       "dataGridStateBlob": "{\"version\":1,\"tableState\":{\"columnPinning\":{\"left\":[\"#row_number#\"],\"right\":[]},\"columnSizing\":{},\"columnVisibility\":{}},\"settings\":{\"columns\":{}},\"syncTimestamp\":1754825983674}",
       "filterBlob": null,
       "queryPlanFiltersBlob": null,
       "tableResultIndex": 0
      }
     },
     "title": ""
    }
   },
   "outputs": [],
   "source": [
    "%sql\n",
    "-- Create an aggregate table that shows profit by customer_name\n",
    "select customer_name, sum(profit)profit\n",
    "from prod.agg_orders\n",
    "group by 1\n",
    "order by 1 desc"
   ]
  },
  {
   "cell_type": "code",
   "execution_count": 0,
   "metadata": {
    "application/vnd.databricks.v1+cell": {
     "cellMetadata": {
      "byteLimit": 2048000,
      "implicitDf": true,
      "rowLimit": 10000
     },
     "inputWidgets": {},
     "nuid": "16d9de0f-217a-461b-b9d3-cdf1e9c3042e",
     "showTitle": false,
     "tableResultSettingsMap": {},
     "title": ""
    }
   },
   "outputs": [],
   "source": [
    "%sql\n",
    "-- Create an aggregate table that shows profit by order_year, customer_name\n",
    "select order_year, customer_name, sum(profit)profit\n",
    "from prod.agg_orders\n",
    "group by 1,2\n",
    "order by 1 desc"
   ]
  }
 ],
 "metadata": {
  "application/vnd.databricks.v1+notebook": {
   "computePreferences": {
    "hardware": {
     "accelerator": null,
     "gpuPoolId": null,
     "memory": null
    }
   },
   "dashboards": [],
   "environmentMetadata": {
    "base_environment": "",
    "environment_version": "2"
   },
   "inputWidgetPreferences": null,
   "language": "python",
   "notebookMetadata": {
    "mostRecentlyExecutedCommandWithImplicitDF": {
     "commandId": 4584056610262457,
     "dataframes": [
      "_sqldf"
     ]
    },
    "pythonIndentUnit": 4
   },
   "notebookName": "main_interview",
   "widgets": {}
  },
  "language_info": {
   "name": "python"
  }
 },
 "nbformat": 4,
 "nbformat_minor": 0
}
