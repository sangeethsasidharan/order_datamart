{
 "cells": [
  {
   "cell_type": "code",
   "execution_count": 0,
   "metadata": {
    "application/vnd.databricks.v1+cell": {
     "cellMetadata": {
      "byteLimit": 2048000,
      "rowLimit": 10000
     },
     "inputWidgets": {},
     "nuid": "4ae843ef-bf1f-4f76-ba3d-559bf26380bb",
     "showTitle": false,
     "tableResultSettingsMap": {},
     "title": ""
    }
   },
   "outputs": [],
   "source": [
    "%load_ext autoreload\n",
    "%autoreload 2\n"
   ]
  },
  {
   "cell_type": "markdown",
   "metadata": {
    "application/vnd.databricks.v1+cell": {
     "cellMetadata": {},
     "inputWidgets": {},
     "nuid": "55e596fd-6d0a-4854-b042-84ebc16b1a41",
     "showTitle": false,
     "tableResultSettingsMap": {},
     "title": ""
    }
   },
   "source": [
    "**Assumptions**\n",
    "- Assuming product_id is the unique business key in products file, if any duplicate will pick up first product sorterd by dec \n",
    "- Same for customer_id in customer file , If found duplicates will pick up the first customer sorted by customer name\n",
    "- Seen some customer names with special charters eg \"Fra9876nk Gasti  ;.,.,neau\", Since no insturction given on how to handle this special chareters , For now leaving as is, If we required can remove such special character\n",
    "- During join to prepare fact_orders for non matching customer and product join , Lookup fields have kept 'UNKNOWN' since not specified what to do with this, IF required i can handle accordigily and filter out this records, \n",
    "- For fact_order prepration applied left join and not removed any non joining records\n",
    "- To read excel source right approch would be to use this \"https://medium.com/@amitjoshi7/how-to-read-excel-files-using-pyspark-in-databricks-637bb21b90be\" but in databricks free edition we can not install any maven depdency i have used this \"https://spark.apache.org/docs/latest/api/python/reference/pyspark.pandas/api/pyspark.pandas.read_excel.html\" \n"
   ]
  },
  {
   "cell_type": "markdown",
   "metadata": {
    "application/vnd.databricks.v1+cell": {
     "cellMetadata": {},
     "inputWidgets": {},
     "nuid": "4c8bbb95-7fcb-468e-ae20-b9908c1298ca",
     "showTitle": false,
     "tableResultSettingsMap": {},
     "title": ""
    }
   },
   "source": [
    "Below are the layers and transformations\n",
    "\n",
    "Actual data saved in '**Prod**' schema\n",
    "\n",
    "**RAW layer**\n",
    "Column names are formatted , below tables created with as is data \n",
    "- raw_products \n",
    "- raw_orders\n",
    "- raw_customers\n",
    "\n",
    "**Enriched layer**\n",
    "Data types are formatted , Duplicate records are removed, Below are the tables\n",
    "- enriched_products\n",
    "- enriched_orders\n",
    "- enriched_customers\n",
    "\n",
    "**Fact layer**\n",
    "3 data set combined to create fact table with required lookup columns from the product and customer table\n",
    "Profit is rounded to 2 decimal\n",
    "\n",
    "**Agg layer**\n",
    "Fact order profit data aggregated by required fields  "
   ]
  },
  {
   "cell_type": "code",
   "execution_count": 0,
   "metadata": {
    "application/vnd.databricks.v1+cell": {
     "cellMetadata": {
      "byteLimit": 2048000,
      "rowLimit": 10000
     },
     "inputWidgets": {},
     "nuid": "c2dececd-5468-41fc-9f1b-19b307b94aba",
     "showTitle": false,
     "tableResultSettingsMap": {},
     "title": ""
    }
   },
   "outputs": [
    {
     "output_type": "stream",
     "name": "stdout",
     "output_type": "stream",
     "text": [
      "Requirement already satisfied: openpyxl in /local_disk0/.ephemeral_nfs/envs/pythonEnv-6b5b83f5-e9f0-4f9b-b3c5-7fb9d454bd3b/lib/python3.11/site-packages (3.1.5)\nRequirement already satisfied: et-xmlfile in /local_disk0/.ephemeral_nfs/envs/pythonEnv-6b5b83f5-e9f0-4f9b-b3c5-7fb9d454bd3b/lib/python3.11/site-packages (from openpyxl) (2.0.0)\n\u001B[43mNote: you may need to restart the kernel using %restart_python or dbutils.library.restartPython() to use updated packages.\u001B[0m\n"
     ]
    }
   ],
   "source": [
    "%pip install openpyxl"
   ]
  },
  {
   "cell_type": "code",
   "execution_count": 0,
   "metadata": {
    "application/vnd.databricks.v1+cell": {
     "cellMetadata": {
      "byteLimit": 2048000,
      "rowLimit": 10000
     },
     "inputWidgets": {},
     "nuid": "70ce84af-34cc-4847-9cce-2aa5692cd96e",
     "showTitle": false,
     "tableResultSettingsMap": {},
     "title": ""
    }
   },
   "outputs": [],
   "source": [
    "dbutils.library.restartPython()"
   ]
  },
  {
   "cell_type": "code",
   "execution_count": 0,
   "metadata": {
    "application/vnd.databricks.v1+cell": {
     "cellMetadata": {
      "byteLimit": 2048000,
      "rowLimit": 10000
     },
     "inputWidgets": {},
     "nuid": "ee5bedd6-938d-4fdb-8241-19311fff6c20",
     "showTitle": false,
     "tableResultSettingsMap": {},
     "title": ""
    }
   },
   "outputs": [],
   "source": [
    "from common_functions import * "
   ]
  },
  {
   "cell_type": "code",
   "execution_count": 0,
   "metadata": {
    "application/vnd.databricks.v1+cell": {
     "cellMetadata": {
      "byteLimit": 2048000,
      "rowLimit": 10000
     },
     "inputWidgets": {},
     "nuid": "fee9294b-d4fd-4ce0-a0b8-f9189f44434e",
     "showTitle": false,
     "tableResultSettingsMap": {},
     "title": ""
    }
   },
   "outputs": [
    {
     "output_type": "stream",
     "name": "stderr",
     "output_type": "stream",
     "text": [
      "/databricks/python/lib/python3.11/site-packages/pyspark/pandas/utils.py:1035: PandasAPIOnSparkAdviceWarning: The config 'spark.sql.ansi.enabled' is set to True. This can cause unexpected behavior from pandas API on Spark since pandas API on Spark follows the behavior of pandas, not SQL.\n  warnings.warn(message, PandasAPIOnSparkAdviceWarning)\n/databricks/python/lib/python3.11/site-packages/pyspark/pandas/namespace.py:1147: FutureWarning: the 'mangle_dupe_cols' keyword is deprecated and will be removed in a future version. Please take steps to stop the use of 'mangle_dupe_cols'\n  return pd.read_excel(\n/databricks/python/lib/python3.11/site-packages/pyspark/pandas/namespace.py:1147: FutureWarning: convert_float is deprecated and will be removed in a future version.\n  return pd.read_excel(\n/databricks/python/lib/python3.11/site-packages/pyspark/pandas/namespace.py:1147: FutureWarning: The squeeze argument has been deprecated and will be removed in a future version. Append .squeeze(\"columns\") to the call to squeeze.\n\n\n  return pd.read_excel(\n/databricks/python/lib/python3.11/site-packages/pyspark/pandas/utils.py:1035: PandasAPIOnSparkAdviceWarning: The config 'spark.sql.ansi.enabled' is set to True. This can cause unexpected behavior from pandas API on Spark since pandas API on Spark follows the behavior of pandas, not SQL.\n  warnings.warn(message, PandasAPIOnSparkAdviceWarning)\n/databricks/python/lib/python3.11/site-packages/pyspark/pandas/utils.py:1035: PandasAPIOnSparkAdviceWarning: If `index_col` is not specified for `to_spark`, the existing index is lost when converting to Spark DataFrame.\n  warnings.warn(message, PandasAPIOnSparkAdviceWarning)\n"
     ]
    },
    {
     "output_type": "stream",
     "name": "stdout",
     "output_type": "stream",
     "text": [
      "hai\n"
     ]
    }
   ],
   "source": [
    "\n",
    "from pyspark.sql import SparkSession \n",
    "import pyspark.pandas as ps\n",
    "\n",
    "products_df = spark.read.csv(\n",
    "    '/Volumes/workspace/interview/interview_volume/Products.csv',\n",
    "    header=True,        # Use first line as column names\n",
    "    quote='\"',        # Handle commas inside double quotes\n",
    "    escape='\"',\n",
    "    inferSchema=True,   # Automatically infer data types\n",
    ")\n",
    "\n",
    "orders_df = spark.read.json(\n",
    "    '/Volumes/workspace/interview/interview_volume/Orders.json',\n",
    "    multiLine=True\n",
    ")\n",
    "\n",
    "customer_psdf = ps.read_excel(\n",
    "    \"/Volumes/workspace/interview/interview_volume/Customer.xlsx\",\n",
    "    dtype=str,\n",
    "    sheet_name=\"Worksheet\"   # optional\n",
    ")\n",
    "customer_df = customer_psdf.to_spark()\n",
    "\n",
    "\n"
   ]
  },
  {
   "cell_type": "code",
   "execution_count": 0,
   "metadata": {
    "application/vnd.databricks.v1+cell": {
     "cellMetadata": {
      "byteLimit": 2048000,
      "rowLimit": 10000
     },
     "inputWidgets": {},
     "nuid": "42835eab-4bbb-4456-8f75-e2d2b4950a41",
     "showTitle": false,
     "tableResultSettingsMap": {},
     "title": ""
    }
   },
   "outputs": [],
   "source": [
    "env_name = 'prod'"
   ]
  },
  {
   "cell_type": "code",
   "execution_count": 0,
   "metadata": {
    "application/vnd.databricks.v1+cell": {
     "cellMetadata": {
      "byteLimit": 2048000,
      "rowLimit": 10000
     },
     "inputWidgets": {},
     "nuid": "0b9a791c-c9d0-4fd5-b780-2cbb600f2af7",
     "showTitle": false,
     "tableResultSettingsMap": {},
     "title": ""
    }
   },
   "outputs": [],
   "source": [
    "product_raw_df,order_raw_df,customer_raw_df=create_raw_layer(products_df, orders_df, customer_df)\n",
    "save_table(spark, product_raw_df, env_name, 'raw_products')\n",
    "save_table(spark,order_raw_df, env_name, 'raw_orders')\n",
    "save_table(spark, customer_raw_df, env_name, 'raw_customer')\n",
    "\n",
    "products_df_raw = read_table(spark, env_name, 'raw_products')\n",
    "orders_df_raw = read_table(spark, env_name, 'raw_orders')\n",
    "customer_df_raw = read_table(spark, env_name, 'raw_customer')\n",
    "\n",
    "products_df_enriched, orders_df_enriched, customer_df_enriched = \\\n",
    "create_enriched_layer(products_df_raw, orders_df_raw, customer_df_raw)\n",
    "\n",
    "save_table(spark, products_df_enriched, env_name, 'enriched_products')\n",
    "save_table(spark, orders_df_enriched, env_name, 'enriched_orders')\n",
    "save_table(spark, customer_df_enriched, env_name, 'enriched_customer')\n",
    "\n",
    "\n",
    "fact_df = create_fact_table(products_df_enriched, orders_df_enriched, customer_df_enriched)\n",
    "save_table(spark, fact_df, env_name, 'fact_orders')\n",
    "\n",
    "\n",
    "agg_df= create_agg_table(fact_df)\n",
    "save_table(spark, agg_df, env_name, 'agg_orders')\n"
   ]
  },
  {
   "cell_type": "code",
   "execution_count": 0,
   "metadata": {
    "application/vnd.databricks.v1+cell": {
     "cellMetadata": {
      "byteLimit": 2048000,
      "implicitDf": true,
      "rowLimit": 10000
     },
     "inputWidgets": {},
     "nuid": "458b5496-15cb-4985-8e43-c728b17c5dd9",
     "showTitle": false,
     "tableResultSettingsMap": {},
     "title": ""
    }
   },
   "outputs": [
    {
     "output_type": "display_data",
     "data": {
      "text/html": [
       "<style scoped>\n",
       "  .table-result-container {\n",
       "    max-height: 300px;\n",
       "    overflow: auto;\n",
       "  }\n",
       "  table, th, td {\n",
       "    border: 1px solid black;\n",
       "    border-collapse: collapse;\n",
       "  }\n",
       "  th, td {\n",
       "    padding: 5px;\n",
       "  }\n",
       "  th {\n",
       "    text-align: left;\n",
       "  }\n",
       "</style><div class='table-result-container'><table class='table-result'><thead style='background-color: white'><tr><th>order_year</th><th>profit</th></tr></thead><tbody><tr><td>2017</td><td>111084.95999999983</td></tr><tr><td>2016</td><td>65073.229999999996</td></tr><tr><td>2015</td><td>63073.09</td></tr><tr><td>2014</td><td>39185.75</td></tr></tbody></table></div>"
      ]
     },
     "metadata": {
      "application/vnd.databricks.v1+output": {
       "addedWidgets": {},
       "aggData": [],
       "aggError": "",
       "aggOverflow": false,
       "aggSchema": [],
       "aggSeriesLimitReached": false,
       "aggType": "",
       "arguments": {},
       "columnCustomDisplayInfos": {},
       "data": [
        [
         2017,
         111084.95999999983
        ],
        [
         2016,
         65073.229999999996
        ],
        [
         2015,
         63073.09
        ],
        [
         2014,
         39185.75
        ]
       ],
       "datasetInfos": [
        {
         "name": "_sqldf",
         "schema": {
          "fields": [
           {
            "metadata": {},
            "name": "order_year",
            "nullable": true,
            "type": "integer"
           },
           {
            "metadata": {},
            "name": "profit",
            "nullable": true,
            "type": "double"
           }
          ],
          "type": "struct"
         },
         "tableIdentifier": null,
         "typeStr": "pyspark.sql.connect.dataframe.DataFrame"
        }
       ],
       "dbfsResultPath": null,
       "isJsonSchema": true,
       "metadata": {
        "createTempViewForImplicitDf": true,
        "dataframeName": "_sqldf",
        "executionCount": 139
       },
       "overflow": false,
       "plotOptions": {
        "customPlotOptions": {},
        "displayType": "table",
        "pivotAggregation": null,
        "pivotColumns": null,
        "xColumns": null,
        "yColumns": null
       },
       "removedWidgets": [],
       "schema": [
        {
         "metadata": "{}",
         "name": "order_year",
         "type": "\"integer\""
        },
        {
         "metadata": "{}",
         "name": "profit",
         "type": "\"double\""
        }
       ],
       "type": "table"
      }
     },
     "output_type": "display_data"
    }
   ],
   "source": [
    "%sql\n",
    "-- Create an aggregate table that shows profit by year\n",
    "select order_year, sum(profit)profit\n",
    "from prod.agg_orders\n",
    "group by 1\n",
    "order by 1 desc"
   ]
  },
  {
   "cell_type": "code",
   "execution_count": 0,
   "metadata": {
    "application/vnd.databricks.v1+cell": {
     "cellMetadata": {
      "byteLimit": 2048000,
      "implicitDf": true,
      "rowLimit": 10000
     },
     "inputWidgets": {},
     "nuid": "44da6bbb-3d9e-4f73-84ba-2cabbf5fa800",
     "showTitle": false,
     "tableResultSettingsMap": {},
     "title": ""
    }
   },
   "outputs": [
    {
     "output_type": "display_data",
     "data": {
      "text/html": [
       "<style scoped>\n",
       "  .table-result-container {\n",
       "    max-height: 300px;\n",
       "    overflow: auto;\n",
       "  }\n",
       "  table, th, td {\n",
       "    border: 1px solid black;\n",
       "    border-collapse: collapse;\n",
       "  }\n",
       "  th, td {\n",
       "    padding: 5px;\n",
       "  }\n",
       "  th {\n",
       "    text-align: left;\n",
       "  }\n",
       "</style><div class='table-result-container'><table class='table-result'><thead style='background-color: white'><tr><th>order_year</th><th>product_category</th><th>profit</th></tr></thead><tbody><tr><td>2017</td><td>Furniture</td><td>3041.540000000001</td></tr><tr><td>2017</td><td>Office Supplies</td><td>44273.12000000001</td></tr><tr><td>2017</td><td>Technology</td><td>63281.78999999989</td></tr><tr><td>2017</td><td>UNKNOWN</td><td>488.5100000000001</td></tr><tr><td>2016</td><td>Furniture</td><td>6889.499999999998</td></tr><tr><td>2016</td><td>Office Supplies</td><td>34555.52999999996</td></tr><tr><td>2016</td><td>Technology</td><td>23223.760000000006</td></tr><tr><td>2016</td><td>UNKNOWN</td><td>404.43999999999994</td></tr><tr><td>2015</td><td>Furniture</td><td>3027.179999999996</td></tr><tr><td>2015</td><td>Office Supplies</td><td>24519.39000000002</td></tr><tr><td>2015</td><td>Technology</td><td>34943.36000000001</td></tr><tr><td>2015</td><td>UNKNOWN</td><td>583.16</td></tr><tr><td>2014</td><td>Furniture</td><td>-5331.039999999997</td></tr><tr><td>2014</td><td>Office Supplies</td><td>22500.319999999985</td></tr><tr><td>2014</td><td>Technology</td><td>21493.34999999999</td></tr><tr><td>2014</td><td>UNKNOWN</td><td>523.1199999999998</td></tr></tbody></table></div>"
      ]
     },
     "metadata": {
      "application/vnd.databricks.v1+output": {
       "addedWidgets": {},
       "aggData": [],
       "aggError": "",
       "aggOverflow": false,
       "aggSchema": [],
       "aggSeriesLimitReached": false,
       "aggType": "",
       "arguments": {},
       "columnCustomDisplayInfos": {},
       "data": [
        [
         2017,
         "Furniture",
         3041.540000000001
        ],
        [
         2017,
         "Office Supplies",
         44273.12000000001
        ],
        [
         2017,
         "Technology",
         63281.78999999989
        ],
        [
         2017,
         "UNKNOWN",
         488.5100000000001
        ],
        [
         2016,
         "Furniture",
         6889.499999999998
        ],
        [
         2016,
         "Office Supplies",
         34555.52999999996
        ],
        [
         2016,
         "Technology",
         23223.760000000006
        ],
        [
         2016,
         "UNKNOWN",
         404.43999999999994
        ],
        [
         2015,
         "Furniture",
         3027.179999999996
        ],
        [
         2015,
         "Office Supplies",
         24519.39000000002
        ],
        [
         2015,
         "Technology",
         34943.36000000001
        ],
        [
         2015,
         "UNKNOWN",
         583.16
        ],
        [
         2014,
         "Furniture",
         -5331.039999999997
        ],
        [
         2014,
         "Office Supplies",
         22500.319999999985
        ],
        [
         2014,
         "Technology",
         21493.34999999999
        ],
        [
         2014,
         "UNKNOWN",
         523.1199999999998
        ]
       ],
       "datasetInfos": [
        {
         "name": "_sqldf",
         "schema": {
          "fields": [
           {
            "metadata": {},
            "name": "order_year",
            "nullable": true,
            "type": "integer"
           },
           {
            "metadata": {},
            "name": "product_category",
            "nullable": true,
            "type": "string"
           },
           {
            "metadata": {},
            "name": "profit",
            "nullable": true,
            "type": "double"
           }
          ],
          "type": "struct"
         },
         "tableIdentifier": null,
         "typeStr": "pyspark.sql.connect.dataframe.DataFrame"
        }
       ],
       "dbfsResultPath": null,
       "isJsonSchema": true,
       "metadata": {
        "createTempViewForImplicitDf": true,
        "dataframeName": "_sqldf",
        "executionCount": 142
       },
       "overflow": false,
       "plotOptions": {
        "customPlotOptions": {},
        "displayType": "table",
        "pivotAggregation": null,
        "pivotColumns": null,
        "xColumns": null,
        "yColumns": null
       },
       "removedWidgets": [],
       "schema": [
        {
         "metadata": "{}",
         "name": "order_year",
         "type": "\"integer\""
        },
        {
         "metadata": "{}",
         "name": "product_category",
         "type": "\"string\""
        },
        {
         "metadata": "{}",
         "name": "profit",
         "type": "\"double\""
        }
       ],
       "type": "table"
      }
     },
     "output_type": "display_data"
    }
   ],
   "source": [
    "%sql\n",
    "-- Create an aggregate table that shows profit by order_year, product_category\n",
    "select order_year, product_category, sum(profit)profit\n",
    "from prod.agg_orders\n",
    "group by 1, 2\n",
    "order by 1 desc,2"
   ]
  },
  {
   "cell_type": "code",
   "execution_count": 0,
   "metadata": {
    "application/vnd.databricks.v1+cell": {
     "cellMetadata": {
      "byteLimit": 2048000,
      "implicitDf": true,
      "rowLimit": 10000
     },
     "inputWidgets": {},
     "nuid": "09ad8fff-2982-48eb-8d2f-3cac7efdd6f3",
     "showTitle": false,
     "tableResultSettingsMap": {
      "0": {
       "dataGridStateBlob": "{\"version\":1,\"tableState\":{\"columnPinning\":{\"left\":[\"#row_number#\"],\"right\":[]},\"columnSizing\":{},\"columnVisibility\":{}},\"settings\":{\"columns\":{}},\"syncTimestamp\":1754825983674}",
       "filterBlob": null,
       "queryPlanFiltersBlob": null,
       "tableResultIndex": 0
      }
     },
     "title": ""
    }
   },
   "outputs": [
    {
     "output_type": "display_data",
     "data": {
      "text/html": [
       "<style scoped>\n",
       "  .table-result-container {\n",
       "    max-height: 300px;\n",
       "    overflow: auto;\n",
       "  }\n",
       "  table, th, td {\n",
       "    border: 1px solid black;\n",
       "    border-collapse: collapse;\n",
       "  }\n",
       "  th, td {\n",
       "    padding: 5px;\n",
       "  }\n",
       "  th {\n",
       "    text-align: left;\n",
       "  }\n",
       "</style><div class='table-result-container'><table class='table-result'><thead style='background-color: white'><tr><th>customer_name</th><th>profit</th></tr></thead><tbody><tr><td>_12312Patrick Bzostek</td><td>228.77</td></tr><tr><td>[]-=;''Becky Pak</td><td>647.0000000000001</td></tr><tr><td>Zuschuss Donatelli</td><td>248.75</td></tr><tr><td>Zuschuss Carroll</td><td>-1032.3599999999997</td></tr><tr><td>Yoseph Carroll</td><td>1305.6399999999999</td></tr><tr><td>Yana Sorensen</td><td>1778.31</td></tr><tr><td>Xylona Preis</td><td>621.3699999999999</td></tr><tr><td>William Brown</td><td>714.5199999999999</td></tr><tr><td>Vivian Mathis</td><td>116.64</td></tr><tr><td>Vivek Sundaresam</td><td>-263.08000000000004</td></tr><tr><td>Vivek Grady</td><td>-52.33</td></tr><tr><td>Vivek Gonzalez</td><td>144.11999999999998</td></tr><tr><td>Victoria Wilson</td><td>-874.66</td></tr><tr><td>Victoria Pisteka</td><td>-1018.91</td></tr><tr><td>Victor Preis</td><td>205.39</td></tr><tr><td>Victo 3456ria Brennan</td><td>371.25000000000006</td></tr><tr><td>Vicky Freymann</td><td>-96.28</td></tr><tr><td>Valerie Takahito</td><td>-224.93</td></tr><tr><td>Valerie Mitchum</td><td>513.62</td></tr><tr><td>Valerie Dominguez</td><td>1617.6100000000001</td></tr><tr><td>UNKNOWN</td><td>3126.8099999999995</td></tr><tr><td>Trudy Schmidt</td><td>220.73000000000005</td></tr><tr><td>Trudy Glocke</td><td>365.12</td></tr><tr><td>Trudy Brown</td><td>379.8</td></tr><tr><td>Troy Staebel</td><td>-294.89</td></tr><tr><td>Troy Blackwell</td><td>-136.47</td></tr><tr><td>Tracy Zic</td><td>224.89000000000001</td></tr><tr><td>Tracy P 908765oddar</td><td>139.44000000000008</td></tr><tr><td>Tracy Hopkins</td><td>-571.9900000000001</td></tr><tr><td>Tracy Collins</td><td>217.95000000000002</td></tr><tr><td>Tony Molinari</td><td>292.53</td></tr><tr><td>Tony Chapman</td><td>119.13</td></tr><tr><td>Tonja Turnell</td><td>1124.39</td></tr><tr><td>Tom Stivers</td><td>48.9</td></tr><tr><td>Tom Prescott</td><td>-1087.38</td></tr><tr><td>Tom Boeckenhauer</td><td>2798.06</td></tr><tr><td>Tom Ashbrook</td><td>4703.719999999999</td></tr><tr><td>Todd Sumrall</td><td>2371.73</td></tr><tr><td>Todd Boyes</td><td>268.95000000000005</td></tr><tr><td>Toby Swindell</td><td>-185.00000000000006</td></tr><tr><td>Toby Ritter</td><td>220.36</td></tr><tr><td>Toby Gnade</td><td>682.1700000000001</td></tr><tr><td>Toby Carlisle</td><td>606.3800000000001</td></tr><tr><td>Toby Braunhardt</td><td>491.12</td></tr><tr><td>Tim Taslimi</td><td>93.92</td></tr><tr><td>Tim Brockman</td><td>260.28999999999996</td></tr><tr><td>Tiffany House</td><td>92.55000000000003</td></tr><tr><td>Thomas Thornton</td><td>278.75999999999993</td></tr><tr><td>Thomas Seio</td><td>862.94</td></tr><tr><td>Thomas Brumley</td><td>179.01</td></tr><tr><td>Tho   12 =-.mas Boland</td><td>828.71</td></tr><tr><td>Theresa Swint</td><td>260.63000000000005</td></tr><tr><td>Theresa Coyne</td><td>265.59</td></tr><tr><td>Theone Pippenger</td><td>1128.65</td></tr><tr><td>Thea Hudgings</td><td>-252.55</td></tr><tr><td>Thea Hendricks</td><td>-135.22</td></tr><tr><td>Thais Sissman</td><td>-3.3200000000000003</td></tr><tr><td>Ted Trevino</td><td>752.1700000000001</td></tr><tr><td>Ted Butterfield</td><td>389.76</td></tr><tr><td>Tanja Norvell</td><td>-692.05</td></tr><tr><td>Tamara Manning</td><td>573.4599999999999</td></tr><tr><td>Tamara Dahlen</td><td>88.64000000000001</td></tr><tr><td>Tamara Chand</td><td>8981.32</td></tr><tr><td>Tam&^*ara Willing___)ham</td><td>737.3899999999999</td></tr><tr><td>Sylvia Foulston</td><td>539.94</td></tr><tr><td>Suzanne McNair</td><td>581.5699999999999</td></tr><tr><td>Susan Vittorini</td><td>106.62</td></tr><tr><td>Susan Pistek</td><td>14.370000000000005</td></tr><tr><td>Susan MacKendrick</td><td>-16510.34</td></tr><tr><td>Susan Gilcrest</td><td>-3.6999999999999993</td></tr><tr><td>Sung Shariari</td><td>-75.57000000000001</td></tr><tr><td>Sung Chung</td><td>31.17</td></tr><tr><td>Sue Ann Reed</td><td>610.1399999999999</td></tr><tr><td>Stuart Van</td><td>199.64</td></tr><tr><td>Stuart Calhoun</td><td>52.21</td></tr><tr><td>Stewart Visinsky</td><td>484.8500000000001</td></tr><tr><td>Stewart Carmichael</td><td>-671.38</td></tr><tr><td>Steven Ward</td><td>68.22999999999999</td></tr><tr><td>Steven Roelle</td><td>1990.4199999999998</td></tr><tr><td>Steven Cartwright</td><td>1276.4199999999998</td></tr><tr><td>Steve Nguyen</td><td>481.74</td></tr><tr><td>Steve Chapman</td><td>611.8199999999999</td></tr><tr><td>Steve Carroll</td><td>370.16999999999996</td></tr><tr><td>Stephanie Ulpright</td><td>763.6999999999999</td></tr><tr><td>Stephanie Phelps</td><td>268.47</td></tr><tr><td>Stefanie Holloman</td><td>260.63</td></tr><tr><td>Stefania Perrino</td><td>-270.19000000000005</td></tr><tr><td>Speros Goranitis</td><td>463.27000000000004</td></tr><tr><td>Sonia Sunley</td><td>135.91</td></tr><tr><td>Sonia Cooley</td><td>100.22999999999999</td></tr><tr><td>Skye Norling</td><td>-716.8400000000001</td></tr><tr><td>Sibella Parks</td><td>-118.38</td></tr><tr><td>Shui Tom</td><td>85.12</td></tr><tr><td>Shirley Jackson</td><td>68.59</td></tr><tr><td>Shirl)(*&ey Schmidt</td><td>199.93</td></tr><tr><td>Sheri Gordon</td><td>-119.01000000000002</td></tr><tr><td>Shaun Weien</td><td>793.64</td></tr><tr><td>Shaun Chance</td><td>379.57000000000005</td></tr><tr><td>Sharelle Roach</td><td>-3334.17</td></tr><tr><td>Seth Vernon</td><td>1200.14</td></tr><tr><td>Sean Wendt</td><td>95.84</td></tr><tr><td>Sean O'Donnell</td><td>-81.42999999999999</td></tr><tr><td>Sean Miller</td><td>-1980.9800000000002</td></tr><tr><td>Sean Christensen</td><td>229.10999999999999</td></tr><tr><td>Sean Braxton</td><td>-2082.7599999999998</td></tr><tr><td>Scott Williamson</td><td>332.76000000000005</td></tr><tr><td>Scott Cohen</td><td>670.98</td></tr><tr><td>Scot Wooten</td><td>-19.580000000000002</td></tr><tr><td>Scot Coram</td><td>439.82</td></tr><tr><td>Sarah Jordon</td><td>-23.380000000000003</td></tr><tr><td>Sarah Foster</td><td>287.0</td></tr><tr><td>Sarah Brown</td><td>885.96</td></tr><tr><td>Sarah Bern</td><td>157.68000000000004</td></tr><tr><td>Sara Luxemburg</td><td>528.04</td></tr><tr><td>Saphhira Shifley</td><td>332.03</td></tr><tr><td>Sanjit Jacobs</td><td>143.72</td></tr><tr><td>Sanjit Engle</td><td>2650.67</td></tr><tr><td>Sanjit Chand</td><td>5757.299999999999</td></tr><tr><td>Sandra Glassco</td><td>570.44</td></tr><tr><td>Sandra Flanagan</td><td>227.76</td></tr><tr><td>Sample Company A</td><td>1011.73</td></tr><tr><td>Sam Zeldin</td><td>366.42</td></tr><tr><td>Sam Craven</td><td>-317.51000000000005</td></tr><tr><td>Sally Matthias</td><td>-26.59</td></tr><tr><td>Sally Knut_son</td><td>168.79000000000002</td></tr><tr><td>Ryan Crowe</td><td>10.539999999999978</td></tr><tr><td>Ryan Akin</td><td>-445.69</td></tr><tr><td>Russell D'Ascenzo</td><td>35.04</td></tr><tr><td>Russell Applegate</td><td>305.2900000000001</td></tr><tr><td>Ruben Dartt</td><td>455.51</td></tr><tr><td>Ruben Ausman</td><td>1292.81</td></tr><tr><td>Roy Skaria</td><td>9.58</td></tr><tr><td>Roy Phan</td><td>594.7800000000001</td></tr><tr><td>Roy Französisch</td><td>280.09</td></tr><tr><td>Roy Collins</td><td>63.57</td></tr><tr><td>Ross DeVincentis</td><td>318.45000000000005</td></tr><tr><td>Ross Baird</td><td>-461.74000000000007</td></tr><tr><td>Rose O'Brian</td><td>-1262.8100000000002</td></tr><tr><td>Roland Schwarz</td><td>1206.39</td></tr><tr><td>Roland Murray</td><td>28.68</td></tr><tr><td>Roland Fjeld</td><td>711.8299999999998</td></tr><tr><td>Roger Demir</td><td>207.72000000000003</td></tr><tr><td>Roger Barcio</td><td>243.07</td></tr><tr><td>Robert Waldorf</td><td>707.55</td></tr><tr><td>Robert Marley</td><td>1902.55</td></tr><tr><td>Robert Dilbeck</td><td>835.7699999999999</td></tr><tr><td>Robert Barroso</td><td>72.67999999999999</td></tr><tr><td>Rob Williams</td><td>699.0600000000001</td></tr><tr><td>Rob Lucas</td><td>213.98</td></tr><tr><td>Rob Haberlin</td><td>172.62</td></tr><tr><td>Rob Dowd</td><td>734.52</td></tr><tr><td>Rob Beeghly</td><td>76.89</td></tr><tr><td>Ritsa Hightower</td><td>0.3099999999999996</td></tr><tr><td>Rick Wi 4567@#$lson</td><td>1586.2299999999998</td></tr><tr><td>Rick Reed</td><td>721.69</td></tr><tr><td>Rick Huthwaite</td><td>1289.4499999999998</td></tr><tr><td>Rick Hansen</td><td>563.7800000000001</td></tr><tr><td>Rick Duston</td><td>480.59</td></tr><tr><td>Rick Bensley</td><td>640.5600000000001</td></tr><tr><td>Richard Bierner</td><td>477.62999999999994</td></tr><tr><td>Rich.-=%&*ard Eichhorn</td><td>209.25</td></tr><tr><td>Ricardo Sperren</td><td>633.4499999999999</td></tr><tr><td>Ricardo Emerson</td><td>6.04</td></tr><tr><td>Resi Pölking</td><td>464.9599999999999</td></tr><tr><td>Raymond Messe</td><td>392.59000000000003</td></tr><tr><td>Raymond Buch</td><td>6976.36</td></tr><tr><td>Randy Ferguson</td><td>633.6700000000001</td></tr><tr><td>Randy Bradley</td><td>-164.41</td></tr><tr><td>Ralph Ritter</td><td>-73.83</td></tr><tr><td>Ralph Kennedy</td><td>269.67999999999995</td></tr><tr><td>Ralph Arnett</td><td>545.72</td></tr><tr><td>Quincy Jones</td><td>1203.69</td></tr><tr><td>Pierre Wener</td><td>1291.15</td></tr><tr><td>Phillip Flathmann</td><td>591.29</td></tr><tr><td>Phillip Breyer</td><td>21.9</td></tr><tr><td>Phillina Ober</td><td>-49.68999999999999</td></tr><tr><td>Philisse Overcash</td><td>1155.24</td></tr><tr><td>Philip Fox</td><td>196.87999999999994</td></tr><tr><td>Philip Brown</td><td>280.27</td></tr><tr><td>Peter McVee</td><td>526.76</td></tr><tr><td>Peter Fuller</td><td>-614.02</td></tr><tr><td>Peter Bühler</td><td>218.16</td></tr><tr><td>Pete@#$ Takahito</td><td>-20.049999999999997</td></tr><tr><td>Pete Kriz</td><td>2037.9</td></tr><tr><td>Pete Armstrong</td><td>225.86</td></tr><tr><td>Penelope Sewall</td><td>3183.7699999999995</td></tr><tr><td>Pauline Webber</td><td>803.82</td></tr><tr><td>Pauline Johnson</td><td>682.6800000000001</td></tr><tr><td>Pauline Chand</td><td>-184.34</td></tr><tr><td>Paul Stevenson</td><td>198.53000000000003</td></tr><tr><td>Paul Prost</td><td>1495.4700000000005</td></tr><tr><td>Paul MacIntyre</td><td>157.88000000000002</td></tr><tr><td>Paul Lucas</td><td>-0.7699999999999996</td></tr><tr><td>Paul Knut_son</td><td>-798.7099999999999</td></tr><tr><td>Paul Gonzalez</td><td>334.97</td></tr><tr><td>Paul  4567Van Hugh</td><td>434.25000000000006</td></tr><tr><td>Patrick Ryan</td><td>5596.2</td></tr><tr><td>Patrick O'Donnell</td><td>437.94</td></tr><tr><td>Patrick O'Brill</td><td>37.63999999999998</td></tr><tr><td>Patrick Jones</td><td>442.14</td></tr><tr><td>Patrick Gardner</td><td>137.48000000000002</td></tr><tr><td>Patricia Hirasaki</td><td>47.89</td></tr><tr><td>Parhena Norris</td><td>192.04000000000002</td></tr><tr><td>Pamela Stobb</td><td>-134.45000000000002</td></tr><tr><td>Pamela Coakley</td><td>272.67999999999995</td></tr><tr><td>Olvera Toch</td><td>-925.56</td></tr><tr><td>Odella Nelson</td><td>-5.530000000000019</td></tr><tr><td>Nora Preis</td><td>630.82</td></tr><tr><td>Nora Pelletier</td><td>514.5</td></tr><tr><td>Nona Balk</td><td>117.63999999999994</td></tr><tr><td>Noel Staavos</td><td>-234.89</td></tr><tr><td>Noah Childs</td><td>-358.90999999999997</td></tr><tr><td>Nicole Hansen</td><td>760.1600000000001</td></tr><tr><td>Nicole Fjeld</td><td>388.31</td></tr><tr><td>Nicole Brennan</td><td>24.79</td></tr><tr><td>Nick Zandusky</td><td>402.56000000000006</td></tr><tr><td>Nick Radford</td><td>-25.13999999999993</td></tr><tr><td>Nick Crebassa</td><td>1314.02</td></tr><tr><td>Neoma Murray</td><td>788.95</td></tr><tr><td>Neola Schneider</td><td>-12.319999999999993</td></tr><tr><td>Neil Knudson%^&*(</td><td>121.22</td></tr><tr><td>Neil Französisch</td><td>85.92</td></tr><tr><td>Neil Ducich</td><td>443.34000000000003</td></tr><tr><td>Nathan Mautz</td><td>2751.7000000000003</td></tr><tr><td>Nathan Gelder</td><td>217.08999999999997</td></tr><tr><td>Nathan Cano</td><td>-2204.81</td></tr><tr><td>Natalie Webber</td><td>1022.6399999999999</td></tr><tr><td>Natalie Fritzler</td><td>-1696.3500000000001</td></tr><tr><td>Natalie DeCherney</td><td>353.2399999999999</td></tr><tr><td>Nat Gilpin</td><td>313.63</td></tr><tr><td>Nat Carroll</td><td>580.2900000000001</td></tr><tr><td>Nancy Lomonaco</td><td>343.8</td></tr><tr><td>N0ra Paige</td><td>513.15</td></tr><tr><td>Muhammed YeDwab#</td><td>-371.71</td></tr><tr><td>Muhammed MacIntyre</td><td>58.55999999999999</td></tr><tr><td>Muhammed Lee</td><td>42.669999999999995</td></tr><tr><td>Monica Federle</td><td>456.86</td></tr><tr><td>Mitch Willin0009gham</td><td>1665.52</td></tr><tr><td>Mitch Webber</td><td>1237.92</td></tr><tr><td>Mitch Gastineau</td><td>-1.2399999999999998</td></tr><tr><td>Mike Pelletier</td><td>225.49</td></tr><tr><td>Mike Kennedy</td><td>227.43</td></tr><tr><td>Mike Gockenbach</td><td>-93.48999999999997</td></tr><tr><td>Mike Caudle</td><td>121.73999999999998</td></tr><tr><td>Mick Hernandez</td><td>170.98000000000002</td></tr><tr><td>Mick Crebagga</td><td>-64.4</td></tr><tr><td>Mick Brown</td><td>118.04999999999998</td></tr><tr><td>Michelle Tran</td><td>-23.449999999999996</td></tr><tr><td>Michelle Moray</td><td>-520.46</td></tr><tr><td>Michelle Lonsdale</td><td>138.72</td></tr><tr><td>Michelle Huthwaite</td><td>476.74</td></tr><tr><td>Michelle Ellison</td><td>107.35</td></tr><tr><td>Michelle Arnett</td><td>280.51</td></tr><tr><td>Michael Stewart</td><td>55.230000000000004</td></tr><tr><td>Michael Paige</td><td>637.74</td></tr><tr><td>Michael Oakman</td><td>-82.01</td></tr><tr><td>Michael Nguyen</td><td>290.81999999999994</td></tr><tr><td>Michael Moore</td><td>81.4499999999999</td></tr><tr><td>Michael Kennedy</td><td>-405.4299999999999</td></tr><tr><td>Michael Granlund</td><td>171.44000000000003</td></tr><tr><td>Michael Grace</td><td>-470.77</td></tr><tr><td>Michael Dominguez</td><td>-4.050000000000001</td></tr><tr><td>Michael Chen</td><td>698.42</td></tr><tr><td>Melanie Seite</td><td>19.429999999999996</td></tr><tr><td>Meg Tillman</td><td>509.0000000000001</td></tr><tr><td>Meg O'Connel</td><td>168.97999999999996</td></tr><tr><td>Maya Herman</td><td>239.01999999999998</td></tr><tr><td>Maxwell Schwartz</td><td>280.80999999999995</td></tr><tr><td>Max Ludwig</td><td>409.99</td></tr><tr><td>Max Jones</td><td>1054.54</td></tr><tr><td>Max Engle</td><td>77.59000000000002</td></tr><tr><td>Maurice Satty</td><td>247.43000000000006</td></tr><tr><td>Maureen Gnade</td><td>-398.8</td></tr><tr><td>Maureen Gastineau</td><td>25.890000000000015</td></tr><tr><td>Maureen Fritzler</td><td>-341.53000000000003</td></tr><tr><td>Matthew Grinstein</td><td>341.90000000000003</td></tr><tr><td>Matthew Clasen</td><td>-247.72</td></tr><tr><td>Matt Hagelstein</td><td>122.35</td></tr><tr><td>Matt Connell</td><td>195.45</td></tr><tr><td>Matt Collister</td><td>288.99</td></tr><tr><td>Matt Collins</td><td>210.92</td></tr><tr><td>Matt Abelman</td><td>1240.5500000000004</td></tr><tr><td>Mathew Reese</td><td>162.45000000000002</td></tr><tr><td>MaryBeth Skach</td><td>84.02000000000001</td></tr><tr><td>Mary Zewe</td><td>787.1500000000001</td></tr><tr><td>Mary O'Rourke</td><td>59.36</td></tr><tr><td>Mark Van Huff</td><td>189.01000000000002</td></tr><tr><td>Mark Packer</td><td>600.3000000000001</td></tr><tr><td>Mark Hamilton</td><td>485.28</td></tr><tr><td>Mark Haberlin</td><td>61.43000000000001</td></tr><tr><td>Mark Cousins</td><td>1802.4</td></tr><tr><td>Maris LaWare</td><td>-76.46999999999994</td></tr><tr><td>Marina Lichtenstein</td><td>684.9300000000001</td></tr><tr><td>Maribeth Yedwab</td><td>319.14</td></tr><tr><td>Maribeth Dona</td><td>-241.23</td></tr><tr><td>Maribeth 5chnelling</td><td>844.9300000000001</td></tr><tr><td>Maria Zettner</td><td>85.02000000000001</td></tr><tr><td>Maria Etezadi</td><td>1858.97</td></tr><tr><td>Maria Bertelson</td><td>213.32999999999998</td></tr><tr><td>Marc Harrigan</td><td>28.98000000000001</td></tr><tr><td>Marc Crier</td><td>461.02</td></tr><tr><td>Magdelene Morse</td><td>178.41</td></tr><tr><td>Lynn Smith</td><td>347.96999999999997</td></tr><tr><td>Lycoris Saunders</td><td>64.57</td></tr><tr><td>Luke Weiss</td><td>837.6700000000001</td></tr><tr><td>Luke Schmidt</td><td>243.82</td></tr><tr><td>Luke Foster</td><td>-3583.6099999999997</td></tr><tr><td>Lori Olson</td><td>150.16</td></tr><tr><td>Logan Haushalter</td><td>316.53000000000003</td></tr><tr><td>Logan Currie</td><td>230.52999999999997</td></tr><tr><td>Liz Willingham</td><td>192.63</td></tr><tr><td>Liz Thompson</td><td>320.98</td></tr><tr><td>Liz Preis</td><td>338.4600000000001</td></tr><tr><td>Liz Pelletier</td><td>110.78999999999999</td></tr><tr><td>Liz MacKendrick</td><td>-44.88000000000001</td></tr><tr><td>Liz Carlisle</td><td>86.77999999999999</td></tr><tr><td>Lisa Ryan</td><td>-383.19</td></tr><tr><td>Lisa Hazard</td><td>-242.75</td></tr><tr><td>Lisa DeCherney</td><td>556.77</td></tr><tr><td>Lindsay Williams</td><td>662.83</td></tr><tr><td>Lindsay Shagiari</td><td>262.27</td></tr><tr><td>Lindsay Castell</td><td>299.47</td></tr><tr><td>Linda Southworth</td><td>-318.44</td></tr><tr><td>Linda Cazamias</td><td>288.28999999999996</td></tr><tr><td>Lena Radford</td><td>535.27</td></tr><tr><td>Lena Hernandez</td><td>525.12</td></tr><tr><td>Lena Creighton</td><td>1288.73</td></tr><tr><td>Lela Donovan</td><td>0.46</td></tr><tr><td>Lauren Leatherbury</td><td>560.51</td></tr><tr><td>Laurel Workman</td><td>32.589999999999975</td></tr><tr><td>Laurel Elliston</td><td>161.76</td></tr><tr><td>Laurel Beltran</td><td>-51.98999999999991</td></tr><tr><td>Laura Armstrong</td><td>2025.17</td></tr><tr><td>Larry Tron</td><td>59.03</td></tr><tr><td>Larry Hughes</td><td>12.63</td></tr><tr><td>Larry Blacks</td><td>18.65</td></tr><tr><td>Kunst Miller</td><td>745.3999999999999</td></tr><tr><td>Kristen Hastings</td><td>1227.13</td></tr><tr><td>Kimberly Carter</td><td>157.23000000000002</td></tr><tr><td>Khloe Miller</td><td>90.66999999999999</td></tr><tr><td>Ken Lonsdale</td><td>806.5</td></tr><tr><td>Ken Heidel</td><td>727.51</td></tr><tr><td>Ken Brennan</td><td>293.90000000000003</td></tr><tr><td>Ken Black</td><td>578.89</td></tr><tr><td>Kelly Williams</td><td>108.39</td></tr><tr><td>Kelly Lampkin</td><td>-182.79000000000002</td></tr><tr><td>Kelly Collister</td><td>709.4300000000001</td></tr><tr><td>Kelly Andreada</td><td>234.35999999999999</td></tr><tr><td>Keith Herrera</td><td>656.1199999999999</td></tr><tr><td>Keith Dawkins</td><td>3038.92</td></tr><tr><td>Kean Thornton</td><td>194.07</td></tr><tr><td>Kean Takahito</td><td>253.75</td></tr><tr><td>Kean Nguyen</td><td>113.82000000000002</td></tr><tr><td>Katherine Nockton</td><td>-151.15</td></tr><tr><td>Katherine Murray</td><td>973.3699999999999</td></tr><tr><td>Katherine Hughes</td><td>528.28</td></tr><tr><td>Katherine Ducich</td><td>328.59000000000003</td></tr><tr><td>Kat rina Willman</td><td>1756.1400000000003</td></tr><tr><td>Kat rina Edelman</td><td>397.89</td></tr><tr><td>Kat rina Bavinger</td><td>273.86</td></tr><tr><td>Karl Braun</td><td>49.21</td></tr><tr><td>Karen Seio</td><td>0.10999999999999943</td></tr><tr><td>Karen Ferguson</td><td>1660.4099999999999</td></tr><tr><td>Karen Dan!els</td><td>1107.59</td></tr><tr><td>Karen Carlisle</td><td>846.14</td></tr><tr><td>Karen Bern</td><td>764.23</td></tr><tr><td>Kalyca Meade</td><td>635.4300000000001</td></tr><tr><td>Justin Ritter</td><td>452.37</td></tr><tr><td>Justin MacKendrick</td><td>753.7</td></tr><tr><td>Justin Hirsh</td><td>-96.95999999999998</td></tr><tr><td>Justin Ellison</td><td>790.0199999999999</td></tr><tr><td>Justin Deggeller</td><td>1618.7299999999998</td></tr><tr><td>Julie Prescott</td><td>309.3</td></tr><tr><td>Julie Kriz</td><td>122.66000000000003</td></tr><tr><td>Julie Creighton</td><td>201.60000000000002</td></tr><tr><td>Juliana Krohn</td><td>586.67</td></tr><tr><td>Julia West</td><td>153.89</td></tr><tr><td>Julia Dunbar</td><td>111.12</td></tr><tr><td>Julia Barnett</td><td>201.4</td></tr><tr><td>Joy Smith</td><td>-311.26</td></tr><tr><td>Joy Daniels</td><td>26.730000000000004</td></tr><tr><td>Joy Bell-</td><td>127.05999999999999</td></tr><tr><td>Joseph Holt</td><td>-644.4799999999999</td></tr><tr><td>Joseph Airdo</td><td>-819.88</td></tr><tr><td>Joni Wa55erman</td><td>-29.579999999999984</td></tr><tr><td>Joni Sundaresam</td><td>-327.93</td></tr><tr><td>Joni Blumstein</td><td>-286.98</td></tr><tr><td>Jonathan Howell</td><td>-13.539999999999997</td></tr><tr><td>Jonathan Doherty</td><td>1050.44</td></tr><tr><td>John Stevenson</td><td>564.97</td></tr><tr><td>John Murray</td><td>1575.0700000000004</td></tr><tr><td>John Lucas</td><td>779.8900000000001</td></tr><tr><td>John Lee</td><td>228.5100000000001</td></tr><tr><td>John Hus<>><>ton</td><td>26.07</td></tr><tr><td>John Grady</td><td>206.10000000000002</td></tr><tr><td>John Dryer</td><td>-266.56</td></tr><tr><td>John Castell</td><td>279.57</td></tr><tr><td>Joel Jenkins</td><td>34.46</td></tr><tr><td>Joel Eaton</td><td>222.23999999999995</td></tr><tr><td>Joe Kamberova</td><td>54.999999999999986</td></tr><tr><td>Joe Elijah</td><td>1262.11</td></tr><tr><td>Jocasta Rupert</td><td>107.98</td></tr><tr><td>Jim Sink</td><td>-54.870000000000005</td></tr><tr><td>Jim Radford</td><td>-785.16</td></tr><tr><td>Jim Mi....tchum</td><td>117.20000000000002</td></tr><tr><td>Jim Kriz</td><td>1172.9</td></tr><tr><td>Jim Karlsson</td><td>750.73</td></tr><tr><td>Jim Epp</td><td>1623.1100000000001</td></tr><tr><td>Jill Matthias</td><td>113.12</td></tr><tr><td>Jill Fjeld</td><td>1074.07</td></tr><tr><td>Ji11 Stevenson</td><td>-174.93</td></tr><tr><td>Jesus Ocampo</td><td>167.13</td></tr><tr><td>Jessica Myrick</td><td>356.53</td></tr><tr><td>Jeremy Pistek</td><td>757.1899999999999</td></tr><tr><td>Jeremy Lonsdale</td><td>592.0399999999997</td></tr><tr><td>Jeremy Farry</td><td>-18.049999999999997</td></tr><tr><td>Jeremy Ellison</td><td>276.44</td></tr><tr><td>Jennifer Patt</td><td>429.73</td></tr><tr><td>Jennifer Jackson</td><td>200.56</td></tr><tr><td>Jennifer Halladay</td><td>-24.060000000000002</td></tr><tr><td>Jennifer Ferguson</td><td>635.6399999999999</td></tr><tr><td>Jennifer Braxton</td><td>156.04999999999998</td></tr><tr><td>Jenna Caffey</td><td>502.93</td></tr><tr><td>Jay Kimmel</td><td>329.85</td></tr><tr><td>Jay Fein</td><td>330.2000000000001</td></tr><tr><td>Jasper Cacioppo</td><td>-0.3500000000000001</td></tr><tr><td>Jason Klamczynski</td><td>55.580000000000005</td></tr><tr><td>Jason Gross</td><td>3.589999999999989</td></tr><tr><td>Jason Fortune-</td><td>97.41</td></tr><tr><td>Jas O'Carroll</td><td>201.24</td></tr><tr><td>Janet Molinari</td><td>502.9899999999999</td></tr><tr><td>Janet Martin</td><td>19.580000000000013</td></tr><tr><td>Janet Lee</td><td>54.510000000000005</td></tr><tr><td>Jane Waco</td><td>2174.0400000000004</td></tr><tr><td>Jamie Kunitz</td><td>1221.5600000000002</td></tr><tr><td>Jamie Frazer</td><td>575.7799999999999</td></tr><tr><td>James Lanier</td><td>209.11</td></tr><tr><td>James Galang</td><td>1415.3600000000001</td></tr><tr><td>Jack O'Briant</td><td>581.44</td></tr><tr><td>Jack Lebron</td><td>-207.32</td></tr><tr><td>Jack Garza</td><td>684.53</td></tr><tr><td>Ivan Liston</td><td>1121.8300000000002</td></tr><tr><td>Ivan Gibson</td><td>320.48</td></tr><tr><td>Irene Maddox</td><td>514.2</td></tr><tr><td>Ionia McGrath</td><td>975.78</td></tr><tr><td>Hunter Lopez</td><td>5622.429999999999</td></tr><tr><td>Hunter Glantz</td><td>804.6199999999999</td></tr><tr><td>Hilary Holden</td><td>86.73</td></tr><tr><td>Herbert Flentye</td><td>-14.349999999999994</td></tr><tr><td>Henry MacAllister</td><td>116.78</td></tr><tr><td>Henry Goldwyn</td><td>-2797.960000000001</td></tr><tr><td>Henia Zydlo</td><td>-130.39000000000001</td></tr><tr><td>Helen Wa55erman</td><td>2164.17</td></tr><tr><td>Helen Andreada</td><td>98.46</td></tr><tr><td>Heather Kirkland</td><td>956.95</td></tr><tr><td>Heather Jas</td><td>98.66999999999999</td></tr><tr><td>Harry Marie</td><td>2438.07</td></tr><tr><td>Harry Greene</td><td>147.01</td></tr><tr><td>Harold Ryan</td><td>1197.37</td></tr><tr><td>Harold Pawlan</td><td>373.87000000000006</td></tr><tr><td>Harold Engle</td><td>273.97</td></tr><tr><td>Harold Dahlen</td><td>-136.32999999999998</td></tr><tr><td>Hallie Redmond</td><td>185.4</td></tr><tr><td>Guy Thornton</td><td>-6.139999999999999</td></tr><tr><td>Guy Phonely</td><td>31.839999999999996</td></tr><tr><td>Guy Armstrong</td><td>136.49000000000004</td></tr><tr><td>Greg Tran</td><td>2163.29</td></tr><tr><td>Greg Maxwell</td><td>188.46</td></tr><tr><td>Greg Matthias</td><td>35.46999999999999</td></tr><tr><td>Greg Hansen</td><td>-5.809999999999999</td></tr><tr><td>Greg Guthrie</td><td>12.689999999999996</td></tr><tr><td>Grant Thornton</td><td>-4108.66</td></tr><tr><td>Grace Kelly</td><td>1448.59</td></tr><tr><td>Giulietta Weimer</td><td>-268.54999999999995</td></tr><tr><td>Giulietta Dortch</td><td>230.58999999999997</td></tr><tr><td>Giulietta Baptist</td><td>1135.84</td></tr><tr><td>Georgia Rosenberg</td><td>359.88</td></tr><tr><td>George Zrebassa</td><td>828.1700000000001</td></tr><tr><td>George Ashbrook</td><td>840.89</td></tr><tr><td>Gene McClure</td><td>441.32</td></tr><tr><td>Gene Hale</td><td>-95.49000000000001</td></tr><tr><td>Ge 1234orge Bell</td><td>7.849999999999991</td></tr><tr><td>Gary567 Hansen</td><td>-577.01</td></tr><tr><td>Gary Zandusky</td><td>1088.15</td></tr><tr><td>Gary Mitchum</td><td>793.2800000000001</td></tr><tr><td>Gary McGarr</td><td>347.27000000000004</td></tr><tr><td>Gary Hwang</td><td>1176.3899999999999</td></tr><tr><td>Fred Wa55erman</td><td>23.5</td></tr><tr><td>Fred McMath</td><td>191.08999999999997</td></tr><tr><td>Fred Hopkins</td><td>2051.0100000000007</td></tr><tr><td>Fred Harton</td><td>706.05</td></tr><tr><td>Fred Chung</td><td>714.29</td></tr><tr><td>Frank Preis</td><td>406.4599999999999</td></tr><tr><td>Frank Olsen</td><td>215.58</td></tr><tr><td>Frank Merwin</td><td>197.89000000000001</td></tr><tr><td>Frank Hawley</td><td>13400.32</td></tr><tr><td>Frank Carlisle</td><td>1217.18</td></tr><tr><td>Frank Atkinson</td><td>520.3299999999999</td></tr><tr><td>Fra9876nk Gasti  ;.,.,neau</td><td>394.95000000000005</td></tr><tr><td>Filia McAdams</td><td>249.95</td></tr><tr><td>Evan Minnotte</td><td>21.83</td></tr><tr><td>Evan Henry</td><td>242.12</td></tr><tr><td>Evan Bailliet</td><td>282.41</td></tr><tr><td>Eva Jacobs</td><td>451.88</td></tr><tr><td>Eugene Moren</td><td>1318.9500000000005</td></tr><tr><td>Eugene Hildebrand</td><td>96.21000000000004</td></tr><tr><td>Eugene Barchas</td><td>184.76</td></tr><tr><td>Eudokia Martin</td><td>240.23000000000002</td></tr><tr><td>Erin Smith</td><td>246.94</td></tr><tr><td>Erin Creighton</td><td>96.44</td></tr><tr><td>Erin Ashbrook</td><td>-52.55000000000001</td></tr><tr><td>Erica Smith</td><td>1003.0799999999999</td></tr><tr><td>Erica Hernandez</td><td>-94.72</td></tr><tr><td>Erica Hackney</td><td>150.37</td></tr><tr><td>Erica Bern</td><td>162.88000000000002</td></tr><tr><td>Eric Murdock</td><td>102.3</td></tr><tr><td>Eric Hoffmann</td><td>53.79000000000002</td></tr><tr><td>Eric Barreto</td><td>0.4299999999999926</td></tr><tr><td>Emily Phan</td><td>145.13000000000002</td></tr><tr><td>Emily Grady</td><td>103.9</td></tr><tr><td>Emily Burns</td><td>261.95</td></tr><tr><td>Ellis Ballard</td><td>656.2</td></tr><tr><td>Elizabeth Moffitt</td><td>682.5499999999998</td></tr><tr><td>Eileen Kiefer</td><td>97.1</td></tr><tr><td>Edward Nazzal</td><td>496.2199999999999</td></tr><tr><td>Edward Hooks</td><td>1393.5000000000002</td></tr><tr><td>Edward Becker</td><td>-80.28999999999999</td></tr><tr><td>Ed Ludwig</td><td>27.11</td></tr><tr><td>Ed Jacobs</td><td>-6964.03</td></tr><tr><td>Ed Braxton</td><td>13.559999999999974</td></tr><tr><td>Duane Noonan</td><td>540.53</td></tr><tr><td>Duane Huffman</td><td>116.68</td></tr><tr><td>Duane Benoit</td><td>177.94</td></tr><tr><td>Doug O'Connell</td><td>293.84</td></tr><tr><td>Doug Jacobs</td><td>731.5699999999999</td></tr><tr><td>Doug Bickford</td><td>438.8</td></tr><tr><td>Dorris liebe</td><td>175.22999999999996</td></tr><tr><td>Dorothy Dickinson</td><td>36.440000000000005</td></tr><tr><td>Dorothy Badders</td><td>109.62999999999998</td></tr><tr><td>Don Weiss</td><td>69.66</td></tr><tr><td>Don Miller</td><td>200.20000000000005</td></tr><tr><td>Don Jones</td><td>345.26</td></tr><tr><td>Dionis Lloyd</td><td>-52.390000000000015</td></tr><tr><td>Dianna Wilson</td><td>1348.7500000000002</td></tr><tr><td>Dianna Vittorini</td><td>353.09</td></tr><tr><td>Dianna Arnett</td><td>56.78999999999999</td></tr><tr><td>Denny Ordway</td><td>-38.329999999999984</td></tr><tr><td>Denny Joy</td><td>483.03</td></tr><tr><td>Denny Blanton</td><td>438.9199999999999</td></tr><tr><td>Dennis Pardue</td><td>1571.8299999999997</td></tr><tr><td>Dennis Kane</td><td>377.43</td></tr><tr><td>Dennis Bolton</td><td>291.01000000000005</td></tr><tr><td>Denise Monton</td><td>1319.0699999999997</td></tr><tr><td>Denise Leinenbach</td><td>222.67999999999998</td></tr><tr><td>Delfina Latchford</td><td>288.92</td></tr><tr><td>Deirdre Greer</td><td>562.7700000000001</td></tr><tr><td>Debra Catini</td><td>132.07</td></tr><tr><td>Deborah Brumfield</td><td>841.84</td></tr><tr><td>Dean perceR__#$#</td><td>333.3700000000003</td></tr><tr><td>Dean Katz</td><td>210.26999999999998</td></tr><tr><td>David Wiener</td><td>-86.97</td></tr><tr><td>David Smith</td><td>163.66</td></tr><tr><td>David Philippe</td><td>-40.94</td></tr><tr><td>David K ';lendrick</td><td>250.27</td></tr><tr><td>David Flashing</td><td>-259.31000000000006</td></tr><tr><td>David Bremer</td><td>-1421.78</td></tr><tr><td>Dave Poirier</td><td>562.95</td></tr><tr><td>Dave Kipp</td><td>536.3900000000001</td></tr><tr><td>Dave Hallsten</td><td>1193.74</td></tr><tr><td>Dave Brooks</td><td>472.62999999999994</td></tr><tr><td>Darrin Van Huff</td><td>-427.63</td></tr><tr><td>Darrin Sayre</td><td>193.78</td></tr><tr><td>Darrin Martin</td><td>1677.9800000000002</td></tr><tr><td>Darren Powers</td><td>241.69</td></tr><tr><td>Darren Koutras</td><td>-107.44999999999997</td></tr><tr><td>Darren Budd</td><td>212.54000000000002</td></tr><tr><td>Dario Medina</td><td>108.76</td></tr><tr><td>Daniel Raglin</td><td>2869.08</td></tr><tr><td>Daniel Lacy</td><td>4.390000000000033</td></tr><tr><td>Daniel Byrd</td><td>431.37999999999994</td></tr><tr><td>Dana Kaydos</td><td>925.97</td></tr><tr><td>Dan Reichenbach</td><td>1641.5400000000002</td></tr><tr><td>Dan Lawera</td><td>321.8500000000001</td></tr><tr><td>Dan Campbell</td><td>-1441.2799999999997</td></tr><tr><td>Damala Kotsonis</td><td>881.52</td></tr><tr><td>Cyra Reiten</td><td>83.27</td></tr><tr><td>Cynthia Voltz</td><td>98.7</td></tr><tr><td>Cynthia Delaney</td><td>389.45</td></tr><tr><td>Cynthia A;,.[]rntzen</td><td>203.73</td></tr><tr><td>Cyma Kinney</td><td>-338.44</td></tr><tr><td>Craig Yedwab</td><td>60.64</td></tr><tr><td>Craig Reiter</td><td>306.92</td></tr><tr><td>Craig M 876olinari</td><td>176.32000000000002</td></tr><tr><td>Craig Leslie</td><td>229.0</td></tr><tr><td>Craig Carroll</td><td>850.0300000000001</td></tr><tr><td>Craig Carreira</td><td>187.88000000000002</td></tr><tr><td>Corinna Mitchell</td><td>1572.44</td></tr><tr><td>Corey-Lock</td><td>205.89999999999998</td></tr><tr><td>Corey Roper</td><td>144.85000000000002</td></tr><tr><td>Corey Catlett</td><td>331.27000000000004</td></tr><tr><td>Clytie Kelty</td><td>491.12</td></tr><tr><td>Clay Rozendal</td><td>74.4</td></tr><tr><td>Clay Ludtke</td><td>1933.1799999999998</td></tr><tr><td>Clay Cheatham</td><td>34.3</td></tr><tr><td>Claudia Bergmann</td><td>1049.28</td></tr><tr><td>Claire Gute</td><td>169.93</td></tr><tr><td>Cindy Stewart</td><td>-6626.24</td></tr><tr><td>Cindy Schnelling</td><td>-302.86</td></tr><tr><td>Cindy Chapman</td><td>154.85</td></tr><tr><td>Chuck Sachs</td><td>156.27</td></tr><tr><td>Chuck Magee</td><td>63.970000000000006</td></tr><tr><td>Chuck Clark</td><td>424.68000000000006</td></tr><tr><td>Christy Brittain</td><td>272.4</td></tr><tr><td>Christopher Schild</td><td>-342.8</td></tr><tr><td>Christopher Martinez</td><td>3900.0299999999993</td></tr><tr><td>Christopher Conant</td><td>2177.0699999999997</td></tr><tr><td>Christine Sundaresam</td><td>831.94</td></tr><tr><td>Christine Phan</td><td>-1850.31</td></tr><tr><td>Christine Kargatis</td><td>261.23</td></tr><tr><td>Christine Abelman</td><td>246.86</td></tr><tr><td>Christina VanderZanden</td><td>493.09000000000003</td></tr><tr><td>Christina DeMoss</td><td>233.48000000000002</td></tr><tr><td>Christina Anderson</td><td>279.90000000000003</td></tr><tr><td>Chris Selesnick</td><td>738.41</td></tr><tr><td>Chris McAfee</td><td>365.03000000000003</td></tr><tr><td>Chris Cortes</td><td>393.95</td></tr><tr><td>Chloris Kastensmidt</td><td>141.59</td></tr><tr><td>Charlotte Melton</td><td>91.21</td></tr><tr><td>Charles Sheldon</td><td>113.14999999999999</td></tr><tr><td>Charles McCrossin</td><td>-394.37</td></tr><tr><td>Chad Sievert</td><td>143.83</td></tr><tr><td>Chad McGuire</td><td>408.58</td></tr><tr><td>Chad Cunningham</td><td>208.6</td></tr><tr><td>Cathy Prescott</td><td>426.94</td></tr><tr><td>Cathy Hwang</td><td>184.29000000000002</td></tr><tr><td>Catherine Glotzbach</td><td>86.30999999999999</td></tr><tr><td>Cassandra Brandow</td><td>150.50999999999996</td></tr><tr><td>Caroline Jumper</td><td>858.75</td></tr><tr><td>Carol Triggs</td><td>160.90000000000003</td></tr><tr><td>Carol Darley</td><td>-206.71</td></tr><tr><td>Carol Adams</td><td>1143.3899999999999</td></tr><tr><td>Carlos Soltero</td><td>-126.61000000000001</td></tr><tr><td>Carlos Meador</td><td>-43.73</td></tr><tr><td>Carlos Daly</td><td>426.21</td></tr><tr><td>Carl Weiss</td><td>370.83000000000004</td></tr><tr><td>Carl Ludwig</td><td>328.08000000000004</td></tr><tr><td>Carl Jackson</td><td>1.65</td></tr><tr><td>Cari Schnelling</td><td>105.82000000000001</td></tr><tr><td>Cari Sayre</td><td>185.55</td></tr><tr><td>Candace McMahon</td><td>214.85000000000002</td></tr><tr><td>C@thy Armstrong</td><td>211.64000000000001</td></tr><tr><td>Bryan Spruell</td><td>194.05</td></tr><tr><td>Bryan Mills</td><td>137.72</td></tr><tr><td>Bryan Davis</td><td>141.28</td></tr><tr><td>Bruce Stewart</td><td>-113.31</td></tr><tr><td>Bruce Degenhardt</td><td>334.47</td></tr><tr><td>Brosin34a Hoffman 09</td><td>789.6299999999998</td></tr><tr><td>Brooke Gillingham</td><td>107.59</td></tr><tr><td>Brian Thompson</td><td>447.81000000000006</td></tr><tr><td>Brian Stugart</td><td>238.73000000000002</td></tr><tr><td>Brian Moss</td><td>2198.83</td></tr><tr><td>Brian Derr</td><td>141.43</td></tr><tr><td>Brian DeCherney</td><td>207.02</td></tr><tr><td>Brian Dahlen</td><td>634.8199999999999</td></tr><tr><td>Brendan Sweed</td><td>381.39</td></tr><tr><td>Brendan Murry</td><td>95.58000000000001</td></tr><tr><td>Brendan Dodson</td><td>116.71</td></tr><tr><td>Brenda Bowman</td><td>1014.6499999999999</td></tr><tr><td>Bradley Talbott</td><td>409.49</td></tr><tr><td>Bradley Nguyen</td><td>340.72</td></tr><tr><td>Bradley Drucker</td><td>1142.1200000000001</td></tr><tr><td>Brad Thomas</td><td>126.87</td></tr><tr><td>Brad Norvell</td><td>36.61</td></tr><tr><td>Brad Eason</td><td>139.2</td></tr><tr><td>Bobby Trafton</td><td>-77.27000000000001</td></tr><tr><td>Bobby Odegard</td><td>59.45</td></tr><tr><td>Bobby Elias</td><td>755.91</td></tr><tr><td>Bi1l Tyler</td><td>257.9</td></tr><tr><td>Bi1l Stewart</td><td>-17.539999999999967</td></tr><tr><td>Bi1l Overfelt</td><td>278.42999999999995</td></tr><tr><td>Bi1l Eplett</td><td>1487.79</td></tr><tr><td>Bi1l Donatelli</td><td>1094.51</td></tr><tr><td>Bi 8761l Shonely</td><td>2616.4100000000003</td></tr><tr><td>Beth Tho098-.,;;mpson</td><td>417.5799999999999</td></tr><tr><td>Beth Paige</td><td>-318.84999999999997</td></tr><tr><td>Beth Fritzler</td><td>25.870000000000005</td></tr><tr><td>Berenike Kampe</td><td>-63.3</td></tr><tr><td>Benjamin Venier</td><td>315.21999999999997</td></tr><tr><td>Benjamin Patterson</td><td>-197.39000000000001</td></tr><tr><td>Benjamin Farhat</td><td>523.09</td></tr><tr><td>Ben Pet 987 -=erman</td><td>363.60999999999996</td></tr><tr><td>Ben Ferrer</td><td>1938.6699999999998</td></tr><tr><td>Becky Castell</td><td>251.19</td></tr><tr><td>Bart Watters</td><td>921.3800000000001</td></tr><tr><td>Bart Pistole</td><td>433.57</td></tr><tr><td>Bart Folk</td><td>110.99</td></tr><tr><td>Barry Weirich</td><td>-58.28999999999999</td></tr><tr><td>Barry Pond</td><td>209.66000000000003</td></tr><tr><td>Barry Gonzalez</td><td>-710.8000000000001</td></tr><tr><td>Barry Französisch</td><td>301.44</td></tr><tr><td>Barry Franz</td><td>-291.37</td></tr><tr><td>Barry Blumstein</td><td>11.569999999999997</td></tr><tr><td>Barbara Fisher</td><td>227.29999999999998</td></tr><tr><td>B*#^%ruce Geld</td><td>119.33999999999999</td></tr><tr><td>B         ecky Martin</td><td>-1659.97</td></tr><tr><td>Astrea Jones</td><td>60.42</td></tr><tr><td>Ashley Jarboe</td><td>521.14</td></tr><tr><td>Arthur Wiediger</td><td>-104.45000000000003</td></tr><tr><td>Arthur Prichep</td><td>579.6800000000001</td></tr><tr><td>Arthur Gainer</td><td>343.67</td></tr><tr><td>Art Foster</td><td>-163.13</td></tr><tr><td>Art Ferguson</td><td>317.61999999999995</td></tr><tr><td>Arianne Irving</td><td>867.8700000000001</td></tr><tr><td>Anthony Rawles</td><td>495.07</td></tr><tr><td>Anthony O'Donnell</td><td>12.1</td></tr><tr><td>Anthony Johnson</td><td>1158.7099999999998</td></tr><tr><td>Anthony Jacobs</td><td>150.72000000000006</td></tr><tr><td>Anthony Garverick</td><td>-8.420000000000009</td></tr><tr><td>Anth 34789ony Witt</td><td>65.77999999999999</td></tr><tr><td>Annie Zypern</td><td>154.76999999999998</td></tr><tr><td>Annie Thurman</td><td>974.5699999999999</td></tr><tr><td>Anne Pryor</td><td>285.80000000000007</td></tr><tr><td>Anne McFarland</td><td>969.05</td></tr><tr><td>Anna Häberlin</td><td>1296.87</td></tr><tr><td>Anna Gayman</td><td>-246.4</td></tr><tr><td>Anna Chung</td><td>-28.700000000000003</td></tr><tr><td>Anna Andreadi</td><td>857.8</td></tr><tr><td>Ann Steele</td><td>136.60000000000002</td></tr><tr><td>Ann Chong</td><td>298.61</td></tr><tr><td>Ann Blume</td><td>-275.28000000000003</td></tr><tr><td>Angele Hood</td><td>83.97</td></tr><tr><td>Anemone Ratner</td><td>32.64</td></tr><tr><td>Andy Yotov</td><td>103.34</td></tr><tr><td>Andy Reiter</td><td>2884.61</td></tr><tr><td>Andy Gerbode</td><td>-152.75</td></tr><tr><td>Andrew Roberts</td><td>43.65</td></tr><tr><td>Andrew Gjertsen</td><td>295.84000000000003</td></tr><tr><td>Andrew Allen</td><td>436.0799999999999</td></tr><tr><td>Amy Hunt</td><td>-195.99</td></tr><tr><td>Amy Cox</td><td>1366.5</td></tr><tr><td>Alyssa Tate</td><td>100.87</td></tr><tr><td>Alyssa Crouse</td><td>-62.13</td></tr><tr><td>Allen Rosenblatt</td><td>-98.52000000000001</td></tr><tr><td>Allen Goldenen</td><td>69.27000000000001</td></tr><tr><td>Allen Armold</td><td>277.4</td></tr><tr><td>Alice McCarthy</td><td>194.98000000000002</td></tr><tr><td>Alex Russell</td><td>-221.06000000000003</td></tr><tr><td>Alex Grayson</td><td>-5.359999999999999</td></tr><tr><td>Alex Avila</td><td>-362.91</td></tr><tr><td>Aleksandra Gannaway</td><td>59.28000000000001</td></tr><tr><td>Alejandro Savely</td><td>354.63</td></tr><tr><td>Alejandro Grove</td><td>732.7500000000001</td></tr><tr><td>Alejandro Ballentine</td><td>264.57</td></tr><tr><td>Alan Shonely</td><td>33.69</td></tr><tr><td>Alan Schoenberger</td><td>719.77</td></tr><tr><td>Alan Hwang</td><td>1308.56</td></tr><tr><td>Alan Haines</td><td>-378.03999999999996</td></tr><tr><td>Alan Dominguez</td><td>1869.92</td></tr><tr><td>Alan Barnes</td><td>220.60000000000002</td></tr><tr><td>Aimee Bixby</td><td>313.66</td></tr><tr><td>Adrian Shami</td><td>21.84</td></tr><tr><td>Adrian Hane</td><td>-2.500000000000007</td></tr><tr><td>Adrian Barton</td><td>5444.9699999999975</td></tr><tr><td>Adam Shillingsburg</td><td>64.30999999999997</td></tr><tr><td>Adam Bellavance</td><td>2054.6</td></tr><tr><td>Ad.       ..am Hart</td><td>280.8</td></tr><tr><td>Aaron Smayling</td><td>-253.58999999999995</td></tr><tr><td>Aaron Hawkins</td><td>365.22</td></tr><tr><td>Aaron Bergman</td><td>129.68</td></tr><tr><td>6789Erin  Mull</td><td>40.03000000000001</td></tr><tr><td>654Dean Braden</td><td>169.70999999999998</td></tr><tr><td>5467Ben Wallace</td><td>247.0</td></tr><tr><td>)(*&Sung Pak</td><td>567.1099999999999</td></tr><tr><td>&^*(5678Shirley Daniels</td><td>1985.18</td></tr><tr><td>\":[]|}-=Charles Crestani</td><td>392.29</td></tr><tr><td> Shahi  Shariari</td><td>-1011.0799999999999</td></tr><tr><td> Shahi  Hopkins</td><td>-144.51999999999998</td></tr><tr><td> Elpida Rittenbach </td><td>-295.33000000000004</td></tr><tr><td> &&Tracy Blumstein</td><td>-1603.04</td></tr><tr><td>  Shahi  Collister</td><td>-3164.0000000000005</td></tr><tr><td>   _Mike Vitt 12313orini</td><td>273.99</td></tr><tr><td>     Rac5467hel Payne</td><td>59.51999999999997</td></tr><tr><td>       Kristi;'[]na Nunn</td><td>329.77</td></tr><tr><td>         Helen Abelman</td><td>270.85</td></tr><tr><td>         =--Katharine Harms</td><td>455.7</td></tr><tr><td>             Dorothy Wardle</td><td>-266.9</td></tr></tbody></table></div>"
      ]
     },
     "metadata": {
      "application/vnd.databricks.v1+output": {
       "addedWidgets": {},
       "aggData": [],
       "aggError": "",
       "aggOverflow": false,
       "aggSchema": [],
       "aggSeriesLimitReached": false,
       "aggType": "",
       "arguments": {},
       "columnCustomDisplayInfos": {},
       "data": [
        [
         "_12312Patrick Bzostek",
         228.77
        ],
        [
         "[]-=;''Becky Pak",
         647.0000000000001
        ],
        [
         "Zuschuss Donatelli",
         248.75
        ],
        [
         "Zuschuss Carroll",
         -1032.3599999999997
        ],
        [
         "Yoseph Carroll",
         1305.6399999999999
        ],
        [
         "Yana Sorensen",
         1778.31
        ],
        [
         "Xylona Preis",
         621.3699999999999
        ],
        [
         "William Brown",
         714.5199999999999
        ],
        [
         "Vivian Mathis",
         116.64
        ],
        [
         "Vivek Sundaresam",
         -263.08000000000004
        ],
        [
         "Vivek Grady",
         -52.33
        ],
        [
         "Vivek Gonzalez",
         144.11999999999998
        ],
        [
         "Victoria Wilson",
         -874.66
        ],
        [
         "Victoria Pisteka",
         -1018.91
        ],
        [
         "Victor Preis",
         205.39
        ],
        [
         "Victo 3456ria Brennan",
         371.25000000000006
        ],
        [
         "Vicky Freymann",
         -96.28
        ],
        [
         "Valerie Takahito",
         -224.93
        ],
        [
         "Valerie Mitchum",
         513.62
        ],
        [
         "Valerie Dominguez",
         1617.6100000000001
        ],
        [
         "UNKNOWN",
         3126.8099999999995
        ],
        [
         "Trudy Schmidt",
         220.73000000000005
        ],
        [
         "Trudy Glocke",
         365.12
        ],
        [
         "Trudy Brown",
         379.8
        ],
        [
         "Troy Staebel",
         -294.89
        ],
        [
         "Troy Blackwell",
         -136.47
        ],
        [
         "Tracy Zic",
         224.89000000000001
        ],
        [
         "Tracy P 908765oddar",
         139.44000000000008
        ],
        [
         "Tracy Hopkins",
         -571.9900000000001
        ],
        [
         "Tracy Collins",
         217.95000000000002
        ],
        [
         "Tony Molinari",
         292.53
        ],
        [
         "Tony Chapman",
         119.13
        ],
        [
         "Tonja Turnell",
         1124.39
        ],
        [
         "Tom Stivers",
         48.9
        ],
        [
         "Tom Prescott",
         -1087.38
        ],
        [
         "Tom Boeckenhauer",
         2798.06
        ],
        [
         "Tom Ashbrook",
         4703.719999999999
        ],
        [
         "Todd Sumrall",
         2371.73
        ],
        [
         "Todd Boyes",
         268.95000000000005
        ],
        [
         "Toby Swindell",
         -185.00000000000006
        ],
        [
         "Toby Ritter",
         220.36
        ],
        [
         "Toby Gnade",
         682.1700000000001
        ],
        [
         "Toby Carlisle",
         606.3800000000001
        ],
        [
         "Toby Braunhardt",
         491.12
        ],
        [
         "Tim Taslimi",
         93.92
        ],
        [
         "Tim Brockman",
         260.28999999999996
        ],
        [
         "Tiffany House",
         92.55000000000003
        ],
        [
         "Thomas Thornton",
         278.75999999999993
        ],
        [
         "Thomas Seio",
         862.94
        ],
        [
         "Thomas Brumley",
         179.01
        ],
        [
         "Tho   12 =-.mas Boland",
         828.71
        ],
        [
         "Theresa Swint",
         260.63000000000005
        ],
        [
         "Theresa Coyne",
         265.59
        ],
        [
         "Theone Pippenger",
         1128.65
        ],
        [
         "Thea Hudgings",
         -252.55
        ],
        [
         "Thea Hendricks",
         -135.22
        ],
        [
         "Thais Sissman",
         -3.3200000000000003
        ],
        [
         "Ted Trevino",
         752.1700000000001
        ],
        [
         "Ted Butterfield",
         389.76
        ],
        [
         "Tanja Norvell",
         -692.05
        ],
        [
         "Tamara Manning",
         573.4599999999999
        ],
        [
         "Tamara Dahlen",
         88.64000000000001
        ],
        [
         "Tamara Chand",
         8981.32
        ],
        [
         "Tam&^*ara Willing___)ham",
         737.3899999999999
        ],
        [
         "Sylvia Foulston",
         539.94
        ],
        [
         "Suzanne McNair",
         581.5699999999999
        ],
        [
         "Susan Vittorini",
         106.62
        ],
        [
         "Susan Pistek",
         14.370000000000005
        ],
        [
         "Susan MacKendrick",
         -16510.34
        ],
        [
         "Susan Gilcrest",
         -3.6999999999999993
        ],
        [
         "Sung Shariari",
         -75.57000000000001
        ],
        [
         "Sung Chung",
         31.17
        ],
        [
         "Sue Ann Reed",
         610.1399999999999
        ],
        [
         "Stuart Van",
         199.64
        ],
        [
         "Stuart Calhoun",
         52.21
        ],
        [
         "Stewart Visinsky",
         484.8500000000001
        ],
        [
         "Stewart Carmichael",
         -671.38
        ],
        [
         "Steven Ward",
         68.22999999999999
        ],
        [
         "Steven Roelle",
         1990.4199999999998
        ],
        [
         "Steven Cartwright",
         1276.4199999999998
        ],
        [
         "Steve Nguyen",
         481.74
        ],
        [
         "Steve Chapman",
         611.8199999999999
        ],
        [
         "Steve Carroll",
         370.16999999999996
        ],
        [
         "Stephanie Ulpright",
         763.6999999999999
        ],
        [
         "Stephanie Phelps",
         268.47
        ],
        [
         "Stefanie Holloman",
         260.63
        ],
        [
         "Stefania Perrino",
         -270.19000000000005
        ],
        [
         "Speros Goranitis",
         463.27000000000004
        ],
        [
         "Sonia Sunley",
         135.91
        ],
        [
         "Sonia Cooley",
         100.22999999999999
        ],
        [
         "Skye Norling",
         -716.8400000000001
        ],
        [
         "Sibella Parks",
         -118.38
        ],
        [
         "Shui Tom",
         85.12
        ],
        [
         "Shirley Jackson",
         68.59
        ],
        [
         "Shirl)(*&ey Schmidt",
         199.93
        ],
        [
         "Sheri Gordon",
         -119.01000000000002
        ],
        [
         "Shaun Weien",
         793.64
        ],
        [
         "Shaun Chance",
         379.57000000000005
        ],
        [
         "Sharelle Roach",
         -3334.17
        ],
        [
         "Seth Vernon",
         1200.14
        ],
        [
         "Sean Wendt",
         95.84
        ],
        [
         "Sean O'Donnell",
         -81.42999999999999
        ],
        [
         "Sean Miller",
         -1980.9800000000002
        ],
        [
         "Sean Christensen",
         229.10999999999999
        ],
        [
         "Sean Braxton",
         -2082.7599999999998
        ],
        [
         "Scott Williamson",
         332.76000000000005
        ],
        [
         "Scott Cohen",
         670.98
        ],
        [
         "Scot Wooten",
         -19.580000000000002
        ],
        [
         "Scot Coram",
         439.82
        ],
        [
         "Sarah Jordon",
         -23.380000000000003
        ],
        [
         "Sarah Foster",
         287.0
        ],
        [
         "Sarah Brown",
         885.96
        ],
        [
         "Sarah Bern",
         157.68000000000004
        ],
        [
         "Sara Luxemburg",
         528.04
        ],
        [
         "Saphhira Shifley",
         332.03
        ],
        [
         "Sanjit Jacobs",
         143.72
        ],
        [
         "Sanjit Engle",
         2650.67
        ],
        [
         "Sanjit Chand",
         5757.299999999999
        ],
        [
         "Sandra Glassco",
         570.44
        ],
        [
         "Sandra Flanagan",
         227.76
        ],
        [
         "Sample Company A",
         1011.73
        ],
        [
         "Sam Zeldin",
         366.42
        ],
        [
         "Sam Craven",
         -317.51000000000005
        ],
        [
         "Sally Matthias",
         -26.59
        ],
        [
         "Sally Knut_son",
         168.79000000000002
        ],
        [
         "Ryan Crowe",
         10.539999999999978
        ],
        [
         "Ryan Akin",
         -445.69
        ],
        [
         "Russell D'Ascenzo",
         35.04
        ],
        [
         "Russell Applegate",
         305.2900000000001
        ],
        [
         "Ruben Dartt",
         455.51
        ],
        [
         "Ruben Ausman",
         1292.81
        ],
        [
         "Roy Skaria",
         9.58
        ],
        [
         "Roy Phan",
         594.7800000000001
        ],
        [
         "Roy Französisch",
         280.09
        ],
        [
         "Roy Collins",
         63.57
        ],
        [
         "Ross DeVincentis",
         318.45000000000005
        ],
        [
         "Ross Baird",
         -461.74000000000007
        ],
        [
         "Rose O'Brian",
         -1262.8100000000002
        ],
        [
         "Roland Schwarz",
         1206.39
        ],
        [
         "Roland Murray",
         28.68
        ],
        [
         "Roland Fjeld",
         711.8299999999998
        ],
        [
         "Roger Demir",
         207.72000000000003
        ],
        [
         "Roger Barcio",
         243.07
        ],
        [
         "Robert Waldorf",
         707.55
        ],
        [
         "Robert Marley",
         1902.55
        ],
        [
         "Robert Dilbeck",
         835.7699999999999
        ],
        [
         "Robert Barroso",
         72.67999999999999
        ],
        [
         "Rob Williams",
         699.0600000000001
        ],
        [
         "Rob Lucas",
         213.98
        ],
        [
         "Rob Haberlin",
         172.62
        ],
        [
         "Rob Dowd",
         734.52
        ],
        [
         "Rob Beeghly",
         76.89
        ],
        [
         "Ritsa Hightower",
         0.3099999999999996
        ],
        [
         "Rick Wi 4567@#$lson",
         1586.2299999999998
        ],
        [
         "Rick Reed",
         721.69
        ],
        [
         "Rick Huthwaite",
         1289.4499999999998
        ],
        [
         "Rick Hansen",
         563.7800000000001
        ],
        [
         "Rick Duston",
         480.59
        ],
        [
         "Rick Bensley",
         640.5600000000001
        ],
        [
         "Richard Bierner",
         477.62999999999994
        ],
        [
         "Rich.-=%&*ard Eichhorn",
         209.25
        ],
        [
         "Ricardo Sperren",
         633.4499999999999
        ],
        [
         "Ricardo Emerson",
         6.04
        ],
        [
         "Resi Pölking",
         464.9599999999999
        ],
        [
         "Raymond Messe",
         392.59000000000003
        ],
        [
         "Raymond Buch",
         6976.36
        ],
        [
         "Randy Ferguson",
         633.6700000000001
        ],
        [
         "Randy Bradley",
         -164.41
        ],
        [
         "Ralph Ritter",
         -73.83
        ],
        [
         "Ralph Kennedy",
         269.67999999999995
        ],
        [
         "Ralph Arnett",
         545.72
        ],
        [
         "Quincy Jones",
         1203.69
        ],
        [
         "Pierre Wener",
         1291.15
        ],
        [
         "Phillip Flathmann",
         591.29
        ],
        [
         "Phillip Breyer",
         21.9
        ],
        [
         "Phillina Ober",
         -49.68999999999999
        ],
        [
         "Philisse Overcash",
         1155.24
        ],
        [
         "Philip Fox",
         196.87999999999994
        ],
        [
         "Philip Brown",
         280.27
        ],
        [
         "Peter McVee",
         526.76
        ],
        [
         "Peter Fuller",
         -614.02
        ],
        [
         "Peter Bühler",
         218.16
        ],
        [
         "Pete@#$ Takahito",
         -20.049999999999997
        ],
        [
         "Pete Kriz",
         2037.9
        ],
        [
         "Pete Armstrong",
         225.86
        ],
        [
         "Penelope Sewall",
         3183.7699999999995
        ],
        [
         "Pauline Webber",
         803.82
        ],
        [
         "Pauline Johnson",
         682.6800000000001
        ],
        [
         "Pauline Chand",
         -184.34
        ],
        [
         "Paul Stevenson",
         198.53000000000003
        ],
        [
         "Paul Prost",
         1495.4700000000005
        ],
        [
         "Paul MacIntyre",
         157.88000000000002
        ],
        [
         "Paul Lucas",
         -0.7699999999999996
        ],
        [
         "Paul Knut_son",
         -798.7099999999999
        ],
        [
         "Paul Gonzalez",
         334.97
        ],
        [
         "Paul  4567Van Hugh",
         434.25000000000006
        ],
        [
         "Patrick Ryan",
         5596.2
        ],
        [
         "Patrick O'Donnell",
         437.94
        ],
        [
         "Patrick O'Brill",
         37.63999999999998
        ],
        [
         "Patrick Jones",
         442.14
        ],
        [
         "Patrick Gardner",
         137.48000000000002
        ],
        [
         "Patricia Hirasaki",
         47.89
        ],
        [
         "Parhena Norris",
         192.04000000000002
        ],
        [
         "Pamela Stobb",
         -134.45000000000002
        ],
        [
         "Pamela Coakley",
         272.67999999999995
        ],
        [
         "Olvera Toch",
         -925.56
        ],
        [
         "Odella Nelson",
         -5.530000000000019
        ],
        [
         "Nora Preis",
         630.82
        ],
        [
         "Nora Pelletier",
         514.5
        ],
        [
         "Nona Balk",
         117.63999999999994
        ],
        [
         "Noel Staavos",
         -234.89
        ],
        [
         "Noah Childs",
         -358.90999999999997
        ],
        [
         "Nicole Hansen",
         760.1600000000001
        ],
        [
         "Nicole Fjeld",
         388.31
        ],
        [
         "Nicole Brennan",
         24.79
        ],
        [
         "Nick Zandusky",
         402.56000000000006
        ],
        [
         "Nick Radford",
         -25.13999999999993
        ],
        [
         "Nick Crebassa",
         1314.02
        ],
        [
         "Neoma Murray",
         788.95
        ],
        [
         "Neola Schneider",
         -12.319999999999993
        ],
        [
         "Neil Knudson%^&*(",
         121.22
        ],
        [
         "Neil Französisch",
         85.92
        ],
        [
         "Neil Ducich",
         443.34000000000003
        ],
        [
         "Nathan Mautz",
         2751.7000000000003
        ],
        [
         "Nathan Gelder",
         217.08999999999997
        ],
        [
         "Nathan Cano",
         -2204.81
        ],
        [
         "Natalie Webber",
         1022.6399999999999
        ],
        [
         "Natalie Fritzler",
         -1696.3500000000001
        ],
        [
         "Natalie DeCherney",
         353.2399999999999
        ],
        [
         "Nat Gilpin",
         313.63
        ],
        [
         "Nat Carroll",
         580.2900000000001
        ],
        [
         "Nancy Lomonaco",
         343.8
        ],
        [
         "N0ra Paige",
         513.15
        ],
        [
         "Muhammed YeDwab#",
         -371.71
        ],
        [
         "Muhammed MacIntyre",
         58.55999999999999
        ],
        [
         "Muhammed Lee",
         42.669999999999995
        ],
        [
         "Monica Federle",
         456.86
        ],
        [
         "Mitch Willin0009gham",
         1665.52
        ],
        [
         "Mitch Webber",
         1237.92
        ],
        [
         "Mitch Gastineau",
         -1.2399999999999998
        ],
        [
         "Mike Pelletier",
         225.49
        ],
        [
         "Mike Kennedy",
         227.43
        ],
        [
         "Mike Gockenbach",
         -93.48999999999997
        ],
        [
         "Mike Caudle",
         121.73999999999998
        ],
        [
         "Mick Hernandez",
         170.98000000000002
        ],
        [
         "Mick Crebagga",
         -64.4
        ],
        [
         "Mick Brown",
         118.04999999999998
        ],
        [
         "Michelle Tran",
         -23.449999999999996
        ],
        [
         "Michelle Moray",
         -520.46
        ],
        [
         "Michelle Lonsdale",
         138.72
        ],
        [
         "Michelle Huthwaite",
         476.74
        ],
        [
         "Michelle Ellison",
         107.35
        ],
        [
         "Michelle Arnett",
         280.51
        ],
        [
         "Michael Stewart",
         55.230000000000004
        ],
        [
         "Michael Paige",
         637.74
        ],
        [
         "Michael Oakman",
         -82.01
        ],
        [
         "Michael Nguyen",
         290.81999999999994
        ],
        [
         "Michael Moore",
         81.4499999999999
        ],
        [
         "Michael Kennedy",
         -405.4299999999999
        ],
        [
         "Michael Granlund",
         171.44000000000003
        ],
        [
         "Michael Grace",
         -470.77
        ],
        [
         "Michael Dominguez",
         -4.050000000000001
        ],
        [
         "Michael Chen",
         698.42
        ],
        [
         "Melanie Seite",
         19.429999999999996
        ],
        [
         "Meg Tillman",
         509.0000000000001
        ],
        [
         "Meg O'Connel",
         168.97999999999996
        ],
        [
         "Maya Herman",
         239.01999999999998
        ],
        [
         "Maxwell Schwartz",
         280.80999999999995
        ],
        [
         "Max Ludwig",
         409.99
        ],
        [
         "Max Jones",
         1054.54
        ],
        [
         "Max Engle",
         77.59000000000002
        ],
        [
         "Maurice Satty",
         247.43000000000006
        ],
        [
         "Maureen Gnade",
         -398.8
        ],
        [
         "Maureen Gastineau",
         25.890000000000015
        ],
        [
         "Maureen Fritzler",
         -341.53000000000003
        ],
        [
         "Matthew Grinstein",
         341.90000000000003
        ],
        [
         "Matthew Clasen",
         -247.72
        ],
        [
         "Matt Hagelstein",
         122.35
        ],
        [
         "Matt Connell",
         195.45
        ],
        [
         "Matt Collister",
         288.99
        ],
        [
         "Matt Collins",
         210.92
        ],
        [
         "Matt Abelman",
         1240.5500000000004
        ],
        [
         "Mathew Reese",
         162.45000000000002
        ],
        [
         "MaryBeth Skach",
         84.02000000000001
        ],
        [
         "Mary Zewe",
         787.1500000000001
        ],
        [
         "Mary O'Rourke",
         59.36
        ],
        [
         "Mark Van Huff",
         189.01000000000002
        ],
        [
         "Mark Packer",
         600.3000000000001
        ],
        [
         "Mark Hamilton",
         485.28
        ],
        [
         "Mark Haberlin",
         61.43000000000001
        ],
        [
         "Mark Cousins",
         1802.4
        ],
        [
         "Maris LaWare",
         -76.46999999999994
        ],
        [
         "Marina Lichtenstein",
         684.9300000000001
        ],
        [
         "Maribeth Yedwab",
         319.14
        ],
        [
         "Maribeth Dona",
         -241.23
        ],
        [
         "Maribeth 5chnelling",
         844.9300000000001
        ],
        [
         "Maria Zettner",
         85.02000000000001
        ],
        [
         "Maria Etezadi",
         1858.97
        ],
        [
         "Maria Bertelson",
         213.32999999999998
        ],
        [
         "Marc Harrigan",
         28.98000000000001
        ],
        [
         "Marc Crier",
         461.02
        ],
        [
         "Magdelene Morse",
         178.41
        ],
        [
         "Lynn Smith",
         347.96999999999997
        ],
        [
         "Lycoris Saunders",
         64.57
        ],
        [
         "Luke Weiss",
         837.6700000000001
        ],
        [
         "Luke Schmidt",
         243.82
        ],
        [
         "Luke Foster",
         -3583.6099999999997
        ],
        [
         "Lori Olson",
         150.16
        ],
        [
         "Logan Haushalter",
         316.53000000000003
        ],
        [
         "Logan Currie",
         230.52999999999997
        ],
        [
         "Liz Willingham",
         192.63
        ],
        [
         "Liz Thompson",
         320.98
        ],
        [
         "Liz Preis",
         338.4600000000001
        ],
        [
         "Liz Pelletier",
         110.78999999999999
        ],
        [
         "Liz MacKendrick",
         -44.88000000000001
        ],
        [
         "Liz Carlisle",
         86.77999999999999
        ],
        [
         "Lisa Ryan",
         -383.19
        ],
        [
         "Lisa Hazard",
         -242.75
        ],
        [
         "Lisa DeCherney",
         556.77
        ],
        [
         "Lindsay Williams",
         662.83
        ],
        [
         "Lindsay Shagiari",
         262.27
        ],
        [
         "Lindsay Castell",
         299.47
        ],
        [
         "Linda Southworth",
         -318.44
        ],
        [
         "Linda Cazamias",
         288.28999999999996
        ],
        [
         "Lena Radford",
         535.27
        ],
        [
         "Lena Hernandez",
         525.12
        ],
        [
         "Lena Creighton",
         1288.73
        ],
        [
         "Lela Donovan",
         0.46
        ],
        [
         "Lauren Leatherbury",
         560.51
        ],
        [
         "Laurel Workman",
         32.589999999999975
        ],
        [
         "Laurel Elliston",
         161.76
        ],
        [
         "Laurel Beltran",
         -51.98999999999991
        ],
        [
         "Laura Armstrong",
         2025.17
        ],
        [
         "Larry Tron",
         59.03
        ],
        [
         "Larry Hughes",
         12.63
        ],
        [
         "Larry Blacks",
         18.65
        ],
        [
         "Kunst Miller",
         745.3999999999999
        ],
        [
         "Kristen Hastings",
         1227.13
        ],
        [
         "Kimberly Carter",
         157.23000000000002
        ],
        [
         "Khloe Miller",
         90.66999999999999
        ],
        [
         "Ken Lonsdale",
         806.5
        ],
        [
         "Ken Heidel",
         727.51
        ],
        [
         "Ken Brennan",
         293.90000000000003
        ],
        [
         "Ken Black",
         578.89
        ],
        [
         "Kelly Williams",
         108.39
        ],
        [
         "Kelly Lampkin",
         -182.79000000000002
        ],
        [
         "Kelly Collister",
         709.4300000000001
        ],
        [
         "Kelly Andreada",
         234.35999999999999
        ],
        [
         "Keith Herrera",
         656.1199999999999
        ],
        [
         "Keith Dawkins",
         3038.92
        ],
        [
         "Kean Thornton",
         194.07
        ],
        [
         "Kean Takahito",
         253.75
        ],
        [
         "Kean Nguyen",
         113.82000000000002
        ],
        [
         "Katherine Nockton",
         -151.15
        ],
        [
         "Katherine Murray",
         973.3699999999999
        ],
        [
         "Katherine Hughes",
         528.28
        ],
        [
         "Katherine Ducich",
         328.59000000000003
        ],
        [
         "Kat rina Willman",
         1756.1400000000003
        ],
        [
         "Kat rina Edelman",
         397.89
        ],
        [
         "Kat rina Bavinger",
         273.86
        ],
        [
         "Karl Braun",
         49.21
        ],
        [
         "Karen Seio",
         0.10999999999999943
        ],
        [
         "Karen Ferguson",
         1660.4099999999999
        ],
        [
         "Karen Dan!els",
         1107.59
        ],
        [
         "Karen Carlisle",
         846.14
        ],
        [
         "Karen Bern",
         764.23
        ],
        [
         "Kalyca Meade",
         635.4300000000001
        ],
        [
         "Justin Ritter",
         452.37
        ],
        [
         "Justin MacKendrick",
         753.7
        ],
        [
         "Justin Hirsh",
         -96.95999999999998
        ],
        [
         "Justin Ellison",
         790.0199999999999
        ],
        [
         "Justin Deggeller",
         1618.7299999999998
        ],
        [
         "Julie Prescott",
         309.3
        ],
        [
         "Julie Kriz",
         122.66000000000003
        ],
        [
         "Julie Creighton",
         201.60000000000002
        ],
        [
         "Juliana Krohn",
         586.67
        ],
        [
         "Julia West",
         153.89
        ],
        [
         "Julia Dunbar",
         111.12
        ],
        [
         "Julia Barnett",
         201.4
        ],
        [
         "Joy Smith",
         -311.26
        ],
        [
         "Joy Daniels",
         26.730000000000004
        ],
        [
         "Joy Bell-",
         127.05999999999999
        ],
        [
         "Joseph Holt",
         -644.4799999999999
        ],
        [
         "Joseph Airdo",
         -819.88
        ],
        [
         "Joni Wa55erman",
         -29.579999999999984
        ],
        [
         "Joni Sundaresam",
         -327.93
        ],
        [
         "Joni Blumstein",
         -286.98
        ],
        [
         "Jonathan Howell",
         -13.539999999999997
        ],
        [
         "Jonathan Doherty",
         1050.44
        ],
        [
         "John Stevenson",
         564.97
        ],
        [
         "John Murray",
         1575.0700000000004
        ],
        [
         "John Lucas",
         779.8900000000001
        ],
        [
         "John Lee",
         228.5100000000001
        ],
        [
         "John Hus<>><>ton",
         26.07
        ],
        [
         "John Grady",
         206.10000000000002
        ],
        [
         "John Dryer",
         -266.56
        ],
        [
         "John Castell",
         279.57
        ],
        [
         "Joel Jenkins",
         34.46
        ],
        [
         "Joel Eaton",
         222.23999999999995
        ],
        [
         "Joe Kamberova",
         54.999999999999986
        ],
        [
         "Joe Elijah",
         1262.11
        ],
        [
         "Jocasta Rupert",
         107.98
        ],
        [
         "Jim Sink",
         -54.870000000000005
        ],
        [
         "Jim Radford",
         -785.16
        ],
        [
         "Jim Mi....tchum",
         117.20000000000002
        ],
        [
         "Jim Kriz",
         1172.9
        ],
        [
         "Jim Karlsson",
         750.73
        ],
        [
         "Jim Epp",
         1623.1100000000001
        ],
        [
         "Jill Matthias",
         113.12
        ],
        [
         "Jill Fjeld",
         1074.07
        ],
        [
         "Ji11 Stevenson",
         -174.93
        ],
        [
         "Jesus Ocampo",
         167.13
        ],
        [
         "Jessica Myrick",
         356.53
        ],
        [
         "Jeremy Pistek",
         757.1899999999999
        ],
        [
         "Jeremy Lonsdale",
         592.0399999999997
        ],
        [
         "Jeremy Farry",
         -18.049999999999997
        ],
        [
         "Jeremy Ellison",
         276.44
        ],
        [
         "Jennifer Patt",
         429.73
        ],
        [
         "Jennifer Jackson",
         200.56
        ],
        [
         "Jennifer Halladay",
         -24.060000000000002
        ],
        [
         "Jennifer Ferguson",
         635.6399999999999
        ],
        [
         "Jennifer Braxton",
         156.04999999999998
        ],
        [
         "Jenna Caffey",
         502.93
        ],
        [
         "Jay Kimmel",
         329.85
        ],
        [
         "Jay Fein",
         330.2000000000001
        ],
        [
         "Jasper Cacioppo",
         -0.3500000000000001
        ],
        [
         "Jason Klamczynski",
         55.580000000000005
        ],
        [
         "Jason Gross",
         3.589999999999989
        ],
        [
         "Jason Fortune-",
         97.41
        ],
        [
         "Jas O'Carroll",
         201.24
        ],
        [
         "Janet Molinari",
         502.9899999999999
        ],
        [
         "Janet Martin",
         19.580000000000013
        ],
        [
         "Janet Lee",
         54.510000000000005
        ],
        [
         "Jane Waco",
         2174.0400000000004
        ],
        [
         "Jamie Kunitz",
         1221.5600000000002
        ],
        [
         "Jamie Frazer",
         575.7799999999999
        ],
        [
         "James Lanier",
         209.11
        ],
        [
         "James Galang",
         1415.3600000000001
        ],
        [
         "Jack O'Briant",
         581.44
        ],
        [
         "Jack Lebron",
         -207.32
        ],
        [
         "Jack Garza",
         684.53
        ],
        [
         "Ivan Liston",
         1121.8300000000002
        ],
        [
         "Ivan Gibson",
         320.48
        ],
        [
         "Irene Maddox",
         514.2
        ],
        [
         "Ionia McGrath",
         975.78
        ],
        [
         "Hunter Lopez",
         5622.429999999999
        ],
        [
         "Hunter Glantz",
         804.6199999999999
        ],
        [
         "Hilary Holden",
         86.73
        ],
        [
         "Herbert Flentye",
         -14.349999999999994
        ],
        [
         "Henry MacAllister",
         116.78
        ],
        [
         "Henry Goldwyn",
         -2797.960000000001
        ],
        [
         "Henia Zydlo",
         -130.39000000000001
        ],
        [
         "Helen Wa55erman",
         2164.17
        ],
        [
         "Helen Andreada",
         98.46
        ],
        [
         "Heather Kirkland",
         956.95
        ],
        [
         "Heather Jas",
         98.66999999999999
        ],
        [
         "Harry Marie",
         2438.07
        ],
        [
         "Harry Greene",
         147.01
        ],
        [
         "Harold Ryan",
         1197.37
        ],
        [
         "Harold Pawlan",
         373.87000000000006
        ],
        [
         "Harold Engle",
         273.97
        ],
        [
         "Harold Dahlen",
         -136.32999999999998
        ],
        [
         "Hallie Redmond",
         185.4
        ],
        [
         "Guy Thornton",
         -6.139999999999999
        ],
        [
         "Guy Phonely",
         31.839999999999996
        ],
        [
         "Guy Armstrong",
         136.49000000000004
        ],
        [
         "Greg Tran",
         2163.29
        ],
        [
         "Greg Maxwell",
         188.46
        ],
        [
         "Greg Matthias",
         35.46999999999999
        ],
        [
         "Greg Hansen",
         -5.809999999999999
        ],
        [
         "Greg Guthrie",
         12.689999999999996
        ],
        [
         "Grant Thornton",
         -4108.66
        ],
        [
         "Grace Kelly",
         1448.59
        ],
        [
         "Giulietta Weimer",
         -268.54999999999995
        ],
        [
         "Giulietta Dortch",
         230.58999999999997
        ],
        [
         "Giulietta Baptist",
         1135.84
        ],
        [
         "Georgia Rosenberg",
         359.88
        ],
        [
         "George Zrebassa",
         828.1700000000001
        ],
        [
         "George Ashbrook",
         840.89
        ],
        [
         "Gene McClure",
         441.32
        ],
        [
         "Gene Hale",
         -95.49000000000001
        ],
        [
         "Ge 1234orge Bell",
         7.849999999999991
        ],
        [
         "Gary567 Hansen",
         -577.01
        ],
        [
         "Gary Zandusky",
         1088.15
        ],
        [
         "Gary Mitchum",
         793.2800000000001
        ],
        [
         "Gary McGarr",
         347.27000000000004
        ],
        [
         "Gary Hwang",
         1176.3899999999999
        ],
        [
         "Fred Wa55erman",
         23.5
        ],
        [
         "Fred McMath",
         191.08999999999997
        ],
        [
         "Fred Hopkins",
         2051.0100000000007
        ],
        [
         "Fred Harton",
         706.05
        ],
        [
         "Fred Chung",
         714.29
        ],
        [
         "Frank Preis",
         406.4599999999999
        ],
        [
         "Frank Olsen",
         215.58
        ],
        [
         "Frank Merwin",
         197.89000000000001
        ],
        [
         "Frank Hawley",
         13400.32
        ],
        [
         "Frank Carlisle",
         1217.18
        ],
        [
         "Frank Atkinson",
         520.3299999999999
        ],
        [
         "Fra9876nk Gasti  ;.,.,neau",
         394.95000000000005
        ],
        [
         "Filia McAdams",
         249.95
        ],
        [
         "Evan Minnotte",
         21.83
        ],
        [
         "Evan Henry",
         242.12
        ],
        [
         "Evan Bailliet",
         282.41
        ],
        [
         "Eva Jacobs",
         451.88
        ],
        [
         "Eugene Moren",
         1318.9500000000005
        ],
        [
         "Eugene Hildebrand",
         96.21000000000004
        ],
        [
         "Eugene Barchas",
         184.76
        ],
        [
         "Eudokia Martin",
         240.23000000000002
        ],
        [
         "Erin Smith",
         246.94
        ],
        [
         "Erin Creighton",
         96.44
        ],
        [
         "Erin Ashbrook",
         -52.55000000000001
        ],
        [
         "Erica Smith",
         1003.0799999999999
        ],
        [
         "Erica Hernandez",
         -94.72
        ],
        [
         "Erica Hackney",
         150.37
        ],
        [
         "Erica Bern",
         162.88000000000002
        ],
        [
         "Eric Murdock",
         102.3
        ],
        [
         "Eric Hoffmann",
         53.79000000000002
        ],
        [
         "Eric Barreto",
         0.4299999999999926
        ],
        [
         "Emily Phan",
         145.13000000000002
        ],
        [
         "Emily Grady",
         103.9
        ],
        [
         "Emily Burns",
         261.95
        ],
        [
         "Ellis Ballard",
         656.2
        ],
        [
         "Elizabeth Moffitt",
         682.5499999999998
        ],
        [
         "Eileen Kiefer",
         97.1
        ],
        [
         "Edward Nazzal",
         496.2199999999999
        ],
        [
         "Edward Hooks",
         1393.5000000000002
        ],
        [
         "Edward Becker",
         -80.28999999999999
        ],
        [
         "Ed Ludwig",
         27.11
        ],
        [
         "Ed Jacobs",
         -6964.03
        ],
        [
         "Ed Braxton",
         13.559999999999974
        ],
        [
         "Duane Noonan",
         540.53
        ],
        [
         "Duane Huffman",
         116.68
        ],
        [
         "Duane Benoit",
         177.94
        ],
        [
         "Doug O'Connell",
         293.84
        ],
        [
         "Doug Jacobs",
         731.5699999999999
        ],
        [
         "Doug Bickford",
         438.8
        ],
        [
         "Dorris liebe",
         175.22999999999996
        ],
        [
         "Dorothy Dickinson",
         36.440000000000005
        ],
        [
         "Dorothy Badders",
         109.62999999999998
        ],
        [
         "Don Weiss",
         69.66
        ],
        [
         "Don Miller",
         200.20000000000005
        ],
        [
         "Don Jones",
         345.26
        ],
        [
         "Dionis Lloyd",
         -52.390000000000015
        ],
        [
         "Dianna Wilson",
         1348.7500000000002
        ],
        [
         "Dianna Vittorini",
         353.09
        ],
        [
         "Dianna Arnett",
         56.78999999999999
        ],
        [
         "Denny Ordway",
         -38.329999999999984
        ],
        [
         "Denny Joy",
         483.03
        ],
        [
         "Denny Blanton",
         438.9199999999999
        ],
        [
         "Dennis Pardue",
         1571.8299999999997
        ],
        [
         "Dennis Kane",
         377.43
        ],
        [
         "Dennis Bolton",
         291.01000000000005
        ],
        [
         "Denise Monton",
         1319.0699999999997
        ],
        [
         "Denise Leinenbach",
         222.67999999999998
        ],
        [
         "Delfina Latchford",
         288.92
        ],
        [
         "Deirdre Greer",
         562.7700000000001
        ],
        [
         "Debra Catini",
         132.07
        ],
        [
         "Deborah Brumfield",
         841.84
        ],
        [
         "Dean perceR__#$#",
         333.3700000000003
        ],
        [
         "Dean Katz",
         210.26999999999998
        ],
        [
         "David Wiener",
         -86.97
        ],
        [
         "David Smith",
         163.66
        ],
        [
         "David Philippe",
         -40.94
        ],
        [
         "David K ';lendrick",
         250.27
        ],
        [
         "David Flashing",
         -259.31000000000006
        ],
        [
         "David Bremer",
         -1421.78
        ],
        [
         "Dave Poirier",
         562.95
        ],
        [
         "Dave Kipp",
         536.3900000000001
        ],
        [
         "Dave Hallsten",
         1193.74
        ],
        [
         "Dave Brooks",
         472.62999999999994
        ],
        [
         "Darrin Van Huff",
         -427.63
        ],
        [
         "Darrin Sayre",
         193.78
        ],
        [
         "Darrin Martin",
         1677.9800000000002
        ],
        [
         "Darren Powers",
         241.69
        ],
        [
         "Darren Koutras",
         -107.44999999999997
        ],
        [
         "Darren Budd",
         212.54000000000002
        ],
        [
         "Dario Medina",
         108.76
        ],
        [
         "Daniel Raglin",
         2869.08
        ],
        [
         "Daniel Lacy",
         4.390000000000033
        ],
        [
         "Daniel Byrd",
         431.37999999999994
        ],
        [
         "Dana Kaydos",
         925.97
        ],
        [
         "Dan Reichenbach",
         1641.5400000000002
        ],
        [
         "Dan Lawera",
         321.8500000000001
        ],
        [
         "Dan Campbell",
         -1441.2799999999997
        ],
        [
         "Damala Kotsonis",
         881.52
        ],
        [
         "Cyra Reiten",
         83.27
        ],
        [
         "Cynthia Voltz",
         98.7
        ],
        [
         "Cynthia Delaney",
         389.45
        ],
        [
         "Cynthia A;,.[]rntzen",
         203.73
        ],
        [
         "Cyma Kinney",
         -338.44
        ],
        [
         "Craig Yedwab",
         60.64
        ],
        [
         "Craig Reiter",
         306.92
        ],
        [
         "Craig M 876olinari",
         176.32000000000002
        ],
        [
         "Craig Leslie",
         229.0
        ],
        [
         "Craig Carroll",
         850.0300000000001
        ],
        [
         "Craig Carreira",
         187.88000000000002
        ],
        [
         "Corinna Mitchell",
         1572.44
        ],
        [
         "Corey-Lock",
         205.89999999999998
        ],
        [
         "Corey Roper",
         144.85000000000002
        ],
        [
         "Corey Catlett",
         331.27000000000004
        ],
        [
         "Clytie Kelty",
         491.12
        ],
        [
         "Clay Rozendal",
         74.4
        ],
        [
         "Clay Ludtke",
         1933.1799999999998
        ],
        [
         "Clay Cheatham",
         34.3
        ],
        [
         "Claudia Bergmann",
         1049.28
        ],
        [
         "Claire Gute",
         169.93
        ],
        [
         "Cindy Stewart",
         -6626.24
        ],
        [
         "Cindy Schnelling",
         -302.86
        ],
        [
         "Cindy Chapman",
         154.85
        ],
        [
         "Chuck Sachs",
         156.27
        ],
        [
         "Chuck Magee",
         63.970000000000006
        ],
        [
         "Chuck Clark",
         424.68000000000006
        ],
        [
         "Christy Brittain",
         272.4
        ],
        [
         "Christopher Schild",
         -342.8
        ],
        [
         "Christopher Martinez",
         3900.0299999999993
        ],
        [
         "Christopher Conant",
         2177.0699999999997
        ],
        [
         "Christine Sundaresam",
         831.94
        ],
        [
         "Christine Phan",
         -1850.31
        ],
        [
         "Christine Kargatis",
         261.23
        ],
        [
         "Christine Abelman",
         246.86
        ],
        [
         "Christina VanderZanden",
         493.09000000000003
        ],
        [
         "Christina DeMoss",
         233.48000000000002
        ],
        [
         "Christina Anderson",
         279.90000000000003
        ],
        [
         "Chris Selesnick",
         738.41
        ],
        [
         "Chris McAfee",
         365.03000000000003
        ],
        [
         "Chris Cortes",
         393.95
        ],
        [
         "Chloris Kastensmidt",
         141.59
        ],
        [
         "Charlotte Melton",
         91.21
        ],
        [
         "Charles Sheldon",
         113.14999999999999
        ],
        [
         "Charles McCrossin",
         -394.37
        ],
        [
         "Chad Sievert",
         143.83
        ],
        [
         "Chad McGuire",
         408.58
        ],
        [
         "Chad Cunningham",
         208.6
        ],
        [
         "Cathy Prescott",
         426.94
        ],
        [
         "Cathy Hwang",
         184.29000000000002
        ],
        [
         "Catherine Glotzbach",
         86.30999999999999
        ],
        [
         "Cassandra Brandow",
         150.50999999999996
        ],
        [
         "Caroline Jumper",
         858.75
        ],
        [
         "Carol Triggs",
         160.90000000000003
        ],
        [
         "Carol Darley",
         -206.71
        ],
        [
         "Carol Adams",
         1143.3899999999999
        ],
        [
         "Carlos Soltero",
         -126.61000000000001
        ],
        [
         "Carlos Meador",
         -43.73
        ],
        [
         "Carlos Daly",
         426.21
        ],
        [
         "Carl Weiss",
         370.83000000000004
        ],
        [
         "Carl Ludwig",
         328.08000000000004
        ],
        [
         "Carl Jackson",
         1.65
        ],
        [
         "Cari Schnelling",
         105.82000000000001
        ],
        [
         "Cari Sayre",
         185.55
        ],
        [
         "Candace McMahon",
         214.85000000000002
        ],
        [
         "C@thy Armstrong",
         211.64000000000001
        ],
        [
         "Bryan Spruell",
         194.05
        ],
        [
         "Bryan Mills",
         137.72
        ],
        [
         "Bryan Davis",
         141.28
        ],
        [
         "Bruce Stewart",
         -113.31
        ],
        [
         "Bruce Degenhardt",
         334.47
        ],
        [
         "Brosin34a Hoffman 09",
         789.6299999999998
        ],
        [
         "Brooke Gillingham",
         107.59
        ],
        [
         "Brian Thompson",
         447.81000000000006
        ],
        [
         "Brian Stugart",
         238.73000000000002
        ],
        [
         "Brian Moss",
         2198.83
        ],
        [
         "Brian Derr",
         141.43
        ],
        [
         "Brian DeCherney",
         207.02
        ],
        [
         "Brian Dahlen",
         634.8199999999999
        ],
        [
         "Brendan Sweed",
         381.39
        ],
        [
         "Brendan Murry",
         95.58000000000001
        ],
        [
         "Brendan Dodson",
         116.71
        ],
        [
         "Brenda Bowman",
         1014.6499999999999
        ],
        [
         "Bradley Talbott",
         409.49
        ],
        [
         "Bradley Nguyen",
         340.72
        ],
        [
         "Bradley Drucker",
         1142.1200000000001
        ],
        [
         "Brad Thomas",
         126.87
        ],
        [
         "Brad Norvell",
         36.61
        ],
        [
         "Brad Eason",
         139.2
        ],
        [
         "Bobby Trafton",
         -77.27000000000001
        ],
        [
         "Bobby Odegard",
         59.45
        ],
        [
         "Bobby Elias",
         755.91
        ],
        [
         "Bi1l Tyler",
         257.9
        ],
        [
         "Bi1l Stewart",
         -17.539999999999967
        ],
        [
         "Bi1l Overfelt",
         278.42999999999995
        ],
        [
         "Bi1l Eplett",
         1487.79
        ],
        [
         "Bi1l Donatelli",
         1094.51
        ],
        [
         "Bi 8761l Shonely",
         2616.4100000000003
        ],
        [
         "Beth Tho098-.,;;mpson",
         417.5799999999999
        ],
        [
         "Beth Paige",
         -318.84999999999997
        ],
        [
         "Beth Fritzler",
         25.870000000000005
        ],
        [
         "Berenike Kampe",
         -63.3
        ],
        [
         "Benjamin Venier",
         315.21999999999997
        ],
        [
         "Benjamin Patterson",
         -197.39000000000001
        ],
        [
         "Benjamin Farhat",
         523.09
        ],
        [
         "Ben Pet 987 -=erman",
         363.60999999999996
        ],
        [
         "Ben Ferrer",
         1938.6699999999998
        ],
        [
         "Becky Castell",
         251.19
        ],
        [
         "Bart Watters",
         921.3800000000001
        ],
        [
         "Bart Pistole",
         433.57
        ],
        [
         "Bart Folk",
         110.99
        ],
        [
         "Barry Weirich",
         -58.28999999999999
        ],
        [
         "Barry Pond",
         209.66000000000003
        ],
        [
         "Barry Gonzalez",
         -710.8000000000001
        ],
        [
         "Barry Französisch",
         301.44
        ],
        [
         "Barry Franz",
         -291.37
        ],
        [
         "Barry Blumstein",
         11.569999999999997
        ],
        [
         "Barbara Fisher",
         227.29999999999998
        ],
        [
         "B*#^%ruce Geld",
         119.33999999999999
        ],
        [
         "B         ecky Martin",
         -1659.97
        ],
        [
         "Astrea Jones",
         60.42
        ],
        [
         "Ashley Jarboe",
         521.14
        ],
        [
         "Arthur Wiediger",
         -104.45000000000003
        ],
        [
         "Arthur Prichep",
         579.6800000000001
        ],
        [
         "Arthur Gainer",
         343.67
        ],
        [
         "Art Foster",
         -163.13
        ],
        [
         "Art Ferguson",
         317.61999999999995
        ],
        [
         "Arianne Irving",
         867.8700000000001
        ],
        [
         "Anthony Rawles",
         495.07
        ],
        [
         "Anthony O'Donnell",
         12.1
        ],
        [
         "Anthony Johnson",
         1158.7099999999998
        ],
        [
         "Anthony Jacobs",
         150.72000000000006
        ],
        [
         "Anthony Garverick",
         -8.420000000000009
        ],
        [
         "Anth 34789ony Witt",
         65.77999999999999
        ],
        [
         "Annie Zypern",
         154.76999999999998
        ],
        [
         "Annie Thurman",
         974.5699999999999
        ],
        [
         "Anne Pryor",
         285.80000000000007
        ],
        [
         "Anne McFarland",
         969.05
        ],
        [
         "Anna Häberlin",
         1296.87
        ],
        [
         "Anna Gayman",
         -246.4
        ],
        [
         "Anna Chung",
         -28.700000000000003
        ],
        [
         "Anna Andreadi",
         857.8
        ],
        [
         "Ann Steele",
         136.60000000000002
        ],
        [
         "Ann Chong",
         298.61
        ],
        [
         "Ann Blume",
         -275.28000000000003
        ],
        [
         "Angele Hood",
         83.97
        ],
        [
         "Anemone Ratner",
         32.64
        ],
        [
         "Andy Yotov",
         103.34
        ],
        [
         "Andy Reiter",
         2884.61
        ],
        [
         "Andy Gerbode",
         -152.75
        ],
        [
         "Andrew Roberts",
         43.65
        ],
        [
         "Andrew Gjertsen",
         295.84000000000003
        ],
        [
         "Andrew Allen",
         436.0799999999999
        ],
        [
         "Amy Hunt",
         -195.99
        ],
        [
         "Amy Cox",
         1366.5
        ],
        [
         "Alyssa Tate",
         100.87
        ],
        [
         "Alyssa Crouse",
         -62.13
        ],
        [
         "Allen Rosenblatt",
         -98.52000000000001
        ],
        [
         "Allen Goldenen",
         69.27000000000001
        ],
        [
         "Allen Armold",
         277.4
        ],
        [
         "Alice McCarthy",
         194.98000000000002
        ],
        [
         "Alex Russell",
         -221.06000000000003
        ],
        [
         "Alex Grayson",
         -5.359999999999999
        ],
        [
         "Alex Avila",
         -362.91
        ],
        [
         "Aleksandra Gannaway",
         59.28000000000001
        ],
        [
         "Alejandro Savely",
         354.63
        ],
        [
         "Alejandro Grove",
         732.7500000000001
        ],
        [
         "Alejandro Ballentine",
         264.57
        ],
        [
         "Alan Shonely",
         33.69
        ],
        [
         "Alan Schoenberger",
         719.77
        ],
        [
         "Alan Hwang",
         1308.56
        ],
        [
         "Alan Haines",
         -378.03999999999996
        ],
        [
         "Alan Dominguez",
         1869.92
        ],
        [
         "Alan Barnes",
         220.60000000000002
        ],
        [
         "Aimee Bixby",
         313.66
        ],
        [
         "Adrian Shami",
         21.84
        ],
        [
         "Adrian Hane",
         -2.500000000000007
        ],
        [
         "Adrian Barton",
         5444.9699999999975
        ],
        [
         "Adam Shillingsburg",
         64.30999999999997
        ],
        [
         "Adam Bellavance",
         2054.6
        ],
        [
         "Ad.       ..am Hart",
         280.8
        ],
        [
         "Aaron Smayling",
         -253.58999999999995
        ],
        [
         "Aaron Hawkins",
         365.22
        ],
        [
         "Aaron Bergman",
         129.68
        ],
        [
         "6789Erin  Mull",
         40.03000000000001
        ],
        [
         "654Dean Braden",
         169.70999999999998
        ],
        [
         "5467Ben Wallace",
         247.0
        ],
        [
         ")(*&Sung Pak",
         567.1099999999999
        ],
        [
         "&^*(5678Shirley Daniels",
         1985.18
        ],
        [
         "\":[]|}-=Charles Crestani",
         392.29
        ],
        [
         " Shahi  Shariari",
         -1011.0799999999999
        ],
        [
         " Shahi  Hopkins",
         -144.51999999999998
        ],
        [
         " Elpida Rittenbach ",
         -295.33000000000004
        ],
        [
         " &&Tracy Blumstein",
         -1603.04
        ],
        [
         "  Shahi  Collister",
         -3164.0000000000005
        ],
        [
         "   _Mike Vitt 12313orini",
         273.99
        ],
        [
         "     Rac5467hel Payne",
         59.51999999999997
        ],
        [
         "       Kristi;'[]na Nunn",
         329.77
        ],
        [
         "         Helen Abelman",
         270.85
        ],
        [
         "         =--Katharine Harms",
         455.7
        ],
        [
         "             Dorothy Wardle",
         -266.9
        ]
       ],
       "datasetInfos": [
        {
         "name": "_sqldf",
         "schema": {
          "fields": [
           {
            "metadata": {},
            "name": "customer_name",
            "nullable": true,
            "type": "string"
           },
           {
            "metadata": {},
            "name": "profit",
            "nullable": true,
            "type": "double"
           }
          ],
          "type": "struct"
         },
         "tableIdentifier": null,
         "typeStr": "pyspark.sql.connect.dataframe.DataFrame"
        }
       ],
       "dbfsResultPath": null,
       "isJsonSchema": true,
       "metadata": {
        "createTempViewForImplicitDf": true,
        "dataframeName": "_sqldf",
        "executionCount": 143
       },
       "overflow": false,
       "plotOptions": {
        "customPlotOptions": {},
        "displayType": "table",
        "pivotAggregation": null,
        "pivotColumns": null,
        "xColumns": null,
        "yColumns": null
       },
       "removedWidgets": [],
       "schema": [
        {
         "metadata": "{}",
         "name": "customer_name",
         "type": "\"string\""
        },
        {
         "metadata": "{}",
         "name": "profit",
         "type": "\"double\""
        }
       ],
       "type": "table"
      }
     },
     "output_type": "display_data"
    }
   ],
   "source": [
    "%sql\n",
    "-- Create an aggregate table that shows profit by customer_name\n",
    "select customer_name, sum(profit)profit\n",
    "from prod.agg_orders\n",
    "group by 1\n",
    "order by 1 desc"
   ]
  },
  {
   "cell_type": "code",
   "execution_count": 0,
   "metadata": {
    "application/vnd.databricks.v1+cell": {
     "cellMetadata": {
      "byteLimit": 2048000,
      "implicitDf": true,
      "rowLimit": 10000
     },
     "inputWidgets": {},
     "nuid": "16d9de0f-217a-461b-b9d3-cdf1e9c3042e",
     "showTitle": false,
     "tableResultSettingsMap": {},
     "title": ""
    }
   },
   "outputs": [
    {
     "output_type": "display_data",
     "data": {
      "text/html": [
       "<style scoped>\n",
       "  .table-result-container {\n",
       "    max-height: 300px;\n",
       "    overflow: auto;\n",
       "  }\n",
       "  table, th, td {\n",
       "    border: 1px solid black;\n",
       "    border-collapse: collapse;\n",
       "  }\n",
       "  th, td {\n",
       "    padding: 5px;\n",
       "  }\n",
       "  th {\n",
       "    text-align: left;\n",
       "  }\n",
       "</style><div class='table-result-container'><table class='table-result'><thead style='background-color: white'><tr><th>order_year</th><th>customer_name</th><th>profit</th></tr></thead><tbody><tr><td>2017</td><td>Doug Jacobs</td><td>669.79</td></tr><tr><td>2017</td><td>Adam Shillingsburg</td><td>-331.65</td></tr><tr><td>2017</td><td>Dianna Wilson</td><td>162.99</td></tr><tr><td>2017</td><td>Eva Jacobs</td><td>140.01999999999998</td></tr><tr><td>2017</td><td>Emily Phan</td><td>2.6000000000000085</td></tr><tr><td>2017</td><td>Aimee Bixby</td><td>39.99999999999999</td></tr><tr><td>2017</td><td>Keith Dawkins</td><td>134.83999999999997</td></tr><tr><td>2017</td><td>Sanjit Engle</td><td>-236.82999999999998</td></tr><tr><td>2017</td><td>Ken Black</td><td>240.99</td></tr><tr><td>2017</td><td>Darrin Martin</td><td>106.77000000000001</td></tr><tr><td>2017</td><td>Linda Southworth</td><td>-350.0</td></tr><tr><td>2017</td><td>Alan Schoenberger</td><td>268.43</td></tr><tr><td>2017</td><td>Maureen Gastineau</td><td>14.180000000000005</td></tr><tr><td>2017</td><td>Katherine Ducich</td><td>20.36</td></tr><tr><td>2017</td><td>Greg Matthias</td><td>-57.12</td></tr><tr><td>2017</td><td>_12312Patrick Bzostek</td><td>125.36</td></tr><tr><td>2017</td><td>Bart Folk</td><td>107.03</td></tr><tr><td>2017</td><td>Shaun Chance</td><td>4.289999999999992</td></tr><tr><td>2017</td><td>Dave Hallsten</td><td>106.98</td></tr><tr><td>2017</td><td>Eileen Kiefer</td><td>6.07</td></tr><tr><td>2017</td><td>Trudy Schmidt</td><td>-110.04999999999998</td></tr><tr><td>2017</td><td>Anne Pryor</td><td>-11.07</td></tr><tr><td>2017</td><td>Greg Tran</td><td>83.62</td></tr><tr><td>2017</td><td>Bi1l Tyler</td><td>-14.99</td></tr><tr><td>2017</td><td>Ross DeVincentis</td><td>195.03000000000003</td></tr><tr><td>2017</td><td>Tom Prescott</td><td>-1060.7900000000002</td></tr><tr><td>2017</td><td>Gary Hwang</td><td>43.6</td></tr><tr><td>2017</td><td>Arthur Gainer</td><td>-71.97</td></tr><tr><td>2017</td><td>Alejandro Savely</td><td>23.26</td></tr><tr><td>2017</td><td>Liz Carlisle</td><td>-10.390000000000002</td></tr><tr><td>2017</td><td>Karl Braun</td><td>69.64</td></tr><tr><td>2017</td><td>Nancy Lomonaco</td><td>282.27000000000004</td></tr><tr><td>2017</td><td>David Wiener</td><td>-108.28</td></tr><tr><td>2017</td><td>Pete Armstrong</td><td>35.89</td></tr><tr><td>2017</td><td>Matt Collins</td><td>138.89999999999998</td></tr><tr><td>2017</td><td>Neoma Murray</td><td>2.82</td></tr><tr><td>2017</td><td>Michelle Lonsdale</td><td>138.72</td></tr><tr><td>2017</td><td>Kristen Hastings</td><td>217.49</td></tr><tr><td>2017</td><td>Alyssa Crouse</td><td>-69.06</td></tr><tr><td>2017</td><td>Sara Luxemburg</td><td>437.90999999999997</td></tr><tr><td>2017</td><td>             Dorothy Wardle</td><td>5.109999999999999</td></tr><tr><td>2017</td><td>Henry Goldwyn</td><td>-2971.38</td></tr><tr><td>2017</td><td>Chloris Kastensmidt</td><td>181.07999999999998</td></tr><tr><td>2017</td><td>David Bremer</td><td>-1136.72</td></tr><tr><td>2017</td><td>Toby Ritter</td><td>76.8</td></tr><tr><td>2017</td><td>Jocasta Rupert</td><td>107.98</td></tr><tr><td>2017</td><td>Robert Marley</td><td>1041.91</td></tr><tr><td>2017</td><td>Stefania Perrino</td><td>-165.80000000000004</td></tr><tr><td>2017</td><td>Patrick Jones</td><td>43.61</td></tr><tr><td>2017</td><td>Alejandro Grove</td><td>1.5</td></tr><tr><td>2017</td><td>Guy Thornton</td><td>-39.64</td></tr><tr><td>2017</td><td>Bi1l Donatelli</td><td>197.79</td></tr><tr><td>2017</td><td>Trudy Brown</td><td>233.35</td></tr><tr><td>2017</td><td>Helen Andreada</td><td>12.71</td></tr><tr><td>2017</td><td>Sung Shariari</td><td>14.82</td></tr><tr><td>2017</td><td>Tonja Turnell</td><td>840.99</td></tr><tr><td>2017</td><td>Liz Preis</td><td>259.1</td></tr><tr><td>2017</td><td>Ge 1234orge Bell</td><td>44.29</td></tr><tr><td>2017</td><td>Brian DeCherney</td><td>78.1</td></tr><tr><td>2017</td><td>Theresa Coyne</td><td>265.59</td></tr><tr><td>2017</td><td>Jennifer Halladay</td><td>-42.85</td></tr><tr><td>2017</td><td>Ben Pet 987 -=erman</td><td>330.74</td></tr><tr><td>2017</td><td>Rick Wi 4567@#$lson</td><td>1660.8499999999995</td></tr><tr><td>2017</td><td>Ed Jacobs</td><td>423.71999999999997</td></tr><tr><td>2017</td><td>Ryan Crowe</td><td>6.04</td></tr><tr><td>2017</td><td>Ken Heidel</td><td>66.92999999999999</td></tr><tr><td>2017</td><td>Roland Fjeld</td><td>391.47</td></tr><tr><td>2017</td><td>Denise Monton</td><td>1374.42</td></tr><tr><td>2017</td><td>Tony Molinari</td><td>292.53</td></tr><tr><td>2017</td><td>Kelly Andreada</td><td>39.94</td></tr><tr><td>2017</td><td>Thea Hendricks</td><td>10.05</td></tr><tr><td>2017</td><td>Bryan Davis</td><td>30.580000000000002</td></tr><tr><td>2017</td><td>Charlotte Melton</td><td>74.32</td></tr><tr><td>2017</td><td>&^*(5678Shirley Daniels</td><td>-113.2</td></tr><tr><td>2017</td><td>John Dryer</td><td>10.49</td></tr><tr><td>2017</td><td>Nat Gilpin</td><td>86.5</td></tr><tr><td>2017</td><td>Joni Wa55erman</td><td>170.87</td></tr><tr><td>2017</td><td>Sean Miller</td><td>34.28</td></tr><tr><td>2017</td><td>Art Ferguson</td><td>-75.19000000000001</td></tr><tr><td>2017</td><td>Claire Gute</td><td>1.82</td></tr><tr><td>2017</td><td>Justin Deggeller</td><td>1116.33</td></tr><tr><td>2017</td><td>Michelle Arnett</td><td>31.94</td></tr><tr><td>2017</td><td>Meg Tillman</td><td>74.97</td></tr><tr><td>2017</td><td>Don Weiss</td><td>53.650000000000006</td></tr><tr><td>2017</td><td>Ralph Arnett</td><td>317.48</td></tr><tr><td>2017</td><td>Brian Thompson</td><td>35.43</td></tr><tr><td>2017</td><td>Adrian Barton</td><td>340.64</td></tr><tr><td>2017</td><td>Sean Christensen</td><td>98.25000000000001</td></tr><tr><td>2017</td><td>Sandra Glassco</td><td>218.25</td></tr><tr><td>2017</td><td>Eugene Hildebrand</td><td>265.62</td></tr><tr><td>2017</td><td>Robert Waldorf</td><td>710.18</td></tr><tr><td>2017</td><td>Barry Pond</td><td>24.18</td></tr><tr><td>2017</td><td>Sarah Jordon</td><td>-26.04</td></tr><tr><td>2017</td><td>Cassandra Brandow</td><td>-239.46</td></tr><tr><td>2017</td><td>George Zrebassa</td><td>816.1700000000001</td></tr><tr><td>2017</td><td>Mick Hernandez</td><td>387.2</td></tr><tr><td>2017</td><td>Fred Wa55erman</td><td>5.81</td></tr><tr><td>2017</td><td>Pete@#$ Takahito</td><td>5.5</td></tr><tr><td>2017</td><td>Joe Kamberova</td><td>30.95</td></tr><tr><td>2017</td><td>Christopher Conant</td><td>93.73</td></tr><tr><td>2017</td><td>Jesus Ocampo</td><td>13.22</td></tr><tr><td>2017</td><td>Delfina Latchford</td><td>94.23</td></tr><tr><td>2017</td><td>[]-=;''Becky Pak</td><td>26.240000000000002</td></tr><tr><td>2017</td><td>Pamela Coakley</td><td>-0.99</td></tr><tr><td>2017</td><td>Cyra Reiten</td><td>81.14</td></tr><tr><td>2017</td><td>Carol Adams</td><td>16.479999999999997</td></tr><tr><td>2017</td><td>Andrew Roberts</td><td>5.18</td></tr><tr><td>2017</td><td>Katherine Hughes</td><td>502.49999999999994</td></tr><tr><td>2017</td><td>Justin Ellison</td><td>13.670000000000002</td></tr><tr><td>2017</td><td>Tom Ashbrook</td><td>4599.2</td></tr><tr><td>2017</td><td>Julie Prescott</td><td>19.51</td></tr><tr><td>2017</td><td>Fred Hopkins</td><td>76.82</td></tr><tr><td>2017</td><td>         Helen Abelman</td><td>-79.0</td></tr><tr><td>2017</td><td>Bart Watters</td><td>720.83</td></tr><tr><td>2017</td><td>Tamara Dahlen</td><td>13.680000000000001</td></tr><tr><td>2017</td><td>Caroline Jumper</td><td>-524.22</td></tr><tr><td>2017</td><td>Maribeth Yedwab</td><td>283.44</td></tr><tr><td>2017</td><td>Duane Noonan</td><td>138.42</td></tr><tr><td>2017</td><td>Scott Cohen</td><td>200.26</td></tr><tr><td>2017</td><td>Rich.-=%&*ard Eichhorn</td><td>9.74</td></tr><tr><td>2017</td><td>Michael Kennedy</td><td>7.01</td></tr><tr><td>2017</td><td>Becky Castell</td><td>58.79999999999999</td></tr><tr><td>2017</td><td>Matt Abelman</td><td>30.13</td></tr><tr><td>2017</td><td>Grace Kelly</td><td>3.45</td></tr><tr><td>2017</td><td>Laurel Elliston</td><td>-10.240000000000007</td></tr><tr><td>2017</td><td>Pauline Johnson</td><td>609.4300000000001</td></tr><tr><td>2017</td><td>Ross Baird</td><td>-502.56000000000006</td></tr><tr><td>2017</td><td>Aaron Hawkins</td><td>2.34</td></tr><tr><td>2017</td><td>Christy Brittain</td><td>74.22999999999999</td></tr><tr><td>2017</td><td>Erin Ashbrook</td><td>21.83</td></tr><tr><td>2017</td><td>Paul Prost</td><td>247.93</td></tr><tr><td>2017</td><td>Khloe Miller</td><td>41.49</td></tr><tr><td>2017</td><td>Carl Weiss</td><td>309.79999999999995</td></tr><tr><td>2017</td><td>Paul Lucas</td><td>-18.95</td></tr><tr><td>2017</td><td>Bruce Degenhardt</td><td>166.98000000000002</td></tr><tr><td>2017</td><td>Stewart Carmichael</td><td>-84.83</td></tr><tr><td>2017</td><td>Laurel Beltran</td><td>627.99</td></tr><tr><td>2017</td><td>Alejandro Ballentine</td><td>197.67</td></tr><tr><td>2017</td><td>Frank Preis</td><td>49.32</td></tr><tr><td>2017</td><td>Ed Braxton</td><td>10.600000000000012</td></tr><tr><td>2017</td><td>Phillip Flathmann</td><td>78.02</td></tr><tr><td>2017</td><td>Lena Radford</td><td>-272.58</td></tr><tr><td>2017</td><td>Sam Zeldin</td><td>50.42</td></tr><tr><td>2017</td><td>Toby Carlisle</td><td>231.67000000000002</td></tr><tr><td>2017</td><td>Gary Zandusky</td><td>259.09999999999997</td></tr><tr><td>2017</td><td>Valerie Mitchum</td><td>67.41</td></tr><tr><td>2017</td><td>Bart Pistole</td><td>228.62999999999997</td></tr><tr><td>2017</td><td>Evan Minnotte</td><td>17.83</td></tr><tr><td>2017</td><td>Dean perceR__#$#</td><td>-1031.1200000000001</td></tr><tr><td>2017</td><td>Phillina Ober</td><td>28.799999999999997</td></tr><tr><td>2017</td><td>Sandra Flanagan</td><td>110.13000000000001</td></tr><tr><td>2017</td><td>Roland Schwarz</td><td>649.3800000000001</td></tr><tr><td>2017</td><td>Brosin34a Hoffman 09</td><td>119.50999999999999</td></tr><tr><td>2017</td><td>Karen Ferguson</td><td>1206.84</td></tr><tr><td>2017</td><td>Maya Herman</td><td>3.35</td></tr><tr><td>2017</td><td>Toby Gnade</td><td>35.86</td></tr><tr><td>2017</td><td>Harry Marie</td><td>-16.56</td></tr><tr><td>2017</td><td>Xylona Preis</td><td>80.12</td></tr><tr><td>2017</td><td>Dionis Lloyd</td><td>-200.58</td></tr><tr><td>2017</td><td>Daniel Raglin</td><td>211.97</td></tr><tr><td>2017</td><td>Luke Schmidt</td><td>57.82</td></tr><tr><td>2017</td><td>Giulietta Dortch</td><td>364.22999999999996</td></tr><tr><td>2017</td><td>Mary O'Rourke</td><td>-67.54</td></tr><tr><td>2017</td><td>N0ra Paige</td><td>186.20999999999998</td></tr><tr><td>2017</td><td>Fred Harton</td><td>340.37</td></tr><tr><td>2017</td><td>Mick Crebagga</td><td>26.699999999999996</td></tr><tr><td>2017</td><td>Giulietta Weimer</td><td>-451.09000000000003</td></tr><tr><td>2017</td><td>6789Erin  Mull</td><td>-14.440000000000001</td></tr><tr><td>2017</td><td>Darren Budd</td><td>64.81</td></tr><tr><td>2017</td><td>Sanjit Chand</td><td>5.84</td></tr><tr><td>2017</td><td>Bobby Odegard</td><td>57.38</td></tr><tr><td>2017</td><td>Vivian Mathis</td><td>6.97</td></tr><tr><td>2017</td><td>Ricardo Sperren</td><td>300.1</td></tr><tr><td>2017</td><td>Michael Dominguez</td><td>43.31</td></tr><tr><td>2017</td><td>Chris Selesnick</td><td>174.26</td></tr><tr><td>2017</td><td>Jim Kriz</td><td>981.6700000000001</td></tr><tr><td>2017</td><td>Sample Company A</td><td>91.44999999999999</td></tr><tr><td>2017</td><td>Olvera Toch</td><td>175.54999999999998</td></tr><tr><td>2017</td><td>Kean Thornton</td><td>34.32000000000001</td></tr><tr><td>2017</td><td>Jim Epp</td><td>1703.5700000000002</td></tr><tr><td>2017</td><td>Nick Zandusky</td><td>102.32</td></tr><tr><td>2017</td><td>Jill Matthias</td><td>-0.6</td></tr><tr><td>2017</td><td>Matt Hagelstein</td><td>108.05</td></tr><tr><td>2017</td><td>Clay Cheatham</td><td>34.3</td></tr><tr><td>2017</td><td>Darren Koutras</td><td>-22.940000000000005</td></tr><tr><td>2017</td><td>Adam Bellavance</td><td>477.84</td></tr><tr><td>2017</td><td>Allen Rosenblatt</td><td>-221.58</td></tr><tr><td>2017</td><td>Sean Braxton</td><td>-907.0500000000001</td></tr><tr><td>2017</td><td>Heather Jas</td><td>13.97</td></tr><tr><td>2017</td><td>Nat Carroll</td><td>216.57</td></tr><tr><td>2017</td><td>Joy Smith</td><td>-766.5699999999999</td></tr><tr><td>2017</td><td>Lauren Leatherbury</td><td>44.72</td></tr><tr><td>2017</td><td>Ann Blume</td><td>-256.46000000000004</td></tr><tr><td>2017</td><td>Harold Pawlan</td><td>293.88</td></tr><tr><td>2017</td><td>Russell Applegate</td><td>29.55</td></tr><tr><td>2017</td><td>Bradley Drucker</td><td>762.06</td></tr><tr><td>2017</td><td>Eric Hoffmann</td><td>34.4</td></tr><tr><td>2017</td><td>Nick Radford</td><td>48.059999999999995</td></tr><tr><td>2017</td><td>Ann Steele</td><td>69.09</td></tr><tr><td>2017</td><td>Paul  4567Van Hugh</td><td>283.49</td></tr><tr><td>2017</td><td>Sue Ann Reed</td><td>177.85</td></tr><tr><td>2017</td><td>Nathan Mautz</td><td>4.35</td></tr><tr><td>2017</td><td>Ralph Kennedy</td><td>4.11</td></tr><tr><td>2017</td><td>Catherine Glotzbach</td><td>21.87</td></tr><tr><td>2017</td><td>B         ecky Martin</td><td>99.9</td></tr><tr><td>2017</td><td>Ed Ludwig</td><td>18.45</td></tr><tr><td>2017</td><td>Troy Staebel</td><td>-10.11</td></tr><tr><td>2017</td><td>Jeremy Ellison</td><td>33.59</td></tr><tr><td>2017</td><td>David Smith</td><td>-29.560000000000002</td></tr><tr><td>2017</td><td>Maris LaWare</td><td>-345.71</td></tr><tr><td>2017</td><td>Jill Fjeld</td><td>-1.489999999999994</td></tr><tr><td>2017</td><td>Ralph Ritter</td><td>-77.3</td></tr><tr><td>2017</td><td>Corinna Mitchell</td><td>855.9300000000001</td></tr><tr><td>2017</td><td>Natalie DeCherney</td><td>-84.03</td></tr><tr><td>2017</td><td>John Lee</td><td>837.22</td></tr><tr><td>2017</td><td>Bradley Talbott</td><td>347.1</td></tr><tr><td>2017</td><td>Cynthia Voltz</td><td>134.09</td></tr><tr><td>2017</td><td>Darrin Van Huff</td><td>-445.11</td></tr><tr><td>2017</td><td>Beth Paige</td><td>-183.0</td></tr><tr><td>2017</td><td>Aaron Smayling</td><td>-377.96000000000004</td></tr><tr><td>2017</td><td>Dan Lawera</td><td>-6.9</td></tr><tr><td>2017</td><td>Juliana Krohn</td><td>357.77</td></tr><tr><td>2017</td><td>Roger Demir</td><td>78.99000000000001</td></tr><tr><td>2017</td><td>Evan Bailliet</td><td>3.52</td></tr><tr><td>2017</td><td>Christina DeMoss</td><td>233.48000000000002</td></tr><tr><td>2017</td><td>Ruben Ausman</td><td>510.7699999999999</td></tr><tr><td>2017</td><td>Frank Olsen</td><td>-70.97999999999999</td></tr><tr><td>2017</td><td>Chuck Sachs</td><td>156.27</td></tr><tr><td>2017</td><td>Joe Elijah</td><td>60.42</td></tr><tr><td>2017</td><td>       Kristi;'[]na Nunn</td><td>301.87999999999994</td></tr><tr><td>2017</td><td>Jamie Frazer</td><td>347.08000000000004</td></tr><tr><td>2017</td><td>Edward Hooks</td><td>405.82</td></tr><tr><td>2017</td><td>Kelly Collister</td><td>24.48</td></tr><tr><td>2017</td><td>Zuschuss Carroll</td><td>62.339999999999975</td></tr><tr><td>2017</td><td>Michelle Huthwaite</td><td>374.93</td></tr><tr><td>2017</td><td>Alice McCarthy</td><td>-1.5699999999999923</td></tr><tr><td>2017</td><td>Muhammed Lee</td><td>41.51</td></tr><tr><td>2017</td><td>George Ashbrook</td><td>139.07</td></tr><tr><td>2017</td><td>Ken Lonsdale</td><td>161.72</td></tr><tr><td>2017</td><td>  Shahi  Collister</td><td>270.2900000000001</td></tr><tr><td>2017</td><td>Fred McMath</td><td>38.7</td></tr><tr><td>2017</td><td>Troy Blackwell</td><td>1.37</td></tr><tr><td>2017</td><td>Dario Medina</td><td>7.14</td></tr><tr><td>2017</td><td>Gary Mitchum</td><td>374.61</td></tr><tr><td>2017</td><td>Erica Smith</td><td>871.8199999999999</td></tr><tr><td>2017</td><td>Craig Carreira</td><td>114.35</td></tr><tr><td>2017</td><td>Anthony Jacobs</td><td>208.05</td></tr><tr><td>2017</td><td>Karen Seio</td><td>-6.379999999999999</td></tr><tr><td>2017</td><td>Jeremy Lonsdale</td><td>529.02</td></tr><tr><td>2017</td><td>Janet Molinari</td><td>149.28</td></tr><tr><td>2017</td><td>Yoseph Carroll</td><td>37.53</td></tr><tr><td>2017</td><td>Jasper Cacioppo</td><td>2.4</td></tr><tr><td>2017</td><td>Ellis Ballard</td><td>81.7</td></tr><tr><td>2017</td><td>Don Jones</td><td>57.31999999999999</td></tr><tr><td>2017</td><td>Lisa Ryan</td><td>99.27</td></tr><tr><td>2017</td><td>Thomas Brumley</td><td>13.979999999999999</td></tr><tr><td>2017</td><td>Clay Rozendal</td><td>108.8</td></tr><tr><td>2017</td><td>Sarah Brown</td><td>13.319999999999999</td></tr><tr><td>2017</td><td>Anne McFarland</td><td>392.01</td></tr><tr><td>2017</td><td>Benjamin Venier</td><td>105.93999999999998</td></tr><tr><td>2017</td><td>Trudy Glocke</td><td>84.42</td></tr><tr><td>2017</td><td>Shirley Jackson</td><td>-243.16</td></tr><tr><td>2017</td><td>Theone Pippenger</td><td>753.7600000000001</td></tr><tr><td>2017</td><td>Benjamin Patterson</td><td>20.58</td></tr><tr><td>2017</td><td>Christina Anderson</td><td>119.67000000000002</td></tr><tr><td>2017</td><td>Natalie Fritzler</td><td>163.45999999999998</td></tr><tr><td>2017</td><td>Gary567 Hansen</td><td>-496.24</td></tr><tr><td>2017</td><td>)(*&Sung Pak</td><td>11.84</td></tr><tr><td>2017</td><td>Thomas Seio</td><td>286.36</td></tr><tr><td>2017</td><td>Frank Hawley</td><td>12936.860000000002</td></tr><tr><td>2017</td><td>Larry Tron</td><td>23.23</td></tr><tr><td>2017</td><td>Muhammed YeDwab#</td><td>21.59</td></tr><tr><td>2017</td><td>Dennis Kane</td><td>2.650000000000004</td></tr><tr><td>2017</td><td>Mick Brown</td><td>67.85</td></tr><tr><td>2017</td><td>Neola Schneider</td><td>-31.859999999999985</td></tr><tr><td>2017</td><td>Alan Haines</td><td>-16.58</td></tr><tr><td>2017</td><td>Chuck Clark</td><td>108.97</td></tr><tr><td>2017</td><td>Charles Sheldon</td><td>-3.3100000000000014</td></tr><tr><td>2017</td><td>Rob Beeghly</td><td>82.87</td></tr><tr><td>2017</td><td>Brad Eason</td><td>-52.07</td></tr><tr><td>2017</td><td>Liz Thompson</td><td>-22.02</td></tr><tr><td>2017</td><td>Sharelle Roach</td><td>-3391.66</td></tr><tr><td>2017</td><td>Patrick Ryan</td><td>5555.93</td></tr><tr><td>2017</td><td>Ted Trevino</td><td>422.92999999999995</td></tr><tr><td>2017</td><td>Mathew Reese</td><td>153.34</td></tr><tr><td>2017</td><td>Deborah Brumfield</td><td>-15.549999999999994</td></tr><tr><td>2017</td><td> Shahi  Hopkins</td><td>106.91</td></tr><tr><td>2017</td><td>Magdelene Morse</td><td>-39.46</td></tr><tr><td>2017</td><td>Joseph Holt</td><td>68.87</td></tr><tr><td>2017</td><td>Brian Dahlen</td><td>87.99</td></tr><tr><td>2017</td><td>Patricia Hirasaki</td><td>47.89</td></tr><tr><td>2017</td><td>Saphhira Shifley</td><td>387.73</td></tr><tr><td>2017</td><td>Clay Ludtke</td><td>529.6</td></tr><tr><td>2017</td><td>Michael Stewart</td><td>-20.380000000000003</td></tr><tr><td>2017</td><td>Matthew Clasen</td><td>-317.03000000000003</td></tr><tr><td>2017</td><td>Michael Oakman</td><td>-2.7</td></tr><tr><td>2017</td><td>Denny Blanton</td><td>172.59</td></tr><tr><td>2017</td><td>Dorothy Badders</td><td>101.27999999999999</td></tr><tr><td>2017</td><td>Sylvia Foulston</td><td>8.489999999999998</td></tr><tr><td>2017</td><td>Anthony Johnson</td><td>255.24</td></tr><tr><td>2017</td><td>Tracy Hopkins</td><td>-990.1699999999998</td></tr><tr><td>2017</td><td>Tom Stivers</td><td>14.71</td></tr><tr><td>2017</td><td>Michelle Ellison</td><td>-6.4</td></tr><tr><td>2017</td><td>Noel Staavos</td><td>-99.52</td></tr><tr><td>2017</td><td>Elizabeth Moffitt</td><td>444.40999999999997</td></tr><tr><td>2017</td><td>Hunter Lopez</td><td>5045.86</td></tr><tr><td>2017</td><td>Christina VanderZanden</td><td>277.62</td></tr><tr><td>2017</td><td>Steve Carroll</td><td>15.12</td></tr><tr><td>2017</td><td>Joel Eaton</td><td>560.58</td></tr><tr><td>2017</td><td>Brendan Murry</td><td>-51.19</td></tr><tr><td>2017</td><td>Julia Barnett</td><td>9.89</td></tr><tr><td>2017</td><td>Sanjit Jacobs</td><td>-56.59000000000001</td></tr><tr><td>2017</td><td>Ivan Gibson</td><td>92.92</td></tr><tr><td>2017</td><td>Julia Dunbar</td><td>131.89000000000001</td></tr><tr><td>2017</td><td>Cindy Chapman</td><td>40.35000000000001</td></tr><tr><td>2017</td><td>UNKNOWN</td><td>262.9600000000001</td></tr><tr><td>2017</td><td>Susan Pistek</td><td>-18.550000000000004</td></tr><tr><td>2017</td><td>Rob Williams</td><td>321.91</td></tr><tr><td>2017</td><td>Rick Reed</td><td>99.94</td></tr><tr><td>2017</td><td>Liz Pelletier</td><td>87.89</td></tr><tr><td>2017</td><td>Dorris liebe</td><td>-0.33000000000000007</td></tr><tr><td>2017</td><td>Barry Französisch</td><td>4.600000000000001</td></tr><tr><td>2017</td><td>Kat rina Willman</td><td>123.13000000000001</td></tr><tr><td>2017</td><td>Kelly Lampkin</td><td>-163.66</td></tr><tr><td>2017</td><td>Katherine Nockton</td><td>10.26</td></tr><tr><td>2017</td><td>Denny Ordway</td><td>83.17</td></tr><tr><td>2017</td><td>Jane Waco</td><td>1953.59</td></tr><tr><td>2017</td><td>Linda Cazamias</td><td>12.039999999999997</td></tr><tr><td>2017</td><td>Carlos Daly</td><td>349.82</td></tr><tr><td>2017</td><td>Ryan Akin</td><td>-105.5</td></tr><tr><td>2017</td><td>Erin Smith</td><td>239.29</td></tr><tr><td>2017</td><td>Frank Atkinson</td><td>252.38</td></tr><tr><td>2017</td><td>Brad Norvell</td><td>7.84</td></tr><tr><td>2017</td><td>Russell D'Ascenzo</td><td>19.33</td></tr><tr><td>2017</td><td>Stephanie Ulpright</td><td>623.11</td></tr><tr><td>2017</td><td>Janet Martin</td><td>-135.65</td></tr><tr><td>2017</td><td>Rob Dowd</td><td>66.27</td></tr><tr><td>2017</td><td>Doug Bickford</td><td>60.5</td></tr><tr><td>2017</td><td>Damala Kotsonis</td><td>349.28</td></tr><tr><td>2017</td><td>Henia Zydlo</td><td>-136.68</td></tr><tr><td>2017</td><td>Lena Hernandez</td><td>65.22</td></tr><tr><td>2017</td><td>Matthew Grinstein</td><td>112.69000000000001</td></tr><tr><td>2017</td><td>Lori Olson</td><td>115.71</td></tr><tr><td>2017</td><td>Cari Schnelling</td><td>14.920000000000002</td></tr><tr><td>2017</td><td>Ashley Jarboe</td><td>167.94</td></tr><tr><td>2017</td><td>Barbara Fisher</td><td>6.97</td></tr><tr><td>2017</td><td>Mark Hamilton</td><td>84.94</td></tr><tr><td>2017</td><td>Arthur Prichep</td><td>-179.85999999999999</td></tr><tr><td>2017</td><td>Dianna Arnett</td><td>35.07</td></tr><tr><td>2017</td><td>   _Mike Vitt 12313orini</td><td>21.47</td></tr><tr><td>2017</td><td>Harold Ryan</td><td>1000.69</td></tr><tr><td>2017</td><td>Thea Hudgings</td><td>-181.36</td></tr><tr><td>2017</td><td>B*#^%ruce Geld</td><td>41.76</td></tr><tr><td>2017</td><td>Seth Vernon</td><td>1570.9400000000003</td></tr><tr><td>2017</td><td>Peter Bühler</td><td>13.19</td></tr><tr><td>2017</td><td>5467Ben Wallace</td><td>-14.110000000000001</td></tr><tr><td>2017</td><td>Laura Armstrong</td><td>16.07</td></tr><tr><td>2017</td><td>Julie Creighton</td><td>62.3</td></tr><tr><td>2017</td><td>Anna Gayman</td><td>61.150000000000006</td></tr><tr><td>2017</td><td>Claudia Bergmann</td><td>341.51</td></tr><tr><td>2017</td><td>Amy Cox</td><td>876.48</td></tr><tr><td>2017</td><td>Tracy Zic</td><td>1.34</td></tr><tr><td>2017</td><td>Dennis Pardue</td><td>17.25</td></tr><tr><td>2017</td><td>Keith Herrera</td><td>431.2900000000001</td></tr><tr><td>2017</td><td>Herbert Flentye</td><td>20.490000000000002</td></tr><tr><td>2017</td><td>Jonathan Howell</td><td>-125.37</td></tr><tr><td>2017</td><td>John Castell</td><td>117.31</td></tr><tr><td>2017</td><td>Larry Hughes</td><td>17.67</td></tr><tr><td>2017</td><td>654Dean Braden</td><td>277.96999999999997</td></tr><tr><td>2017</td><td>Andrew Gjertsen</td><td>25.05</td></tr><tr><td>2017</td><td>Sonia Cooley</td><td>70.27</td></tr><tr><td>2017</td><td>Victoria Pisteka</td><td>-964.48</td></tr><tr><td>2017</td><td>Daniel Lacy</td><td>24.87</td></tr><tr><td>2017</td><td>Maria Etezadi</td><td>74.0</td></tr><tr><td>2017</td><td>Eugene Barchas</td><td>-47.4</td></tr><tr><td>2017</td><td>Jennifer Patt</td><td>10.659999999999997</td></tr><tr><td>2017</td><td>Paul Gonzalez</td><td>220.26</td></tr><tr><td>2017</td><td>Hilary Holden</td><td>26.46</td></tr><tr><td>2017</td><td>Peter McVee</td><td>69.6</td></tr><tr><td>2017</td><td>Jason Klamczynski</td><td>26.35</td></tr><tr><td>2017</td><td>James Galang</td><td>69.85</td></tr><tr><td>2017</td><td>Pauline Webber</td><td>333.8</td></tr><tr><td>2017</td><td>Anthony Rawles</td><td>105.07000000000001</td></tr><tr><td>2017</td><td>Alan Hwang</td><td>946.65</td></tr><tr><td>2017</td><td>Berenike Kampe</td><td>21.450000000000003</td></tr><tr><td>2017</td><td>Nick Crebassa</td><td>607.03</td></tr><tr><td>2017</td><td>Jim Mi....tchum</td><td>43.58</td></tr><tr><td>2017</td><td>Robert Dilbeck</td><td>757.41</td></tr><tr><td>2017</td><td>Mitch Webber</td><td>8.49</td></tr><tr><td>2017</td><td>Edward Nazzal</td><td>6.55</td></tr><tr><td>2017</td><td>David K ';lendrick</td><td>171.77</td></tr><tr><td>2017</td><td>Adrian Hane</td><td>322.55999999999995</td></tr><tr><td>2017</td><td>Jeremy Farry</td><td>36.980000000000004</td></tr><tr><td>2017</td><td>Astrea Jones</td><td>2.77</td></tr><tr><td>2017</td><td>Alan Shonely</td><td>-31.92</td></tr><tr><td>2017</td><td>Thomas Thornton</td><td>147.47</td></tr><tr><td>2017</td><td>Sarah Foster</td><td>294.84000000000003</td></tr><tr><td>2017</td><td>Sean O'Donnell</td><td>200.88</td></tr><tr><td>2017</td><td>Edward Becker</td><td>-397.51</td></tr><tr><td>2017</td><td>Jeremy Pistek</td><td>422.26000000000005</td></tr><tr><td>2017</td><td>Katherine Murray</td><td>-140.7</td></tr><tr><td>2017</td><td>Tracy P 908765oddar</td><td>-0.03999999999999915</td></tr><tr><td>2017</td><td>Bi1l Eplett</td><td>1440.55</td></tr><tr><td>2017</td><td>Roy Französisch</td><td>-0.3000000000000007</td></tr><tr><td>2017</td><td>Eudokia Martin</td><td>16.93</td></tr><tr><td>2017</td><td>Amy Hunt</td><td>147.87</td></tr><tr><td>2017</td><td>Benjamin Farhat</td><td>328.37</td></tr><tr><td>2017</td><td>Chad McGuire</td><td>400.46999999999997</td></tr><tr><td>2017</td><td>Jason Gross</td><td>26.519999999999996</td></tr><tr><td>2017</td><td>Dana Kaydos</td><td>316.38</td></tr><tr><td>2017</td><td>Alyssa Tate</td><td>96.13000000000001</td></tr><tr><td>2017</td><td>Ann Chong</td><td>330.91</td></tr><tr><td>2017</td><td>Laurel Workman</td><td>2.32</td></tr><tr><td>2017</td><td>Ruben Dartt</td><td>82.83</td></tr><tr><td>2017</td><td>Matt Connell</td><td>121.69</td></tr><tr><td>2017</td><td>Brendan Sweed</td><td>168.47</td></tr><tr><td>2017</td><td>Monica Federle</td><td>287.24</td></tr><tr><td>2017</td><td>Duane Benoit</td><td>199.44</td></tr><tr><td>2017</td><td>Michelle Moray</td><td>-403.7699999999999</td></tr><tr><td>2017</td><td>Joy Bell-</td><td>111.08999999999999</td></tr><tr><td>2017</td><td>Lynn Smith</td><td>52.59</td></tr><tr><td>2017</td><td>Cathy Prescott</td><td>230.57</td></tr><tr><td>2017</td><td>Greg Maxwell</td><td>-99.18</td></tr><tr><td>2017</td><td>Henry MacAllister</td><td>41.23</td></tr><tr><td>2017</td><td>Muhammed MacIntyre</td><td>33.04</td></tr><tr><td>2017</td><td>Tho   12 =-.mas Boland</td><td>829.65</td></tr><tr><td>2017</td><td>Anthony Garverick</td><td>-66.01</td></tr><tr><td>2017</td><td>Jim Sink</td><td>45.120000000000005</td></tr><tr><td>2017</td><td>Annie Thurman</td><td>111.72</td></tr><tr><td>2017</td><td>Bobby Elias</td><td>178.70999999999998</td></tr><tr><td>2017</td><td>Maribeth Dona</td><td>-194.56</td></tr><tr><td>2017</td><td>Frank Carlisle</td><td>209.39999999999998</td></tr><tr><td>2017</td><td>Stuart Calhoun</td><td>2.58</td></tr><tr><td>2017</td><td>Dan Reichenbach</td><td>1086.8400000000001</td></tr><tr><td>2017</td><td>Philisse Overcash</td><td>153.54999999999998</td></tr><tr><td>2017</td><td>John Grady</td><td>78.02</td></tr><tr><td>2017</td><td>Liz Willingham</td><td>5.08</td></tr><tr><td>2017</td><td>Helen Wa55erman</td><td>1946.6999999999998</td></tr><tr><td>2017</td><td>Mitch Gastineau</td><td>-1.2399999999999998</td></tr><tr><td>2017</td><td>Justin MacKendrick</td><td>235.11</td></tr><tr><td>2017</td><td>Debra Catini</td><td>11.059999999999999</td></tr><tr><td>2017</td><td>Maribeth 5chnelling</td><td>40.74</td></tr><tr><td>2017</td><td>Barry Weirich</td><td>-77.13</td></tr><tr><td>2017</td><td>Zuschuss Donatelli</td><td>16.59</td></tr><tr><td>2017</td><td>Ivan Liston</td><td>438.68</td></tr><tr><td>2017</td><td>Brian Moss</td><td>1937.73</td></tr><tr><td>2017</td><td>Mike Gockenbach</td><td>196.72</td></tr><tr><td>2017</td><td>Jack Lebron</td><td>-218.57999999999998</td></tr><tr><td>2017</td><td>Julie Kriz</td><td>-273.77</td></tr><tr><td>2017</td><td>Mark Van Huff</td><td>68.78999999999999</td></tr><tr><td>2017</td><td>Erica Hernandez</td><td>144.29</td></tr><tr><td>2017</td><td>Filia McAdams</td><td>-24.75</td></tr><tr><td>2017</td><td>Greg Hansen</td><td>-8.879999999999999</td></tr><tr><td>2017</td><td>Luke Foster</td><td>71.54</td></tr><tr><td>2017</td><td>Scott Williamson</td><td>100.28</td></tr><tr><td>2017</td><td>Cari Sayre</td><td>205.18</td></tr><tr><td>2017</td><td>Gary McGarr</td><td>36.309999999999995</td></tr><tr><td>2017</td><td>Jason Fortune-</td><td>59.94</td></tr><tr><td>2017</td><td>Marc Harrigan</td><td>-42.60999999999999</td></tr><tr><td>2017</td><td>Quincy Jones</td><td>-99.69999999999999</td></tr><tr><td>2017</td><td>Brian Derr</td><td>27.69</td></tr><tr><td>2017</td><td>Roy Skaria</td><td>6.08</td></tr><tr><td>2017</td><td>Michael Chen</td><td>242.12</td></tr><tr><td>2017</td><td>Roger Barcio</td><td>325.84999999999997</td></tr><tr><td>2017</td><td>Sean Wendt</td><td>-50.25</td></tr><tr><td>2017</td><td>Skye Norling</td><td>-1130.43</td></tr><tr><td>2017</td><td>Evan Henry</td><td>6.42</td></tr><tr><td>2017</td><td>Barry Franz</td><td>71.98</td></tr><tr><td>2017</td><td>Meg O'Connel</td><td>180.45</td></tr><tr><td>2017</td><td>Victo 3456ria Brennan</td><td>181.21</td></tr><tr><td>2017</td><td>Ken Brennan</td><td>259.43</td></tr><tr><td>2017</td><td>Marc Crier</td><td>7.22</td></tr><tr><td>2017</td><td>Harold Engle</td><td>161.26</td></tr><tr><td>2017</td><td>Cynthia A;,.[]rntzen</td><td>191.87</td></tr><tr><td>2017</td><td>Christine Abelman</td><td>143.35999999999999</td></tr><tr><td>2017</td><td>Nona Balk</td><td>61.15999999999999</td></tr><tr><td>2017</td><td>Arianne Irving</td><td>77.28</td></tr><tr><td>2017</td><td>Lena Creighton</td><td>-67.97</td></tr><tr><td>2017</td><td>Todd Boyes</td><td>206.56</td></tr><tr><td>2017</td><td>Fred Chung</td><td>502.96999999999997</td></tr><tr><td>2017</td><td>Deirdre Greer</td><td>530.95</td></tr><tr><td>2017</td><td>Allen Goldenen</td><td>8.3</td></tr><tr><td>2017</td><td>Jay Fein</td><td>128.34</td></tr><tr><td>2017</td><td>Janet Lee</td><td>88.19</td></tr><tr><td>2017</td><td>Cyma Kinney</td><td>-521.39</td></tr><tr><td>2017</td><td>Andrew Allen</td><td>5.44</td></tr><tr><td>2017</td><td>Bruce Stewart</td><td>115.83999999999997</td></tr><tr><td>2017</td><td>Michael Grace</td><td>-29.44</td></tr><tr><td>2017</td><td>Giulietta Baptist</td><td>295.02</td></tr><tr><td>2017</td><td>Michael Nguyen</td><td>254.12999999999997</td></tr><tr><td>2017</td><td>Larry Blacks</td><td>7.91</td></tr><tr><td>2017</td><td>Jennifer Braxton</td><td>251.19</td></tr><tr><td>2017</td><td>Victor Preis</td><td>196.45999999999998</td></tr><tr><td>2017</td><td>Brenda Bowman</td><td>660.69</td></tr><tr><td>2017</td><td>Luke Weiss</td><td>67.07</td></tr><tr><td>2017</td><td>Suzanne McNair</td><td>442.28</td></tr><tr><td>2017</td><td>Todd Sumrall</td><td>1218.0100000000002</td></tr><tr><td>2017</td><td>Tony Chapman</td><td>76.21000000000001</td></tr><tr><td>2017</td><td>Tracy Collins</td><td>22.41</td></tr><tr><td>2017</td><td>Max Ludwig</td><td>346.16</td></tr><tr><td>2017</td><td>Aleksandra Gannaway</td><td>1.67</td></tr><tr><td>2017</td><td>Vicky Freymann</td><td>62.480000000000004</td></tr><tr><td>2017</td><td>Stuart Van</td><td>4.2</td></tr><tr><td>2017</td><td>Karen Bern</td><td>763.56</td></tr><tr><td>2017</td><td>Bi1l Overfelt</td><td>-79.6</td></tr><tr><td>2017</td><td>Dan Campbell</td><td>-1128.75</td></tr><tr><td>2017</td><td>Fra9876nk Gasti  ;.,.,neau</td><td>80.43</td></tr><tr><td>2017</td><td>John Murray</td><td>24.630000000000003</td></tr><tr><td>2017</td><td>Hunter Glantz</td><td>82.02000000000001</td></tr><tr><td>2017</td><td>Steve Chapman</td><td>-11.599999999999994</td></tr><tr><td>2017</td><td>Christine Kargatis</td><td>-124.27</td></tr><tr><td>2017</td><td>Kunst Miller</td><td>364.68</td></tr><tr><td>2017</td><td>Harry Greene</td><td>127.41999999999999</td></tr><tr><td>2017</td><td>Hallie Redmond</td><td>135.68</td></tr><tr><td>2017</td><td>Dorothy Dickinson</td><td>51.970000000000006</td></tr><tr><td>2017</td><td>Maxwell Schwartz</td><td>9.7</td></tr><tr><td>2017</td><td>Annie Zypern</td><td>15.0</td></tr><tr><td>2017</td><td>Philip Fox</td><td>50.65</td></tr><tr><td>2017</td><td>Craig Yedwab</td><td>240.54</td></tr><tr><td>2017</td><td>Angele Hood</td><td>28.92</td></tr><tr><td>2017</td><td>Jenna Caffey</td><td>502.93</td></tr><tr><td>2017</td><td>Bi1l Stewart</td><td>-228.09999999999997</td></tr><tr><td>2017</td><td>Rick Duston</td><td>276.27</td></tr><tr><td>2017</td><td>Rob Lucas</td><td>68.14999999999999</td></tr><tr><td>2017</td><td>Lisa Hazard</td><td>-152.86999999999998</td></tr><tr><td>2017</td><td>Sibella Parks</td><td>81.96</td></tr><tr><td>2017</td><td>Matt Collister</td><td>47.18</td></tr><tr><td>2017</td><td>Daniel Byrd</td><td>280.91999999999996</td></tr><tr><td>2017</td><td>Corey Catlett</td><td>33.78</td></tr><tr><td>2017</td><td>Jack O'Briant</td><td>40.4</td></tr><tr><td>2017</td><td>Nathan Gelder</td><td>28.269999999999996</td></tr><tr><td>2017</td><td>Kean Nguyen</td><td>112.42</td></tr><tr><td>2017</td><td>Dianna Vittorini</td><td>151.65</td></tr><tr><td>2017</td><td>Erica Bern</td><td>10.99</td></tr><tr><td>2017</td><td>Paul Stevenson</td><td>44.94</td></tr><tr><td>2017</td><td>Philip Brown</td><td>71.93</td></tr><tr><td>2017</td><td>Candace McMahon</td><td>185.93</td></tr><tr><td>2017</td><td>Mike Pelletier</td><td>119.69</td></tr><tr><td>2017</td><td>Jay Kimmel</td><td>79.47</td></tr><tr><td>2017</td><td>Greg Guthrie</td><td>-10.070000000000011</td></tr><tr><td>2017</td><td>Alex Avila</td><td>96.5</td></tr><tr><td>2017</td><td>Steven Cartwright</td><td>483.77</td></tr><tr><td>2017</td><td>Alex Grayson</td><td>-67.1</td></tr><tr><td>2017</td><td>Sally Knut_son</td><td>165.35000000000002</td></tr><tr><td>2017</td><td>Nathan Cano</td><td>-2330.2700000000004</td></tr><tr><td>2017</td><td>Adrian Shami</td><td>20.34</td></tr><tr><td>2017</td><td>Neil Knudson%^&*(</td><td>80.02000000000001</td></tr><tr><td>2017</td><td>Cindy Stewart</td><td>43.71</td></tr><tr><td>2017</td><td>Barry Gonzalez</td><td>221.68</td></tr><tr><td>2017</td><td>Anth 34789ony Witt</td><td>79.27999999999999</td></tr><tr><td>2017</td><td>Vivek Gonzalez</td><td>106.1</td></tr><tr><td>2017</td><td>Vivek Sundaresam</td><td>-6.42</td></tr><tr><td>2017</td><td>Jas O'Carroll</td><td>-54.88</td></tr><tr><td>2017</td><td>Carol Triggs</td><td>159.26</td></tr><tr><td>2017</td><td>Stewart Visinsky</td><td>9.29</td></tr><tr><td>2017</td><td>Frank Merwin</td><td>530.86</td></tr><tr><td>2017</td><td>Max Engle</td><td>23.16000000000001</td></tr><tr><td>2017</td><td>Nora Preis</td><td>71.95</td></tr><tr><td>2017</td><td>Shaun Weien</td><td>50.0</td></tr><tr><td>2017</td><td>Carl Ludwig</td><td>353.07</td></tr><tr><td>2017</td><td>Allen Armold</td><td>68.91999999999999</td></tr><tr><td>2017</td><td>Alan Dominguez</td><td>1866.92</td></tr><tr><td>2017</td><td>Carlos Soltero</td><td>76.20000000000002</td></tr><tr><td>2017</td><td>Max Jones</td><td>403.71999999999997</td></tr><tr><td>2017</td><td>Clytie Kelty</td><td>211.09</td></tr><tr><td>2017</td><td>Jessica Myrick</td><td>18.560000000000002</td></tr><tr><td>2017</td><td>Mike Kennedy</td><td>209.04</td></tr><tr><td>2017</td><td>Heather Kirkland</td><td>399.00000000000006</td></tr><tr><td>2017</td><td>Sung Chung</td><td>29.94</td></tr><tr><td>2017</td><td>Grant Thornton</td><td>-3825.3399999999997</td></tr><tr><td>2017</td><td>Shui Tom</td><td>12.790000000000001</td></tr><tr><td>2017</td><td>Doug O'Connell</td><td>267.02</td></tr><tr><td>2017</td><td>Raymond Buch</td><td>6780.9</td></tr><tr><td>2017</td><td>Tam&^*ara Willing___)ham</td><td>-6.059999999999999</td></tr><tr><td>2017</td><td>Maria Zettner</td><td>15.510000000000002</td></tr><tr><td>2017</td><td>Alan Barnes</td><td>141.73</td></tr><tr><td>2017</td><td>Tim Brockman</td><td>-31.68</td></tr><tr><td>2017</td><td>Ji11 Stevenson</td><td>-53.72</td></tr><tr><td>2017</td><td>Christine Phan</td><td>-17.02</td></tr><tr><td>2017</td><td>Beth Fritzler</td><td>38.0</td></tr><tr><td>2017</td><td>Michael Moore</td><td>-48.11999999999999</td></tr><tr><td>2017</td><td>Raymond Messe</td><td>196.75000000000003</td></tr><tr><td>2017</td><td>Joseph Airdo</td><td>-1031.0</td></tr><tr><td>2017</td><td>Craig Reiter</td><td>253.37</td></tr><tr><td>2017</td><td>Eugene Moren</td><td>76.75999999999999</td></tr><tr><td>2017</td><td>Yana Sorensen</td><td>1524.1299999999999</td></tr><tr><td>2017</td><td> Shahi  Shariari</td><td>58.910000000000004</td></tr><tr><td>2017</td><td>Ad.       ..am Hart</td><td>-54.580000000000055</td></tr><tr><td>2017</td><td>Rick Bensley</td><td>179.77999999999997</td></tr><tr><td>2017</td><td>Erin Creighton</td><td>57.37</td></tr><tr><td>2017</td><td>Joy Daniels</td><td>37.07</td></tr><tr><td>2017</td><td>Pamela Stobb</td><td>-166.52</td></tr><tr><td>2017</td><td>Anna Andreadi</td><td>6.22</td></tr><tr><td>2017</td><td>Susan Gilcrest</td><td>-13.27</td></tr><tr><td>2017</td><td>Mary Zewe</td><td>17.38</td></tr><tr><td>2017</td><td>Parhena Norris</td><td>48.35</td></tr><tr><td>2017</td><td>Pete Kriz</td><td>1617.17</td></tr><tr><td>2017</td><td>Michael Paige</td><td>116.44999999999999</td></tr><tr><td>2017</td><td>Dave Brooks</td><td>-231.31000000000006</td></tr><tr><td>2017</td><td>Marina Lichtenstein</td><td>11.100000000000001</td></tr><tr><td>2017</td><td>Craig Leslie</td><td>164.91</td></tr><tr><td>2017</td><td>Denise Leinenbach</td><td>17.38</td></tr><tr><td>2017</td><td>Resi Pölking</td><td>28.3</td></tr><tr><td>2017</td><td>Lindsay Shagiari</td><td>229.37</td></tr><tr><td>2017</td><td>Alex Russell</td><td>23.95</td></tr><tr><td>2017</td><td>Sheri Gordon</td><td>-295.98</td></tr><tr><td>2017</td><td>Nicole Fjeld</td><td>87.86</td></tr><tr><td>2017</td><td>Tamara Manning</td><td>205.84</td></tr><tr><td>2017</td><td>Kalyca Meade</td><td>128.92999999999998</td></tr><tr><td>2017</td><td>Nicole Hansen</td><td>635.96</td></tr><tr><td>2017</td><td>Victoria Wilson</td><td>565.88</td></tr><tr><td>2017</td><td>Thais Sissman</td><td>-1.97</td></tr><tr><td>2017</td><td>William Brown</td><td>401.51</td></tr><tr><td>2017</td><td>Jamie Kunitz</td><td>557.69</td></tr><tr><td>2017</td><td>Emily Grady</td><td>2.5899999999999963</td></tr><tr><td>2017</td><td>Bryan Mills</td><td>6.92</td></tr><tr><td>2017</td><td>Christopher Martinez</td><td>702.26</td></tr><tr><td>2017</td><td>Logan Currie</td><td>2.4000000000000044</td></tr><tr><td>2017</td><td>Tom Boeckenhauer</td><td>218.55</td></tr><tr><td>2017</td><td>Lindsay Williams</td><td>340.51</td></tr><tr><td>2017</td><td>Scot Coram</td><td>4.18</td></tr><tr><td>2017</td><td>Jennifer Ferguson</td><td>550.8599999999999</td></tr><tr><td>2017</td><td>Eric Murdock</td><td>50.37</td></tr><tr><td>2017</td><td>Andy Yotov</td><td>31.04</td></tr><tr><td>2017</td><td>Kat rina Bavinger</td><td>230.89999999999998</td></tr><tr><td>2017</td><td>Vivek Grady</td><td>2.41</td></tr><tr><td>2017</td><td>Roland Murray</td><td>28.68</td></tr><tr><td>2017</td><td>Rick Hansen</td><td>48.21</td></tr><tr><td>2017</td><td>Toby Swindell</td><td>7.29</td></tr><tr><td>2017</td><td>Bryan Spruell</td><td>116.94</td></tr><tr><td>2017</td><td>Richard Bierner</td><td>362.94</td></tr><tr><td>2017</td><td>Michelle Tran</td><td>2.0500000000000007</td></tr><tr><td>2017</td><td>Kat rina Edelman</td><td>-18.380000000000003</td></tr><tr><td>2017</td><td>Susan Vittorini</td><td>136.82</td></tr><tr><td>2017</td><td>Jim Karlsson</td><td>8.86</td></tr><tr><td>2017</td><td>Tanja Norvell</td><td>22.0</td></tr><tr><td>2017</td><td>Arthur Wiediger</td><td>87.22</td></tr><tr><td>2017</td><td>Dave Poirier</td><td>60.54</td></tr><tr><td>2017</td><td>Natalie Webber</td><td>11.82</td></tr><tr><td>2017</td><td>Noah Childs</td><td>48.78</td></tr><tr><td>2017</td><td>Ted Butterfield</td><td>122.05</td></tr><tr><td>2017</td><td>Tiffany House</td><td>24.699999999999992</td></tr><tr><td>2017</td><td>Chris Cortes</td><td>393.6</td></tr><tr><td>2017</td><td>Steven Roelle</td><td>1676.31</td></tr><tr><td>2017</td><td>Christopher Schild</td><td>-384.96</td></tr><tr><td>2017</td><td>Justin Ritter</td><td>255.76999999999998</td></tr><tr><td>2017</td><td>Sarah Bern</td><td>191.07000000000002</td></tr><tr><td>2017</td><td>Penelope Sewall</td><td>1060.31</td></tr><tr><td>2017</td><td>Steve Nguyen</td><td>-18.19</td></tr><tr><td>2017</td><td>Carol Darley</td><td>-214.46</td></tr><tr><td>2017</td><td>Guy Armstrong</td><td>23.5</td></tr><tr><td>2017</td><td>Darren Powers</td><td>-48.17</td></tr><tr><td>2017</td><td>Dave Kipp</td><td>400.99</td></tr><tr><td>2017</td><td>Kimberly Carter</td><td>156.37</td></tr><tr><td>2017</td><td>Roy Phan</td><td>19.81</td></tr><tr><td>2017</td><td>Patrick O'Donnell</td><td>238.16</td></tr><tr><td>2017</td><td>Bradley Nguyen</td><td>42.57</td></tr><tr><td>2017</td><td>         =--Katharine Harms</td><td>150.47</td></tr><tr><td>2017</td><td>Brendan Dodson</td><td>80.24</td></tr><tr><td>2017</td><td>James Lanier</td><td>110.48</td></tr><tr><td>2017</td><td>Patrick Gardner</td><td>96.42</td></tr><tr><td>2017</td><td>Mitch Willin0009gham</td><td>216.0</td></tr><tr><td>2017</td><td>Andy Reiter</td><td>2607.68</td></tr><tr><td>2017</td><td>Rose O'Brian</td><td>-174.32999999999998</td></tr><tr><td>2017</td><td>Christine Sundaresam</td><td>456.48</td></tr><tr><td>2017</td><td>Ben Ferrer</td><td>437.78000000000003</td></tr><tr><td>2017</td><td>Beth Tho098-.,;;mpson</td><td>39.23</td></tr><tr><td>2017</td><td>Brooke Gillingham</td><td>11.66</td></tr><tr><td>2017</td><td>Emily Burns</td><td>-80.44</td></tr><tr><td>2017</td><td>Neil Ducich</td><td>379.25</td></tr><tr><td>2017</td><td>Barry Blumstein</td><td>6.92</td></tr><tr><td>2017</td><td>Maria Bertelson</td><td>65.66000000000001</td></tr><tr><td>2017</td><td>Eric Barreto</td><td>-75.19</td></tr><tr><td>2017</td><td>Michael Granlund</td><td>37.989999999999995</td></tr><tr><td>2017</td><td>Randy Bradley</td><td>-74.31</td></tr><tr><td>2017</td><td>Gene McClure</td><td>61.599999999999994</td></tr><tr><td>2017</td><td>Scot Wooten</td><td>-64.07000000000001</td></tr><tr><td>2017</td><td>\":[]|}-=Charles Crestani</td><td>8.33</td></tr><tr><td>2017</td><td>John Hus<>><>ton</td><td>-19.939999999999998</td></tr><tr><td>2017</td><td>Patrick O'Brill</td><td>290.64</td></tr><tr><td>2017</td><td>Dennis Bolton</td><td>113.54</td></tr><tr><td>2017</td><td>Dean Katz</td><td>316.47</td></tr><tr><td>2017</td><td>Darrin Sayre</td><td>164.31</td></tr><tr><td>2017</td><td>Charles McCrossin</td><td>-78.61999999999998</td></tr><tr><td>2017</td><td>Anna Chung</td><td>-32.34</td></tr><tr><td>2017</td><td>Speros Goranitis</td><td>25.46</td></tr><tr><td>2017</td><td> &&Tracy Blumstein</td><td>42.26</td></tr><tr><td>2016</td><td>Ad.       ..am Hart</td><td>332.64000000000004</td></tr><tr><td>2016</td><td>Robert Barroso</td><td>19.33</td></tr><tr><td>2016</td><td>Maria Etezadi</td><td>451.46</td></tr><tr><td>2016</td><td>Frank Merwin</td><td>-356.98</td></tr><tr><td>2016</td><td>Bruce Stewart</td><td>82.95</td></tr><tr><td>2016</td><td>Carol Adams</td><td>899.98</td></tr><tr><td>2016</td><td>Daniel Raglin</td><td>2337.76</td></tr><tr><td>2016</td><td>Paul Gonzalez</td><td>10.71</td></tr><tr><td>2016</td><td>Greg Maxwell</td><td>175.36</td></tr><tr><td>2016</td><td>Natalie Fritzler</td><td>-66.17</td></tr><tr><td>2016</td><td>Karen Carlisle</td><td>523.0899999999999</td></tr><tr><td>2016</td><td>Craig Leslie</td><td>64.09</td></tr><tr><td>2016</td><td>Carlos Soltero</td><td>-131.20000000000002</td></tr><tr><td>2016</td><td>Alejandro Grove</td><td>696.3000000000002</td></tr><tr><td>2016</td><td>Barry Pond</td><td>182.98000000000002</td></tr><tr><td>2016</td><td>Eric Hoffmann</td><td>-13.379999999999988</td></tr><tr><td>2016</td><td>Mark Packer</td><td>8.94</td></tr><tr><td>2016</td><td>Michael Grace</td><td>62.24</td></tr><tr><td>2016</td><td>Duane Benoit</td><td>-35.22</td></tr><tr><td>2016</td><td>Jennifer Jackson</td><td>18.71</td></tr><tr><td>2016</td><td>Dianna Wilson</td><td>31.089999999999996</td></tr><tr><td>2016</td><td>Sean Christensen</td><td>37.46</td></tr><tr><td>2016</td><td>Thea Hendricks</td><td>9.19</td></tr><tr><td>2016</td><td>Roger Demir</td><td>31.199999999999996</td></tr><tr><td>2016</td><td>Anemone Ratner</td><td>32.64</td></tr><tr><td>2016</td><td>Nora Preis</td><td>272.91999999999996</td></tr><tr><td>2016</td><td>Brad Thomas</td><td>9.48</td></tr><tr><td>2016</td><td>Natalie DeCherney</td><td>58.86000000000001</td></tr><tr><td>2016</td><td>Cindy Schnelling</td><td>-244.73000000000002</td></tr><tr><td>2016</td><td>Gary Zandusky</td><td>652.3100000000001</td></tr><tr><td>2016</td><td>Robert Waldorf</td><td>-2.63</td></tr><tr><td>2016</td><td>Parhena Norris</td><td>137.23</td></tr><tr><td>2016</td><td>Jonathan Howell</td><td>63.169999999999995</td></tr><tr><td>2016</td><td>Frank Preis</td><td>359.69999999999993</td></tr><tr><td>2016</td><td>Christine Sundaresam</td><td>10.32</td></tr><tr><td>2016</td><td>Lela Donovan</td><td>0.46</td></tr><tr><td>2016</td><td>Julia Barnett</td><td>84.97</td></tr><tr><td>2016</td><td>Logan Currie</td><td>235.32999999999998</td></tr><tr><td>2016</td><td>Susan Gilcrest</td><td>6.63</td></tr><tr><td>2016</td><td>Kimberly Carter</td><td>-4.960000000000001</td></tr><tr><td>2016</td><td>Maria Bertelson</td><td>83.51</td></tr><tr><td>2016</td><td>Herbert Flentye</td><td>-167.31</td></tr><tr><td>2016</td><td>Liz MacKendrick</td><td>21.54</td></tr><tr><td>2016</td><td>Theone Pippenger</td><td>376.74</td></tr><tr><td>2016</td><td>Julia West</td><td>20.38</td></tr><tr><td>2016</td><td>Sam Zeldin</td><td>49.32</td></tr><tr><td>2016</td><td>Fred Chung</td><td>86.15</td></tr><tr><td>2016</td><td>Maribeth Yedwab</td><td>33.05</td></tr><tr><td>2016</td><td>Tim Brockman</td><td>-40.36</td></tr><tr><td>2016</td><td>Ruben Ausman</td><td>3.89</td></tr><tr><td>2016</td><td>Julie Kriz</td><td>108.52</td></tr><tr><td>2016</td><td>Arthur Prichep</td><td>338.85</td></tr><tr><td>2016</td><td>Marc Crier</td><td>20.91</td></tr><tr><td>2016</td><td>Lena Radford</td><td>172.49</td></tr><tr><td>2016</td><td>Emily Burns</td><td>84.07</td></tr><tr><td>2016</td><td>Frank Carlisle</td><td>972.25</td></tr><tr><td>2016</td><td>Sally Knut_son</td><td>3.44</td></tr><tr><td>2016</td><td>Janet Molinari</td><td>306.55</td></tr><tr><td>2016</td><td>N0ra Paige</td><td>246.1</td></tr><tr><td>2016</td><td>Matt Collister</td><td>379.00999999999993</td></tr><tr><td>2016</td><td>Art Ferguson</td><td>390.78999999999996</td></tr><tr><td>2016</td><td>Christy Brittain</td><td>201.65999999999997</td></tr><tr><td>2016</td><td>Greg Tran</td><td>366.71000000000004</td></tr><tr><td>2016</td><td>Christine Phan</td><td>242.84</td></tr><tr><td>2016</td><td>Charles McCrossin</td><td>-315.75</td></tr><tr><td>2016</td><td>David Wiener</td><td>-34.16</td></tr><tr><td>2016</td><td>Denise Monton</td><td>-61.900000000000006</td></tr><tr><td>2016</td><td>6789Erin  Mull</td><td>-4.79</td></tr><tr><td>2016</td><td>Cassandra Brandow</td><td>161.25</td></tr><tr><td>2016</td><td>Jim Mi....tchum</td><td>65.9</td></tr><tr><td>2016</td><td>William Brown</td><td>293.65</td></tr><tr><td>2016</td><td>Tiffany House</td><td>70.78</td></tr><tr><td>2016</td><td>Adam Bellavance</td><td>1568.0500000000002</td></tr><tr><td>2016</td><td>Aaron Hawkins</td><td>38.04</td></tr><tr><td>2016</td><td>Ralph Arnett</td><td>-6.57</td></tr><tr><td>2016</td><td>Tony Chapman</td><td>32.39</td></tr><tr><td>2016</td><td>Janet Lee</td><td>103.36000000000001</td></tr><tr><td>2016</td><td>Tamara Dahlen</td><td>70.25</td></tr><tr><td>2016</td><td>Joe Elijah</td><td>1210.6599999999999</td></tr><tr><td>2016</td><td>Rob Williams</td><td>346.37</td></tr><tr><td>2016</td><td>Muhammed YeDwab#</td><td>-290.16999999999996</td></tr><tr><td>2016</td><td>Rich.-=%&*ard Eichhorn</td><td>13.32</td></tr><tr><td>2016</td><td>Christopher Conant</td><td>2083.3399999999997</td></tr><tr><td>2016</td><td>Kean Thornton</td><td>19.61</td></tr><tr><td>2016</td><td>Alan Hwang</td><td>5.57</td></tr><tr><td>2016</td><td>Cynthia A;,.[]rntzen</td><td>1.67</td></tr><tr><td>2016</td><td>Sheri Gordon</td><td>-18.45</td></tr><tr><td>2016</td><td>Justin Deggeller</td><td>272.2</td></tr><tr><td>2016</td><td>Ritsa Hightower</td><td>6.34</td></tr><tr><td>2016</td><td>Luke Weiss</td><td>350.01</td></tr><tr><td>2016</td><td>Don Jones</td><td>100.2</td></tr><tr><td>2016</td><td>Maribeth Dona</td><td>-14.22</td></tr><tr><td>2016</td><td>Tam&^*ara Willing___)ham</td><td>33.01</td></tr><tr><td>2016</td><td>Gary Mitchum</td><td>102.52</td></tr><tr><td>2016</td><td>Sylvia Foulston</td><td>70.2</td></tr><tr><td>2016</td><td>Aimee Bixby</td><td>5.44</td></tr><tr><td>2016</td><td>Arthur Wiediger</td><td>-213.35000000000002</td></tr><tr><td>2016</td><td>Joy Bell-</td><td>15.969999999999999</td></tr><tr><td>2016</td><td>Nick Crebassa</td><td>16.79</td></tr><tr><td>2016</td><td>Mary Zewe</td><td>-25.24</td></tr><tr><td>2016</td><td>Anthony Jacobs</td><td>-5.7</td></tr><tr><td>2016</td><td>Erin Ashbrook</td><td>-342.69</td></tr><tr><td>2016</td><td>Jeremy Farry</td><td>13.11</td></tr><tr><td>2016</td><td>Linda Cazamias</td><td>246.91</td></tr><tr><td>2016</td><td>Michelle Tran</td><td>70.49</td></tr><tr><td>2016</td><td>Muhammed MacIntyre</td><td>8.84</td></tr><tr><td>2016</td><td>Neoma Murray</td><td>812.79</td></tr><tr><td>2016</td><td>Carol Triggs</td><td>-303.26</td></tr><tr><td>2016</td><td>Hunter Glantz</td><td>50.24</td></tr><tr><td>2016</td><td>Joe Kamberova</td><td>194.58</td></tr><tr><td>2016</td><td>Frank Hawley</td><td>166.29000000000002</td></tr><tr><td>2016</td><td>Karen Ferguson</td><td>371.04999999999995</td></tr><tr><td>2016</td><td>Gary567 Hansen</td><td>-173.07999999999998</td></tr><tr><td>2016</td><td>Max Jones</td><td>728.75</td></tr><tr><td>2016</td><td>Deborah Brumfield</td><td>810.57</td></tr><tr><td>2016</td><td>Rob Beeghly</td><td>-5.979999999999997</td></tr><tr><td>2016</td><td>Carl Weiss</td><td>22.759999999999998</td></tr><tr><td>2016</td><td>Rick Reed</td><td>45.68</td></tr><tr><td>2016</td><td>Frank Atkinson</td><td>39.81</td></tr><tr><td>2016</td><td>Chris Cortes</td><td>-33.06000000000001</td></tr><tr><td>2016</td><td>Ken Lonsdale</td><td>-3.350000000000037</td></tr><tr><td>2016</td><td>Raymond Buch</td><td>195.46</td></tr><tr><td>2016</td><td>Zuschuss Donatelli</td><td>206.67000000000002</td></tr><tr><td>2016</td><td>Rose O'Brian</td><td>-90.48</td></tr><tr><td>2016</td><td>Aaron Bergman</td><td>116.86</td></tr><tr><td>2016</td><td>Sandra Flanagan</td><td>3.06</td></tr><tr><td>2016</td><td>Sample Company A</td><td>146.64999999999998</td></tr><tr><td>2016</td><td>Erin Smith</td><td>-99.22000000000001</td></tr><tr><td>2016</td><td>Eric Barreto</td><td>74.27000000000001</td></tr><tr><td>2016</td><td>Noah Childs</td><td>-461.2</td></tr><tr><td>2016</td><td>Tho   12 =-.mas Boland</td><td>-6.980000000000001</td></tr><tr><td>2016</td><td>George Ashbrook</td><td>53.56</td></tr><tr><td>2016</td><td>Craig Carreira</td><td>53.660000000000004</td></tr><tr><td>2016</td><td>Barbara Fisher</td><td>157.38</td></tr><tr><td>2016</td><td>Andrew Roberts</td><td>18.89</td></tr><tr><td>2016</td><td>Tracy Zic</td><td>75.97000000000001</td></tr><tr><td>2016</td><td>Toby Braunhardt</td><td>290.98</td></tr><tr><td>2016</td><td>Dennis Pardue</td><td>1694.6399999999999</td></tr><tr><td>2016</td><td>Shaun Weien</td><td>125.2</td></tr><tr><td>2016</td><td>Toby Ritter</td><td>115.03999999999999</td></tr><tr><td>2016</td><td>Linda Southworth</td><td>21.740000000000002</td></tr><tr><td>2016</td><td>Pierre Wener</td><td>-0.59</td></tr><tr><td>2016</td><td>Adrian Hane</td><td>-299.15</td></tr><tr><td>2016</td><td>Quincy Jones</td><td>168.88</td></tr><tr><td>2016</td><td>5467Ben Wallace</td><td>173.66</td></tr><tr><td>2016</td><td>Alex Avila</td><td>-747.09</td></tr><tr><td>2016</td><td>Joy Smith</td><td>451.9100000000001</td></tr><tr><td>2016</td><td>Bart Pistole</td><td>19.68</td></tr><tr><td>2016</td><td>Paul  4567Van Hugh</td><td>155.32</td></tr><tr><td>2016</td><td>Fred Hopkins</td><td>6.91</td></tr><tr><td>2016</td><td>Valerie Dominguez</td><td>50.19</td></tr><tr><td>2016</td><td>Christine Abelman</td><td>2.0999999999999996</td></tr><tr><td>2016</td><td>Amy Hunt</td><td>-1.78</td></tr><tr><td>2016</td><td>Ralph Ritter</td><td>3.47</td></tr><tr><td>2016</td><td>Mick Hernandez</td><td>-216.21999999999997</td></tr><tr><td>2016</td><td>Ed Braxton</td><td>82.42</td></tr><tr><td>2016</td><td>Becky Castell</td><td>62.26</td></tr><tr><td>2016</td><td>Neil Französisch</td><td>-18.84</td></tr><tr><td>2016</td><td>Sung Shariari</td><td>-1.9100000000000001</td></tr><tr><td>2016</td><td>         Helen Abelman</td><td>129.77</td></tr><tr><td>2016</td><td>Emily Grady</td><td>46.31000000000001</td></tr><tr><td>2016</td><td>Henry Goldwyn</td><td>136.13</td></tr><tr><td>2016</td><td>Denise Leinenbach</td><td>5.22</td></tr><tr><td>2016</td><td>Patrick Gardner</td><td>551.29</td></tr><tr><td>2016</td><td>Grace Kelly</td><td>1315.57</td></tr><tr><td>2016</td><td>Darren Budd</td><td>84.3</td></tr><tr><td>2016</td><td>Eva Jacobs</td><td>335.35</td></tr><tr><td>2016</td><td>John Grady</td><td>91.13000000000001</td></tr><tr><td>2016</td><td>Stephanie Phelps</td><td>100.22999999999999</td></tr><tr><td>2016</td><td>Michael Paige</td><td>265.54</td></tr><tr><td>2016</td><td>Michelle Arnett</td><td>191.39000000000001</td></tr><tr><td>2016</td><td>Christina VanderZanden</td><td>51.980000000000004</td></tr><tr><td>2016</td><td>Bradley Talbott</td><td>-4.379999999999999</td></tr><tr><td>2016</td><td>Anna Gayman</td><td>-281.55999999999995</td></tr><tr><td>2016</td><td>Jay Kimmel</td><td>83.5</td></tr><tr><td>2016</td><td>Ryan Crowe</td><td>102.93</td></tr><tr><td>2016</td><td>Sanjit Engle</td><td>2673.77</td></tr><tr><td>2016</td><td>Michael Chen</td><td>60.53999999999999</td></tr><tr><td>2016</td><td>Pauline Johnson</td><td>30.4</td></tr><tr><td>2016</td><td>Justin Hirsh</td><td>-203.36999999999998</td></tr><tr><td>2016</td><td>Keith Dawkins</td><td>58.709999999999994</td></tr><tr><td>2016</td><td>Claire Gute</td><td>261.49</td></tr><tr><td>2016</td><td>Matt Abelman</td><td>28.380000000000003</td></tr><tr><td>2016</td><td>Russell Applegate</td><td>115.46000000000001</td></tr><tr><td>2016</td><td>Karen Bern</td><td>-18.18</td></tr><tr><td>2016</td><td>Steven Roelle</td><td>181.53</td></tr><tr><td>2016</td><td>Ken Brennan</td><td>14.620000000000001</td></tr><tr><td>2016</td><td>Adam Shillingsburg</td><td>22.549999999999997</td></tr><tr><td>2016</td><td>Paul MacIntyre</td><td>158.53</td></tr><tr><td>2016</td><td>Valerie Mitchum</td><td>371.69</td></tr><tr><td>2016</td><td>Maribeth 5chnelling</td><td>514.79</td></tr><tr><td>2016</td><td>Katherine Hughes</td><td>57.83</td></tr><tr><td>2016</td><td>Julie Prescott</td><td>275.44</td></tr><tr><td>2016</td><td>Paul Prost</td><td>707.5900000000001</td></tr><tr><td>2016</td><td>Eugene Barchas</td><td>187.62</td></tr><tr><td>2016</td><td>Alyssa Crouse</td><td>21.59</td></tr><tr><td>2016</td><td>John Lee</td><td>2.8</td></tr><tr><td>2016</td><td>Ji11 Stevenson</td><td>78.4</td></tr><tr><td>2016</td><td>Mark Cousins</td><td>1610.2</td></tr><tr><td>2016</td><td>  Shahi  Collister</td><td>-25.0</td></tr><tr><td>2016</td><td>Chad Cunningham</td><td>-11.7</td></tr><tr><td>2016</td><td>Daniel Byrd</td><td>146.83</td></tr><tr><td>2016</td><td>Nick Radford</td><td>50.58999999999999</td></tr><tr><td>2016</td><td>C@thy Armstrong</td><td>259.37</td></tr><tr><td>2016</td><td>Bi1l Eplett</td><td>47.24</td></tr><tr><td>2016</td><td>Nathan Cano</td><td>79.19</td></tr><tr><td>2016</td><td>Justin Ellison</td><td>776.3499999999999</td></tr><tr><td>2016</td><td>Pete Kriz</td><td>407.4099999999999</td></tr><tr><td>2016</td><td>Angele Hood</td><td>13.45</td></tr><tr><td>2016</td><td>Ashley Jarboe</td><td>33.22</td></tr><tr><td>2016</td><td>Dave Brooks</td><td>294.18</td></tr><tr><td>2016</td><td>Matt Hagelstein</td><td>-0.3699999999999992</td></tr><tr><td>2016</td><td>Jim Sink</td><td>-99.99000000000001</td></tr><tr><td>2016</td><td>Susan MacKendrick</td><td>-16510.34</td></tr><tr><td>2016</td><td>Logan Haushalter</td><td>212.10000000000002</td></tr><tr><td>2016</td><td>     Rac5467hel Payne</td><td>11.7</td></tr><tr><td>2016</td><td>Maureen Fritzler</td><td>118.46</td></tr><tr><td>2016</td><td>Roland Fjeld</td><td>110.61</td></tr><tr><td>2016</td><td>Joni Sundaresam</td><td>-18.740000000000002</td></tr><tr><td>2016</td><td>Jay Fein</td><td>40.75</td></tr><tr><td>2016</td><td>John Stevenson</td><td>266.74</td></tr><tr><td>2016</td><td>Bobby Trafton</td><td>-71.9</td></tr><tr><td>2016</td><td>Philip Brown</td><td>38.38</td></tr><tr><td>2016</td><td>Craig Reiter</td><td>59.57</td></tr><tr><td>2016</td><td>Ted Trevino</td><td>2.69</td></tr><tr><td>2016</td><td>Liz Carlisle</td><td>225.26</td></tr><tr><td>2016</td><td>Brooke Gillingham</td><td>57.92</td></tr><tr><td>2016</td><td>Brosin34a Hoffman 09</td><td>428.92999999999995</td></tr><tr><td>2016</td><td>Carl Ludwig</td><td>4.35</td></tr><tr><td>2016</td><td>Aleksandra Gannaway</td><td>20.48</td></tr><tr><td>2016</td><td>Mick Brown</td><td>45.32</td></tr><tr><td>2016</td><td>Alan Shonely</td><td>23.18</td></tr><tr><td>2016</td><td>Stephanie Ulpright</td><td>64.19</td></tr><tr><td>2016</td><td>Thomas Seio</td><td>104.77000000000001</td></tr><tr><td>2016</td><td>Matthew Clasen</td><td>27.42</td></tr><tr><td>2016</td><td>Thomas Thornton</td><td>60.39</td></tr><tr><td>2016</td><td>Laura Armstrong</td><td>1526.65</td></tr><tr><td>2016</td><td> Shahi  Hopkins</td><td>-1.48</td></tr><tr><td>2016</td><td>Khloe Miller</td><td>11.83</td></tr><tr><td>2016</td><td>Denny Ordway</td><td>8.5</td></tr><tr><td>2016</td><td>Greg Matthias</td><td>-121.94</td></tr><tr><td>2016</td><td>Michael Nguyen</td><td>5.52</td></tr><tr><td>2016</td><td>Philisse Overcash</td><td>178.45</td></tr><tr><td>2016</td><td>Anthony O'Donnell</td><td>12.1</td></tr><tr><td>2016</td><td>Helen Wa55erman</td><td>200.27</td></tr><tr><td>2016</td><td>Allen Goldenen</td><td>-7.0</td></tr><tr><td>2016</td><td>MaryBeth Skach</td><td>36.04</td></tr><tr><td>2016</td><td>Erin Creighton</td><td>43.09</td></tr><tr><td>2016</td><td>Deirdre Greer</td><td>9.33</td></tr><tr><td>2016</td><td>Paul Knut_son</td><td>-807.78</td></tr><tr><td>2016</td><td>Alex Grayson</td><td>61.74</td></tr><tr><td>2016</td><td>Erica Smith</td><td>71.99</td></tr><tr><td>2016</td><td>Chad Sievert</td><td>13.75</td></tr><tr><td>2016</td><td>Alejandro Savely</td><td>331.37</td></tr><tr><td>2016</td><td>Anne Pryor</td><td>243.57999999999998</td></tr><tr><td>2016</td><td>Darren Powers</td><td>4.880000000000001</td></tr><tr><td>2016</td><td>Ken Black</td><td>96.32</td></tr><tr><td>2016</td><td>Skye Norling</td><td>229.01000000000002</td></tr><tr><td>2016</td><td>Rob Lucas</td><td>-6.5699999999999985</td></tr><tr><td>2016</td><td>Toby Gnade</td><td>844.64</td></tr><tr><td>2016</td><td>Noel Staavos</td><td>-298.25000000000006</td></tr><tr><td>2016</td><td>Aaron Smayling</td><td>92.14</td></tr><tr><td>2016</td><td>Ted Butterfield</td><td>267.71</td></tr><tr><td>2016</td><td>Melanie Seite</td><td>-23.94</td></tr><tr><td>2016</td><td>Max Engle</td><td>-1.6199999999999992</td></tr><tr><td>2016</td><td>John Dryer</td><td>36.47</td></tr><tr><td>2016</td><td>Bradley Nguyen</td><td>112.78</td></tr><tr><td>2016</td><td>Pamela Coakley</td><td>76.98</td></tr><tr><td>2016</td><td>Chuck Clark</td><td>255.32</td></tr><tr><td>2016</td><td>Ivan Liston</td><td>19.560000000000002</td></tr><tr><td>2016</td><td>Lindsay Shagiari</td><td>2.9399999999999995</td></tr><tr><td>2016</td><td>Alyssa Tate</td><td>6.43</td></tr><tr><td>2016</td><td>&^*(5678Shirley Daniels</td><td>20.82</td></tr><tr><td>2016</td><td>UNKNOWN</td><td>282.97999999999996</td></tr><tr><td>2016</td><td>Susan Vittorini</td><td>-30.2</td></tr><tr><td>2016</td><td>Steve Nguyen</td><td>375.78</td></tr><tr><td>2016</td><td>Magdelene Morse</td><td>166.51</td></tr><tr><td>2016</td><td>Marina Lichtenstein</td><td>192.19</td></tr><tr><td>2016</td><td>Helen Andreada</td><td>-55.04000000000001</td></tr><tr><td>2016</td><td>B*#^%ruce Geld</td><td>59.290000000000006</td></tr><tr><td>2016</td><td>James Lanier</td><td>-2.0</td></tr><tr><td>2016</td><td>Bi1l Tyler</td><td>3.35</td></tr><tr><td>2016</td><td>Clytie Kelty</td><td>315.73</td></tr><tr><td>2016</td><td>Brendan Murry</td><td>109.44</td></tr><tr><td>2016</td><td>Joni Wa55erman</td><td>1.2</td></tr><tr><td>2016</td><td>Henry MacAllister</td><td>1.73</td></tr><tr><td>2016</td><td>John Murray</td><td>-49.620000000000005</td></tr><tr><td>2016</td><td>Tom Prescott</td><td>-91.11</td></tr><tr><td>2016</td><td>Don Miller</td><td>18.17</td></tr><tr><td>2016</td><td>Duane Noonan</td><td>222.39000000000001</td></tr><tr><td>2016</td><td>Dave Hallsten</td><td>-19.6</td></tr><tr><td>2016</td><td>Joel Eaton</td><td>126.62</td></tr><tr><td>2016</td><td>Randy Ferguson</td><td>438.72</td></tr><tr><td>2016</td><td> &&Tracy Blumstein</td><td>3.95</td></tr><tr><td>2016</td><td>Stewart Carmichael</td><td>-734.2700000000001</td></tr><tr><td>2016</td><td>Anthony Rawles</td><td>370.3</td></tr><tr><td>2016</td><td>Kelly Lampkin</td><td>50.12</td></tr><tr><td>2016</td><td>Bi1l Overfelt</td><td>358.03000000000003</td></tr><tr><td>2016</td><td>Zuschuss Carroll</td><td>-1731.01</td></tr><tr><td>2016</td><td>Jennifer Patt</td><td>307.33</td></tr><tr><td>2016</td><td>Maurice Satty</td><td>-93.10000000000001</td></tr><tr><td>2016</td><td>Dorris liebe</td><td>146.39</td></tr><tr><td>2016</td><td>Carol Darley</td><td>7.75</td></tr><tr><td>2016</td><td>Ben Ferrer</td><td>697.47</td></tr><tr><td>2016</td><td>Victoria Pisteka</td><td>31.65</td></tr><tr><td>2016</td><td>Jason Klamczynski</td><td>11.68</td></tr><tr><td>2016</td><td>Anna Chung</td><td>8.61</td></tr><tr><td>2016</td><td>Arthur Gainer</td><td>252.36</td></tr><tr><td>2016</td><td>Andrew Gjertsen</td><td>6.03</td></tr><tr><td>2016</td><td>Greg Guthrie</td><td>15.93</td></tr><tr><td>2016</td><td>Sonia Sunley</td><td>112.38</td></tr><tr><td>2016</td><td>Philip Fox</td><td>478.67999999999995</td></tr><tr><td>2016</td><td>Steven Cartwright</td><td>273.18</td></tr><tr><td>2016</td><td>Victo 3456ria Brennan</td><td>105.42</td></tr><tr><td>2016</td><td>Candace McMahon</td><td>3.69</td></tr><tr><td>2016</td><td>         =--Katharine Harms</td><td>43.9</td></tr><tr><td>2016</td><td>Michael Granlund</td><td>25.93</td></tr><tr><td>2016</td><td>James Galang</td><td>230.36</td></tr><tr><td>2016</td><td>   _Mike Vitt 12313orini</td><td>225.26</td></tr><tr><td>2016</td><td>Barry Gonzalez</td><td>12.239999999999998</td></tr><tr><td>2016</td><td>Jack Lebron</td><td>1.39</td></tr><tr><td>2016</td><td>Jeremy Ellison</td><td>185.63</td></tr><tr><td>2016</td><td>Anna Häberlin</td><td>1144.0499999999997</td></tr><tr><td>2016</td><td>Larry Blacks</td><td>10.74</td></tr><tr><td>2016</td><td>Meg Tillman</td><td>432.25</td></tr><tr><td>2016</td><td>Brian Stugart</td><td>62.26</td></tr><tr><td>2016</td><td>Benjamin Patterson</td><td>10.21</td></tr><tr><td>2016</td><td>Ann Steele</td><td>6.37</td></tr><tr><td>2016</td><td>Adrian Barton</td><td>4748.2699999999995</td></tr><tr><td>2016</td><td>Olvera Toch</td><td>-1182.11</td></tr><tr><td>2016</td><td>Carlos Daly</td><td>46.94</td></tr><tr><td>2016</td><td>Jill Fjeld</td><td>849.6600000000001</td></tr><tr><td>2016</td><td>Jamie Frazer</td><td>173.31</td></tr><tr><td>2016</td><td>Matt Connell</td><td>11.31</td></tr><tr><td>2016</td><td>Cathy Prescott</td><td>31.54</td></tr><tr><td>2016</td><td>Jennifer Braxton</td><td>-98.62</td></tr><tr><td>2016</td><td>B         ecky Martin</td><td>118.91999999999999</td></tr><tr><td>2016</td><td>Evan Bailliet</td><td>4.44</td></tr><tr><td>2016</td><td>Darrin Van Huff</td><td>17.48</td></tr><tr><td>2016</td><td>Mary O'Rourke</td><td>120.86000000000001</td></tr><tr><td>2016</td><td>Dave Kipp</td><td>-38.31</td></tr><tr><td>2016</td><td>Katherine Murray</td><td>128.9</td></tr><tr><td>2016</td><td>[]-=;''Becky Pak</td><td>188.78000000000003</td></tr><tr><td>2016</td><td>Hunter Lopez</td><td>128.54</td></tr><tr><td>2016</td><td>Laurel Workman</td><td>-393.34000000000003</td></tr><tr><td>2016</td><td>Marc Harrigan</td><td>57.2</td></tr><tr><td>2016</td><td>Chris Selesnick</td><td>22.14</td></tr><tr><td>2016</td><td>Edward Hooks</td><td>758.8000000000001</td></tr><tr><td>2016</td><td>Neil Knudson%^&*(</td><td>39.410000000000004</td></tr><tr><td>2016</td><td>Barry Blumstein</td><td>12.87</td></tr><tr><td>2016</td><td>Lena Hernandez</td><td>56.699999999999996</td></tr><tr><td>2016</td><td>Roy Skaria</td><td>3.5</td></tr><tr><td>2016</td><td>Cindy Chapman</td><td>111.12</td></tr><tr><td>2016</td><td>Fred McMath</td><td>134.91</td></tr><tr><td>2016</td><td>_12312Patrick Bzostek</td><td>95.85</td></tr><tr><td>2016</td><td>Erica Hackney</td><td>67.9</td></tr><tr><td>2016</td><td>Barry Französisch</td><td>20.32</td></tr><tr><td>2016</td><td>Tanja Norvell</td><td>-903.28</td></tr><tr><td>2016</td><td>Ed Ludwig</td><td>8.66</td></tr><tr><td>2016</td><td>Liz Willingham</td><td>165.8</td></tr><tr><td>2016</td><td>Sally Matthias</td><td>-77.84</td></tr><tr><td>2016</td><td>Bi1l Donatelli</td><td>97.22999999999999</td></tr><tr><td>2016</td><td>Kean Takahito</td><td>156.14</td></tr><tr><td>2016</td><td>Annie Zypern</td><td>32.57000000000001</td></tr><tr><td>2016</td><td>Bruce Degenhardt</td><td>18.0</td></tr><tr><td>2016</td><td>Dennis Bolton</td><td>81.97</td></tr><tr><td>2016</td><td>Brenda Bowman</td><td>431.81000000000006</td></tr><tr><td>2016</td><td>Lindsay Castell</td><td>21.27</td></tr><tr><td>2016</td><td>Berenike Kampe</td><td>2.23</td></tr><tr><td>2016</td><td>Max Ludwig</td><td>63.83</td></tr><tr><td>2016</td><td>Toby Carlisle</td><td>-27.83</td></tr><tr><td>2016</td><td>Kelly Collister</td><td>635.6800000000001</td></tr><tr><td>2016</td><td>Stefania Perrino</td><td>-171.23</td></tr><tr><td>2016</td><td>Liz Preis</td><td>79.35999999999999</td></tr><tr><td>2016</td><td>Roy Phan</td><td>143.06</td></tr><tr><td>2016</td><td>Suzanne McNair</td><td>43.0</td></tr><tr><td>2016</td><td>Mike Pelletier</td><td>-295.64</td></tr><tr><td>2016</td><td>Brian Thompson</td><td>176.51</td></tr><tr><td>2016</td><td>Cyma Kinney</td><td>101.86000000000001</td></tr><tr><td>2016</td><td>Patrick O'Donnell</td><td>67.6</td></tr><tr><td>2016</td><td>Raymond Messe</td><td>162.04</td></tr><tr><td>2016</td><td>Saphhira Shifley</td><td>6.55</td></tr><tr><td>2016</td><td>Gary McGarr</td><td>108.18</td></tr><tr><td>2016</td><td>Heather Jas</td><td>55.989999999999995</td></tr><tr><td>2016</td><td>Gene Hale</td><td>-24.49000000000001</td></tr><tr><td>2016</td><td>Nancy Lomonaco</td><td>18.66</td></tr><tr><td>2016</td><td>Theresa Swint</td><td>-48.91</td></tr><tr><td>2016</td><td>Delfina Latchford</td><td>206.58000000000004</td></tr><tr><td>2016</td><td>Bart Watters</td><td>97.06</td></tr><tr><td>2016</td><td>Kalyca Meade</td><td>56.34</td></tr><tr><td>2016</td><td>)(*&Sung Pak</td><td>619.14</td></tr><tr><td>2016</td><td>Ross Baird</td><td>51.790000000000006</td></tr><tr><td>2016</td><td>Laurel Elliston</td><td>179.75</td></tr><tr><td>2016</td><td>Karl Braun</td><td>27.52</td></tr><tr><td>2016</td><td>Elizabeth Moffitt</td><td>-8.32</td></tr><tr><td>2016</td><td>Tom Stivers</td><td>17.05</td></tr><tr><td>2016</td><td>Jason Fortune-</td><td>-9.879999999999997</td></tr><tr><td>2016</td><td>Doug Bickford</td><td>22.73</td></tr><tr><td>2016</td><td>Ge 1234orge Bell</td><td>-77.53999999999999</td></tr><tr><td>2016</td><td>Pamela Stobb</td><td>133.29</td></tr><tr><td>2016</td><td>Maya Herman</td><td>7.0</td></tr><tr><td>2016</td><td>Joseph Airdo</td><td>114.19</td></tr><tr><td>2016</td><td>Alan Schoenberger</td><td>-6.21</td></tr><tr><td>2016</td><td>Claudia Bergmann</td><td>458.64</td></tr><tr><td>2016</td><td>Stuart Calhoun</td><td>9.0</td></tr><tr><td>2016</td><td>Craig Yedwab</td><td>49.730000000000004</td></tr><tr><td>2016</td><td>Pauline Webber</td><td>437.40000000000003</td></tr><tr><td>2016</td><td>Neola Schneider</td><td>19.54</td></tr><tr><td>2016</td><td>Beth Paige</td><td>-65.74999999999999</td></tr><tr><td>2016</td><td>Pete@#$ Takahito</td><td>-17.52</td></tr><tr><td>2016</td><td>Resi Pölking</td><td>154.14</td></tr><tr><td>2016</td><td>Sarah Foster</td><td>21.14</td></tr><tr><td>2016</td><td>Cathy Hwang</td><td>126.9</td></tr><tr><td>2016</td><td>Corey Roper</td><td>30.45</td></tr><tr><td>2016</td><td>Mitch Webber</td><td>0.5</td></tr><tr><td>2016</td><td>Todd Boyes</td><td>62.39</td></tr><tr><td>2016</td><td>Christopher Schild</td><td>-114.17</td></tr><tr><td>2016</td><td>Kristen Hastings</td><td>7.18</td></tr><tr><td>2016</td><td>Mark Hamilton</td><td>375.67</td></tr><tr><td>2016</td><td>Chris McAfee</td><td>365.03000000000003</td></tr><tr><td>2016</td><td>Erica Hernandez</td><td>9.95</td></tr><tr><td>2016</td><td>John Lucas</td><td>-37.95</td></tr><tr><td>2016</td><td>Dianna Vittorini</td><td>89.95</td></tr><tr><td>2016</td><td>Tom Boeckenhauer</td><td>12.18</td></tr><tr><td>2016</td><td>Nona Balk</td><td>-157.96</td></tr><tr><td>2016</td><td>Susan Pistek</td><td>8.699999999999998</td></tr><tr><td>2016</td><td>Don Weiss</td><td>16.01</td></tr><tr><td>2016</td><td>Edward Nazzal</td><td>438.4</td></tr><tr><td>2016</td><td>Troy Blackwell</td><td>-144.58999999999997</td></tr><tr><td>2016</td><td>Lisa Hazard</td><td>16.46</td></tr><tr><td>2016</td><td>Sung Chung</td><td>1.23</td></tr><tr><td>2016</td><td>Paul Lucas</td><td>-13.65</td></tr><tr><td>2016</td><td>Harry Marie</td><td>82.74999999999997</td></tr><tr><td>2016</td><td>Janet Martin</td><td>155.23</td></tr><tr><td>2016</td><td>Rob Dowd</td><td>24.23</td></tr><tr><td>2016</td><td>Dan Campbell</td><td>-239.55</td></tr><tr><td>2016</td><td>Phillip Breyer</td><td>0.7</td></tr><tr><td>2016</td><td>Dean perceR__#$#</td><td>117.74000000000001</td></tr><tr><td>2016</td><td>David Flashing</td><td>-397.13000000000005</td></tr><tr><td>2016</td><td>Roy Französisch</td><td>264.16</td></tr><tr><td>2016</td><td>Darrin Martin</td><td>-35.449999999999996</td></tr><tr><td>2016</td><td>Mike Kennedy</td><td>41.080000000000005</td></tr><tr><td>2016</td><td>Jason Gross</td><td>-22.930000000000007</td></tr><tr><td>2016</td><td>Mark Van Huff</td><td>106.42</td></tr><tr><td>2016</td><td>       Kristi;'[]na Nunn</td><td>25.0</td></tr><tr><td>2016</td><td>Eugene Hildebrand</td><td>-71.63999999999999</td></tr><tr><td>2016</td><td>Vivian Mathis</td><td>103.16</td></tr><tr><td>2016</td><td>Alejandro Ballentine</td><td>26.069999999999997</td></tr><tr><td>2016</td><td>Roy Collins</td><td>56.69</td></tr><tr><td>2016</td><td>Brian Moss</td><td>-2.03</td></tr><tr><td>2016</td><td>Lindsay Williams</td><td>322.32</td></tr><tr><td>2016</td><td>Clay Ludtke</td><td>713.45</td></tr><tr><td>2016</td><td>Tracy P 908765oddar</td><td>104.74</td></tr><tr><td>2016</td><td>Dan Reichenbach</td><td>126.06</td></tr><tr><td>2016</td><td>Charles Sheldon</td><td>18.35</td></tr><tr><td>2016</td><td>Liz Thompson</td><td>28.380000000000003</td></tr><tr><td>2016</td><td>Annie Thurman</td><td>51.67</td></tr><tr><td>2016</td><td>Brad Eason</td><td>71.06</td></tr><tr><td>2016</td><td>Dave Poirier</td><td>486.12</td></tr><tr><td>2016</td><td>Evan Henry</td><td>209.28</td></tr><tr><td>2016</td><td>Christine Kargatis</td><td>59.08</td></tr><tr><td>2016</td><td>Kat rina Edelman</td><td>19.0</td></tr><tr><td>2016</td><td>Troy Staebel</td><td>-57.290000000000006</td></tr><tr><td>2016</td><td>Clay Rozendal</td><td>-34.400000000000006</td></tr><tr><td>2016</td><td>Dan Lawera</td><td>311.98</td></tr><tr><td>2016</td><td>Yoseph Carroll</td><td>427.27</td></tr><tr><td>2016</td><td>Irene Maddox</td><td>329.3</td></tr><tr><td>2016</td><td>Gene McClure</td><td>17.57</td></tr><tr><td>2016</td><td>Bi 8761l Shonely</td><td>2405.71</td></tr><tr><td>2016</td><td>Scot Coram</td><td>435.64</td></tr><tr><td>2016</td><td>Benjamin Farhat</td><td>173.24</td></tr><tr><td>2016</td><td>David Smith</td><td>-46.949999999999996</td></tr><tr><td>2016</td><td>Arianne Irving</td><td>485.32</td></tr><tr><td>2016</td><td>Rob Haberlin</td><td>7.25</td></tr><tr><td>2016</td><td>Bobby Elias</td><td>577.1999999999999</td></tr><tr><td>2016</td><td>Mike Caudle</td><td>86.95</td></tr><tr><td>2016</td><td>\":[]|}-=Charles Crestani</td><td>7.86</td></tr><tr><td>2016</td><td>Jim Epp</td><td>22.24</td></tr><tr><td>2016</td><td>Tonja Turnell</td><td>2.4</td></tr><tr><td>2016</td><td>Jas O'Carroll</td><td>51.21</td></tr><tr><td>2016</td><td>Sanjit Chand</td><td>196.19</td></tr><tr><td>2016</td><td>Jonathan Doherty</td><td>1179.8200000000002</td></tr><tr><td>2016</td><td>Mick Crebagga</td><td>0.93</td></tr><tr><td>2016</td><td>Trudy Schmidt</td><td>364.87</td></tr><tr><td>2016</td><td>Frank Olsen</td><td>22.560000000000002</td></tr><tr><td>2016</td><td>Tamara Chand</td><td>8764.949999999999</td></tr><tr><td>2016</td><td>Scott Williamson</td><td>221.48</td></tr><tr><td>2016</td><td>Ben Pet 987 -=erman</td><td>-33.890000000000015</td></tr><tr><td>2016</td><td>Anthony Johnson</td><td>400.21</td></tr><tr><td>2016</td><td>Paul Stevenson</td><td>3.44</td></tr><tr><td>2016</td><td>Rick Bensley</td><td>123.82</td></tr><tr><td>2016</td><td>Steve Chapman</td><td>347.96</td></tr><tr><td>2016</td><td>Cynthia Voltz</td><td>-35.39</td></tr><tr><td>2016</td><td>Carl Jackson</td><td>1.65</td></tr><tr><td>2016</td><td>Lynn Smith</td><td>60.37</td></tr><tr><td>2016</td><td>Edward Becker</td><td>139.81</td></tr><tr><td>2016</td><td>Nicole Hansen</td><td>5.18</td></tr><tr><td>2016</td><td>Phillip Flathmann</td><td>513.27</td></tr><tr><td>2016</td><td>Allen Armold</td><td>122.72999999999999</td></tr><tr><td>2016</td><td>Karen Dan!els</td><td>2318.7</td></tr><tr><td>2016</td><td>Eudokia Martin</td><td>30.63</td></tr><tr><td>2016</td><td>Xylona Preis</td><td>314.09</td></tr><tr><td>2016</td><td>Denny Joy</td><td>378.27</td></tr><tr><td>2016</td><td>Alice McCarthy</td><td>9.97</td></tr><tr><td>2016</td><td>Jim Radford</td><td>0.0</td></tr><tr><td>2016</td><td>Henia Zydlo</td><td>6.29</td></tr><tr><td>2016</td><td>Maureen Gnade</td><td>16.7</td></tr><tr><td>2016</td><td>Vivek Grady</td><td>28.14</td></tr><tr><td>2016</td><td>Seth Vernon</td><td>39.77</td></tr><tr><td>2016</td><td>Cindy Stewart</td><td>-6696.29</td></tr><tr><td>2016</td><td>Eugene Moren</td><td>968.5699999999998</td></tr><tr><td>2016</td><td>Tim Taslimi</td><td>32.53</td></tr><tr><td>2016</td><td>Ricardo Sperren</td><td>14.42</td></tr><tr><td>2016</td><td>Matt Collins</td><td>15.59</td></tr><tr><td>2016</td><td>Michael Kennedy</td><td>-456.25999999999993</td></tr><tr><td>2016</td><td>Cynthia Delaney</td><td>346.71</td></tr><tr><td>2016</td><td>Caroline Jumper</td><td>1382.97</td></tr><tr><td>2016</td><td>Jessica Myrick</td><td>232.13</td></tr><tr><td>2016</td><td>Kunst Miller</td><td>54.92</td></tr><tr><td>2016</td><td>Dionis Lloyd</td><td>97.83999999999999</td></tr><tr><td>2016</td><td>Corey Catlett</td><td>-202.26999999999998</td></tr><tr><td>2016</td><td>Amy Cox</td><td>381.04</td></tr><tr><td>2016</td><td>Kat rina Willman</td><td>32.16</td></tr><tr><td>2016</td><td>Sara Luxemburg</td><td>3.11</td></tr><tr><td>2016</td><td>Fred Wa55erman</td><td>12.21</td></tr><tr><td>2016</td><td>Penelope Sewall</td><td>6.32</td></tr><tr><td>2016</td><td>Giulietta Weimer</td><td>44.58</td></tr><tr><td>2016</td><td>Rick Duston</td><td>69.39</td></tr><tr><td>2016</td><td>Andrew Allen</td><td>420.74999999999994</td></tr><tr><td>2016</td><td>Shirley Jackson</td><td>253.82</td></tr><tr><td>2016</td><td>Chloris Kastensmidt</td><td>-128.01</td></tr><tr><td>2016</td><td>Chuck Magee</td><td>53.190000000000005</td></tr><tr><td>2016</td><td>Brian Dahlen</td><td>124.5</td></tr><tr><td>2016</td><td>Liz Pelletier</td><td>21.939999999999998</td></tr><tr><td>2016</td><td>Ruben Dartt</td><td>177.10000000000002</td></tr><tr><td>2016</td><td>Emily Phan</td><td>-393.67</td></tr><tr><td>2016</td><td>Art Foster</td><td>-5.75</td></tr><tr><td>2016</td><td>Jamie Kunitz</td><td>1.0300000000000002</td></tr><tr><td>2016</td><td>Catherine Glotzbach</td><td>58.67999999999999</td></tr><tr><td>2016</td><td>Vivek Sundaresam</td><td>-7.8100000000000005</td></tr><tr><td>2016</td><td>Andy Yotov</td><td>6.7</td></tr><tr><td>2016</td><td>Ionia McGrath</td><td>956.54</td></tr><tr><td>2016</td><td>Bryan Mills</td><td>56.370000000000005</td></tr><tr><td>2016</td><td>Bryan Davis</td><td>110.7</td></tr><tr><td>2016</td><td>Jasper Cacioppo</td><td>-4.08</td></tr><tr><td>2016</td><td>Alan Haines</td><td>-349.36</td></tr><tr><td>2016</td><td>Debra Catini</td><td>10.46</td></tr><tr><td>2016</td><td>Jill Matthias</td><td>113.72</td></tr><tr><td>2016</td><td>Maxwell Schwartz</td><td>164.04000000000002</td></tr><tr><td>2016</td><td>Nat Carroll</td><td>26.29</td></tr><tr><td>2016</td><td>Sanjit Jacobs</td><td>266.13</td></tr><tr><td>2016</td><td>Steven Ward</td><td>48.51</td></tr><tr><td>2016</td><td>Heather Kirkland</td><td>17.020000000000003</td></tr><tr><td>2016</td><td>Dario Medina</td><td>0.26</td></tr><tr><td>2016</td><td>Sean Braxton</td><td>16.89</td></tr><tr><td>2016</td><td>Sue Ann Reed</td><td>-17.11</td></tr><tr><td>2016</td><td>Victoria Wilson</td><td>-188.81</td></tr><tr><td>2016</td><td>Luke Foster</td><td>0.72</td></tr><tr><td>2016</td><td>Justin Ritter</td><td>44.21</td></tr><tr><td>2016</td><td>Guy Thornton</td><td>6.3</td></tr><tr><td>2016</td><td>Giulietta Dortch</td><td>-155.3</td></tr><tr><td>2016</td><td>Sarah Jordon</td><td>-3.24</td></tr><tr><td>2016</td><td>Pete Armstrong</td><td>22.56</td></tr><tr><td>2016</td><td>             Dorothy Wardle</td><td>92.61</td></tr><tr><td>2016</td><td>Sean Wendt</td><td>146.09</td></tr><tr><td>2016</td><td>Dennis Kane</td><td>360.96999999999997</td></tr><tr><td>2016</td><td>Matthew Grinstein</td><td>204.83999999999997</td></tr><tr><td>2016</td><td>Ken Heidel</td><td>30.61</td></tr><tr><td>2016</td><td>Lena Creighton</td><td>147.88</td></tr><tr><td>2016</td><td>Barry Franz</td><td>-365.71999999999997</td></tr><tr><td>2016</td><td>Ivan Gibson</td><td>54.86</td></tr><tr><td>2016</td><td>Filia McAdams</td><td>45.93</td></tr><tr><td>2016</td><td>Corey-Lock</td><td>19.19</td></tr><tr><td>2016</td><td>Peter McVee</td><td>30.35</td></tr><tr><td>2016</td><td>Anna Andreadi</td><td>334.63</td></tr><tr><td>2016</td><td>Scot Wooten</td><td>82.53</td></tr><tr><td>2016</td><td>Doug Jacobs</td><td>25.78</td></tr><tr><td>2016</td><td>Robert Dilbeck</td><td>151.77</td></tr><tr><td>2016</td><td>Vivek Gonzalez</td><td>18.48</td></tr><tr><td>2016</td><td>Maris LaWare</td><td>15.0</td></tr><tr><td>2016</td><td>Mark Haberlin</td><td>12.58</td></tr><tr><td>2016</td><td>John Castell</td><td>70.55</td></tr><tr><td>2016</td><td>Christina Anderson</td><td>24.6</td></tr><tr><td>2016</td><td>Michael Moore</td><td>447.84000000000003</td></tr><tr><td>2016</td><td>Brian DeCherney</td><td>20.18</td></tr><tr><td>2016</td><td>Stuart Van</td><td>11.24</td></tr><tr><td>2016</td><td>Kelly Andreada</td><td>67.44</td></tr><tr><td>2016</td><td>Sibella Parks</td><td>-203.14999999999998</td></tr><tr><td>2016</td><td>Jeremy Pistek</td><td>130.51</td></tr><tr><td>2016</td><td>Justin MacKendrick</td><td>23.86</td></tr><tr><td>2016</td><td>Joseph Holt</td><td>72.03</td></tr><tr><td>2016</td><td>Adrian Shami</td><td>1.5</td></tr><tr><td>2016</td><td>Odella Nelson</td><td>-157.52999999999997</td></tr><tr><td>2016</td><td>Stewart Visinsky</td><td>76.77</td></tr><tr><td>2016</td><td>Jeremy Lonsdale</td><td>21.750000000000004</td></tr><tr><td>2016</td><td>Anne McFarland</td><td>90.25999999999999</td></tr><tr><td>2016</td><td>Harold Engle</td><td>112.71</td></tr><tr><td>2016</td><td>Carlos Meador</td><td>-56.9</td></tr><tr><td>2016</td><td>Patrick Jones</td><td>8.2</td></tr><tr><td>2016</td><td>Steve Carroll</td><td>109.82000000000001</td></tr><tr><td>2016</td><td>Ellis Ballard</td><td>0.0</td></tr><tr><td>2016</td><td>Ross DeVincentis</td><td>115.75999999999999</td></tr><tr><td>2016</td><td>Dorothy Dickinson</td><td>-6.9</td></tr><tr><td>2016</td><td>Tom Ashbrook</td><td>-76.0</td></tr><tr><td>2016</td><td>Benjamin Venier</td><td>127.00999999999999</td></tr><tr><td>2016</td><td>Natalie Webber</td><td>-255.45000000000002</td></tr><tr><td>2016</td><td>Peter Bühler</td><td>0.9</td></tr><tr><td>2016</td><td>Erica Bern</td><td>151.89000000000001</td></tr><tr><td>2016</td><td>Rick Huthwaite</td><td>1152.82</td></tr><tr><td>2016</td><td>Nora Pelletier</td><td>31.419999999999998</td></tr><tr><td>2016</td><td>Andy Reiter</td><td>9.53</td></tr><tr><td>2016</td><td>Thea Hudgings</td><td>-76.64</td></tr><tr><td>2016</td><td>Trudy Brown</td><td>70.93</td></tr><tr><td>2016</td><td>Corinna Mitchell</td><td>599.89</td></tr><tr><td>2016</td><td>654Dean Braden</td><td>-66.46999999999998</td></tr><tr><td>2016</td><td>Lisa Ryan</td><td>-387.68</td></tr><tr><td>2016</td><td>Brendan Sweed</td><td>12.36</td></tr><tr><td>2016</td><td>Dean Katz</td><td>227.45</td></tr><tr><td>2016</td><td>Nick Zandusky</td><td>-30.61</td></tr><tr><td>2016</td><td>Jane Waco</td><td>131.25</td></tr><tr><td>2016</td><td>Jack O'Briant</td><td>440.01</td></tr><tr><td>2016</td><td>Maria Zettner</td><td>0.16</td></tr><tr><td>2016</td><td>Tracy Collins</td><td>161.53</td></tr><tr><td>2016</td><td>Damala Kotsonis</td><td>185.33999999999997</td></tr><tr><td>2016</td><td>Laurel Beltran</td><td>-658.62</td></tr><tr><td>2016</td><td>Patrick O'Brill</td><td>-316.63</td></tr><tr><td>2016</td><td>Lisa DeCherney</td><td>111.25999999999999</td></tr><tr><td>2016</td><td>Giulietta Baptist</td><td>73.22</td></tr><tr><td>2016</td><td>Shirl)(*&ey Schmidt</td><td>14.87</td></tr><tr><td>2016</td><td> Elpida Rittenbach </td><td>-299.90000000000003</td></tr><tr><td>2016</td><td>Luke Schmidt</td><td>18.28</td></tr><tr><td>2016</td><td>Meg O'Connel</td><td>5.5</td></tr><tr><td>2015</td><td>Jennifer Ferguson</td><td>56.64</td></tr><tr><td>2015</td><td>         Helen Abelman</td><td>111.28</td></tr><tr><td>2015</td><td>Maribeth Dona</td><td>51.66</td></tr><tr><td>2015</td><td>John Stevenson</td><td>392.89000000000004</td></tr><tr><td>2015</td><td>Ken Heidel</td><td>501.53999999999996</td></tr><tr><td>2015</td><td>Grace Kelly</td><td>86.65</td></tr><tr><td>2015</td><td>Alyssa Tate</td><td>-2.53</td></tr><tr><td>2015</td><td>Alan Shonely</td><td>5.08</td></tr><tr><td>2015</td><td>Joni Wa55erman</td><td>-201.65</td></tr><tr><td>2015</td><td>Fred Hopkins</td><td>2139.7400000000002</td></tr><tr><td>2015</td><td>Helen Wa55erman</td><td>17.2</td></tr><tr><td>2015</td><td>Harold Pawlan</td><td>-21.700000000000003</td></tr><tr><td>2015</td><td>Dave Poirier</td><td>16.29</td></tr><tr><td>2015</td><td>Julia West</td><td>133.51</td></tr><tr><td>2015</td><td>Maya Herman</td><td>94.71</td></tr><tr><td>2015</td><td>Emily Burns</td><td>242.29999999999998</td></tr><tr><td>2015</td><td>Neil Knudson%^&*(</td><td>1.79</td></tr><tr><td>2015</td><td>UNKNOWN</td><td>2096.23</td></tr><tr><td>2015</td><td>Sylvia Foulston</td><td>448.98</td></tr><tr><td>2015</td><td>Aleksandra Gannaway</td><td>8.39</td></tr><tr><td>2015</td><td>Arianne Irving</td><td>17.03</td></tr><tr><td>2015</td><td>Clay Ludtke</td><td>490.36</td></tr><tr><td>2015</td><td>Nathan Cano</td><td>36.230000000000004</td></tr><tr><td>2015</td><td>Benjamin Venier</td><td>82.27000000000001</td></tr><tr><td>2015</td><td>Nathan Gelder</td><td>54.0</td></tr><tr><td>2015</td><td> Shahi  Shariari</td><td>-504.24</td></tr><tr><td>2015</td><td>Amy Hunt</td><td>-342.08000000000004</td></tr><tr><td>2015</td><td>Brosin34a Hoffman 09</td><td>5.84</td></tr><tr><td>2015</td><td>Tony Chapman</td><td>27.0</td></tr><tr><td>2015</td><td>Cari Sayre</td><td>-5.73</td></tr><tr><td>2015</td><td>Mick Crebagga</td><td>-73.3</td></tr><tr><td>2015</td><td>Fred Chung</td><td>12.6</td></tr><tr><td>2015</td><td>Kat rina Willman</td><td>1600.8500000000001</td></tr><tr><td>2015</td><td>Anna Andreadi</td><td>439.31</td></tr><tr><td>2015</td><td>Sanjit Jacobs</td><td>-65.82</td></tr><tr><td>2015</td><td>Bradley Drucker</td><td>70.98</td></tr><tr><td>2015</td><td>James Galang</td><td>736.7600000000001</td></tr><tr><td>2015</td><td>Victor Preis</td><td>8.93</td></tr><tr><td>2015</td><td>Ge 1234orge Bell</td><td>74.28999999999999</td></tr><tr><td>2015</td><td>Ross Baird</td><td>-18.46</td></tr><tr><td>2015</td><td>Frank Carlisle</td><td>35.53</td></tr><tr><td>2015</td><td>Emily Grady</td><td>55.0</td></tr><tr><td>2015</td><td>Christopher Schild</td><td>75.7</td></tr><tr><td>2015</td><td>_12312Patrick Bzostek</td><td>7.56</td></tr><tr><td>2015</td><td>Rick Reed</td><td>32.5</td></tr><tr><td>2015</td><td>Lisa Hazard</td><td>-27.0</td></tr><tr><td>2015</td><td>Claudia Bergmann</td><td>249.13</td></tr><tr><td>2015</td><td>Pierre Wener</td><td>1378.01</td></tr><tr><td>2015</td><td>Neil Französisch</td><td>72.89</td></tr><tr><td>2015</td><td>Dave Kipp</td><td>173.71</td></tr><tr><td>2015</td><td>Brian Stugart</td><td>175.39000000000001</td></tr><tr><td>2015</td><td>Pauline Johnson</td><td>40.07</td></tr><tr><td>2015</td><td>Stewart Visinsky</td><td>209.66</td></tr><tr><td>2015</td><td>Christopher Martinez</td><td>3197.7699999999995</td></tr><tr><td>2015</td><td>Becky Castell</td><td>92.0</td></tr><tr><td>2015</td><td>Sean Miller</td><td>-225.51999999999998</td></tr><tr><td>2015</td><td>Kristen Hastings</td><td>-36.13000000000001</td></tr><tr><td>2015</td><td>Thea Hendricks</td><td>0.81</td></tr><tr><td>2015</td><td>Eric Hoffmann</td><td>10.62</td></tr><tr><td>2015</td><td>Tom Prescott</td><td>64.52</td></tr><tr><td>2015</td><td>Dave Hallsten</td><td>783.23</td></tr><tr><td>2015</td><td>Hunter Glantz</td><td>55.9</td></tr><tr><td>2015</td><td>Bruce Stewart</td><td>18.45</td></tr><tr><td>2015</td><td>Tracy P 908765oddar</td><td>34.74</td></tr><tr><td>2015</td><td>Liz Thompson</td><td>76.22</td></tr><tr><td>2015</td><td>Toby Gnade</td><td>-198.33</td></tr><tr><td>2015</td><td>Ellis Ballard</td><td>610.86</td></tr><tr><td>2015</td><td>Alejandro Ballentine</td><td>34.34</td></tr><tr><td>2015</td><td>Don Miller</td><td>167.54000000000002</td></tr><tr><td>2015</td><td>Neil Ducich</td><td>18.66</td></tr><tr><td>2015</td><td>Dean perceR__#$#</td><td>1145.83</td></tr><tr><td>2015</td><td>Helen Andreada</td><td>197.82999999999998</td></tr><tr><td>2015</td><td>Karl Braun</td><td>-18.21</td></tr><tr><td>2015</td><td>Jim Radford</td><td>-785.16</td></tr><tr><td>2015</td><td>Brenda Bowman</td><td>-77.85000000000001</td></tr><tr><td>2015</td><td> Shahi  Hopkins</td><td>2.24</td></tr><tr><td>2015</td><td>Pete Armstrong</td><td>121.57</td></tr><tr><td>2015</td><td>Barry Blumstein</td><td>-8.219999999999999</td></tr><tr><td>2015</td><td>Jonathan Howell</td><td>48.660000000000004</td></tr><tr><td>2015</td><td>Brendan Sweed</td><td>103.1</td></tr><tr><td>2015</td><td>Xylona Preis</td><td>24.849999999999998</td></tr><tr><td>2015</td><td>Logan Currie</td><td>19.4</td></tr><tr><td>2015</td><td>Joni Blumstein</td><td>-359.56</td></tr><tr><td>2015</td><td>Karen Carlisle</td><td>279.99</td></tr><tr><td>2015</td><td>Denise Monton</td><td>2.84</td></tr><tr><td>2015</td><td>Daniel Lacy</td><td>304.39</td></tr><tr><td>2015</td><td>David Smith</td><td>182.58</td></tr><tr><td>2015</td><td>Julie Prescott</td><td>7.43</td></tr><tr><td>2015</td><td>Gary Hwang</td><td>59.650000000000006</td></tr><tr><td>2015</td><td>Harry Marie</td><td>2451.0099999999998</td></tr><tr><td>2015</td><td>Erin Ashbrook</td><td>321.74</td></tr><tr><td>2015</td><td>Joe Elijah</td><td>50.83</td></tr><tr><td>2015</td><td>Heather Kirkland</td><td>300.07</td></tr><tr><td>2015</td><td>Victo 3456ria Brennan</td><td>84.62</td></tr><tr><td>2015</td><td>Kat rina Bavinger</td><td>42.96</td></tr><tr><td>2015</td><td>Tonja Turnell</td><td>281.0</td></tr><tr><td>2015</td><td>Aimee Bixby</td><td>7.02</td></tr><tr><td>2015</td><td>Quincy Jones</td><td>1014.47</td></tr><tr><td>2015</td><td>Sarah Brown</td><td>939.16</td></tr><tr><td>2015</td><td>Cassandra Brandow</td><td>223.45000000000002</td></tr><tr><td>2015</td><td>Chris Selesnick</td><td>95.25999999999999</td></tr><tr><td>2015</td><td>Doug Jacobs</td><td>36.0</td></tr><tr><td>2015</td><td>Thomas Brumley</td><td>3.06</td></tr><tr><td>2015</td><td>Christy Brittain</td><td>-3.49</td></tr><tr><td>2015</td><td>Sample Company A</td><td>9.1</td></tr><tr><td>2015</td><td>Stephanie Phelps</td><td>95.84</td></tr><tr><td>2015</td><td>Paul Stevenson</td><td>42.15</td></tr><tr><td>2015</td><td>Nicole Fjeld</td><td>258.1</td></tr><tr><td>2015</td><td>Alejandro Grove</td><td>16.96</td></tr><tr><td>2015</td><td>Phillina Ober</td><td>-12.5</td></tr><tr><td>2015</td><td>Brad Norvell</td><td>4.09</td></tr><tr><td>2015</td><td>Michael Kennedy</td><td>0.6</td></tr><tr><td>2015</td><td>Theresa Swint</td><td>311.53999999999996</td></tr><tr><td>2015</td><td>Scott Cohen</td><td>373.95</td></tr><tr><td>2015</td><td>Eugene Barchas</td><td>44.54</td></tr><tr><td>2015</td><td>Valerie Dominguez</td><td>990.8600000000001</td></tr><tr><td>2015</td><td>Darren Koutras</td><td>-76.42999999999999</td></tr><tr><td>2015</td><td>Roger Barcio</td><td>-82.78</td></tr><tr><td>2015</td><td>Neoma Murray</td><td>-26.66</td></tr><tr><td>2015</td><td>Duane Huffman</td><td>28.89</td></tr><tr><td>2015</td><td>Alex Avila</td><td>7.0</td></tr><tr><td>2015</td><td>Philip Brown</td><td>157.66</td></tr><tr><td>2015</td><td>Sam Zeldin</td><td>260.19</td></tr><tr><td>2015</td><td>Robert Barroso</td><td>28.429999999999996</td></tr><tr><td>2015</td><td>MaryBeth Skach</td><td>45.29</td></tr><tr><td>2015</td><td>Roy Französisch</td><td>0.06</td></tr><tr><td>2015</td><td>Mike Caudle</td><td>9.809999999999999</td></tr><tr><td>2015</td><td>Matt Abelman</td><td>619.0599999999998</td></tr><tr><td>2015</td><td>Philisse Overcash</td><td>823.24</td></tr><tr><td>2015</td><td>Clytie Kelty</td><td>-36.93000000000001</td></tr><tr><td>2015</td><td>Carlos Soltero</td><td>16.46</td></tr><tr><td>2015</td><td>Sue Ann Reed</td><td>98.07999999999998</td></tr><tr><td>2015</td><td>Ed Braxton</td><td>47.959999999999994</td></tr><tr><td>2015</td><td>Brooke Gillingham</td><td>28.310000000000002</td></tr><tr><td>2015</td><td>Maria Zettner</td><td>69.35000000000001</td></tr><tr><td>2015</td><td>Keith Herrera</td><td>227.57</td></tr><tr><td>2015</td><td>Denny Ordway</td><td>-136.09</td></tr><tr><td>2015</td><td>Vivek Sundaresam</td><td>-176.60000000000002</td></tr><tr><td>2015</td><td>Deirdre Greer</td><td>0.4200000000000017</td></tr><tr><td>2015</td><td>Lori Olson</td><td>34.45</td></tr><tr><td>2015</td><td>Grant Thornton</td><td>8.87</td></tr><tr><td>2015</td><td>Bart Watters</td><td>103.49000000000001</td></tr><tr><td>2015</td><td>Dana Kaydos</td><td>609.59</td></tr><tr><td>2015</td><td>Paul Prost</td><td>67.55999999999999</td></tr><tr><td>2015</td><td>Kalyca Meade</td><td>450.16</td></tr><tr><td>2015</td><td>Sean Christensen</td><td>0.0</td></tr><tr><td>2015</td><td>Ben Pet 987 -=erman</td><td>66.75999999999999</td></tr><tr><td>2015</td><td>Sonia Cooley</td><td>-2.4299999999999997</td></tr><tr><td>2015</td><td>Chris Cortes</td><td>21.01</td></tr><tr><td>2015</td><td>Steven Roelle</td><td>2.4000000000000004</td></tr><tr><td>2015</td><td>Adam Bellavance</td><td>8.71</td></tr><tr><td>2015</td><td>Victoria Wilson</td><td>-1186.41</td></tr><tr><td>2015</td><td> Elpida Rittenbach </td><td>4.57</td></tr><tr><td>2015</td><td>Katherine Nockton</td><td>-191.35999999999999</td></tr><tr><td>2015</td><td>Michael Granlund</td><td>112.32</td></tr><tr><td>2015</td><td>Maureen Gnade</td><td>-392.86</td></tr><tr><td>2015</td><td>Elizabeth Moffitt</td><td>238.46999999999997</td></tr><tr><td>2015</td><td>Erica Smith</td><td>44.05</td></tr><tr><td>2015</td><td>Dennis Bolton</td><td>15.61</td></tr><tr><td>2015</td><td>Tamara Chand</td><td>37.72</td></tr><tr><td>2015</td><td>Matt Connell</td><td>13.08</td></tr><tr><td>2015</td><td>Giulietta Baptist</td><td>767.6</td></tr><tr><td>2015</td><td>Ivan Liston</td><td>656.6800000000001</td></tr><tr><td>2015</td><td>Chad McGuire</td><td>8.11</td></tr><tr><td>2015</td><td>Michelle Moray</td><td>-247.37</td></tr><tr><td>2015</td><td>Hallie Redmond</td><td>48.12</td></tr><tr><td>2015</td><td>Victoria Pisteka</td><td>-204.15</td></tr><tr><td>2015</td><td>Bryan Mills</td><td>-39.67</td></tr><tr><td>2015</td><td>Noah Childs</td><td>16.85</td></tr><tr><td>2015</td><td>Lindsay Castell</td><td>278.20000000000005</td></tr><tr><td>2015</td><td>Michelle Huthwaite</td><td>91.16</td></tr><tr><td>2015</td><td>Frank Merwin</td><td>1.03</td></tr><tr><td>2015</td><td>Gary Zandusky</td><td>126.31</td></tr><tr><td>2015</td><td>Mark Packer</td><td>311.49999999999994</td></tr><tr><td>2015</td><td>Kean Takahito</td><td>28.81</td></tr><tr><td>2015</td><td>Giulietta Weimer</td><td>134.33</td></tr><tr><td>2015</td><td>Ruben Ausman</td><td>1.67</td></tr><tr><td>2015</td><td>Dan Campbell</td><td>4.89</td></tr><tr><td>2015</td><td>Alan Barnes</td><td>79.94</td></tr><tr><td>2015</td><td>Max Jones</td><td>-77.93</td></tr><tr><td>2015</td><td>Todd Sumrall</td><td>1135.1000000000001</td></tr><tr><td>2015</td><td>Allen Rosenblatt</td><td>105.47</td></tr><tr><td>2015</td><td>Khloe Miller</td><td>34.35</td></tr><tr><td>2015</td><td>Laurel Elliston</td><td>5.08</td></tr><tr><td>2015</td><td>Julie Kriz</td><td>47.93</td></tr><tr><td>2015</td><td>Bruce Degenhardt</td><td>149.49</td></tr><tr><td>2015</td><td>Alex Russell</td><td>-2.57</td></tr><tr><td>2015</td><td>Melanie Seite</td><td>32.45</td></tr><tr><td>2015</td><td>Janet Molinari</td><td>-11.899999999999999</td></tr><tr><td>2015</td><td>Gene Hale</td><td>-71.0</td></tr><tr><td>2015</td><td>Rick Wi 4567@#$lson</td><td>-74.62</td></tr><tr><td>2015</td><td>Steve Chapman</td><td>222.93</td></tr><tr><td>2015</td><td>Nora Pelletier</td><td>449.44</td></tr><tr><td>2015</td><td>Sean Braxton</td><td>79.76</td></tr><tr><td>2015</td><td>Cindy Stewart</td><td>17.34</td></tr><tr><td>2015</td><td>Marc Harrigan</td><td>2.18</td></tr><tr><td>2015</td><td>Speros Goranitis</td><td>162.96</td></tr><tr><td>2015</td><td>Evan Bailliet</td><td>119.43</td></tr><tr><td>2015</td><td>Dario Medina</td><td>42.96</td></tr><tr><td>2015</td><td>Bobby Odegard</td><td>2.07</td></tr><tr><td>2015</td><td>Fred McMath</td><td>17.479999999999997</td></tr><tr><td>2015</td><td>Lena Radford</td><td>30.79</td></tr><tr><td>2015</td><td>Cyra Reiten</td><td>2.13</td></tr><tr><td>2015</td><td>Emily Phan</td><td>361.2</td></tr><tr><td>2015</td><td>Dan Reichenbach</td><td>428.64</td></tr><tr><td>2015</td><td>Ralph Kennedy</td><td>265.57</td></tr><tr><td>2015</td><td>Barry Gonzalez</td><td>-998.9100000000001</td></tr><tr><td>2015</td><td>Julia Barnett</td><td>106.54</td></tr><tr><td>2015</td><td>Denise Leinenbach</td><td>197.98</td></tr><tr><td>2015</td><td>Ryan Akin</td><td>96.53999999999999</td></tr><tr><td>2015</td><td>William Brown</td><td>-87.06</td></tr><tr><td>2015</td><td>N0ra Paige</td><td>80.84</td></tr><tr><td>2015</td><td>Guy Phonely</td><td>67.77</td></tr><tr><td>2015</td><td>Marina Lichtenstein</td><td>-4.94</td></tr><tr><td>2015</td><td>Tim Taslimi</td><td>61.39</td></tr><tr><td>2015</td><td>Darren Powers</td><td>260.74</td></tr><tr><td>2015</td><td>Lena Creighton</td><td>1007.7499999999999</td></tr><tr><td>2015</td><td>Allen Armold</td><td>69.03</td></tr><tr><td>2015</td><td>Jas O'Carroll</td><td>203.94</td></tr><tr><td>2015</td><td>Duane Benoit</td><td>-17.29</td></tr><tr><td>2015</td><td>Michelle Ellison</td><td>8.77</td></tr><tr><td>2015</td><td>Amy Cox</td><td>24.98</td></tr><tr><td>2015</td><td>Roger Demir</td><td>23.85</td></tr><tr><td>2015</td><td>Dennis Pardue</td><td>-223.85</td></tr><tr><td>2015</td><td>Evan Minnotte</td><td>4.0</td></tr><tr><td>2015</td><td>Ben Ferrer</td><td>137.03</td></tr><tr><td>2015</td><td>Bi1l Stewart</td><td>206.62</td></tr><tr><td>2015</td><td>Erin Smith</td><td>-27.16</td></tr><tr><td>2015</td><td>Jeremy Ellison</td><td>57.22</td></tr><tr><td>2015</td><td>Stefanie Holloman</td><td>190.43</td></tr><tr><td>2015</td><td>Rob Lucas</td><td>110.11</td></tr><tr><td>2015</td><td>Annie Zypern</td><td>34.34</td></tr><tr><td>2015</td><td>Denny Blanton</td><td>266.33</td></tr><tr><td>2015</td><td>Valerie Takahito</td><td>-257.93</td></tr><tr><td>2015</td><td>Matt Collins</td><td>62.769999999999996</td></tr><tr><td>2015</td><td>Brad Thomas</td><td>117.39</td></tr><tr><td>2015</td><td>Peter Fuller</td><td>-631.6999999999999</td></tr><tr><td>2015</td><td>Frank Atkinson</td><td>224.56</td></tr><tr><td>2015</td><td>Meg Tillman</td><td>1.7799999999999998</td></tr><tr><td>2015</td><td>Logan Haushalter</td><td>94.85</td></tr><tr><td>2015</td><td>Stefania Perrino</td><td>-0.6199999999999999</td></tr><tr><td>2015</td><td>Michael Grace</td><td>-499.04999999999995</td></tr><tr><td>2015</td><td>Craig Carreira</td><td>8.57</td></tr><tr><td>2015</td><td>John Hus<>><>ton</td><td>19.6</td></tr><tr><td>2015</td><td>Ad.       ..am Hart</td><td>0.34</td></tr><tr><td>2015</td><td>Bart Pistole</td><td>53.56</td></tr><tr><td>2015</td><td>Patrick O'Brill</td><td>7.32</td></tr><tr><td>2015</td><td>Steve Nguyen</td><td>91.21</td></tr><tr><td>2015</td><td>Greg Guthrie</td><td>-115.72</td></tr><tr><td>2015</td><td>Larry Tron</td><td>20.16</td></tr><tr><td>2015</td><td>Benjamin Patterson</td><td>-255.74</td></tr><tr><td>2015</td><td>John Murray</td><td>371.88</td></tr><tr><td>2015</td><td>Karen Seio</td><td>6.489999999999999</td></tr><tr><td>2015</td><td>Anthony Rawles</td><td>9.33</td></tr><tr><td>2015</td><td>Sung Shariari</td><td>-79.33</td></tr><tr><td>2015</td><td>Chad Cunningham</td><td>77.44999999999999</td></tr><tr><td>2015</td><td>Paul MacIntyre</td><td>-21.71</td></tr><tr><td>2015</td><td>&^*(5678Shirley Daniels</td><td>1954.79</td></tr><tr><td>2015</td><td>B*#^%ruce Geld</td><td>15.07</td></tr><tr><td>2015</td><td>Claire Gute</td><td>-93.38</td></tr><tr><td>2015</td><td>Max Engle</td><td>39.769999999999996</td></tr><tr><td>2015</td><td>Toby Swindell</td><td>92.71000000000001</td></tr><tr><td>2015</td><td>Rick Duston</td><td>25.41</td></tr><tr><td>2015</td><td>Barbara Fisher</td><td>0.9599999999999997</td></tr><tr><td>2015</td><td>Shaun Chance</td><td>375.28000000000003</td></tr><tr><td>2015</td><td>Carol Triggs</td><td>19.45</td></tr><tr><td>2015</td><td>Patrick Ryan</td><td>38.269999999999996</td></tr><tr><td>2015</td><td>Luke Foster</td><td>146.20999999999998</td></tr><tr><td>2015</td><td>Jessica Myrick</td><td>46.85</td></tr><tr><td>2015</td><td>Sara Luxemburg</td><td>64.77</td></tr><tr><td>2015</td><td>Penelope Sewall</td><td>1493.94</td></tr><tr><td>2015</td><td>Brendan Dodson</td><td>36.47</td></tr><tr><td>2015</td><td>Karen Bern</td><td>19.85</td></tr><tr><td>2015</td><td>Irene Maddox</td><td>-55.7</td></tr><tr><td>2015</td><td>Kunst Miller</td><td>112.09999999999998</td></tr><tr><td>2015</td><td>Muhammed MacIntyre</td><td>68.2</td></tr><tr><td>2015</td><td>Dianna Vittorini</td><td>101.77000000000001</td></tr><tr><td>2015</td><td>Jill Fjeld</td><td>147.35</td></tr><tr><td>2015</td><td>Sandra Flanagan</td><td>15.98</td></tr><tr><td>2015</td><td>Nathan Mautz</td><td>333.49999999999994</td></tr><tr><td>2015</td><td>Roy Phan</td><td>375.37999999999994</td></tr><tr><td>2015</td><td>Lauren Leatherbury</td><td>404.91</td></tr><tr><td>2015</td><td>Pamela Stobb</td><td>-113.1</td></tr><tr><td>2015</td><td>       Kristi;'[]na Nunn</td><td>-183.10999999999999</td></tr><tr><td>2015</td><td>Steven Cartwright</td><td>404.63000000000005</td></tr><tr><td>2015</td><td>Carlos Meador</td><td>13.17</td></tr><tr><td>2015</td><td>Ivan Gibson</td><td>144.35</td></tr><tr><td>2015</td><td>Tam&^*ara Willing___)ham</td><td>610.3</td></tr><tr><td>2015</td><td>Brian Dahlen</td><td>79.41</td></tr><tr><td>2015</td><td>Chad Sievert</td><td>45.72</td></tr><tr><td>2015</td><td>Suzanne McNair</td><td>468.40000000000003</td></tr><tr><td>2015</td><td>   _Mike Vitt 12313orini</td><td>15.360000000000001</td></tr><tr><td>2015</td><td>Anna Gayman</td><td>-25.990000000000002</td></tr><tr><td>2015</td><td>Dennis Kane</td><td>-95.8</td></tr><tr><td>2015</td><td>Anne Pryor</td><td>-1.36</td></tr><tr><td>2015</td><td>Anth 34789ony Witt</td><td>-13.5</td></tr><tr><td>2015</td><td>Chuck Clark</td><td>60.39</td></tr><tr><td>2015</td><td>Marc Crier</td><td>197.66</td></tr><tr><td>2015</td><td>Alice McCarthy</td><td>178.9</td></tr><tr><td>2015</td><td>Joe Kamberova</td><td>42.080000000000005</td></tr><tr><td>2015</td><td>Joel Jenkins</td><td>34.46</td></tr><tr><td>2015</td><td>Beth Tho098-.,;;mpson</td><td>87.46</td></tr><tr><td>2015</td><td>Sheri Gordon</td><td>44.5</td></tr><tr><td>2015</td><td>Maribeth Yedwab</td><td>2.65</td></tr><tr><td>2015</td><td>Fred Harton</td><td>365.68</td></tr><tr><td>2015</td><td>Tim Brockman</td><td>318.53</td></tr><tr><td>2015</td><td>Shui Tom</td><td>27.01</td></tr><tr><td>2015</td><td>Lisa Ryan</td><td>-142.91</td></tr><tr><td>2015</td><td>Jamie Frazer</td><td>17.99</td></tr><tr><td>2015</td><td>Craig M 876olinari</td><td>-29.9</td></tr><tr><td>2015</td><td>Thais Sissman</td><td>-1.35</td></tr><tr><td>2015</td><td>Sandra Glassco</td><td>352.19</td></tr><tr><td>2015</td><td>Jennifer Braxton</td><td>128.05</td></tr><tr><td>2015</td><td>Barry Französisch</td><td>269.31</td></tr><tr><td>2015</td><td>Alan Hwang</td><td>269.15000000000003</td></tr><tr><td>2015</td><td>Ruben Dartt</td><td>9.09</td></tr><tr><td>2015</td><td>Erica Hackney</td><td>28.380000000000003</td></tr><tr><td>2015</td><td>Annie Thurman</td><td>739.52</td></tr><tr><td>2015</td><td>Sonia Sunley</td><td>8.02</td></tr><tr><td>2015</td><td>Doug O'Connell</td><td>26.82</td></tr><tr><td>2015</td><td>Jane Waco</td><td>89.2</td></tr><tr><td>2015</td><td>Mark Van Huff</td><td>-1.2799999999999976</td></tr><tr><td>2015</td><td>Barry Weirich</td><td>12.11</td></tr><tr><td>2015</td><td>Maurice Satty</td><td>299.8</td></tr><tr><td>2015</td><td>John Dryer</td><td>-313.52</td></tr><tr><td>2015</td><td>Ken Brennan</td><td>17.0</td></tr><tr><td>2015</td><td>Michael Moore</td><td>-373.3</td></tr><tr><td>2015</td><td>Justin Hirsh</td><td>106.41</td></tr><tr><td>2015</td><td>Ritsa Hightower</td><td>-6.03</td></tr><tr><td>2015</td><td>Jim Kriz</td><td>181.04</td></tr><tr><td>2015</td><td>Sam Craven</td><td>43.32</td></tr><tr><td>2015</td><td>Nick Zandusky</td><td>82.82</td></tr><tr><td>2015</td><td>David Philippe</td><td>1.0</td></tr><tr><td>2015</td><td>Cindy Schnelling</td><td>-58.129999999999995</td></tr><tr><td>2015</td><td>Alan Schoenberger</td><td>12.86</td></tr><tr><td>2015</td><td>Patrick Jones</td><td>382.38</td></tr><tr><td>2015</td><td>Ann Chong</td><td>-32.300000000000004</td></tr><tr><td>2015</td><td>Seth Vernon</td><td>-191.64</td></tr><tr><td>2015</td><td>Harold Ryan</td><td>116.94000000000001</td></tr><tr><td>2015</td><td>Kat rina Edelman</td><td>235.64</td></tr><tr><td>2015</td><td>Trudy Schmidt</td><td>-34.08999999999999</td></tr><tr><td>2015</td><td>Liz MacKendrick</td><td>-142.52</td></tr><tr><td>2015</td><td>Gene McClure</td><td>359.46</td></tr><tr><td>2015</td><td>Juliana Krohn</td><td>228.89999999999998</td></tr><tr><td>2015</td><td>Christine Phan</td><td>-1044.46</td></tr><tr><td>2015</td><td>Mark Hamilton</td><td>16.18</td></tr><tr><td>2015</td><td>Rick Huthwaite</td><td>125.67</td></tr><tr><td>2015</td><td>Trudy Brown</td><td>-8.469999999999999</td></tr><tr><td>2015</td><td>Roland Schwarz</td><td>5.01</td></tr><tr><td>2015</td><td>Art Ferguson</td><td>2.02</td></tr><tr><td>2015</td><td>Guy Armstrong</td><td>11.54</td></tr><tr><td>2015</td><td>Jennifer Patt</td><td>100.93</td></tr><tr><td>2015</td><td>Mike Gockenbach</td><td>-137.49</td></tr><tr><td>2015</td><td>Darren Budd</td><td>45.65</td></tr><tr><td>2015</td><td>Carl Weiss</td><td>21.11</td></tr><tr><td>2015</td><td>Guy Thornton</td><td>27.2</td></tr><tr><td>2015</td><td>Anna Häberlin</td><td>106.62</td></tr><tr><td>2015</td><td>Craig Yedwab</td><td>107.0</td></tr><tr><td>2015</td><td>Cynthia Delaney</td><td>2.53</td></tr><tr><td>2015</td><td>Harry Greene</td><td>-2.01</td></tr><tr><td>2015</td><td>Scot Wooten</td><td>-10.840000000000002</td></tr><tr><td>2015</td><td>Chloris Kastensmidt</td><td>5.53</td></tr><tr><td>2015</td><td>Natalie DeCherney</td><td>330.79999999999995</td></tr><tr><td>2015</td><td>Rose O'Brian</td><td>-998.0</td></tr><tr><td>2015</td><td>Art Foster</td><td>101.17999999999999</td></tr><tr><td>2015</td><td>Nat Carroll</td><td>326.28</td></tr><tr><td>2015</td><td>Gary567 Hansen</td><td>38.97</td></tr><tr><td>2015</td><td>Cathy Hwang</td><td>57.39</td></tr><tr><td>2015</td><td>Anne McFarland</td><td>14.700000000000001</td></tr><tr><td>2015</td><td>Michelle Arnett</td><td>3.48</td></tr><tr><td>2015</td><td>Darrin Martin</td><td>6.6</td></tr><tr><td>2015</td><td>Denny Joy</td><td>64.99</td></tr><tr><td>2015</td><td>Heather Jas</td><td>28.71</td></tr><tr><td>2015</td><td>             Dorothy Wardle</td><td>-371.25</td></tr><tr><td>2015</td><td>Maxwell Schwartz</td><td>209.33</td></tr><tr><td>2015</td><td>Randy Ferguson</td><td>102.00999999999999</td></tr><tr><td>2015</td><td>Jesus Ocampo</td><td>153.90999999999997</td></tr><tr><td>2015</td><td>Tracy Hopkins</td><td>391.55</td></tr><tr><td>2015</td><td>Eric Murdock</td><td>51.93</td></tr><tr><td>2015</td><td>Valerie Mitchum</td><td>-3.71</td></tr><tr><td>2015</td><td>Edward Becker</td><td>177.41</td></tr><tr><td>2015</td><td>Robert Marley</td><td>660.5200000000001</td></tr><tr><td>2015</td><td>Keith Dawkins</td><td>2810.3499999999995</td></tr><tr><td>2015</td><td>Jim Epp</td><td>-129.89</td></tr><tr><td>2015</td><td>Monica Federle</td><td>152.73</td></tr><tr><td>2015</td><td>Yana Sorensen</td><td>254.18</td></tr><tr><td>2015</td><td>John Lee</td><td>252.42</td></tr><tr><td>2015</td><td>Andrew Gjertsen</td><td>264.76000000000005</td></tr><tr><td>2015</td><td>Justin MacKendrick</td><td>221.33</td></tr><tr><td>2015</td><td>Dionis Lloyd</td><td>50.349999999999994</td></tr><tr><td>2015</td><td>Jim Karlsson</td><td>438.0</td></tr><tr><td>2015</td><td>Charlotte Melton</td><td>16.89</td></tr><tr><td>2015</td><td>Aaron Hawkins</td><td>136.56</td></tr><tr><td>2015</td><td>Jonathan Doherty</td><td>64.82</td></tr><tr><td>2015</td><td>Stuart Van</td><td>184.2</td></tr><tr><td>2015</td><td>Natalie Webber</td><td>1654.06</td></tr><tr><td>2015</td><td>Julie Creighton</td><td>62.81</td></tr><tr><td>2015</td><td>Ashley Jarboe</td><td>316.58</td></tr><tr><td>2015</td><td>Harold Dahlen</td><td>30.990000000000002</td></tr><tr><td>2015</td><td>Tanja Norvell</td><td>167.98</td></tr><tr><td>2015</td><td>Carol Adams</td><td>182.16</td></tr><tr><td>2015</td><td>Brendan Murry</td><td>37.33</td></tr><tr><td>2015</td><td>Ann Steele</td><td>-10.81</td></tr><tr><td>2015</td><td>Nat Gilpin</td><td>8.05</td></tr><tr><td>2015</td><td>Tamara Dahlen</td><td>-4.520000000000001</td></tr><tr><td>2015</td><td>Kelly Collister</td><td>49.27</td></tr><tr><td>2015</td><td>Skye Norling</td><td>184.57999999999998</td></tr><tr><td>2015</td><td>Christina Anderson</td><td>118.66</td></tr><tr><td>2015</td><td>Stephanie Ulpright</td><td>76.4</td></tr><tr><td>2015</td><td>Lycoris Saunders</td><td>55.239999999999995</td></tr><tr><td>2015</td><td>Berenike Kampe</td><td>42.04</td></tr><tr><td>2015</td><td>Raymond Messe</td><td>19.97</td></tr><tr><td>2015</td><td>Brian Moss</td><td>181.48</td></tr><tr><td>2015</td><td>Muhammed Lee</td><td>1.16</td></tr><tr><td>2015</td><td>Ken Black</td><td>66.41999999999999</td></tr><tr><td>2015</td><td>Fred Wa55erman</td><td>5.48</td></tr><tr><td>2015</td><td>Michael Stewart</td><td>59.35</td></tr><tr><td>2015</td><td>Doug Bickford</td><td>342.08</td></tr><tr><td>2015</td><td>Henry Goldwyn</td><td>34.839999999999996</td></tr><tr><td>2015</td><td>Resi Pölking</td><td>19.71</td></tr><tr><td>2015</td><td>Jeremy Farry</td><td>-103.53999999999999</td></tr><tr><td>2015</td><td>Andy Gerbode</td><td>-59.22</td></tr><tr><td>2015</td><td>Sarah Foster</td><td>-87.01</td></tr><tr><td>2015</td><td>Maria Bertelson</td><td>77.99000000000001</td></tr><tr><td>2015</td><td>Bryan Spruell</td><td>77.11</td></tr><tr><td>2015</td><td>Maribeth 5chnelling</td><td>145.5</td></tr><tr><td>2015</td><td>Ann Blume</td><td>5.07</td></tr><tr><td>2015</td><td>Jay Fein</td><td>161.11</td></tr><tr><td>2015</td><td>Michael Paige</td><td>255.75</td></tr><tr><td>2015</td><td>[]-=;''Becky Pak</td><td>431.98</td></tr><tr><td>2015</td><td>John Grady</td><td>8.69</td></tr><tr><td>2015</td><td>654Dean Braden</td><td>-41.79</td></tr><tr><td>2015</td><td>Adrian Barton</td><td>-142.67000000000002</td></tr><tr><td>2015</td><td>     Rac5467hel Payne</td><td>-50.03999999999999</td></tr><tr><td>2015</td><td>David Bremer</td><td>-285.05999999999995</td></tr><tr><td>2015</td><td>Parhena Norris</td><td>6.46</td></tr><tr><td>2015</td><td>Joseph Holt</td><td>-1429.38</td></tr><tr><td>2015</td><td>Rich.-=%&*ard Eichhorn</td><td>211.06</td></tr><tr><td>2015</td><td>Jennifer Jackson</td><td>181.85</td></tr><tr><td>2015</td><td>Natalie Fritzler</td><td>-1980.3799999999997</td></tr><tr><td>2015</td><td>Eugene Moren</td><td>271.40999999999997</td></tr><tr><td>2015</td><td>Catherine Glotzbach</td><td>5.76</td></tr><tr><td>2015</td><td>Olvera Toch</td><td>81.0</td></tr><tr><td>2015</td><td>Matt Hagelstein</td><td>14.67</td></tr><tr><td>2015</td><td>Christine Sundaresam</td><td>288.11</td></tr><tr><td>2015</td><td>Craig Carroll</td><td>895.35</td></tr><tr><td>2015</td><td>Dean Katz</td><td>-339.65000000000003</td></tr><tr><td>2015</td><td>Lindsay Shagiari</td><td>-108.19999999999999</td></tr><tr><td>2015</td><td>Steve Carroll</td><td>213.7</td></tr><tr><td>2015</td><td>Alan Dominguez</td><td>9.600000000000001</td></tr><tr><td>2015</td><td>Tracy Zic</td><td>15.28</td></tr><tr><td>2015</td><td>Michelle Tran</td><td>-6.29</td></tr><tr><td>2015</td><td>Linda Southworth</td><td>9.82</td></tr><tr><td>2015</td><td>Kean Thornton</td><td>36.699999999999996</td></tr><tr><td>2015</td><td>Nona Balk</td><td>127.06</td></tr><tr><td>2015</td><td>Kean Nguyen</td><td>-118.58</td></tr><tr><td>2015</td><td>Brian Thompson</td><td>435.64000000000004</td></tr><tr><td>2015</td><td>Bi1l Donatelli</td><td>799.49</td></tr><tr><td>2015</td><td>Corey Catlett</td><td>18.310000000000002</td></tr><tr><td>2015</td><td>Odella Nelson</td><td>-31.11</td></tr><tr><td>2015</td><td>Jeremy Pistek</td><td>5.01</td></tr><tr><td>2015</td><td>)(*&Sung Pak</td><td>-65.06000000000002</td></tr><tr><td>2015</td><td>Saphhira Shifley</td><td>25.79</td></tr><tr><td>2015</td><td>Anthony Garverick</td><td>61.71</td></tr><tr><td>2015</td><td>Sarah Jordon</td><td>5.9</td></tr><tr><td>2015</td><td>Lynn Smith</td><td>4.8</td></tr><tr><td>2015</td><td>Ed Jacobs</td><td>15.86</td></tr><tr><td>2015</td><td>Rob Haberlin</td><td>165.37</td></tr><tr><td>2015</td><td>Eugene Hildebrand</td><td>-117.86999999999999</td></tr><tr><td>2015</td><td>Daniel Raglin</td><td>296.67</td></tr><tr><td>2015</td><td>Kelly Andreada</td><td>77.97</td></tr><tr><td>2015</td><td>John Castell</td><td>27.630000000000003</td></tr><tr><td>2015</td><td>Debra Catini</td><td>55.75</td></tr><tr><td>2015</td><td>Sanjit Chand</td><td>92.68</td></tr><tr><td>2015</td><td>C@thy Armstrong</td><td>-47.73</td></tr><tr><td>2015</td><td>Greg Hansen</td><td>3.07</td></tr><tr><td>2015</td><td>Eileen Kiefer</td><td>20.54</td></tr><tr><td>2015</td><td>Thomas Thornton</td><td>52.519999999999996</td></tr><tr><td>2015</td><td>Corey-Lock</td><td>44.03</td></tr><tr><td>2015</td><td>Ted Trevino</td><td>205.15000000000003</td></tr><tr><td>2015</td><td>Stuart Calhoun</td><td>40.63</td></tr><tr><td>2015</td><td>Brian Derr</td><td>102.25</td></tr><tr><td>2015</td><td>Tamara Manning</td><td>255.04</td></tr><tr><td>2015</td><td>Frank Olsen</td><td>18.980000000000004</td></tr><tr><td>2015</td><td>Nicole Hansen</td><td>85.82</td></tr><tr><td>2015</td><td>Brad Eason</td><td>120.21</td></tr><tr><td>2015</td><td>Sean O'Donnell</td><td>-282.31</td></tr><tr><td>2015</td><td>Justin Deggeller</td><td>212.64000000000001</td></tr><tr><td>2015</td><td>Mike Pelletier</td><td>526.73</td></tr><tr><td>2015</td><td>Cathy Prescott</td><td>102.44</td></tr><tr><td>2015</td><td>Alan Haines</td><td>-12.1</td></tr><tr><td>2015</td><td>George Ashbrook</td><td>625.85</td></tr><tr><td>2015</td><td>Cari Schnelling</td><td>-2.84</td></tr><tr><td>2015</td><td>Zuschuss Carroll</td><td>307.48</td></tr><tr><td>2015</td><td>Deborah Brumfield</td><td>1.7199999999999998</td></tr><tr><td>2015</td><td>Roland Fjeld</td><td>187.1</td></tr><tr><td>2015</td><td>Dan Lawera</td><td>9.04</td></tr><tr><td>2015</td><td>Damala Kotsonis</td><td>369.26</td></tr><tr><td>2015</td><td>Greg Tran</td><td>974.31</td></tr><tr><td>2015</td><td>Cyma Kinney</td><td>14.5</td></tr><tr><td>2015</td><td>Joel Eaton</td><td>-507.06000000000006</td></tr><tr><td>2015</td><td>Michael Oakman</td><td>-79.31</td></tr><tr><td>2015</td><td>Maureen Gastineau</td><td>-1.2</td></tr><tr><td>2015</td><td>Ralph Arnett</td><td>234.81000000000003</td></tr><tr><td>2015</td><td>Janet Lee</td><td>53.470000000000006</td></tr><tr><td>2015</td><td>Joni Sundaresam</td><td>-312.06</td></tr><tr><td>2015</td><td>Katherine Murray</td><td>29.310000000000002</td></tr><tr><td>2015</td><td>Mary Zewe</td><td>8.21</td></tr><tr><td>2015</td><td> &&Tracy Blumstein</td><td>-1524.01</td></tr><tr><td>2015</td><td>Corinna Mitchell</td><td>116.62</td></tr><tr><td>2015</td><td>Peter McVee</td><td>426.81000000000006</td></tr><tr><td>2015</td><td>Arthur Wiediger</td><td>64.24000000000001</td></tr><tr><td>2015</td><td>\":[]|}-=Charles Crestani</td><td>297.36</td></tr><tr><td>2015</td><td>Justin Ritter</td><td>152.39</td></tr><tr><td>2015</td><td>Laura Armstrong</td><td>-0.11999999999999922</td></tr><tr><td>2015</td><td>Pauline Webber</td><td>15.15</td></tr><tr><td>2015</td><td>Theone Pippenger</td><td>-1.85</td></tr><tr><td>2015</td><td>Trudy Glocke</td><td>191.28</td></tr><tr><td>2015</td><td>Philip Fox</td><td>75.23</td></tr><tr><td>2015</td><td>Karen Dan!els</td><td>129.49</td></tr><tr><td>2015</td><td>Henry MacAllister</td><td>73.82</td></tr><tr><td>2015</td><td>Sanjit Engle</td><td>159.32</td></tr><tr><td>2015</td><td>Frank Preis</td><td>-140.57</td></tr><tr><td>2015</td><td>Stewart Carmichael</td><td>147.72</td></tr><tr><td>2015</td><td>Ji11 Stevenson</td><td>4.53</td></tr><tr><td>2015</td><td>Bi1l Tyler</td><td>194.73000000000002</td></tr><tr><td>2015</td><td>Paul Gonzalez</td><td>174.73000000000002</td></tr><tr><td>2015</td><td>Patrick Gardner</td><td>-564.6800000000001</td></tr><tr><td>2015</td><td>Andy Reiter</td><td>247.28000000000003</td></tr><tr><td>2015</td><td>Meg O'Connel</td><td>-16.970000000000002</td></tr><tr><td>2015</td><td>Andrew Roberts</td><td>27.99</td></tr><tr><td>2015</td><td>Robert Dilbeck</td><td>-73.41</td></tr><tr><td>2015</td><td>Ken Lonsdale</td><td>252.53</td></tr><tr><td>2015</td><td>Yoseph Carroll</td><td>7.07</td></tr><tr><td>2015</td><td>Kelly Williams</td><td>97.14</td></tr><tr><td>2015</td><td>Edward Nazzal</td><td>51.269999999999996</td></tr><tr><td>2015</td><td>Julia Dunbar</td><td>-29.25</td></tr><tr><td>2015</td><td>Tracy Collins</td><td>30.65</td></tr><tr><td>2015</td><td>Mark Cousins</td><td>57.2</td></tr><tr><td>2015</td><td>Rick Hansen</td><td>480.63</td></tr><tr><td>2015</td><td>Lena Hernandez</td><td>121.10999999999999</td></tr><tr><td>2015</td><td>Katherine Ducich</td><td>243.53000000000003</td></tr><tr><td>2015</td><td>Carlos Daly</td><td>17.75</td></tr><tr><td>2015</td><td>Russell Applegate</td><td>-118.15</td></tr><tr><td>2015</td><td>Noel Staavos</td><td>151.68</td></tr><tr><td>2015</td><td>Anthony Jacobs</td><td>5.32</td></tr><tr><td>2015</td><td>Cynthia A;,.[]rntzen</td><td>-101.6</td></tr><tr><td>2015</td><td>Mitch Webber</td><td>24.5</td></tr><tr><td>2015</td><td>Richard Bierner</td><td>49.57000000000001</td></tr><tr><td>2015</td><td>Arthur Gainer</td><td>18.82</td></tr><tr><td>2015</td><td>David Flashing</td><td>99.94</td></tr><tr><td>2015</td><td>Pauline Chand</td><td>-172.51</td></tr><tr><td>2015</td><td>Maria Etezadi</td><td>-9.56</td></tr><tr><td>2015</td><td>Jack Garza</td><td>-50.17</td></tr><tr><td>2015</td><td>Jamie Kunitz</td><td>615.0300000000001</td></tr><tr><td>2015</td><td>Jay Kimmel</td><td>37.34</td></tr><tr><td>2015</td><td>Russell D'Ascenzo</td><td>39.0</td></tr><tr><td>2015</td><td>Nancy Lomonaco</td><td>34.59</td></tr><tr><td>2015</td><td>Adam Shillingsburg</td><td>243.85999999999999</td></tr><tr><td>2015</td><td>Shaun Weien</td><td>618.4399999999999</td></tr><tr><td>2015</td><td>  Shahi  Collister</td><td>52.910000000000004</td></tr><tr><td>2015</td><td>Shirl)(*&ey Schmidt</td><td>174.01</td></tr><tr><td>2015</td><td>Edward Hooks</td><td>224.82999999999998</td></tr><tr><td>2015</td><td>Rob Dowd</td><td>302.64</td></tr><tr><td>2015</td><td>Eudokia Martin</td><td>192.67000000000002</td></tr><tr><td>2015</td><td>James Lanier</td><td>41.14</td></tr><tr><td>2015</td><td>John Lucas</td><td>816.5100000000001</td></tr><tr><td>2014</td><td>Fra9876nk Gasti  ;.,.,neau</td><td>314.52</td></tr><tr><td>2014</td><td>Daniel Byrd</td><td>3.63</td></tr><tr><td>2014</td><td>Ed Braxton</td><td>-127.42</td></tr><tr><td>2014</td><td>Janet Molinari</td><td>59.06</td></tr><tr><td>2014</td><td>Ricardo Sperren</td><td>318.93</td></tr><tr><td>2014</td><td>Karen Carlisle</td><td>43.06</td></tr><tr><td>2014</td><td>Odella Nelson</td><td>183.11</td></tr><tr><td>2014</td><td>Jack Garza</td><td>734.7</td></tr><tr><td>2014</td><td>Pierre Wener</td><td>-86.27</td></tr><tr><td>2014</td><td>Dianna Arnett</td><td>21.72</td></tr><tr><td>2014</td><td>Candace McMahon</td><td>25.229999999999997</td></tr><tr><td>2014</td><td>Khloe Miller</td><td>3.0</td></tr><tr><td>2014</td><td>Peter Bühler</td><td>204.07</td></tr><tr><td>2014</td><td>Annie Zypern</td><td>72.86</td></tr><tr><td>2014</td><td>Katherine Ducich</td><td>64.7</td></tr><tr><td>2014</td><td>Joy Smith</td><td>3.4</td></tr><tr><td>2014</td><td>Randy Bradley</td><td>-90.1</td></tr><tr><td>2014</td><td>Greg Guthrie</td><td>122.54999999999998</td></tr><tr><td>2014</td><td>Beth Paige</td><td>-70.1</td></tr><tr><td>2014</td><td>Bradley Nguyen</td><td>185.37</td></tr><tr><td>2014</td><td>Duane Benoit</td><td>31.01</td></tr><tr><td>2014</td><td>Charles Sheldon</td><td>98.11</td></tr><tr><td>2014</td><td>Allen Armold</td><td>16.72</td></tr><tr><td>2014</td><td>Brad Norvell</td><td>24.68</td></tr><tr><td>2014</td><td>Melanie Seite</td><td>10.92</td></tr><tr><td>2014</td><td>Eric Barreto</td><td>1.3499999999999996</td></tr><tr><td>2014</td><td>B         ecky Martin</td><td>-1878.7900000000002</td></tr><tr><td>2014</td><td>Neil Ducich</td><td>45.43000000000001</td></tr><tr><td>2014</td><td>John Hus<>><>ton</td><td>26.41</td></tr><tr><td>2014</td><td>Jamie Kunitz</td><td>47.81</td></tr><tr><td>2014</td><td>Gary Hwang</td><td>1073.1399999999999</td></tr><tr><td>2014</td><td>Arianne Irving</td><td>288.24</td></tr><tr><td>2014</td><td>Tho   12 =-.mas Boland</td><td>6.04</td></tr><tr><td>2014</td><td>Denise Monton</td><td>3.71</td></tr><tr><td>2014</td><td>Frank Atkinson</td><td>3.58</td></tr><tr><td>2014</td><td>Valerie Dominguez</td><td>576.56</td></tr><tr><td>2014</td><td>Cassandra Brandow</td><td>5.27</td></tr><tr><td>2014</td><td>Randy Ferguson</td><td>92.94</td></tr><tr><td>2014</td><td>Katherine Murray</td><td>955.8599999999999</td></tr><tr><td>2014</td><td>Julie Prescott</td><td>6.92</td></tr><tr><td>2014</td><td>         =--Katharine Harms</td><td>261.33</td></tr><tr><td>2014</td><td>Maria Bertelson</td><td>-13.83</td></tr><tr><td>2014</td><td>Nick Crebassa</td><td>690.2</td></tr><tr><td>2014</td><td>Annie Thurman</td><td>71.66</td></tr><tr><td>2014</td><td>Victoria Wilson</td><td>-65.32</td></tr><tr><td>2014</td><td>Maurice Satty</td><td>40.730000000000004</td></tr><tr><td>2014</td><td>Maya Herman</td><td>133.96</td></tr><tr><td>2014</td><td>Thea Hudgings</td><td>5.45</td></tr><tr><td>2014</td><td>Sean Braxton</td><td>-1272.36</td></tr><tr><td>2014</td><td>Matthew Grinstein</td><td>24.37</td></tr><tr><td>2014</td><td>Laura Armstrong</td><td>482.57</td></tr><tr><td>2014</td><td>John Stevenson</td><td>-94.66</td></tr><tr><td>2014</td><td>Russell Applegate</td><td>278.43</td></tr><tr><td>2014</td><td>Roger Demir</td><td>73.67999999999999</td></tr><tr><td>2014</td><td>Rick Reed</td><td>543.5699999999999</td></tr><tr><td>2014</td><td>Valerie Mitchum</td><td>78.23</td></tr><tr><td>2014</td><td>Mike Kennedy</td><td>-22.69</td></tr><tr><td>2014</td><td>Janet Lee</td><td>-190.51</td></tr><tr><td>2014</td><td>Rob Williams</td><td>30.78</td></tr><tr><td>2014</td><td>Dean perceR__#$#</td><td>100.91999999999999</td></tr><tr><td>2014</td><td>Pauline Webber</td><td>17.47</td></tr><tr><td>2014</td><td>Cindy Chapman</td><td>3.38</td></tr><tr><td>2014</td><td>Carlos Soltero</td><td>-88.07</td></tr><tr><td>2014</td><td>Joseph Holt</td><td>644.0</td></tr><tr><td>2014</td><td>Lena Creighton</td><td>201.07</td></tr><tr><td>2014</td><td>Alan Hwang</td><td>87.19</td></tr><tr><td>2014</td><td>Mark Hamilton</td><td>8.49</td></tr><tr><td>2014</td><td>Giulietta Weimer</td><td>3.6299999999999955</td></tr><tr><td>2014</td><td>Ruben Ausman</td><td>776.48</td></tr><tr><td>2014</td><td>Arthur Wiediger</td><td>-42.56</td></tr><tr><td>2014</td><td>Mathew Reese</td><td>9.11</td></tr><tr><td>2014</td><td>Arthur Gainer</td><td>144.45999999999998</td></tr><tr><td>2014</td><td>Guy Armstrong</td><td>101.45</td></tr><tr><td>2014</td><td>Sam Zeldin</td><td>6.49</td></tr><tr><td>2014</td><td>Joy Daniels</td><td>-10.34</td></tr><tr><td>2014</td><td>Tamara Manning</td><td>112.58</td></tr><tr><td>2014</td><td>Georgia Rosenberg</td><td>359.88</td></tr><tr><td>2014</td><td>Kimberly Carter</td><td>5.82</td></tr><tr><td>2014</td><td>5467Ben Wallace</td><td>87.44999999999999</td></tr><tr><td>2014</td><td>Harry Greene</td><td>21.6</td></tr><tr><td>2014</td><td>Nathan Gelder</td><td>134.82</td></tr><tr><td>2014</td><td>Mitch Willin0009gham</td><td>1449.52</td></tr><tr><td>2014</td><td>Rick Duston</td><td>109.52000000000001</td></tr><tr><td>2014</td><td>Eva Jacobs</td><td>-23.49</td></tr><tr><td>2014</td><td>Larry Tron</td><td>15.64</td></tr><tr><td>2014</td><td>Natalie DeCherney</td><td>47.61</td></tr><tr><td>2014</td><td>Nora Pelletier</td><td>33.64</td></tr><tr><td>2014</td><td>Brian Moss</td><td>81.64999999999999</td></tr><tr><td>2014</td><td>Vivek Gonzalez</td><td>19.54</td></tr><tr><td>2014</td><td>Tracy Zic</td><td>132.3</td></tr><tr><td>2014</td><td>Alyssa Crouse</td><td>-14.66</td></tr><tr><td>2014</td><td>Michelle Tran</td><td>-89.7</td></tr><tr><td>2014</td><td>Thomas Brumley</td><td>161.97</td></tr><tr><td>2014</td><td>Art Foster</td><td>-258.56</td></tr><tr><td>2014</td><td>\":[]|}-=Charles Crestani</td><td>78.74</td></tr><tr><td>2014</td><td>Maribeth Dona</td><td>-84.11</td></tr><tr><td>2014</td><td>Christine Sundaresam</td><td>77.03</td></tr><tr><td>2014</td><td>Toby Carlisle</td><td>402.54</td></tr><tr><td>2014</td><td>Chloris Kastensmidt</td><td>82.99</td></tr><tr><td>2014</td><td>Michael Stewart</td><td>16.26</td></tr><tr><td>2014</td><td>Sanjit Engle</td><td>54.410000000000004</td></tr><tr><td>2014</td><td>Vivek Grady</td><td>-82.88</td></tr><tr><td>2014</td><td>Clay Ludtke</td><td>199.77</td></tr><tr><td>2014</td><td>Jamie Frazer</td><td>37.4</td></tr><tr><td>2014</td><td>Maureen Fritzler</td><td>-459.99</td></tr><tr><td>2014</td><td>)(*&Sung Pak</td><td>1.1899999999999995</td></tr><tr><td>2014</td><td>Patrick O'Donnell</td><td>132.18</td></tr><tr><td>2014</td><td>Anna Chung</td><td>-4.970000000000001</td></tr><tr><td>2014</td><td>Ji11 Stevenson</td><td>-204.14</td></tr><tr><td>2014</td><td>Thea Hendricks</td><td>-155.27</td></tr><tr><td>2014</td><td>Herbert Flentye</td><td>132.47</td></tr><tr><td>2014</td><td>Aaron Hawkins</td><td>188.28</td></tr><tr><td>2014</td><td>Alan Barnes</td><td>-1.07</td></tr><tr><td>2014</td><td>Shirl)(*&ey Schmidt</td><td>11.05</td></tr><tr><td>2014</td><td>Matt Collins</td><td>-6.34</td></tr><tr><td>2014</td><td>Barry Gonzalez</td><td>54.19</td></tr><tr><td>2014</td><td>Lena Hernandez</td><td>282.09</td></tr><tr><td>2014</td><td>Alex Avila</td><td>280.68</td></tr><tr><td>2014</td><td>Vivian Mathis</td><td>6.51</td></tr><tr><td>2014</td><td>Paul Stevenson</td><td>108.0</td></tr><tr><td>2014</td><td>Michelle Ellison</td><td>104.98</td></tr><tr><td>2014</td><td>Irene Maddox</td><td>240.6</td></tr><tr><td>2014</td><td>John Castell</td><td>64.08</td></tr><tr><td>2014</td><td>David Flashing</td><td>37.88</td></tr><tr><td>2014</td><td>Henry Goldwyn</td><td>2.45</td></tr><tr><td>2014</td><td>Mark Packer</td><td>279.86</td></tr><tr><td>2014</td><td>Lycoris Saunders</td><td>9.33</td></tr><tr><td>2014</td><td>Stefanie Holloman</td><td>70.2</td></tr><tr><td>2014</td><td>Cindy Stewart</td><td>9.0</td></tr><tr><td>2014</td><td>Nora Preis</td><td>285.95</td></tr><tr><td>2014</td><td>Ann Blume</td><td>-23.89</td></tr><tr><td>2014</td><td>Deborah Brumfield</td><td>45.1</td></tr><tr><td>2014</td><td>Alex Russell</td><td>-242.44</td></tr><tr><td>2014</td><td>Don Jones</td><td>187.74</td></tr><tr><td>2014</td><td>Michael Dominguez</td><td>-47.36</td></tr><tr><td>2014</td><td>Carol Triggs</td><td>285.45</td></tr><tr><td>2014</td><td>Brendan Sweed</td><td>97.46000000000001</td></tr><tr><td>2014</td><td>Bi1l Stewart</td><td>3.94</td></tr><tr><td>2014</td><td>Gary Mitchum</td><td>316.15000000000003</td></tr><tr><td>2014</td><td>Philip Brown</td><td>12.299999999999999</td></tr><tr><td>2014</td><td>Gary Zandusky</td><td>50.43</td></tr><tr><td>2014</td><td>Duane Huffman</td><td>87.79</td></tr><tr><td>2014</td><td>Paul  4567Van Hugh</td><td>-4.5600000000000005</td></tr><tr><td>2014</td><td>Jeremy Pistek</td><td>199.41</td></tr><tr><td>2014</td><td>Bart Folk</td><td>3.96</td></tr><tr><td>2014</td><td>Nicole Fjeld</td><td>42.35</td></tr><tr><td>2014</td><td>Mark Haberlin</td><td>48.85</td></tr><tr><td>2014</td><td>Russell D'Ascenzo</td><td>-23.29</td></tr><tr><td>2014</td><td>Harold Pawlan</td><td>101.69</td></tr><tr><td>2014</td><td>Alejandro Ballentine</td><td>6.49</td></tr><tr><td>2014</td><td>Gary McGarr</td><td>202.78</td></tr><tr><td>2014</td><td>Trudy Glocke</td><td>89.42</td></tr><tr><td>2014</td><td>Kat rina Edelman</td><td>161.63</td></tr><tr><td>2014</td><td>Dario Medina</td><td>58.4</td></tr><tr><td>2014</td><td>Paul Lucas</td><td>31.83</td></tr><tr><td>2014</td><td>Berenike Kampe</td><td>-129.01999999999998</td></tr><tr><td>2014</td><td>Katherine Nockton</td><td>29.95</td></tr><tr><td>2014</td><td>Benjamin Farhat</td><td>21.48</td></tr><tr><td>2014</td><td>Mike Pelletier</td><td>-125.28999999999999</td></tr><tr><td>2014</td><td>Carl Ludwig</td><td>-29.34</td></tr><tr><td>2014</td><td>Chad Sievert</td><td>84.36</td></tr><tr><td>2014</td><td>Zuschuss Carroll</td><td>328.8299999999999</td></tr><tr><td>2014</td><td>Eugene Moren</td><td>2.21</td></tr><tr><td>2014</td><td>Sandra Flanagan</td><td>98.59</td></tr><tr><td>2014</td><td>Aimee Bixby</td><td>261.2</td></tr><tr><td>2014</td><td>Ad.       ..am Hart</td><td>2.4</td></tr><tr><td>2014</td><td>Jennifer Braxton</td><td>-124.57000000000001</td></tr><tr><td>2014</td><td>Hallie Redmond</td><td>1.6</td></tr><tr><td>2014</td><td>Liz Pelletier</td><td>0.96</td></tr><tr><td>2014</td><td>Craig Yedwab</td><td>-336.63</td></tr><tr><td>2014</td><td>Ivan Gibson</td><td>28.349999999999998</td></tr><tr><td>2014</td><td>Penelope Sewall</td><td>623.1999999999999</td></tr><tr><td>2014</td><td>Tim Brockman</td><td>13.799999999999999</td></tr><tr><td>2014</td><td> &&Tracy Blumstein</td><td>-125.24</td></tr><tr><td>2014</td><td>B*#^%ruce Geld</td><td>3.22</td></tr><tr><td>2014</td><td>Patrick O'Brill</td><td>56.31</td></tr><tr><td>2014</td><td>Ken Lonsdale</td><td>395.59999999999997</td></tr><tr><td>2014</td><td>Muhammed YeDwab#</td><td>-103.13000000000001</td></tr><tr><td>2014</td><td>Christopher Schild</td><td>80.63</td></tr><tr><td>2014</td><td>Luke Foster</td><td>-3802.08</td></tr><tr><td>2014</td><td>Brian Stugart</td><td>1.08</td></tr><tr><td>2014</td><td>Jim Mi....tchum</td><td>7.72</td></tr><tr><td>2014</td><td>Barry Blumstein</td><td>0.0</td></tr><tr><td>2014</td><td>Philip Fox</td><td>-407.68</td></tr><tr><td>2014</td><td>Steven Ward</td><td>19.72</td></tr><tr><td>2014</td><td>Grant Thornton</td><td>-292.19000000000005</td></tr><tr><td>2014</td><td>Jeremy Lonsdale</td><td>41.269999999999996</td></tr><tr><td>2014</td><td>Vivek Sundaresam</td><td>-72.25</td></tr><tr><td>2014</td><td>Roland Fjeld</td><td>22.65</td></tr><tr><td>2014</td><td>Mike Caudle</td><td>24.98</td></tr><tr><td>2014</td><td>Sample Company A</td><td>764.53</td></tr><tr><td>2014</td><td>Greg Maxwell</td><td>112.28</td></tr><tr><td>2014</td><td>Xylona Preis</td><td>202.30999999999997</td></tr><tr><td>2014</td><td>Joe Kamberova</td><td>-212.60999999999996</td></tr><tr><td>2014</td><td>Rick Hansen</td><td>34.94</td></tr><tr><td>2014</td><td>James Galang</td><td>378.39</td></tr><tr><td>2014</td><td>Frank Olsen</td><td>245.02</td></tr><tr><td>2014</td><td>Daniel Lacy</td><td>-324.86999999999995</td></tr><tr><td>2014</td><td>Craig Carreira</td><td>11.3</td></tr><tr><td>2014</td><td>Valerie Takahito</td><td>33.0</td></tr><tr><td>2014</td><td>Ross DeVincentis</td><td>7.66</td></tr><tr><td>2014</td><td>Tom Stivers</td><td>17.14</td></tr><tr><td>2014</td><td>Kelly Lampkin</td><td>-69.25000000000001</td></tr><tr><td>2014</td><td>Ionia McGrath</td><td>19.24</td></tr><tr><td>2014</td><td>Ryan Crowe</td><td>-98.43</td></tr><tr><td>2014</td><td>Kean Thornton</td><td>103.44</td></tr><tr><td>2014</td><td>Ken Black</td><td>175.16</td></tr><tr><td>2014</td><td>Paul Knut_son</td><td>9.07</td></tr><tr><td>2014</td><td>Barry Pond</td><td>2.5</td></tr><tr><td>2014</td><td>Anna Häberlin</td><td>46.2</td></tr><tr><td>2014</td><td>Maureen Gnade</td><td>-22.640000000000004</td></tr><tr><td>2014</td><td>Bi1l Tyler</td><td>74.81</td></tr><tr><td>2014</td><td>Dave Hallsten</td><td>323.13000000000005</td></tr><tr><td>2014</td><td>Anne McFarland</td><td>472.08000000000004</td></tr><tr><td>2014</td><td>Ken Brennan</td><td>2.85</td></tr><tr><td>2014</td><td>Mick Brown</td><td>4.88</td></tr><tr><td>2014</td><td>Corey Catlett</td><td>481.45</td></tr><tr><td>2014</td><td>Phillina Ober</td><td>-65.99</td></tr><tr><td>2014</td><td>Darren Budd</td><td>17.78</td></tr><tr><td>2014</td><td>Ross Baird</td><td>7.49</td></tr><tr><td>2014</td><td>Toby Ritter</td><td>28.52</td></tr><tr><td>2014</td><td>Sally Matthias</td><td>51.25</td></tr><tr><td>2014</td><td>Karl Braun</td><td>-29.74</td></tr><tr><td>2014</td><td>Dorothy Dickinson</td><td>-8.630000000000003</td></tr><tr><td>2014</td><td>Speros Goranitis</td><td>274.85</td></tr><tr><td>2014</td><td>Steve Chapman</td><td>52.53</td></tr><tr><td>2014</td><td>Alan Shonely</td><td>37.349999999999994</td></tr><tr><td>2014</td><td>Duane Noonan</td><td>179.72</td></tr><tr><td>2014</td><td>Jennifer Ferguson</td><td>28.14</td></tr><tr><td>2014</td><td>Brooke Gillingham</td><td>9.7</td></tr><tr><td>2014</td><td>Logan Haushalter</td><td>9.58</td></tr><tr><td>2014</td><td>Maris LaWare</td><td>254.24</td></tr><tr><td>2014</td><td>Alan Schoenberger</td><td>444.69</td></tr><tr><td>2014</td><td>Andy Yotov</td><td>65.6</td></tr><tr><td>2014</td><td>Gene McClure</td><td>2.69</td></tr><tr><td>2014</td><td>Aleksandra Gannaway</td><td>28.740000000000002</td></tr><tr><td>2014</td><td>Jasper Cacioppo</td><td>1.33</td></tr><tr><td>2014</td><td>Allen Rosenblatt</td><td>17.59</td></tr><tr><td>2014</td><td>Debra Catini</td><td>54.800000000000004</td></tr><tr><td>2014</td><td>Shui Tom</td><td>45.32</td></tr><tr><td>2014</td><td>Steve Nguyen</td><td>32.94</td></tr><tr><td>2014</td><td>Mary O'Rourke</td><td>6.04</td></tr><tr><td>2014</td><td>Roland Schwarz</td><td>552.0</td></tr><tr><td>2014</td><td>Darren Powers</td><td>24.240000000000002</td></tr><tr><td>2014</td><td>Andrew Roberts</td><td>-8.41</td></tr><tr><td>2014</td><td>Kunst Miller</td><td>213.7</td></tr><tr><td>2014</td><td>Dennis Kane</td><td>109.61</td></tr><tr><td>2014</td><td>Robert Marley</td><td>200.12</td></tr><tr><td>2014</td><td>Sharelle Roach</td><td>57.49</td></tr><tr><td>2014</td><td>Adam Shillingsburg</td><td>129.55</td></tr><tr><td>2014</td><td>Astrea Jones</td><td>57.650000000000006</td></tr><tr><td>2014</td><td>Kean Nguyen</td><td>119.98</td></tr><tr><td>2014</td><td>Tracy Hopkins</td><td>26.63</td></tr><tr><td>2014</td><td>Ashley Jarboe</td><td>3.4</td></tr><tr><td>2014</td><td>Ken Heidel</td><td>128.43</td></tr><tr><td>2014</td><td>Barbara Fisher</td><td>61.99</td></tr><tr><td>2014</td><td>   _Mike Vitt 12313orini</td><td>11.9</td></tr><tr><td>2014</td><td>Natalie Webber</td><td>-387.79</td></tr><tr><td>2014</td><td>Michelle Huthwaite</td><td>10.65</td></tr><tr><td>2014</td><td>Rick Bensley</td><td>336.96</td></tr><tr><td>2014</td><td>Katherine Hughes</td><td>-32.050000000000004</td></tr><tr><td>2014</td><td>Helen Andreada</td><td>-57.040000000000006</td></tr><tr><td>2014</td><td>Sarah Brown</td><td>-66.52</td></tr><tr><td>2014</td><td>Jill Fjeld</td><td>78.55000000000001</td></tr><tr><td>2014</td><td>Jack O'Briant</td><td>101.03</td></tr><tr><td>2014</td><td>Anthony Garverick</td><td>-4.12</td></tr><tr><td>2014</td><td>Bart Pistole</td><td>131.70000000000002</td></tr><tr><td>2014</td><td>Anthony Jacobs</td><td>-56.950000000000045</td></tr><tr><td>2014</td><td>Marc Crier</td><td>235.23</td></tr><tr><td>2014</td><td>Logan Currie</td><td>-26.6</td></tr><tr><td>2014</td><td>Nona Balk</td><td>87.38</td></tr><tr><td>2014</td><td>Rob Lucas</td><td>42.29</td></tr><tr><td>2014</td><td>Erica Hernandez</td><td>-248.95999999999998</td></tr><tr><td>2014</td><td>Matthew Clasen</td><td>41.89</td></tr><tr><td>2014</td><td>John Lee</td><td>-863.93</td></tr><tr><td>2014</td><td>Mary Zewe</td><td>786.8000000000001</td></tr><tr><td>2014</td><td>Noel Staavos</td><td>11.2</td></tr><tr><td>2014</td><td>Toby Braunhardt</td><td>200.14</td></tr><tr><td>2014</td><td>Tam&^*ara Willing___)ham</td><td>100.14</td></tr><tr><td>2014</td><td>Karen Dan!els</td><td>-1340.6</td></tr><tr><td>2014</td><td>Ricardo Emerson</td><td>6.04</td></tr><tr><td>2014</td><td>Grace Kelly</td><td>42.92</td></tr><tr><td>2014</td><td>Julie Creighton</td><td>76.49</td></tr><tr><td>2014</td><td>Carol Adams</td><td>44.769999999999996</td></tr><tr><td>2014</td><td>Darren Koutras</td><td>-8.08</td></tr><tr><td>2014</td><td>Lisa Hazard</td><td>-79.34</td></tr><tr><td>2014</td><td>Jason Klamczynski</td><td>17.55</td></tr><tr><td>2014</td><td>Yoseph Carroll</td><td>833.77</td></tr><tr><td>2014</td><td>Joseph Airdo</td><td>96.92999999999999</td></tr><tr><td>2014</td><td>Greg Tran</td><td>738.65</td></tr><tr><td>2014</td><td>Craig M 876olinari</td><td>206.22</td></tr><tr><td>2014</td><td>Rob Dowd</td><td>341.38</td></tr><tr><td>2014</td><td>Max Engle</td><td>16.28</td></tr><tr><td>2014</td><td>     Rac5467hel Payne</td><td>97.86</td></tr><tr><td>2014</td><td>Daniel Raglin</td><td>22.68</td></tr><tr><td>2014</td><td>Vicky Freymann</td><td>-158.76</td></tr><tr><td>2014</td><td>Maxwell Schwartz</td><td>-102.25999999999999</td></tr><tr><td>2014</td><td>Patrick Ryan</td><td>2.0</td></tr><tr><td>2014</td><td>Jay Kimmel</td><td>129.54</td></tr><tr><td>2014</td><td>Rick Huthwaite</td><td>10.96</td></tr><tr><td>2014</td><td>Laurel Elliston</td><td>-12.830000000000002</td></tr><tr><td>2014</td><td>Ge 1234orge Bell</td><td>-33.190000000000005</td></tr><tr><td>2014</td><td>Ruben Dartt</td><td>186.48999999999998</td></tr><tr><td>2014</td><td>Matt Connell</td><td>49.370000000000005</td></tr><tr><td>2014</td><td>Carl Weiss</td><td>17.160000000000004</td></tr><tr><td>2014</td><td>Phillip Breyer</td><td>21.2</td></tr><tr><td>2014</td><td>Sean Miller</td><td>-1789.74</td></tr><tr><td>2014</td><td>Pauline Chand</td><td>-11.83</td></tr><tr><td>2014</td><td>Craig Carroll</td><td>-45.32</td></tr><tr><td>2014</td><td>Benjamin Patterson</td><td>27.56</td></tr><tr><td>2014</td><td>Richard Bierner</td><td>65.11999999999998</td></tr><tr><td>2014</td><td>James Lanier</td><td>59.49</td></tr><tr><td>2014</td><td>Hilary Holden</td><td>60.27</td></tr><tr><td>2014</td><td>         Helen Abelman</td><td>108.8</td></tr><tr><td>2014</td><td>Marc Harrigan</td><td>12.21</td></tr><tr><td>2014</td><td>Angele Hood</td><td>41.6</td></tr><tr><td>2014</td><td>Harold Ryan</td><td>79.74000000000001</td></tr><tr><td>2014</td><td>Sylvia Foulston</td><td>12.27</td></tr><tr><td>2014</td><td>Steven Cartwright</td><td>114.84</td></tr><tr><td>2014</td><td>George Zrebassa</td><td>12.0</td></tr><tr><td>2014</td><td>Bruce Stewart</td><td>-330.55</td></tr><tr><td>2014</td><td>Adrian Hane</td><td>-25.91</td></tr><tr><td>2014</td><td>Frank Merwin</td><td>22.98</td></tr><tr><td>2014</td><td>Nicole Hansen</td><td>33.2</td></tr><tr><td>2014</td><td>Andy Reiter</td><td>20.12</td></tr><tr><td>2014</td><td>Keith Dawkins</td><td>35.02</td></tr><tr><td>2014</td><td>Matt Collister</td><td>-137.2</td></tr><tr><td>2014</td><td>Rich.-=%&*ard Eichhorn</td><td>-24.87</td></tr><tr><td>2014</td><td>Keith Herrera</td><td>-2.740000000000002</td></tr><tr><td>2014</td><td>MaryBeth Skach</td><td>2.6899999999999995</td></tr><tr><td>2014</td><td>Laurel Workman</td><td>423.60999999999996</td></tr><tr><td>2014</td><td>Erin Smith</td><td>134.03</td></tr><tr><td>2014</td><td>Todd Sumrall</td><td>18.619999999999997</td></tr><tr><td>2014</td><td>Susan Pistek</td><td>24.22</td></tr><tr><td>2014</td><td>Bobby Trafton</td><td>-5.370000000000002</td></tr><tr><td>2014</td><td>Ellis Ballard</td><td>-36.36</td></tr><tr><td>2014</td><td>Dave Brooks</td><td>409.76</td></tr><tr><td>2014</td><td>Brian Derr</td><td>11.49</td></tr><tr><td>2014</td><td>Joe Elijah</td><td>-59.8</td></tr><tr><td>2014</td><td>David Smith</td><td>57.59</td></tr><tr><td>2014</td><td>Erica Hackney</td><td>54.09</td></tr><tr><td>2014</td><td>       Kristi;'[]na Nunn</td><td>186.0</td></tr><tr><td>2014</td><td>Emily Phan</td><td>175.0</td></tr><tr><td>2014</td><td>Michael Granlund</td><td>-4.8</td></tr><tr><td>2014</td><td>             Dorothy Wardle</td><td>6.63</td></tr><tr><td>2014</td><td>Michael Kennedy</td><td>43.22</td></tr><tr><td>2014</td><td>Christine Abelman</td><td>101.4</td></tr><tr><td>2014</td><td>Dianna Wilson</td><td>1154.67</td></tr><tr><td>2014</td><td>Lisa DeCherney</td><td>445.50999999999993</td></tr><tr><td>2014</td><td> Shahi  Shariari</td><td>-565.75</td></tr><tr><td>2014</td><td>Justin Deggeller</td><td>17.560000000000002</td></tr><tr><td>2014</td><td>Brian Thompson</td><td>-199.77</td></tr><tr><td>2014</td><td>Troy Blackwell</td><td>6.75</td></tr><tr><td>2014</td><td>Greg Matthias</td><td>214.53</td></tr><tr><td>2014</td><td>Sung Shariari</td><td>-9.150000000000002</td></tr><tr><td>2014</td><td>Linda Cazamias</td><td>29.34</td></tr><tr><td>2014</td><td>Ed Jacobs</td><td>-7403.61</td></tr><tr><td>2014</td><td>Jim Kriz</td><td>10.19</td></tr><tr><td>2014</td><td>Craig Reiter</td><td>-6.02</td></tr><tr><td>2014</td><td>Denny Ordway</td><td>6.09</td></tr><tr><td>2014</td><td>Nat Gilpin</td><td>219.07999999999998</td></tr><tr><td>2014</td><td>Peter Fuller</td><td>17.68</td></tr><tr><td>2014</td><td>Alejandro Grove</td><td>17.990000000000002</td></tr><tr><td>2014</td><td>Brian DeCherney</td><td>108.74</td></tr><tr><td>2014</td><td>Maria Etezadi</td><td>1343.07</td></tr><tr><td>2014</td><td>Michael Grace</td><td>-4.5200000000000005</td></tr><tr><td>2014</td><td>Delfina Latchford</td><td>-11.89</td></tr><tr><td>2014</td><td>Bi 8761l Shonely</td><td>210.7</td></tr><tr><td>2014</td><td>Nicole Brennan</td><td>24.79</td></tr><tr><td>2014</td><td>Jeremy Farry</td><td>35.4</td></tr><tr><td>2014</td><td>Toby Swindell</td><td>-285.0</td></tr><tr><td>2014</td><td>Ann Steele</td><td>71.95</td></tr><tr><td>2014</td><td>Scott Williamson</td><td>11.0</td></tr><tr><td>2014</td><td>David Philippe</td><td>-41.94</td></tr><tr><td>2014</td><td>Giulietta Dortch</td><td>21.66</td></tr><tr><td>2014</td><td>Cari Sayre</td><td>-13.9</td></tr><tr><td>2014</td><td>Elizabeth Moffitt</td><td>7.99</td></tr><tr><td>2014</td><td>Gary567 Hansen</td><td>53.339999999999996</td></tr><tr><td>2014</td><td>Jessica Myrick</td><td>58.989999999999995</td></tr><tr><td>2014</td><td>Heather Kirkland</td><td>240.86</td></tr><tr><td>2014</td><td>Dan Campbell</td><td>-77.87</td></tr><tr><td>2014</td><td>Edward Hooks</td><td>4.050000000000004</td></tr><tr><td>2014</td><td>Michael Chen</td><td>395.76</td></tr><tr><td>2014</td><td>Damala Kotsonis</td><td>-22.359999999999996</td></tr><tr><td>2014</td><td>Tom Ashbrook</td><td>180.51999999999998</td></tr><tr><td>2014</td><td>Becky Castell</td><td>38.13</td></tr><tr><td>2014</td><td>Marina Lichtenstein</td><td>486.58</td></tr><tr><td>2014</td><td>Lena Radford</td><td>604.5699999999999</td></tr><tr><td>2014</td><td>Monica Federle</td><td>16.89</td></tr><tr><td>2014</td><td>Tanja Norvell</td><td>21.25</td></tr><tr><td>2014</td><td>Karen Ferguson</td><td>82.52</td></tr><tr><td>2014</td><td>Pete Armstrong</td><td>45.84</td></tr><tr><td>2014</td><td>Nick Zandusky</td><td>248.03000000000003</td></tr><tr><td>2014</td><td>Corey-Lock</td><td>142.67999999999998</td></tr><tr><td>2014</td><td>Jas O'Carroll</td><td>0.97</td></tr><tr><td>2014</td><td>Doug Bickford</td><td>13.49</td></tr><tr><td>2014</td><td>Harold Dahlen</td><td>-167.32</td></tr><tr><td>2014</td><td>Aaron Smayling</td><td>32.23</td></tr><tr><td>2014</td><td>Larry Hughes</td><td>-5.04</td></tr><tr><td>2014</td><td>Thomas Thornton</td><td>18.38</td></tr><tr><td>2014</td><td>Barry Französisch</td><td>7.21</td></tr><tr><td>2014</td><td>Carlos Daly</td><td>11.7</td></tr><tr><td>2014</td><td>Cynthia A;,.[]rntzen</td><td>111.78999999999999</td></tr><tr><td>2014</td><td>Brosin34a Hoffman 09</td><td>235.35000000000002</td></tr><tr><td>2014</td><td>Hunter Glantz</td><td>616.46</td></tr><tr><td>2014</td><td>John Murray</td><td>1228.18</td></tr><tr><td>2014</td><td>Frank Preis</td><td>138.01</td></tr><tr><td>2014</td><td>Bradley Talbott</td><td>66.77</td></tr><tr><td>2014</td><td>Anthony Rawles</td><td>10.37</td></tr><tr><td>2014</td><td>Darrin Martin</td><td>1600.0600000000002</td></tr><tr><td>2014</td><td>UNKNOWN</td><td>484.64</td></tr><tr><td>2014</td><td>Sarah Bern</td><td>-33.39</td></tr><tr><td>2014</td><td>Sonia Sunley</td><td>15.51</td></tr><tr><td>2014</td><td>Luke Schmidt</td><td>167.72</td></tr><tr><td>2014</td><td>Anthony Johnson</td><td>503.26</td></tr><tr><td>2014</td><td>Jim Karlsson</td><td>303.87</td></tr><tr><td>2014</td><td>Magdelene Morse</td><td>51.36</td></tr><tr><td>2014</td><td>Fred Hopkins</td><td>-172.46</td></tr><tr><td>2014</td><td>Troy Staebel</td><td>-227.49</td></tr><tr><td>2014</td><td>Lindsay Shagiari</td><td>138.15999999999997</td></tr><tr><td>2014</td><td>Stefania Perrino</td><td>67.46000000000001</td></tr><tr><td>2014</td><td>Nathan Mautz</td><td>2413.8500000000004</td></tr><tr><td>2014</td><td>Denise Leinenbach</td><td>2.1</td></tr><tr><td>2014</td><td>Ted Trevino</td><td>121.40000000000002</td></tr><tr><td>2014</td><td>Mitch Webber</td><td>1204.43</td></tr><tr><td>2014</td><td>Alice McCarthy</td><td>7.68</td></tr><tr><td>2014</td><td>Jonathan Doherty</td><td>-194.20000000000002</td></tr><tr><td>2014</td><td>Joni Sundaresam</td><td>2.869999999999999</td></tr><tr><td>2014</td><td>Julie Kriz</td><td>239.98</td></tr><tr><td>2014</td><td>Kristen Hastings</td><td>1038.59</td></tr><tr><td>2014</td><td>Patrick Jones</td><td>7.95</td></tr><tr><td>2014</td><td>Guy Phonely</td><td>-35.93</td></tr><tr><td>2014</td><td>Pamela Coakley</td><td>196.69</td></tr><tr><td>2014</td><td>Nat Carroll</td><td>11.15</td></tr><tr><td>2014</td><td>Erin Ashbrook</td><td>-53.42999999999999</td></tr><tr><td>2014</td><td>Cyma Kinney</td><td>66.59</td></tr><tr><td>2014</td><td>Theresa Swint</td><td>-2.0</td></tr><tr><td>2014</td><td>George Ashbrook</td><td>22.41</td></tr><tr><td>2014</td><td>Quincy Jones</td><td>120.03999999999999</td></tr><tr><td>2014</td><td>Sanjit Chand</td><td>5462.589999999999</td></tr><tr><td>2014</td><td>Andy Gerbode</td><td>-93.53</td></tr><tr><td>2014</td><td>Michael Moore</td><td>55.03</td></tr><tr><td>2014</td><td>Kelly Andreada</td><td>49.01</td></tr><tr><td>2014</td><td>Tom Boeckenhauer</td><td>2567.3299999999995</td></tr><tr><td>2014</td><td>Noah Childs</td><td>36.66</td></tr><tr><td>2014</td><td>Sara Luxemburg</td><td>22.25</td></tr><tr><td>2014</td><td>Laurel Beltran</td><td>-21.36</td></tr><tr><td>2014</td><td>Roy Französisch</td><td>16.17</td></tr><tr><td>2014</td><td>Thomas Seio</td><td>471.80999999999995</td></tr><tr><td>2014</td><td>Steven Roelle</td><td>130.18</td></tr><tr><td>2014</td><td>Pete@#$ Takahito</td><td>-8.03</td></tr><tr><td>2014</td><td>Erin Creighton</td><td>-4.02</td></tr><tr><td>2014</td><td>Pete Kriz</td><td>13.32</td></tr><tr><td>2014</td><td>Resi Pölking</td><td>262.81000000000006</td></tr><tr><td>2014</td><td>Seth Vernon</td><td>-218.92999999999998</td></tr><tr><td>2014</td><td>Ivan Liston</td><td>6.91</td></tr><tr><td>2014</td><td>Tracy Collins</td><td>3.36</td></tr><tr><td>2014</td><td>Mike Gockenbach</td><td>-152.72</td></tr><tr><td>2014</td><td>Jim Epp</td><td>27.19</td></tr><tr><td>2014</td><td>Maribeth 5chnelling</td><td>143.89999999999998</td></tr><tr><td>2014</td><td>Ben Ferrer</td><td>666.3900000000001</td></tr><tr><td>2014</td><td>Kelly Williams</td><td>11.25</td></tr><tr><td>2014</td><td>Sonia Cooley</td><td>32.39</td></tr><tr><td>2014</td><td>Nancy Lomonaco</td><td>8.28</td></tr><tr><td>2014</td><td>Roy Collins</td><td>6.88</td></tr><tr><td>2014</td><td>Scot Wooten</td><td>-27.2</td></tr><tr><td>2014</td><td>Christine Phan</td><td>-1031.67</td></tr><tr><td>2014</td><td>Emily Burns</td><td>16.02</td></tr><tr><td>2014</td><td>Victoria Pisteka</td><td>118.07</td></tr><tr><td>2014</td><td>Justin MacKendrick</td><td>273.4</td></tr><tr><td>2014</td><td>Chris Cortes</td><td>12.399999999999999</td></tr><tr><td>2014</td><td>Dennis Pardue</td><td>83.78999999999999</td></tr><tr><td>2014</td><td>David Wiener</td><td>55.470000000000006</td></tr><tr><td>2014</td><td>Evan Bailliet</td><td>155.01999999999998</td></tr><tr><td>2014</td><td>Christine Kargatis</td><td>326.42</td></tr><tr><td>2014</td><td>Mick Crebagga</td><td>-18.729999999999997</td></tr><tr><td>2014</td><td>Dennis Bolton</td><td>79.89</td></tr><tr><td>2014</td><td>Corey Roper</td><td>114.4</td></tr><tr><td>2014</td><td>Pauline Johnson</td><td>2.78</td></tr><tr><td>2014</td><td> Shahi  Hopkins</td><td>-252.18999999999997</td></tr><tr><td>2014</td><td>Allen Goldenen</td><td>67.97</td></tr><tr><td>2014</td><td>Mark Van Huff</td><td>15.079999999999998</td></tr><tr><td>2014</td><td>William Brown</td><td>106.42</td></tr><tr><td>2014</td><td>Cari Schnelling</td><td>93.74000000000001</td></tr><tr><td>2014</td><td>Paul MacIntyre</td><td>21.06</td></tr><tr><td>2014</td><td>Barry Weirich</td><td>6.73</td></tr><tr><td>2014</td><td>Jack Lebron</td><td>9.870000000000001</td></tr><tr><td>2014</td><td>Lisa Ryan</td><td>48.129999999999995</td></tr><tr><td>2014</td><td>Eric Hoffmann</td><td>22.15</td></tr><tr><td>2014</td><td>Stephanie Phelps</td><td>72.4</td></tr><tr><td>2014</td><td>Amy Cox</td><td>84.0</td></tr><tr><td>2014</td><td>Tony Chapman</td><td>-16.47</td></tr><tr><td>2014</td><td>Paul Prost</td><td>472.39</td></tr><tr><td>2014</td><td>Clytie Kelty</td><td>1.23</td></tr><tr><td>2014</td><td>Stewart Visinsky</td><td>189.13</td></tr><tr><td>2014</td><td>Joni Blumstein</td><td>72.58</td></tr><tr><td>2014</td><td>Susan Gilcrest</td><td>2.94</td></tr><tr><td>2014</td><td>Jason Fortune-</td><td>47.349999999999994</td></tr><tr><td>2014</td><td>6789Erin  Mull</td><td>59.260000000000005</td></tr><tr><td>2014</td><td>David K ';lendrick</td><td>78.5</td></tr><tr><td>2014</td><td>Dan Lawera</td><td>7.73</td></tr><tr><td>2014</td><td>Robert Barroso</td><td>24.919999999999998</td></tr><tr><td>2014</td><td>Cathy Prescott</td><td>62.39</td></tr><tr><td>2014</td><td>Filia McAdams</td><td>228.76999999999998</td></tr><tr><td>2014</td><td>Sean Christensen</td><td>93.39999999999999</td></tr><tr><td>2014</td><td>Don Miller</td><td>14.489999999999998</td></tr><tr><td>2014</td><td>Dean Katz</td><td>6.0</td></tr><tr><td>2014</td><td>Aaron Bergman</td><td>12.82</td></tr><tr><td>2014</td><td>Nick Radford</td><td>-123.79</td></tr><tr><td>2014</td><td>Karen Bern</td><td>-1.0</td></tr><tr><td>2014</td><td>Lynn Smith</td><td>230.20999999999998</td></tr><tr><td>2014</td><td>Patrick Gardner</td><td>54.45</td></tr><tr><td>2014</td><td>Luke Weiss</td><td>420.59</td></tr><tr><td>2014</td><td>Ryan Akin</td><td>-436.72999999999996</td></tr><tr><td>2014</td><td>Arthur Prichep</td><td>420.69</td></tr><tr><td>2014</td><td>Fred Chung</td><td>112.57</td></tr><tr><td>2014</td><td>Jennifer Patt</td><td>10.81</td></tr><tr><td>2014</td><td>Natalie Fritzler</td><td>186.74</td></tr><tr><td>2014</td><td>&^*(5678Shirley Daniels</td><td>122.77000000000001</td></tr><tr><td>2014</td><td>Maureen Gastineau</td><td>12.91</td></tr><tr><td>2014</td><td>Raymond Messe</td><td>13.83</td></tr><tr><td>2014</td><td>Kean Takahito</td><td>68.8</td></tr><tr><td>2014</td><td>Michael Nguyen</td><td>31.17000000000001</td></tr><tr><td>2014</td><td>Michelle Arnett</td><td>53.699999999999996</td></tr><tr><td>2014</td><td>Roy Phan</td><td>56.53</td></tr><tr><td>2014</td><td>Michelle Moray</td><td>130.68</td></tr><tr><td>2014</td><td>Deirdre Greer</td><td>22.07</td></tr><tr><td>2014</td><td>Dianna Vittorini</td><td>9.72</td></tr><tr><td>2014</td><td>Tamara Dahlen</td><td>9.23</td></tr><tr><td>2014</td><td>Sheri Gordon</td><td>150.92</td></tr><tr><td>2014</td><td>Jennifer Halladay</td><td>18.79</td></tr><tr><td>2014</td><td>Sibella Parks</td><td>2.81</td></tr><tr><td>2014</td><td>Frank Hawley</td><td>297.17</td></tr><tr><td>2014</td><td>Liz Thompson</td><td>238.4</td></tr><tr><td>2014</td><td>Shirley Jackson</td><td>57.93</td></tr><tr><td>2014</td><td>Anne Pryor</td><td>54.65</td></tr><tr><td>2014</td><td>Anna Andreadi</td><td>77.64</td></tr><tr><td>2014</td><td>Sam Craven</td><td>-360.83000000000004</td></tr><tr><td>2014</td><td>Neil Französisch</td><td>31.87</td></tr><tr><td>2014</td><td>Harry Marie</td><td>-79.13</td></tr><tr><td>2014</td><td>Evan Henry</td><td>26.419999999999995</td></tr><tr><td>2014</td><td>Tamara Chand</td><td>178.64999999999998</td></tr><tr><td>2014</td><td>Ralph Arnett</td><td>0.0</td></tr><tr><td>2014</td><td>Eugene Hildebrand</td><td>20.1</td></tr><tr><td>2014</td><td>Alyssa Tate</td><td>0.8399999999999999</td></tr><tr><td>2014</td><td>Christina Anderson</td><td>16.97</td></tr><tr><td>2014</td><td>Dorothy Badders</td><td>8.35</td></tr><tr><td>2014</td><td>John Grady</td><td>28.26</td></tr><tr><td>2014</td><td>Cynthia Delaney</td><td>40.21</td></tr><tr><td>2014</td><td>Muhammed MacIntyre</td><td>-51.52</td></tr><tr><td>2014</td><td>Tiffany House</td><td>-2.9300000000000006</td></tr><tr><td>2014</td><td>Zuschuss Donatelli</td><td>25.490000000000002</td></tr><tr><td>2014</td><td>Lauren Leatherbury</td><td>110.88</td></tr><tr><td>2014</td><td>Bradley Drucker</td><td>309.08</td></tr><tr><td>2014</td><td>Hunter Lopez</td><td>448.03000000000003</td></tr><tr><td>2014</td><td>Scott Cohen</td><td>96.77</td></tr><tr><td>2014</td><td>Saphhira Shifley</td><td>-88.04</td></tr><tr><td>2014</td><td>Paul Gonzalez</td><td>-70.73</td></tr><tr><td>2014</td><td>Suzanne McNair</td><td>-372.11</td></tr><tr><td>2014</td><td>Adrian Barton</td><td>498.73</td></tr><tr><td>2014</td><td>Joel Eaton</td><td>42.1</td></tr><tr><td>2014</td><td>Matt Abelman</td><td>562.98</td></tr><tr><td>2014</td><td>Chris Selesnick</td><td>446.75</td></tr><tr><td>2014</td><td>Chad Cunningham</td><td>142.85</td></tr><tr><td>2014</td><td>John Lucas</td><td>1.33</td></tr><tr><td>2014</td><td>Eileen Kiefer</td><td>70.49</td></tr><tr><td>2014</td><td>Barry Franz</td><td>2.37</td></tr><tr><td>2014</td><td>  Shahi  Collister</td><td>-3462.2000000000003</td></tr><tr><td>2014</td><td>Sue Ann Reed</td><td>351.32</td></tr><tr><td>2014</td><td>Julia Dunbar</td><td>8.48</td></tr><tr><td>2014</td><td>Bryan Mills</td><td>114.1</td></tr><tr><td>2014</td><td>Darrin Sayre</td><td>29.470000000000002</td></tr><tr><td>2014</td><td>Brian Dahlen</td><td>342.92</td></tr><tr><td>2014</td><td>Chuck Magee</td><td>10.780000000000001</td></tr><tr><td>2014</td><td>Dorris liebe</td><td>29.169999999999998</td></tr><tr><td>2014</td><td>Sarah Foster</td><td>58.03</td></tr><tr><td>2014</td><td>Denny Joy</td><td>39.77</td></tr><tr><td>2014</td><td>Nathan Cano</td><td>10.04</td></tr><tr><td>2014</td><td>Alan Dominguez</td><td>-6.6</td></tr><tr><td>2014</td><td>Beth Tho098-.,;;mpson</td><td>290.89</td></tr><tr><td>2014</td><td>Liz Carlisle</td><td>-128.09</td></tr><tr><td>2014</td><td>Liz MacKendrick</td><td>76.1</td></tr><tr><td>2014</td><td>Steve Carroll</td><td>31.53</td></tr><tr><td>2014</td><td>Pamela Stobb</td><td>11.88</td></tr><tr><td>2014</td><td>Erica Smith</td><td>15.22</td></tr><tr><td>2014</td><td>Andrew Allen</td><td>9.89</td></tr><tr><td>2014</td><td>Mark Cousins</td><td>135.0</td></tr><tr><td>2014</td><td>Christina VanderZanden</td><td>163.49</td></tr><tr><td>2014</td><td>Liz Willingham</td><td>21.75</td></tr><tr><td>2014</td><td>Beth Fritzler</td><td>-12.129999999999999</td></tr><tr><td>2014</td><td>Trudy Brown</td><td>83.99</td></tr></tbody></table></div>"
      ]
     },
     "metadata": {
      "application/vnd.databricks.v1+output": {
       "addedWidgets": {},
       "aggData": [],
       "aggError": "",
       "aggOverflow": false,
       "aggSchema": [],
       "aggSeriesLimitReached": false,
       "aggType": "",
       "arguments": {},
       "columnCustomDisplayInfos": {},
       "data": [
        [
         2017,
         "Doug Jacobs",
         669.79
        ],
        [
         2017,
         "Adam Shillingsburg",
         -331.65
        ],
        [
         2017,
         "Dianna Wilson",
         162.99
        ],
        [
         2017,
         "Eva Jacobs",
         140.01999999999998
        ],
        [
         2017,
         "Emily Phan",
         2.6000000000000085
        ],
        [
         2017,
         "Aimee Bixby",
         39.99999999999999
        ],
        [
         2017,
         "Keith Dawkins",
         134.83999999999997
        ],
        [
         2017,
         "Sanjit Engle",
         -236.82999999999998
        ],
        [
         2017,
         "Ken Black",
         240.99
        ],
        [
         2017,
         "Darrin Martin",
         106.77000000000001
        ],
        [
         2017,
         "Linda Southworth",
         -350.0
        ],
        [
         2017,
         "Alan Schoenberger",
         268.43
        ],
        [
         2017,
         "Maureen Gastineau",
         14.180000000000005
        ],
        [
         2017,
         "Katherine Ducich",
         20.36
        ],
        [
         2017,
         "Greg Matthias",
         -57.12
        ],
        [
         2017,
         "_12312Patrick Bzostek",
         125.36
        ],
        [
         2017,
         "Bart Folk",
         107.03
        ],
        [
         2017,
         "Shaun Chance",
         4.289999999999992
        ],
        [
         2017,
         "Dave Hallsten",
         106.98
        ],
        [
         2017,
         "Eileen Kiefer",
         6.07
        ],
        [
         2017,
         "Trudy Schmidt",
         -110.04999999999998
        ],
        [
         2017,
         "Anne Pryor",
         -11.07
        ],
        [
         2017,
         "Greg Tran",
         83.62
        ],
        [
         2017,
         "Bi1l Tyler",
         -14.99
        ],
        [
         2017,
         "Ross DeVincentis",
         195.03000000000003
        ],
        [
         2017,
         "Tom Prescott",
         -1060.7900000000002
        ],
        [
         2017,
         "Gary Hwang",
         43.6
        ],
        [
         2017,
         "Arthur Gainer",
         -71.97
        ],
        [
         2017,
         "Alejandro Savely",
         23.26
        ],
        [
         2017,
         "Liz Carlisle",
         -10.390000000000002
        ],
        [
         2017,
         "Karl Braun",
         69.64
        ],
        [
         2017,
         "Nancy Lomonaco",
         282.27000000000004
        ],
        [
         2017,
         "David Wiener",
         -108.28
        ],
        [
         2017,
         "Pete Armstrong",
         35.89
        ],
        [
         2017,
         "Matt Collins",
         138.89999999999998
        ],
        [
         2017,
         "Neoma Murray",
         2.82
        ],
        [
         2017,
         "Michelle Lonsdale",
         138.72
        ],
        [
         2017,
         "Kristen Hastings",
         217.49
        ],
        [
         2017,
         "Alyssa Crouse",
         -69.06
        ],
        [
         2017,
         "Sara Luxemburg",
         437.90999999999997
        ],
        [
         2017,
         "             Dorothy Wardle",
         5.109999999999999
        ],
        [
         2017,
         "Henry Goldwyn",
         -2971.38
        ],
        [
         2017,
         "Chloris Kastensmidt",
         181.07999999999998
        ],
        [
         2017,
         "David Bremer",
         -1136.72
        ],
        [
         2017,
         "Toby Ritter",
         76.8
        ],
        [
         2017,
         "Jocasta Rupert",
         107.98
        ],
        [
         2017,
         "Robert Marley",
         1041.91
        ],
        [
         2017,
         "Stefania Perrino",
         -165.80000000000004
        ],
        [
         2017,
         "Patrick Jones",
         43.61
        ],
        [
         2017,
         "Alejandro Grove",
         1.5
        ],
        [
         2017,
         "Guy Thornton",
         -39.64
        ],
        [
         2017,
         "Bi1l Donatelli",
         197.79
        ],
        [
         2017,
         "Trudy Brown",
         233.35
        ],
        [
         2017,
         "Helen Andreada",
         12.71
        ],
        [
         2017,
         "Sung Shariari",
         14.82
        ],
        [
         2017,
         "Tonja Turnell",
         840.99
        ],
        [
         2017,
         "Liz Preis",
         259.1
        ],
        [
         2017,
         "Ge 1234orge Bell",
         44.29
        ],
        [
         2017,
         "Brian DeCherney",
         78.1
        ],
        [
         2017,
         "Theresa Coyne",
         265.59
        ],
        [
         2017,
         "Jennifer Halladay",
         -42.85
        ],
        [
         2017,
         "Ben Pet 987 -=erman",
         330.74
        ],
        [
         2017,
         "Rick Wi 4567@#$lson",
         1660.8499999999995
        ],
        [
         2017,
         "Ed Jacobs",
         423.71999999999997
        ],
        [
         2017,
         "Ryan Crowe",
         6.04
        ],
        [
         2017,
         "Ken Heidel",
         66.92999999999999
        ],
        [
         2017,
         "Roland Fjeld",
         391.47
        ],
        [
         2017,
         "Denise Monton",
         1374.42
        ],
        [
         2017,
         "Tony Molinari",
         292.53
        ],
        [
         2017,
         "Kelly Andreada",
         39.94
        ],
        [
         2017,
         "Thea Hendricks",
         10.05
        ],
        [
         2017,
         "Bryan Davis",
         30.580000000000002
        ],
        [
         2017,
         "Charlotte Melton",
         74.32
        ],
        [
         2017,
         "&^*(5678Shirley Daniels",
         -113.2
        ],
        [
         2017,
         "John Dryer",
         10.49
        ],
        [
         2017,
         "Nat Gilpin",
         86.5
        ],
        [
         2017,
         "Joni Wa55erman",
         170.87
        ],
        [
         2017,
         "Sean Miller",
         34.28
        ],
        [
         2017,
         "Art Ferguson",
         -75.19000000000001
        ],
        [
         2017,
         "Claire Gute",
         1.82
        ],
        [
         2017,
         "Justin Deggeller",
         1116.33
        ],
        [
         2017,
         "Michelle Arnett",
         31.94
        ],
        [
         2017,
         "Meg Tillman",
         74.97
        ],
        [
         2017,
         "Don Weiss",
         53.650000000000006
        ],
        [
         2017,
         "Ralph Arnett",
         317.48
        ],
        [
         2017,
         "Brian Thompson",
         35.43
        ],
        [
         2017,
         "Adrian Barton",
         340.64
        ],
        [
         2017,
         "Sean Christensen",
         98.25000000000001
        ],
        [
         2017,
         "Sandra Glassco",
         218.25
        ],
        [
         2017,
         "Eugene Hildebrand",
         265.62
        ],
        [
         2017,
         "Robert Waldorf",
         710.18
        ],
        [
         2017,
         "Barry Pond",
         24.18
        ],
        [
         2017,
         "Sarah Jordon",
         -26.04
        ],
        [
         2017,
         "Cassandra Brandow",
         -239.46
        ],
        [
         2017,
         "George Zrebassa",
         816.1700000000001
        ],
        [
         2017,
         "Mick Hernandez",
         387.2
        ],
        [
         2017,
         "Fred Wa55erman",
         5.81
        ],
        [
         2017,
         "Pete@#$ Takahito",
         5.5
        ],
        [
         2017,
         "Joe Kamberova",
         30.95
        ],
        [
         2017,
         "Christopher Conant",
         93.73
        ],
        [
         2017,
         "Jesus Ocampo",
         13.22
        ],
        [
         2017,
         "Delfina Latchford",
         94.23
        ],
        [
         2017,
         "[]-=;''Becky Pak",
         26.240000000000002
        ],
        [
         2017,
         "Pamela Coakley",
         -0.99
        ],
        [
         2017,
         "Cyra Reiten",
         81.14
        ],
        [
         2017,
         "Carol Adams",
         16.479999999999997
        ],
        [
         2017,
         "Andrew Roberts",
         5.18
        ],
        [
         2017,
         "Katherine Hughes",
         502.49999999999994
        ],
        [
         2017,
         "Justin Ellison",
         13.670000000000002
        ],
        [
         2017,
         "Tom Ashbrook",
         4599.2
        ],
        [
         2017,
         "Julie Prescott",
         19.51
        ],
        [
         2017,
         "Fred Hopkins",
         76.82
        ],
        [
         2017,
         "         Helen Abelman",
         -79.0
        ],
        [
         2017,
         "Bart Watters",
         720.83
        ],
        [
         2017,
         "Tamara Dahlen",
         13.680000000000001
        ],
        [
         2017,
         "Caroline Jumper",
         -524.22
        ],
        [
         2017,
         "Maribeth Yedwab",
         283.44
        ],
        [
         2017,
         "Duane Noonan",
         138.42
        ],
        [
         2017,
         "Scott Cohen",
         200.26
        ],
        [
         2017,
         "Rich.-=%&*ard Eichhorn",
         9.74
        ],
        [
         2017,
         "Michael Kennedy",
         7.01
        ],
        [
         2017,
         "Becky Castell",
         58.79999999999999
        ],
        [
         2017,
         "Matt Abelman",
         30.13
        ],
        [
         2017,
         "Grace Kelly",
         3.45
        ],
        [
         2017,
         "Laurel Elliston",
         -10.240000000000007
        ],
        [
         2017,
         "Pauline Johnson",
         609.4300000000001
        ],
        [
         2017,
         "Ross Baird",
         -502.56000000000006
        ],
        [
         2017,
         "Aaron Hawkins",
         2.34
        ],
        [
         2017,
         "Christy Brittain",
         74.22999999999999
        ],
        [
         2017,
         "Erin Ashbrook",
         21.83
        ],
        [
         2017,
         "Paul Prost",
         247.93
        ],
        [
         2017,
         "Khloe Miller",
         41.49
        ],
        [
         2017,
         "Carl Weiss",
         309.79999999999995
        ],
        [
         2017,
         "Paul Lucas",
         -18.95
        ],
        [
         2017,
         "Bruce Degenhardt",
         166.98000000000002
        ],
        [
         2017,
         "Stewart Carmichael",
         -84.83
        ],
        [
         2017,
         "Laurel Beltran",
         627.99
        ],
        [
         2017,
         "Alejandro Ballentine",
         197.67
        ],
        [
         2017,
         "Frank Preis",
         49.32
        ],
        [
         2017,
         "Ed Braxton",
         10.600000000000012
        ],
        [
         2017,
         "Phillip Flathmann",
         78.02
        ],
        [
         2017,
         "Lena Radford",
         -272.58
        ],
        [
         2017,
         "Sam Zeldin",
         50.42
        ],
        [
         2017,
         "Toby Carlisle",
         231.67000000000002
        ],
        [
         2017,
         "Gary Zandusky",
         259.09999999999997
        ],
        [
         2017,
         "Valerie Mitchum",
         67.41
        ],
        [
         2017,
         "Bart Pistole",
         228.62999999999997
        ],
        [
         2017,
         "Evan Minnotte",
         17.83
        ],
        [
         2017,
         "Dean perceR__#$#",
         -1031.1200000000001
        ],
        [
         2017,
         "Phillina Ober",
         28.799999999999997
        ],
        [
         2017,
         "Sandra Flanagan",
         110.13000000000001
        ],
        [
         2017,
         "Roland Schwarz",
         649.3800000000001
        ],
        [
         2017,
         "Brosin34a Hoffman 09",
         119.50999999999999
        ],
        [
         2017,
         "Karen Ferguson",
         1206.84
        ],
        [
         2017,
         "Maya Herman",
         3.35
        ],
        [
         2017,
         "Toby Gnade",
         35.86
        ],
        [
         2017,
         "Harry Marie",
         -16.56
        ],
        [
         2017,
         "Xylona Preis",
         80.12
        ],
        [
         2017,
         "Dionis Lloyd",
         -200.58
        ],
        [
         2017,
         "Daniel Raglin",
         211.97
        ],
        [
         2017,
         "Luke Schmidt",
         57.82
        ],
        [
         2017,
         "Giulietta Dortch",
         364.22999999999996
        ],
        [
         2017,
         "Mary O'Rourke",
         -67.54
        ],
        [
         2017,
         "N0ra Paige",
         186.20999999999998
        ],
        [
         2017,
         "Fred Harton",
         340.37
        ],
        [
         2017,
         "Mick Crebagga",
         26.699999999999996
        ],
        [
         2017,
         "Giulietta Weimer",
         -451.09000000000003
        ],
        [
         2017,
         "6789Erin  Mull",
         -14.440000000000001
        ],
        [
         2017,
         "Darren Budd",
         64.81
        ],
        [
         2017,
         "Sanjit Chand",
         5.84
        ],
        [
         2017,
         "Bobby Odegard",
         57.38
        ],
        [
         2017,
         "Vivian Mathis",
         6.97
        ],
        [
         2017,
         "Ricardo Sperren",
         300.1
        ],
        [
         2017,
         "Michael Dominguez",
         43.31
        ],
        [
         2017,
         "Chris Selesnick",
         174.26
        ],
        [
         2017,
         "Jim Kriz",
         981.6700000000001
        ],
        [
         2017,
         "Sample Company A",
         91.44999999999999
        ],
        [
         2017,
         "Olvera Toch",
         175.54999999999998
        ],
        [
         2017,
         "Kean Thornton",
         34.32000000000001
        ],
        [
         2017,
         "Jim Epp",
         1703.5700000000002
        ],
        [
         2017,
         "Nick Zandusky",
         102.32
        ],
        [
         2017,
         "Jill Matthias",
         -0.6
        ],
        [
         2017,
         "Matt Hagelstein",
         108.05
        ],
        [
         2017,
         "Clay Cheatham",
         34.3
        ],
        [
         2017,
         "Darren Koutras",
         -22.940000000000005
        ],
        [
         2017,
         "Adam Bellavance",
         477.84
        ],
        [
         2017,
         "Allen Rosenblatt",
         -221.58
        ],
        [
         2017,
         "Sean Braxton",
         -907.0500000000001
        ],
        [
         2017,
         "Heather Jas",
         13.97
        ],
        [
         2017,
         "Nat Carroll",
         216.57
        ],
        [
         2017,
         "Joy Smith",
         -766.5699999999999
        ],
        [
         2017,
         "Lauren Leatherbury",
         44.72
        ],
        [
         2017,
         "Ann Blume",
         -256.46000000000004
        ],
        [
         2017,
         "Harold Pawlan",
         293.88
        ],
        [
         2017,
         "Russell Applegate",
         29.55
        ],
        [
         2017,
         "Bradley Drucker",
         762.06
        ],
        [
         2017,
         "Eric Hoffmann",
         34.4
        ],
        [
         2017,
         "Nick Radford",
         48.059999999999995
        ],
        [
         2017,
         "Ann Steele",
         69.09
        ],
        [
         2017,
         "Paul  4567Van Hugh",
         283.49
        ],
        [
         2017,
         "Sue Ann Reed",
         177.85
        ],
        [
         2017,
         "Nathan Mautz",
         4.35
        ],
        [
         2017,
         "Ralph Kennedy",
         4.11
        ],
        [
         2017,
         "Catherine Glotzbach",
         21.87
        ],
        [
         2017,
         "B         ecky Martin",
         99.9
        ],
        [
         2017,
         "Ed Ludwig",
         18.45
        ],
        [
         2017,
         "Troy Staebel",
         -10.11
        ],
        [
         2017,
         "Jeremy Ellison",
         33.59
        ],
        [
         2017,
         "David Smith",
         -29.560000000000002
        ],
        [
         2017,
         "Maris LaWare",
         -345.71
        ],
        [
         2017,
         "Jill Fjeld",
         -1.489999999999994
        ],
        [
         2017,
         "Ralph Ritter",
         -77.3
        ],
        [
         2017,
         "Corinna Mitchell",
         855.9300000000001
        ],
        [
         2017,
         "Natalie DeCherney",
         -84.03
        ],
        [
         2017,
         "John Lee",
         837.22
        ],
        [
         2017,
         "Bradley Talbott",
         347.1
        ],
        [
         2017,
         "Cynthia Voltz",
         134.09
        ],
        [
         2017,
         "Darrin Van Huff",
         -445.11
        ],
        [
         2017,
         "Beth Paige",
         -183.0
        ],
        [
         2017,
         "Aaron Smayling",
         -377.96000000000004
        ],
        [
         2017,
         "Dan Lawera",
         -6.9
        ],
        [
         2017,
         "Juliana Krohn",
         357.77
        ],
        [
         2017,
         "Roger Demir",
         78.99000000000001
        ],
        [
         2017,
         "Evan Bailliet",
         3.52
        ],
        [
         2017,
         "Christina DeMoss",
         233.48000000000002
        ],
        [
         2017,
         "Ruben Ausman",
         510.7699999999999
        ],
        [
         2017,
         "Frank Olsen",
         -70.97999999999999
        ],
        [
         2017,
         "Chuck Sachs",
         156.27
        ],
        [
         2017,
         "Joe Elijah",
         60.42
        ],
        [
         2017,
         "       Kristi;'[]na Nunn",
         301.87999999999994
        ],
        [
         2017,
         "Jamie Frazer",
         347.08000000000004
        ],
        [
         2017,
         "Edward Hooks",
         405.82
        ],
        [
         2017,
         "Kelly Collister",
         24.48
        ],
        [
         2017,
         "Zuschuss Carroll",
         62.339999999999975
        ],
        [
         2017,
         "Michelle Huthwaite",
         374.93
        ],
        [
         2017,
         "Alice McCarthy",
         -1.5699999999999923
        ],
        [
         2017,
         "Muhammed Lee",
         41.51
        ],
        [
         2017,
         "George Ashbrook",
         139.07
        ],
        [
         2017,
         "Ken Lonsdale",
         161.72
        ],
        [
         2017,
         "  Shahi  Collister",
         270.2900000000001
        ],
        [
         2017,
         "Fred McMath",
         38.7
        ],
        [
         2017,
         "Troy Blackwell",
         1.37
        ],
        [
         2017,
         "Dario Medina",
         7.14
        ],
        [
         2017,
         "Gary Mitchum",
         374.61
        ],
        [
         2017,
         "Erica Smith",
         871.8199999999999
        ],
        [
         2017,
         "Craig Carreira",
         114.35
        ],
        [
         2017,
         "Anthony Jacobs",
         208.05
        ],
        [
         2017,
         "Karen Seio",
         -6.379999999999999
        ],
        [
         2017,
         "Jeremy Lonsdale",
         529.02
        ],
        [
         2017,
         "Janet Molinari",
         149.28
        ],
        [
         2017,
         "Yoseph Carroll",
         37.53
        ],
        [
         2017,
         "Jasper Cacioppo",
         2.4
        ],
        [
         2017,
         "Ellis Ballard",
         81.7
        ],
        [
         2017,
         "Don Jones",
         57.31999999999999
        ],
        [
         2017,
         "Lisa Ryan",
         99.27
        ],
        [
         2017,
         "Thomas Brumley",
         13.979999999999999
        ],
        [
         2017,
         "Clay Rozendal",
         108.8
        ],
        [
         2017,
         "Sarah Brown",
         13.319999999999999
        ],
        [
         2017,
         "Anne McFarland",
         392.01
        ],
        [
         2017,
         "Benjamin Venier",
         105.93999999999998
        ],
        [
         2017,
         "Trudy Glocke",
         84.42
        ],
        [
         2017,
         "Shirley Jackson",
         -243.16
        ],
        [
         2017,
         "Theone Pippenger",
         753.7600000000001
        ],
        [
         2017,
         "Benjamin Patterson",
         20.58
        ],
        [
         2017,
         "Christina Anderson",
         119.67000000000002
        ],
        [
         2017,
         "Natalie Fritzler",
         163.45999999999998
        ],
        [
         2017,
         "Gary567 Hansen",
         -496.24
        ],
        [
         2017,
         ")(*&Sung Pak",
         11.84
        ],
        [
         2017,
         "Thomas Seio",
         286.36
        ],
        [
         2017,
         "Frank Hawley",
         12936.860000000002
        ],
        [
         2017,
         "Larry Tron",
         23.23
        ],
        [
         2017,
         "Muhammed YeDwab#",
         21.59
        ],
        [
         2017,
         "Dennis Kane",
         2.650000000000004
        ],
        [
         2017,
         "Mick Brown",
         67.85
        ],
        [
         2017,
         "Neola Schneider",
         -31.859999999999985
        ],
        [
         2017,
         "Alan Haines",
         -16.58
        ],
        [
         2017,
         "Chuck Clark",
         108.97
        ],
        [
         2017,
         "Charles Sheldon",
         -3.3100000000000014
        ],
        [
         2017,
         "Rob Beeghly",
         82.87
        ],
        [
         2017,
         "Brad Eason",
         -52.07
        ],
        [
         2017,
         "Liz Thompson",
         -22.02
        ],
        [
         2017,
         "Sharelle Roach",
         -3391.66
        ],
        [
         2017,
         "Patrick Ryan",
         5555.93
        ],
        [
         2017,
         "Ted Trevino",
         422.92999999999995
        ],
        [
         2017,
         "Mathew Reese",
         153.34
        ],
        [
         2017,
         "Deborah Brumfield",
         -15.549999999999994
        ],
        [
         2017,
         " Shahi  Hopkins",
         106.91
        ],
        [
         2017,
         "Magdelene Morse",
         -39.46
        ],
        [
         2017,
         "Joseph Holt",
         68.87
        ],
        [
         2017,
         "Brian Dahlen",
         87.99
        ],
        [
         2017,
         "Patricia Hirasaki",
         47.89
        ],
        [
         2017,
         "Saphhira Shifley",
         387.73
        ],
        [
         2017,
         "Clay Ludtke",
         529.6
        ],
        [
         2017,
         "Michael Stewart",
         -20.380000000000003
        ],
        [
         2017,
         "Matthew Clasen",
         -317.03000000000003
        ],
        [
         2017,
         "Michael Oakman",
         -2.7
        ],
        [
         2017,
         "Denny Blanton",
         172.59
        ],
        [
         2017,
         "Dorothy Badders",
         101.27999999999999
        ],
        [
         2017,
         "Sylvia Foulston",
         8.489999999999998
        ],
        [
         2017,
         "Anthony Johnson",
         255.24
        ],
        [
         2017,
         "Tracy Hopkins",
         -990.1699999999998
        ],
        [
         2017,
         "Tom Stivers",
         14.71
        ],
        [
         2017,
         "Michelle Ellison",
         -6.4
        ],
        [
         2017,
         "Noel Staavos",
         -99.52
        ],
        [
         2017,
         "Elizabeth Moffitt",
         444.40999999999997
        ],
        [
         2017,
         "Hunter Lopez",
         5045.86
        ],
        [
         2017,
         "Christina VanderZanden",
         277.62
        ],
        [
         2017,
         "Steve Carroll",
         15.12
        ],
        [
         2017,
         "Joel Eaton",
         560.58
        ],
        [
         2017,
         "Brendan Murry",
         -51.19
        ],
        [
         2017,
         "Julia Barnett",
         9.89
        ],
        [
         2017,
         "Sanjit Jacobs",
         -56.59000000000001
        ],
        [
         2017,
         "Ivan Gibson",
         92.92
        ],
        [
         2017,
         "Julia Dunbar",
         131.89000000000001
        ],
        [
         2017,
         "Cindy Chapman",
         40.35000000000001
        ],
        [
         2017,
         "UNKNOWN",
         262.9600000000001
        ],
        [
         2017,
         "Susan Pistek",
         -18.550000000000004
        ],
        [
         2017,
         "Rob Williams",
         321.91
        ],
        [
         2017,
         "Rick Reed",
         99.94
        ],
        [
         2017,
         "Liz Pelletier",
         87.89
        ],
        [
         2017,
         "Dorris liebe",
         -0.33000000000000007
        ],
        [
         2017,
         "Barry Französisch",
         4.600000000000001
        ],
        [
         2017,
         "Kat rina Willman",
         123.13000000000001
        ],
        [
         2017,
         "Kelly Lampkin",
         -163.66
        ],
        [
         2017,
         "Katherine Nockton",
         10.26
        ],
        [
         2017,
         "Denny Ordway",
         83.17
        ],
        [
         2017,
         "Jane Waco",
         1953.59
        ],
        [
         2017,
         "Linda Cazamias",
         12.039999999999997
        ],
        [
         2017,
         "Carlos Daly",
         349.82
        ],
        [
         2017,
         "Ryan Akin",
         -105.5
        ],
        [
         2017,
         "Erin Smith",
         239.29
        ],
        [
         2017,
         "Frank Atkinson",
         252.38
        ],
        [
         2017,
         "Brad Norvell",
         7.84
        ],
        [
         2017,
         "Russell D'Ascenzo",
         19.33
        ],
        [
         2017,
         "Stephanie Ulpright",
         623.11
        ],
        [
         2017,
         "Janet Martin",
         -135.65
        ],
        [
         2017,
         "Rob Dowd",
         66.27
        ],
        [
         2017,
         "Doug Bickford",
         60.5
        ],
        [
         2017,
         "Damala Kotsonis",
         349.28
        ],
        [
         2017,
         "Henia Zydlo",
         -136.68
        ],
        [
         2017,
         "Lena Hernandez",
         65.22
        ],
        [
         2017,
         "Matthew Grinstein",
         112.69000000000001
        ],
        [
         2017,
         "Lori Olson",
         115.71
        ],
        [
         2017,
         "Cari Schnelling",
         14.920000000000002
        ],
        [
         2017,
         "Ashley Jarboe",
         167.94
        ],
        [
         2017,
         "Barbara Fisher",
         6.97
        ],
        [
         2017,
         "Mark Hamilton",
         84.94
        ],
        [
         2017,
         "Arthur Prichep",
         -179.85999999999999
        ],
        [
         2017,
         "Dianna Arnett",
         35.07
        ],
        [
         2017,
         "   _Mike Vitt 12313orini",
         21.47
        ],
        [
         2017,
         "Harold Ryan",
         1000.69
        ],
        [
         2017,
         "Thea Hudgings",
         -181.36
        ],
        [
         2017,
         "B*#^%ruce Geld",
         41.76
        ],
        [
         2017,
         "Seth Vernon",
         1570.9400000000003
        ],
        [
         2017,
         "Peter Bühler",
         13.19
        ],
        [
         2017,
         "5467Ben Wallace",
         -14.110000000000001
        ],
        [
         2017,
         "Laura Armstrong",
         16.07
        ],
        [
         2017,
         "Julie Creighton",
         62.3
        ],
        [
         2017,
         "Anna Gayman",
         61.150000000000006
        ],
        [
         2017,
         "Claudia Bergmann",
         341.51
        ],
        [
         2017,
         "Amy Cox",
         876.48
        ],
        [
         2017,
         "Tracy Zic",
         1.34
        ],
        [
         2017,
         "Dennis Pardue",
         17.25
        ],
        [
         2017,
         "Keith Herrera",
         431.2900000000001
        ],
        [
         2017,
         "Herbert Flentye",
         20.490000000000002
        ],
        [
         2017,
         "Jonathan Howell",
         -125.37
        ],
        [
         2017,
         "John Castell",
         117.31
        ],
        [
         2017,
         "Larry Hughes",
         17.67
        ],
        [
         2017,
         "654Dean Braden",
         277.96999999999997
        ],
        [
         2017,
         "Andrew Gjertsen",
         25.05
        ],
        [
         2017,
         "Sonia Cooley",
         70.27
        ],
        [
         2017,
         "Victoria Pisteka",
         -964.48
        ],
        [
         2017,
         "Daniel Lacy",
         24.87
        ],
        [
         2017,
         "Maria Etezadi",
         74.0
        ],
        [
         2017,
         "Eugene Barchas",
         -47.4
        ],
        [
         2017,
         "Jennifer Patt",
         10.659999999999997
        ],
        [
         2017,
         "Paul Gonzalez",
         220.26
        ],
        [
         2017,
         "Hilary Holden",
         26.46
        ],
        [
         2017,
         "Peter McVee",
         69.6
        ],
        [
         2017,
         "Jason Klamczynski",
         26.35
        ],
        [
         2017,
         "James Galang",
         69.85
        ],
        [
         2017,
         "Pauline Webber",
         333.8
        ],
        [
         2017,
         "Anthony Rawles",
         105.07000000000001
        ],
        [
         2017,
         "Alan Hwang",
         946.65
        ],
        [
         2017,
         "Berenike Kampe",
         21.450000000000003
        ],
        [
         2017,
         "Nick Crebassa",
         607.03
        ],
        [
         2017,
         "Jim Mi....tchum",
         43.58
        ],
        [
         2017,
         "Robert Dilbeck",
         757.41
        ],
        [
         2017,
         "Mitch Webber",
         8.49
        ],
        [
         2017,
         "Edward Nazzal",
         6.55
        ],
        [
         2017,
         "David K ';lendrick",
         171.77
        ],
        [
         2017,
         "Adrian Hane",
         322.55999999999995
        ],
        [
         2017,
         "Jeremy Farry",
         36.980000000000004
        ],
        [
         2017,
         "Astrea Jones",
         2.77
        ],
        [
         2017,
         "Alan Shonely",
         -31.92
        ],
        [
         2017,
         "Thomas Thornton",
         147.47
        ],
        [
         2017,
         "Sarah Foster",
         294.84000000000003
        ],
        [
         2017,
         "Sean O'Donnell",
         200.88
        ],
        [
         2017,
         "Edward Becker",
         -397.51
        ],
        [
         2017,
         "Jeremy Pistek",
         422.26000000000005
        ],
        [
         2017,
         "Katherine Murray",
         -140.7
        ],
        [
         2017,
         "Tracy P 908765oddar",
         -0.03999999999999915
        ],
        [
         2017,
         "Bi1l Eplett",
         1440.55
        ],
        [
         2017,
         "Roy Französisch",
         -0.3000000000000007
        ],
        [
         2017,
         "Eudokia Martin",
         16.93
        ],
        [
         2017,
         "Amy Hunt",
         147.87
        ],
        [
         2017,
         "Benjamin Farhat",
         328.37
        ],
        [
         2017,
         "Chad McGuire",
         400.46999999999997
        ],
        [
         2017,
         "Jason Gross",
         26.519999999999996
        ],
        [
         2017,
         "Dana Kaydos",
         316.38
        ],
        [
         2017,
         "Alyssa Tate",
         96.13000000000001
        ],
        [
         2017,
         "Ann Chong",
         330.91
        ],
        [
         2017,
         "Laurel Workman",
         2.32
        ],
        [
         2017,
         "Ruben Dartt",
         82.83
        ],
        [
         2017,
         "Matt Connell",
         121.69
        ],
        [
         2017,
         "Brendan Sweed",
         168.47
        ],
        [
         2017,
         "Monica Federle",
         287.24
        ],
        [
         2017,
         "Duane Benoit",
         199.44
        ],
        [
         2017,
         "Michelle Moray",
         -403.7699999999999
        ],
        [
         2017,
         "Joy Bell-",
         111.08999999999999
        ],
        [
         2017,
         "Lynn Smith",
         52.59
        ],
        [
         2017,
         "Cathy Prescott",
         230.57
        ],
        [
         2017,
         "Greg Maxwell",
         -99.18
        ],
        [
         2017,
         "Henry MacAllister",
         41.23
        ],
        [
         2017,
         "Muhammed MacIntyre",
         33.04
        ],
        [
         2017,
         "Tho   12 =-.mas Boland",
         829.65
        ],
        [
         2017,
         "Anthony Garverick",
         -66.01
        ],
        [
         2017,
         "Jim Sink",
         45.120000000000005
        ],
        [
         2017,
         "Annie Thurman",
         111.72
        ],
        [
         2017,
         "Bobby Elias",
         178.70999999999998
        ],
        [
         2017,
         "Maribeth Dona",
         -194.56
        ],
        [
         2017,
         "Frank Carlisle",
         209.39999999999998
        ],
        [
         2017,
         "Stuart Calhoun",
         2.58
        ],
        [
         2017,
         "Dan Reichenbach",
         1086.8400000000001
        ],
        [
         2017,
         "Philisse Overcash",
         153.54999999999998
        ],
        [
         2017,
         "John Grady",
         78.02
        ],
        [
         2017,
         "Liz Willingham",
         5.08
        ],
        [
         2017,
         "Helen Wa55erman",
         1946.6999999999998
        ],
        [
         2017,
         "Mitch Gastineau",
         -1.2399999999999998
        ],
        [
         2017,
         "Justin MacKendrick",
         235.11
        ],
        [
         2017,
         "Debra Catini",
         11.059999999999999
        ],
        [
         2017,
         "Maribeth 5chnelling",
         40.74
        ],
        [
         2017,
         "Barry Weirich",
         -77.13
        ],
        [
         2017,
         "Zuschuss Donatelli",
         16.59
        ],
        [
         2017,
         "Ivan Liston",
         438.68
        ],
        [
         2017,
         "Brian Moss",
         1937.73
        ],
        [
         2017,
         "Mike Gockenbach",
         196.72
        ],
        [
         2017,
         "Jack Lebron",
         -218.57999999999998
        ],
        [
         2017,
         "Julie Kriz",
         -273.77
        ],
        [
         2017,
         "Mark Van Huff",
         68.78999999999999
        ],
        [
         2017,
         "Erica Hernandez",
         144.29
        ],
        [
         2017,
         "Filia McAdams",
         -24.75
        ],
        [
         2017,
         "Greg Hansen",
         -8.879999999999999
        ],
        [
         2017,
         "Luke Foster",
         71.54
        ],
        [
         2017,
         "Scott Williamson",
         100.28
        ],
        [
         2017,
         "Cari Sayre",
         205.18
        ],
        [
         2017,
         "Gary McGarr",
         36.309999999999995
        ],
        [
         2017,
         "Jason Fortune-",
         59.94
        ],
        [
         2017,
         "Marc Harrigan",
         -42.60999999999999
        ],
        [
         2017,
         "Quincy Jones",
         -99.69999999999999
        ],
        [
         2017,
         "Brian Derr",
         27.69
        ],
        [
         2017,
         "Roy Skaria",
         6.08
        ],
        [
         2017,
         "Michael Chen",
         242.12
        ],
        [
         2017,
         "Roger Barcio",
         325.84999999999997
        ],
        [
         2017,
         "Sean Wendt",
         -50.25
        ],
        [
         2017,
         "Skye Norling",
         -1130.43
        ],
        [
         2017,
         "Evan Henry",
         6.42
        ],
        [
         2017,
         "Barry Franz",
         71.98
        ],
        [
         2017,
         "Meg O'Connel",
         180.45
        ],
        [
         2017,
         "Victo 3456ria Brennan",
         181.21
        ],
        [
         2017,
         "Ken Brennan",
         259.43
        ],
        [
         2017,
         "Marc Crier",
         7.22
        ],
        [
         2017,
         "Harold Engle",
         161.26
        ],
        [
         2017,
         "Cynthia A;,.[]rntzen",
         191.87
        ],
        [
         2017,
         "Christine Abelman",
         143.35999999999999
        ],
        [
         2017,
         "Nona Balk",
         61.15999999999999
        ],
        [
         2017,
         "Arianne Irving",
         77.28
        ],
        [
         2017,
         "Lena Creighton",
         -67.97
        ],
        [
         2017,
         "Todd Boyes",
         206.56
        ],
        [
         2017,
         "Fred Chung",
         502.96999999999997
        ],
        [
         2017,
         "Deirdre Greer",
         530.95
        ],
        [
         2017,
         "Allen Goldenen",
         8.3
        ],
        [
         2017,
         "Jay Fein",
         128.34
        ],
        [
         2017,
         "Janet Lee",
         88.19
        ],
        [
         2017,
         "Cyma Kinney",
         -521.39
        ],
        [
         2017,
         "Andrew Allen",
         5.44
        ],
        [
         2017,
         "Bruce Stewart",
         115.83999999999997
        ],
        [
         2017,
         "Michael Grace",
         -29.44
        ],
        [
         2017,
         "Giulietta Baptist",
         295.02
        ],
        [
         2017,
         "Michael Nguyen",
         254.12999999999997
        ],
        [
         2017,
         "Larry Blacks",
         7.91
        ],
        [
         2017,
         "Jennifer Braxton",
         251.19
        ],
        [
         2017,
         "Victor Preis",
         196.45999999999998
        ],
        [
         2017,
         "Brenda Bowman",
         660.69
        ],
        [
         2017,
         "Luke Weiss",
         67.07
        ],
        [
         2017,
         "Suzanne McNair",
         442.28
        ],
        [
         2017,
         "Todd Sumrall",
         1218.0100000000002
        ],
        [
         2017,
         "Tony Chapman",
         76.21000000000001
        ],
        [
         2017,
         "Tracy Collins",
         22.41
        ],
        [
         2017,
         "Max Ludwig",
         346.16
        ],
        [
         2017,
         "Aleksandra Gannaway",
         1.67
        ],
        [
         2017,
         "Vicky Freymann",
         62.480000000000004
        ],
        [
         2017,
         "Stuart Van",
         4.2
        ],
        [
         2017,
         "Karen Bern",
         763.56
        ],
        [
         2017,
         "Bi1l Overfelt",
         -79.6
        ],
        [
         2017,
         "Dan Campbell",
         -1128.75
        ],
        [
         2017,
         "Fra9876nk Gasti  ;.,.,neau",
         80.43
        ],
        [
         2017,
         "John Murray",
         24.630000000000003
        ],
        [
         2017,
         "Hunter Glantz",
         82.02000000000001
        ],
        [
         2017,
         "Steve Chapman",
         -11.599999999999994
        ],
        [
         2017,
         "Christine Kargatis",
         -124.27
        ],
        [
         2017,
         "Kunst Miller",
         364.68
        ],
        [
         2017,
         "Harry Greene",
         127.41999999999999
        ],
        [
         2017,
         "Hallie Redmond",
         135.68
        ],
        [
         2017,
         "Dorothy Dickinson",
         51.970000000000006
        ],
        [
         2017,
         "Maxwell Schwartz",
         9.7
        ],
        [
         2017,
         "Annie Zypern",
         15.0
        ],
        [
         2017,
         "Philip Fox",
         50.65
        ],
        [
         2017,
         "Craig Yedwab",
         240.54
        ],
        [
         2017,
         "Angele Hood",
         28.92
        ],
        [
         2017,
         "Jenna Caffey",
         502.93
        ],
        [
         2017,
         "Bi1l Stewart",
         -228.09999999999997
        ],
        [
         2017,
         "Rick Duston",
         276.27
        ],
        [
         2017,
         "Rob Lucas",
         68.14999999999999
        ],
        [
         2017,
         "Lisa Hazard",
         -152.86999999999998
        ],
        [
         2017,
         "Sibella Parks",
         81.96
        ],
        [
         2017,
         "Matt Collister",
         47.18
        ],
        [
         2017,
         "Daniel Byrd",
         280.91999999999996
        ],
        [
         2017,
         "Corey Catlett",
         33.78
        ],
        [
         2017,
         "Jack O'Briant",
         40.4
        ],
        [
         2017,
         "Nathan Gelder",
         28.269999999999996
        ],
        [
         2017,
         "Kean Nguyen",
         112.42
        ],
        [
         2017,
         "Dianna Vittorini",
         151.65
        ],
        [
         2017,
         "Erica Bern",
         10.99
        ],
        [
         2017,
         "Paul Stevenson",
         44.94
        ],
        [
         2017,
         "Philip Brown",
         71.93
        ],
        [
         2017,
         "Candace McMahon",
         185.93
        ],
        [
         2017,
         "Mike Pelletier",
         119.69
        ],
        [
         2017,
         "Jay Kimmel",
         79.47
        ],
        [
         2017,
         "Greg Guthrie",
         -10.070000000000011
        ],
        [
         2017,
         "Alex Avila",
         96.5
        ],
        [
         2017,
         "Steven Cartwright",
         483.77
        ],
        [
         2017,
         "Alex Grayson",
         -67.1
        ],
        [
         2017,
         "Sally Knut_son",
         165.35000000000002
        ],
        [
         2017,
         "Nathan Cano",
         -2330.2700000000004
        ],
        [
         2017,
         "Adrian Shami",
         20.34
        ],
        [
         2017,
         "Neil Knudson%^&*(",
         80.02000000000001
        ],
        [
         2017,
         "Cindy Stewart",
         43.71
        ],
        [
         2017,
         "Barry Gonzalez",
         221.68
        ],
        [
         2017,
         "Anth 34789ony Witt",
         79.27999999999999
        ],
        [
         2017,
         "Vivek Gonzalez",
         106.1
        ],
        [
         2017,
         "Vivek Sundaresam",
         -6.42
        ],
        [
         2017,
         "Jas O'Carroll",
         -54.88
        ],
        [
         2017,
         "Carol Triggs",
         159.26
        ],
        [
         2017,
         "Stewart Visinsky",
         9.29
        ],
        [
         2017,
         "Frank Merwin",
         530.86
        ],
        [
         2017,
         "Max Engle",
         23.16000000000001
        ],
        [
         2017,
         "Nora Preis",
         71.95
        ],
        [
         2017,
         "Shaun Weien",
         50.0
        ],
        [
         2017,
         "Carl Ludwig",
         353.07
        ],
        [
         2017,
         "Allen Armold",
         68.91999999999999
        ],
        [
         2017,
         "Alan Dominguez",
         1866.92
        ],
        [
         2017,
         "Carlos Soltero",
         76.20000000000002
        ],
        [
         2017,
         "Max Jones",
         403.71999999999997
        ],
        [
         2017,
         "Clytie Kelty",
         211.09
        ],
        [
         2017,
         "Jessica Myrick",
         18.560000000000002
        ],
        [
         2017,
         "Mike Kennedy",
         209.04
        ],
        [
         2017,
         "Heather Kirkland",
         399.00000000000006
        ],
        [
         2017,
         "Sung Chung",
         29.94
        ],
        [
         2017,
         "Grant Thornton",
         -3825.3399999999997
        ],
        [
         2017,
         "Shui Tom",
         12.790000000000001
        ],
        [
         2017,
         "Doug O'Connell",
         267.02
        ],
        [
         2017,
         "Raymond Buch",
         6780.9
        ],
        [
         2017,
         "Tam&^*ara Willing___)ham",
         -6.059999999999999
        ],
        [
         2017,
         "Maria Zettner",
         15.510000000000002
        ],
        [
         2017,
         "Alan Barnes",
         141.73
        ],
        [
         2017,
         "Tim Brockman",
         -31.68
        ],
        [
         2017,
         "Ji11 Stevenson",
         -53.72
        ],
        [
         2017,
         "Christine Phan",
         -17.02
        ],
        [
         2017,
         "Beth Fritzler",
         38.0
        ],
        [
         2017,
         "Michael Moore",
         -48.11999999999999
        ],
        [
         2017,
         "Raymond Messe",
         196.75000000000003
        ],
        [
         2017,
         "Joseph Airdo",
         -1031.0
        ],
        [
         2017,
         "Craig Reiter",
         253.37
        ],
        [
         2017,
         "Eugene Moren",
         76.75999999999999
        ],
        [
         2017,
         "Yana Sorensen",
         1524.1299999999999
        ],
        [
         2017,
         " Shahi  Shariari",
         58.910000000000004
        ],
        [
         2017,
         "Ad.       ..am Hart",
         -54.580000000000055
        ],
        [
         2017,
         "Rick Bensley",
         179.77999999999997
        ],
        [
         2017,
         "Erin Creighton",
         57.37
        ],
        [
         2017,
         "Joy Daniels",
         37.07
        ],
        [
         2017,
         "Pamela Stobb",
         -166.52
        ],
        [
         2017,
         "Anna Andreadi",
         6.22
        ],
        [
         2017,
         "Susan Gilcrest",
         -13.27
        ],
        [
         2017,
         "Mary Zewe",
         17.38
        ],
        [
         2017,
         "Parhena Norris",
         48.35
        ],
        [
         2017,
         "Pete Kriz",
         1617.17
        ],
        [
         2017,
         "Michael Paige",
         116.44999999999999
        ],
        [
         2017,
         "Dave Brooks",
         -231.31000000000006
        ],
        [
         2017,
         "Marina Lichtenstein",
         11.100000000000001
        ],
        [
         2017,
         "Craig Leslie",
         164.91
        ],
        [
         2017,
         "Denise Leinenbach",
         17.38
        ],
        [
         2017,
         "Resi Pölking",
         28.3
        ],
        [
         2017,
         "Lindsay Shagiari",
         229.37
        ],
        [
         2017,
         "Alex Russell",
         23.95
        ],
        [
         2017,
         "Sheri Gordon",
         -295.98
        ],
        [
         2017,
         "Nicole Fjeld",
         87.86
        ],
        [
         2017,
         "Tamara Manning",
         205.84
        ],
        [
         2017,
         "Kalyca Meade",
         128.92999999999998
        ],
        [
         2017,
         "Nicole Hansen",
         635.96
        ],
        [
         2017,
         "Victoria Wilson",
         565.88
        ],
        [
         2017,
         "Thais Sissman",
         -1.97
        ],
        [
         2017,
         "William Brown",
         401.51
        ],
        [
         2017,
         "Jamie Kunitz",
         557.69
        ],
        [
         2017,
         "Emily Grady",
         2.5899999999999963
        ],
        [
         2017,
         "Bryan Mills",
         6.92
        ],
        [
         2017,
         "Christopher Martinez",
         702.26
        ],
        [
         2017,
         "Logan Currie",
         2.4000000000000044
        ],
        [
         2017,
         "Tom Boeckenhauer",
         218.55
        ],
        [
         2017,
         "Lindsay Williams",
         340.51
        ],
        [
         2017,
         "Scot Coram",
         4.18
        ],
        [
         2017,
         "Jennifer Ferguson",
         550.8599999999999
        ],
        [
         2017,
         "Eric Murdock",
         50.37
        ],
        [
         2017,
         "Andy Yotov",
         31.04
        ],
        [
         2017,
         "Kat rina Bavinger",
         230.89999999999998
        ],
        [
         2017,
         "Vivek Grady",
         2.41
        ],
        [
         2017,
         "Roland Murray",
         28.68
        ],
        [
         2017,
         "Rick Hansen",
         48.21
        ],
        [
         2017,
         "Toby Swindell",
         7.29
        ],
        [
         2017,
         "Bryan Spruell",
         116.94
        ],
        [
         2017,
         "Richard Bierner",
         362.94
        ],
        [
         2017,
         "Michelle Tran",
         2.0500000000000007
        ],
        [
         2017,
         "Kat rina Edelman",
         -18.380000000000003
        ],
        [
         2017,
         "Susan Vittorini",
         136.82
        ],
        [
         2017,
         "Jim Karlsson",
         8.86
        ],
        [
         2017,
         "Tanja Norvell",
         22.0
        ],
        [
         2017,
         "Arthur Wiediger",
         87.22
        ],
        [
         2017,
         "Dave Poirier",
         60.54
        ],
        [
         2017,
         "Natalie Webber",
         11.82
        ],
        [
         2017,
         "Noah Childs",
         48.78
        ],
        [
         2017,
         "Ted Butterfield",
         122.05
        ],
        [
         2017,
         "Tiffany House",
         24.699999999999992
        ],
        [
         2017,
         "Chris Cortes",
         393.6
        ],
        [
         2017,
         "Steven Roelle",
         1676.31
        ],
        [
         2017,
         "Christopher Schild",
         -384.96
        ],
        [
         2017,
         "Justin Ritter",
         255.76999999999998
        ],
        [
         2017,
         "Sarah Bern",
         191.07000000000002
        ],
        [
         2017,
         "Penelope Sewall",
         1060.31
        ],
        [
         2017,
         "Steve Nguyen",
         -18.19
        ],
        [
         2017,
         "Carol Darley",
         -214.46
        ],
        [
         2017,
         "Guy Armstrong",
         23.5
        ],
        [
         2017,
         "Darren Powers",
         -48.17
        ],
        [
         2017,
         "Dave Kipp",
         400.99
        ],
        [
         2017,
         "Kimberly Carter",
         156.37
        ],
        [
         2017,
         "Roy Phan",
         19.81
        ],
        [
         2017,
         "Patrick O'Donnell",
         238.16
        ],
        [
         2017,
         "Bradley Nguyen",
         42.57
        ],
        [
         2017,
         "         =--Katharine Harms",
         150.47
        ],
        [
         2017,
         "Brendan Dodson",
         80.24
        ],
        [
         2017,
         "James Lanier",
         110.48
        ],
        [
         2017,
         "Patrick Gardner",
         96.42
        ],
        [
         2017,
         "Mitch Willin0009gham",
         216.0
        ],
        [
         2017,
         "Andy Reiter",
         2607.68
        ],
        [
         2017,
         "Rose O'Brian",
         -174.32999999999998
        ],
        [
         2017,
         "Christine Sundaresam",
         456.48
        ],
        [
         2017,
         "Ben Ferrer",
         437.78000000000003
        ],
        [
         2017,
         "Beth Tho098-.,;;mpson",
         39.23
        ],
        [
         2017,
         "Brooke Gillingham",
         11.66
        ],
        [
         2017,
         "Emily Burns",
         -80.44
        ],
        [
         2017,
         "Neil Ducich",
         379.25
        ],
        [
         2017,
         "Barry Blumstein",
         6.92
        ],
        [
         2017,
         "Maria Bertelson",
         65.66000000000001
        ],
        [
         2017,
         "Eric Barreto",
         -75.19
        ],
        [
         2017,
         "Michael Granlund",
         37.989999999999995
        ],
        [
         2017,
         "Randy Bradley",
         -74.31
        ],
        [
         2017,
         "Gene McClure",
         61.599999999999994
        ],
        [
         2017,
         "Scot Wooten",
         -64.07000000000001
        ],
        [
         2017,
         "\":[]|}-=Charles Crestani",
         8.33
        ],
        [
         2017,
         "John Hus<>><>ton",
         -19.939999999999998
        ],
        [
         2017,
         "Patrick O'Brill",
         290.64
        ],
        [
         2017,
         "Dennis Bolton",
         113.54
        ],
        [
         2017,
         "Dean Katz",
         316.47
        ],
        [
         2017,
         "Darrin Sayre",
         164.31
        ],
        [
         2017,
         "Charles McCrossin",
         -78.61999999999998
        ],
        [
         2017,
         "Anna Chung",
         -32.34
        ],
        [
         2017,
         "Speros Goranitis",
         25.46
        ],
        [
         2017,
         " &&Tracy Blumstein",
         42.26
        ],
        [
         2016,
         "Ad.       ..am Hart",
         332.64000000000004
        ],
        [
         2016,
         "Robert Barroso",
         19.33
        ],
        [
         2016,
         "Maria Etezadi",
         451.46
        ],
        [
         2016,
         "Frank Merwin",
         -356.98
        ],
        [
         2016,
         "Bruce Stewart",
         82.95
        ],
        [
         2016,
         "Carol Adams",
         899.98
        ],
        [
         2016,
         "Daniel Raglin",
         2337.76
        ],
        [
         2016,
         "Paul Gonzalez",
         10.71
        ],
        [
         2016,
         "Greg Maxwell",
         175.36
        ],
        [
         2016,
         "Natalie Fritzler",
         -66.17
        ],
        [
         2016,
         "Karen Carlisle",
         523.0899999999999
        ],
        [
         2016,
         "Craig Leslie",
         64.09
        ],
        [
         2016,
         "Carlos Soltero",
         -131.20000000000002
        ],
        [
         2016,
         "Alejandro Grove",
         696.3000000000002
        ],
        [
         2016,
         "Barry Pond",
         182.98000000000002
        ],
        [
         2016,
         "Eric Hoffmann",
         -13.379999999999988
        ],
        [
         2016,
         "Mark Packer",
         8.94
        ],
        [
         2016,
         "Michael Grace",
         62.24
        ],
        [
         2016,
         "Duane Benoit",
         -35.22
        ],
        [
         2016,
         "Jennifer Jackson",
         18.71
        ],
        [
         2016,
         "Dianna Wilson",
         31.089999999999996
        ],
        [
         2016,
         "Sean Christensen",
         37.46
        ],
        [
         2016,
         "Thea Hendricks",
         9.19
        ],
        [
         2016,
         "Roger Demir",
         31.199999999999996
        ],
        [
         2016,
         "Anemone Ratner",
         32.64
        ],
        [
         2016,
         "Nora Preis",
         272.91999999999996
        ],
        [
         2016,
         "Brad Thomas",
         9.48
        ],
        [
         2016,
         "Natalie DeCherney",
         58.86000000000001
        ],
        [
         2016,
         "Cindy Schnelling",
         -244.73000000000002
        ],
        [
         2016,
         "Gary Zandusky",
         652.3100000000001
        ],
        [
         2016,
         "Robert Waldorf",
         -2.63
        ],
        [
         2016,
         "Parhena Norris",
         137.23
        ],
        [
         2016,
         "Jonathan Howell",
         63.169999999999995
        ],
        [
         2016,
         "Frank Preis",
         359.69999999999993
        ],
        [
         2016,
         "Christine Sundaresam",
         10.32
        ],
        [
         2016,
         "Lela Donovan",
         0.46
        ],
        [
         2016,
         "Julia Barnett",
         84.97
        ],
        [
         2016,
         "Logan Currie",
         235.32999999999998
        ],
        [
         2016,
         "Susan Gilcrest",
         6.63
        ],
        [
         2016,
         "Kimberly Carter",
         -4.960000000000001
        ],
        [
         2016,
         "Maria Bertelson",
         83.51
        ],
        [
         2016,
         "Herbert Flentye",
         -167.31
        ],
        [
         2016,
         "Liz MacKendrick",
         21.54
        ],
        [
         2016,
         "Theone Pippenger",
         376.74
        ],
        [
         2016,
         "Julia West",
         20.38
        ],
        [
         2016,
         "Sam Zeldin",
         49.32
        ],
        [
         2016,
         "Fred Chung",
         86.15
        ],
        [
         2016,
         "Maribeth Yedwab",
         33.05
        ],
        [
         2016,
         "Tim Brockman",
         -40.36
        ],
        [
         2016,
         "Ruben Ausman",
         3.89
        ],
        [
         2016,
         "Julie Kriz",
         108.52
        ],
        [
         2016,
         "Arthur Prichep",
         338.85
        ],
        [
         2016,
         "Marc Crier",
         20.91
        ],
        [
         2016,
         "Lena Radford",
         172.49
        ],
        [
         2016,
         "Emily Burns",
         84.07
        ],
        [
         2016,
         "Frank Carlisle",
         972.25
        ],
        [
         2016,
         "Sally Knut_son",
         3.44
        ],
        [
         2016,
         "Janet Molinari",
         306.55
        ],
        [
         2016,
         "N0ra Paige",
         246.1
        ],
        [
         2016,
         "Matt Collister",
         379.00999999999993
        ],
        [
         2016,
         "Art Ferguson",
         390.78999999999996
        ],
        [
         2016,
         "Christy Brittain",
         201.65999999999997
        ],
        [
         2016,
         "Greg Tran",
         366.71000000000004
        ],
        [
         2016,
         "Christine Phan",
         242.84
        ],
        [
         2016,
         "Charles McCrossin",
         -315.75
        ],
        [
         2016,
         "David Wiener",
         -34.16
        ],
        [
         2016,
         "Denise Monton",
         -61.900000000000006
        ],
        [
         2016,
         "6789Erin  Mull",
         -4.79
        ],
        [
         2016,
         "Cassandra Brandow",
         161.25
        ],
        [
         2016,
         "Jim Mi....tchum",
         65.9
        ],
        [
         2016,
         "William Brown",
         293.65
        ],
        [
         2016,
         "Tiffany House",
         70.78
        ],
        [
         2016,
         "Adam Bellavance",
         1568.0500000000002
        ],
        [
         2016,
         "Aaron Hawkins",
         38.04
        ],
        [
         2016,
         "Ralph Arnett",
         -6.57
        ],
        [
         2016,
         "Tony Chapman",
         32.39
        ],
        [
         2016,
         "Janet Lee",
         103.36000000000001
        ],
        [
         2016,
         "Tamara Dahlen",
         70.25
        ],
        [
         2016,
         "Joe Elijah",
         1210.6599999999999
        ],
        [
         2016,
         "Rob Williams",
         346.37
        ],
        [
         2016,
         "Muhammed YeDwab#",
         -290.16999999999996
        ],
        [
         2016,
         "Rich.-=%&*ard Eichhorn",
         13.32
        ],
        [
         2016,
         "Christopher Conant",
         2083.3399999999997
        ],
        [
         2016,
         "Kean Thornton",
         19.61
        ],
        [
         2016,
         "Alan Hwang",
         5.57
        ],
        [
         2016,
         "Cynthia A;,.[]rntzen",
         1.67
        ],
        [
         2016,
         "Sheri Gordon",
         -18.45
        ],
        [
         2016,
         "Justin Deggeller",
         272.2
        ],
        [
         2016,
         "Ritsa Hightower",
         6.34
        ],
        [
         2016,
         "Luke Weiss",
         350.01
        ],
        [
         2016,
         "Don Jones",
         100.2
        ],
        [
         2016,
         "Maribeth Dona",
         -14.22
        ],
        [
         2016,
         "Tam&^*ara Willing___)ham",
         33.01
        ],
        [
         2016,
         "Gary Mitchum",
         102.52
        ],
        [
         2016,
         "Sylvia Foulston",
         70.2
        ],
        [
         2016,
         "Aimee Bixby",
         5.44
        ],
        [
         2016,
         "Arthur Wiediger",
         -213.35000000000002
        ],
        [
         2016,
         "Joy Bell-",
         15.969999999999999
        ],
        [
         2016,
         "Nick Crebassa",
         16.79
        ],
        [
         2016,
         "Mary Zewe",
         -25.24
        ],
        [
         2016,
         "Anthony Jacobs",
         -5.7
        ],
        [
         2016,
         "Erin Ashbrook",
         -342.69
        ],
        [
         2016,
         "Jeremy Farry",
         13.11
        ],
        [
         2016,
         "Linda Cazamias",
         246.91
        ],
        [
         2016,
         "Michelle Tran",
         70.49
        ],
        [
         2016,
         "Muhammed MacIntyre",
         8.84
        ],
        [
         2016,
         "Neoma Murray",
         812.79
        ],
        [
         2016,
         "Carol Triggs",
         -303.26
        ],
        [
         2016,
         "Hunter Glantz",
         50.24
        ],
        [
         2016,
         "Joe Kamberova",
         194.58
        ],
        [
         2016,
         "Frank Hawley",
         166.29000000000002
        ],
        [
         2016,
         "Karen Ferguson",
         371.04999999999995
        ],
        [
         2016,
         "Gary567 Hansen",
         -173.07999999999998
        ],
        [
         2016,
         "Max Jones",
         728.75
        ],
        [
         2016,
         "Deborah Brumfield",
         810.57
        ],
        [
         2016,
         "Rob Beeghly",
         -5.979999999999997
        ],
        [
         2016,
         "Carl Weiss",
         22.759999999999998
        ],
        [
         2016,
         "Rick Reed",
         45.68
        ],
        [
         2016,
         "Frank Atkinson",
         39.81
        ],
        [
         2016,
         "Chris Cortes",
         -33.06000000000001
        ],
        [
         2016,
         "Ken Lonsdale",
         -3.350000000000037
        ],
        [
         2016,
         "Raymond Buch",
         195.46
        ],
        [
         2016,
         "Zuschuss Donatelli",
         206.67000000000002
        ],
        [
         2016,
         "Rose O'Brian",
         -90.48
        ],
        [
         2016,
         "Aaron Bergman",
         116.86
        ],
        [
         2016,
         "Sandra Flanagan",
         3.06
        ],
        [
         2016,
         "Sample Company A",
         146.64999999999998
        ],
        [
         2016,
         "Erin Smith",
         -99.22000000000001
        ],
        [
         2016,
         "Eric Barreto",
         74.27000000000001
        ],
        [
         2016,
         "Noah Childs",
         -461.2
        ],
        [
         2016,
         "Tho   12 =-.mas Boland",
         -6.980000000000001
        ],
        [
         2016,
         "George Ashbrook",
         53.56
        ],
        [
         2016,
         "Craig Carreira",
         53.660000000000004
        ],
        [
         2016,
         "Barbara Fisher",
         157.38
        ],
        [
         2016,
         "Andrew Roberts",
         18.89
        ],
        [
         2016,
         "Tracy Zic",
         75.97000000000001
        ],
        [
         2016,
         "Toby Braunhardt",
         290.98
        ],
        [
         2016,
         "Dennis Pardue",
         1694.6399999999999
        ],
        [
         2016,
         "Shaun Weien",
         125.2
        ],
        [
         2016,
         "Toby Ritter",
         115.03999999999999
        ],
        [
         2016,
         "Linda Southworth",
         21.740000000000002
        ],
        [
         2016,
         "Pierre Wener",
         -0.59
        ],
        [
         2016,
         "Adrian Hane",
         -299.15
        ],
        [
         2016,
         "Quincy Jones",
         168.88
        ],
        [
         2016,
         "5467Ben Wallace",
         173.66
        ],
        [
         2016,
         "Alex Avila",
         -747.09
        ],
        [
         2016,
         "Joy Smith",
         451.9100000000001
        ],
        [
         2016,
         "Bart Pistole",
         19.68
        ],
        [
         2016,
         "Paul  4567Van Hugh",
         155.32
        ],
        [
         2016,
         "Fred Hopkins",
         6.91
        ],
        [
         2016,
         "Valerie Dominguez",
         50.19
        ],
        [
         2016,
         "Christine Abelman",
         2.0999999999999996
        ],
        [
         2016,
         "Amy Hunt",
         -1.78
        ],
        [
         2016,
         "Ralph Ritter",
         3.47
        ],
        [
         2016,
         "Mick Hernandez",
         -216.21999999999997
        ],
        [
         2016,
         "Ed Braxton",
         82.42
        ],
        [
         2016,
         "Becky Castell",
         62.26
        ],
        [
         2016,
         "Neil Französisch",
         -18.84
        ],
        [
         2016,
         "Sung Shariari",
         -1.9100000000000001
        ],
        [
         2016,
         "         Helen Abelman",
         129.77
        ],
        [
         2016,
         "Emily Grady",
         46.31000000000001
        ],
        [
         2016,
         "Henry Goldwyn",
         136.13
        ],
        [
         2016,
         "Denise Leinenbach",
         5.22
        ],
        [
         2016,
         "Patrick Gardner",
         551.29
        ],
        [
         2016,
         "Grace Kelly",
         1315.57
        ],
        [
         2016,
         "Darren Budd",
         84.3
        ],
        [
         2016,
         "Eva Jacobs",
         335.35
        ],
        [
         2016,
         "John Grady",
         91.13000000000001
        ],
        [
         2016,
         "Stephanie Phelps",
         100.22999999999999
        ],
        [
         2016,
         "Michael Paige",
         265.54
        ],
        [
         2016,
         "Michelle Arnett",
         191.39000000000001
        ],
        [
         2016,
         "Christina VanderZanden",
         51.980000000000004
        ],
        [
         2016,
         "Bradley Talbott",
         -4.379999999999999
        ],
        [
         2016,
         "Anna Gayman",
         -281.55999999999995
        ],
        [
         2016,
         "Jay Kimmel",
         83.5
        ],
        [
         2016,
         "Ryan Crowe",
         102.93
        ],
        [
         2016,
         "Sanjit Engle",
         2673.77
        ],
        [
         2016,
         "Michael Chen",
         60.53999999999999
        ],
        [
         2016,
         "Pauline Johnson",
         30.4
        ],
        [
         2016,
         "Justin Hirsh",
         -203.36999999999998
        ],
        [
         2016,
         "Keith Dawkins",
         58.709999999999994
        ],
        [
         2016,
         "Claire Gute",
         261.49
        ],
        [
         2016,
         "Matt Abelman",
         28.380000000000003
        ],
        [
         2016,
         "Russell Applegate",
         115.46000000000001
        ],
        [
         2016,
         "Karen Bern",
         -18.18
        ],
        [
         2016,
         "Steven Roelle",
         181.53
        ],
        [
         2016,
         "Ken Brennan",
         14.620000000000001
        ],
        [
         2016,
         "Adam Shillingsburg",
         22.549999999999997
        ],
        [
         2016,
         "Paul MacIntyre",
         158.53
        ],
        [
         2016,
         "Valerie Mitchum",
         371.69
        ],
        [
         2016,
         "Maribeth 5chnelling",
         514.79
        ],
        [
         2016,
         "Katherine Hughes",
         57.83
        ],
        [
         2016,
         "Julie Prescott",
         275.44
        ],
        [
         2016,
         "Paul Prost",
         707.5900000000001
        ],
        [
         2016,
         "Eugene Barchas",
         187.62
        ],
        [
         2016,
         "Alyssa Crouse",
         21.59
        ],
        [
         2016,
         "John Lee",
         2.8
        ],
        [
         2016,
         "Ji11 Stevenson",
         78.4
        ],
        [
         2016,
         "Mark Cousins",
         1610.2
        ],
        [
         2016,
         "  Shahi  Collister",
         -25.0
        ],
        [
         2016,
         "Chad Cunningham",
         -11.7
        ],
        [
         2016,
         "Daniel Byrd",
         146.83
        ],
        [
         2016,
         "Nick Radford",
         50.58999999999999
        ],
        [
         2016,
         "C@thy Armstrong",
         259.37
        ],
        [
         2016,
         "Bi1l Eplett",
         47.24
        ],
        [
         2016,
         "Nathan Cano",
         79.19
        ],
        [
         2016,
         "Justin Ellison",
         776.3499999999999
        ],
        [
         2016,
         "Pete Kriz",
         407.4099999999999
        ],
        [
         2016,
         "Angele Hood",
         13.45
        ],
        [
         2016,
         "Ashley Jarboe",
         33.22
        ],
        [
         2016,
         "Dave Brooks",
         294.18
        ],
        [
         2016,
         "Matt Hagelstein",
         -0.3699999999999992
        ],
        [
         2016,
         "Jim Sink",
         -99.99000000000001
        ],
        [
         2016,
         "Susan MacKendrick",
         -16510.34
        ],
        [
         2016,
         "Logan Haushalter",
         212.10000000000002
        ],
        [
         2016,
         "     Rac5467hel Payne",
         11.7
        ],
        [
         2016,
         "Maureen Fritzler",
         118.46
        ],
        [
         2016,
         "Roland Fjeld",
         110.61
        ],
        [
         2016,
         "Joni Sundaresam",
         -18.740000000000002
        ],
        [
         2016,
         "Jay Fein",
         40.75
        ],
        [
         2016,
         "John Stevenson",
         266.74
        ],
        [
         2016,
         "Bobby Trafton",
         -71.9
        ],
        [
         2016,
         "Philip Brown",
         38.38
        ],
        [
         2016,
         "Craig Reiter",
         59.57
        ],
        [
         2016,
         "Ted Trevino",
         2.69
        ],
        [
         2016,
         "Liz Carlisle",
         225.26
        ],
        [
         2016,
         "Brooke Gillingham",
         57.92
        ],
        [
         2016,
         "Brosin34a Hoffman 09",
         428.92999999999995
        ],
        [
         2016,
         "Carl Ludwig",
         4.35
        ],
        [
         2016,
         "Aleksandra Gannaway",
         20.48
        ],
        [
         2016,
         "Mick Brown",
         45.32
        ],
        [
         2016,
         "Alan Shonely",
         23.18
        ],
        [
         2016,
         "Stephanie Ulpright",
         64.19
        ],
        [
         2016,
         "Thomas Seio",
         104.77000000000001
        ],
        [
         2016,
         "Matthew Clasen",
         27.42
        ],
        [
         2016,
         "Thomas Thornton",
         60.39
        ],
        [
         2016,
         "Laura Armstrong",
         1526.65
        ],
        [
         2016,
         " Shahi  Hopkins",
         -1.48
        ],
        [
         2016,
         "Khloe Miller",
         11.83
        ],
        [
         2016,
         "Denny Ordway",
         8.5
        ],
        [
         2016,
         "Greg Matthias",
         -121.94
        ],
        [
         2016,
         "Michael Nguyen",
         5.52
        ],
        [
         2016,
         "Philisse Overcash",
         178.45
        ],
        [
         2016,
         "Anthony O'Donnell",
         12.1
        ],
        [
         2016,
         "Helen Wa55erman",
         200.27
        ],
        [
         2016,
         "Allen Goldenen",
         -7.0
        ],
        [
         2016,
         "MaryBeth Skach",
         36.04
        ],
        [
         2016,
         "Erin Creighton",
         43.09
        ],
        [
         2016,
         "Deirdre Greer",
         9.33
        ],
        [
         2016,
         "Paul Knut_son",
         -807.78
        ],
        [
         2016,
         "Alex Grayson",
         61.74
        ],
        [
         2016,
         "Erica Smith",
         71.99
        ],
        [
         2016,
         "Chad Sievert",
         13.75
        ],
        [
         2016,
         "Alejandro Savely",
         331.37
        ],
        [
         2016,
         "Anne Pryor",
         243.57999999999998
        ],
        [
         2016,
         "Darren Powers",
         4.880000000000001
        ],
        [
         2016,
         "Ken Black",
         96.32
        ],
        [
         2016,
         "Skye Norling",
         229.01000000000002
        ],
        [
         2016,
         "Rob Lucas",
         -6.5699999999999985
        ],
        [
         2016,
         "Toby Gnade",
         844.64
        ],
        [
         2016,
         "Noel Staavos",
         -298.25000000000006
        ],
        [
         2016,
         "Aaron Smayling",
         92.14
        ],
        [
         2016,
         "Ted Butterfield",
         267.71
        ],
        [
         2016,
         "Melanie Seite",
         -23.94
        ],
        [
         2016,
         "Max Engle",
         -1.6199999999999992
        ],
        [
         2016,
         "John Dryer",
         36.47
        ],
        [
         2016,
         "Bradley Nguyen",
         112.78
        ],
        [
         2016,
         "Pamela Coakley",
         76.98
        ],
        [
         2016,
         "Chuck Clark",
         255.32
        ],
        [
         2016,
         "Ivan Liston",
         19.560000000000002
        ],
        [
         2016,
         "Lindsay Shagiari",
         2.9399999999999995
        ],
        [
         2016,
         "Alyssa Tate",
         6.43
        ],
        [
         2016,
         "&^*(5678Shirley Daniels",
         20.82
        ],
        [
         2016,
         "UNKNOWN",
         282.97999999999996
        ],
        [
         2016,
         "Susan Vittorini",
         -30.2
        ],
        [
         2016,
         "Steve Nguyen",
         375.78
        ],
        [
         2016,
         "Magdelene Morse",
         166.51
        ],
        [
         2016,
         "Marina Lichtenstein",
         192.19
        ],
        [
         2016,
         "Helen Andreada",
         -55.04000000000001
        ],
        [
         2016,
         "B*#^%ruce Geld",
         59.290000000000006
        ],
        [
         2016,
         "James Lanier",
         -2.0
        ],
        [
         2016,
         "Bi1l Tyler",
         3.35
        ],
        [
         2016,
         "Clytie Kelty",
         315.73
        ],
        [
         2016,
         "Brendan Murry",
         109.44
        ],
        [
         2016,
         "Joni Wa55erman",
         1.2
        ],
        [
         2016,
         "Henry MacAllister",
         1.73
        ],
        [
         2016,
         "John Murray",
         -49.620000000000005
        ],
        [
         2016,
         "Tom Prescott",
         -91.11
        ],
        [
         2016,
         "Don Miller",
         18.17
        ],
        [
         2016,
         "Duane Noonan",
         222.39000000000001
        ],
        [
         2016,
         "Dave Hallsten",
         -19.6
        ],
        [
         2016,
         "Joel Eaton",
         126.62
        ],
        [
         2016,
         "Randy Ferguson",
         438.72
        ],
        [
         2016,
         " &&Tracy Blumstein",
         3.95
        ],
        [
         2016,
         "Stewart Carmichael",
         -734.2700000000001
        ],
        [
         2016,
         "Anthony Rawles",
         370.3
        ],
        [
         2016,
         "Kelly Lampkin",
         50.12
        ],
        [
         2016,
         "Bi1l Overfelt",
         358.03000000000003
        ],
        [
         2016,
         "Zuschuss Carroll",
         -1731.01
        ],
        [
         2016,
         "Jennifer Patt",
         307.33
        ],
        [
         2016,
         "Maurice Satty",
         -93.10000000000001
        ],
        [
         2016,
         "Dorris liebe",
         146.39
        ],
        [
         2016,
         "Carol Darley",
         7.75
        ],
        [
         2016,
         "Ben Ferrer",
         697.47
        ],
        [
         2016,
         "Victoria Pisteka",
         31.65
        ],
        [
         2016,
         "Jason Klamczynski",
         11.68
        ],
        [
         2016,
         "Anna Chung",
         8.61
        ],
        [
         2016,
         "Arthur Gainer",
         252.36
        ],
        [
         2016,
         "Andrew Gjertsen",
         6.03
        ],
        [
         2016,
         "Greg Guthrie",
         15.93
        ],
        [
         2016,
         "Sonia Sunley",
         112.38
        ],
        [
         2016,
         "Philip Fox",
         478.67999999999995
        ],
        [
         2016,
         "Steven Cartwright",
         273.18
        ],
        [
         2016,
         "Victo 3456ria Brennan",
         105.42
        ],
        [
         2016,
         "Candace McMahon",
         3.69
        ],
        [
         2016,
         "         =--Katharine Harms",
         43.9
        ],
        [
         2016,
         "Michael Granlund",
         25.93
        ],
        [
         2016,
         "James Galang",
         230.36
        ],
        [
         2016,
         "   _Mike Vitt 12313orini",
         225.26
        ],
        [
         2016,
         "Barry Gonzalez",
         12.239999999999998
        ],
        [
         2016,
         "Jack Lebron",
         1.39
        ],
        [
         2016,
         "Jeremy Ellison",
         185.63
        ],
        [
         2016,
         "Anna Häberlin",
         1144.0499999999997
        ],
        [
         2016,
         "Larry Blacks",
         10.74
        ],
        [
         2016,
         "Meg Tillman",
         432.25
        ],
        [
         2016,
         "Brian Stugart",
         62.26
        ],
        [
         2016,
         "Benjamin Patterson",
         10.21
        ],
        [
         2016,
         "Ann Steele",
         6.37
        ],
        [
         2016,
         "Adrian Barton",
         4748.2699999999995
        ],
        [
         2016,
         "Olvera Toch",
         -1182.11
        ],
        [
         2016,
         "Carlos Daly",
         46.94
        ],
        [
         2016,
         "Jill Fjeld",
         849.6600000000001
        ],
        [
         2016,
         "Jamie Frazer",
         173.31
        ],
        [
         2016,
         "Matt Connell",
         11.31
        ],
        [
         2016,
         "Cathy Prescott",
         31.54
        ],
        [
         2016,
         "Jennifer Braxton",
         -98.62
        ],
        [
         2016,
         "B         ecky Martin",
         118.91999999999999
        ],
        [
         2016,
         "Evan Bailliet",
         4.44
        ],
        [
         2016,
         "Darrin Van Huff",
         17.48
        ],
        [
         2016,
         "Mary O'Rourke",
         120.86000000000001
        ],
        [
         2016,
         "Dave Kipp",
         -38.31
        ],
        [
         2016,
         "Katherine Murray",
         128.9
        ],
        [
         2016,
         "[]-=;''Becky Pak",
         188.78000000000003
        ],
        [
         2016,
         "Hunter Lopez",
         128.54
        ],
        [
         2016,
         "Laurel Workman",
         -393.34000000000003
        ],
        [
         2016,
         "Marc Harrigan",
         57.2
        ],
        [
         2016,
         "Chris Selesnick",
         22.14
        ],
        [
         2016,
         "Edward Hooks",
         758.8000000000001
        ],
        [
         2016,
         "Neil Knudson%^&*(",
         39.410000000000004
        ],
        [
         2016,
         "Barry Blumstein",
         12.87
        ],
        [
         2016,
         "Lena Hernandez",
         56.699999999999996
        ],
        [
         2016,
         "Roy Skaria",
         3.5
        ],
        [
         2016,
         "Cindy Chapman",
         111.12
        ],
        [
         2016,
         "Fred McMath",
         134.91
        ],
        [
         2016,
         "_12312Patrick Bzostek",
         95.85
        ],
        [
         2016,
         "Erica Hackney",
         67.9
        ],
        [
         2016,
         "Barry Französisch",
         20.32
        ],
        [
         2016,
         "Tanja Norvell",
         -903.28
        ],
        [
         2016,
         "Ed Ludwig",
         8.66
        ],
        [
         2016,
         "Liz Willingham",
         165.8
        ],
        [
         2016,
         "Sally Matthias",
         -77.84
        ],
        [
         2016,
         "Bi1l Donatelli",
         97.22999999999999
        ],
        [
         2016,
         "Kean Takahito",
         156.14
        ],
        [
         2016,
         "Annie Zypern",
         32.57000000000001
        ],
        [
         2016,
         "Bruce Degenhardt",
         18.0
        ],
        [
         2016,
         "Dennis Bolton",
         81.97
        ],
        [
         2016,
         "Brenda Bowman",
         431.81000000000006
        ],
        [
         2016,
         "Lindsay Castell",
         21.27
        ],
        [
         2016,
         "Berenike Kampe",
         2.23
        ],
        [
         2016,
         "Max Ludwig",
         63.83
        ],
        [
         2016,
         "Toby Carlisle",
         -27.83
        ],
        [
         2016,
         "Kelly Collister",
         635.6800000000001
        ],
        [
         2016,
         "Stefania Perrino",
         -171.23
        ],
        [
         2016,
         "Liz Preis",
         79.35999999999999
        ],
        [
         2016,
         "Roy Phan",
         143.06
        ],
        [
         2016,
         "Suzanne McNair",
         43.0
        ],
        [
         2016,
         "Mike Pelletier",
         -295.64
        ],
        [
         2016,
         "Brian Thompson",
         176.51
        ],
        [
         2016,
         "Cyma Kinney",
         101.86000000000001
        ],
        [
         2016,
         "Patrick O'Donnell",
         67.6
        ],
        [
         2016,
         "Raymond Messe",
         162.04
        ],
        [
         2016,
         "Saphhira Shifley",
         6.55
        ],
        [
         2016,
         "Gary McGarr",
         108.18
        ],
        [
         2016,
         "Heather Jas",
         55.989999999999995
        ],
        [
         2016,
         "Gene Hale",
         -24.49000000000001
        ],
        [
         2016,
         "Nancy Lomonaco",
         18.66
        ],
        [
         2016,
         "Theresa Swint",
         -48.91
        ],
        [
         2016,
         "Delfina Latchford",
         206.58000000000004
        ],
        [
         2016,
         "Bart Watters",
         97.06
        ],
        [
         2016,
         "Kalyca Meade",
         56.34
        ],
        [
         2016,
         ")(*&Sung Pak",
         619.14
        ],
        [
         2016,
         "Ross Baird",
         51.790000000000006
        ],
        [
         2016,
         "Laurel Elliston",
         179.75
        ],
        [
         2016,
         "Karl Braun",
         27.52
        ],
        [
         2016,
         "Elizabeth Moffitt",
         -8.32
        ],
        [
         2016,
         "Tom Stivers",
         17.05
        ],
        [
         2016,
         "Jason Fortune-",
         -9.879999999999997
        ],
        [
         2016,
         "Doug Bickford",
         22.73
        ],
        [
         2016,
         "Ge 1234orge Bell",
         -77.53999999999999
        ],
        [
         2016,
         "Pamela Stobb",
         133.29
        ],
        [
         2016,
         "Maya Herman",
         7.0
        ],
        [
         2016,
         "Joseph Airdo",
         114.19
        ],
        [
         2016,
         "Alan Schoenberger",
         -6.21
        ],
        [
         2016,
         "Claudia Bergmann",
         458.64
        ],
        [
         2016,
         "Stuart Calhoun",
         9.0
        ],
        [
         2016,
         "Craig Yedwab",
         49.730000000000004
        ],
        [
         2016,
         "Pauline Webber",
         437.40000000000003
        ],
        [
         2016,
         "Neola Schneider",
         19.54
        ],
        [
         2016,
         "Beth Paige",
         -65.74999999999999
        ],
        [
         2016,
         "Pete@#$ Takahito",
         -17.52
        ],
        [
         2016,
         "Resi Pölking",
         154.14
        ],
        [
         2016,
         "Sarah Foster",
         21.14
        ],
        [
         2016,
         "Cathy Hwang",
         126.9
        ],
        [
         2016,
         "Corey Roper",
         30.45
        ],
        [
         2016,
         "Mitch Webber",
         0.5
        ],
        [
         2016,
         "Todd Boyes",
         62.39
        ],
        [
         2016,
         "Christopher Schild",
         -114.17
        ],
        [
         2016,
         "Kristen Hastings",
         7.18
        ],
        [
         2016,
         "Mark Hamilton",
         375.67
        ],
        [
         2016,
         "Chris McAfee",
         365.03000000000003
        ],
        [
         2016,
         "Erica Hernandez",
         9.95
        ],
        [
         2016,
         "John Lucas",
         -37.95
        ],
        [
         2016,
         "Dianna Vittorini",
         89.95
        ],
        [
         2016,
         "Tom Boeckenhauer",
         12.18
        ],
        [
         2016,
         "Nona Balk",
         -157.96
        ],
        [
         2016,
         "Susan Pistek",
         8.699999999999998
        ],
        [
         2016,
         "Don Weiss",
         16.01
        ],
        [
         2016,
         "Edward Nazzal",
         438.4
        ],
        [
         2016,
         "Troy Blackwell",
         -144.58999999999997
        ],
        [
         2016,
         "Lisa Hazard",
         16.46
        ],
        [
         2016,
         "Sung Chung",
         1.23
        ],
        [
         2016,
         "Paul Lucas",
         -13.65
        ],
        [
         2016,
         "Harry Marie",
         82.74999999999997
        ],
        [
         2016,
         "Janet Martin",
         155.23
        ],
        [
         2016,
         "Rob Dowd",
         24.23
        ],
        [
         2016,
         "Dan Campbell",
         -239.55
        ],
        [
         2016,
         "Phillip Breyer",
         0.7
        ],
        [
         2016,
         "Dean perceR__#$#",
         117.74000000000001
        ],
        [
         2016,
         "David Flashing",
         -397.13000000000005
        ],
        [
         2016,
         "Roy Französisch",
         264.16
        ],
        [
         2016,
         "Darrin Martin",
         -35.449999999999996
        ],
        [
         2016,
         "Mike Kennedy",
         41.080000000000005
        ],
        [
         2016,
         "Jason Gross",
         -22.930000000000007
        ],
        [
         2016,
         "Mark Van Huff",
         106.42
        ],
        [
         2016,
         "       Kristi;'[]na Nunn",
         25.0
        ],
        [
         2016,
         "Eugene Hildebrand",
         -71.63999999999999
        ],
        [
         2016,
         "Vivian Mathis",
         103.16
        ],
        [
         2016,
         "Alejandro Ballentine",
         26.069999999999997
        ],
        [
         2016,
         "Roy Collins",
         56.69
        ],
        [
         2016,
         "Brian Moss",
         -2.03
        ],
        [
         2016,
         "Lindsay Williams",
         322.32
        ],
        [
         2016,
         "Clay Ludtke",
         713.45
        ],
        [
         2016,
         "Tracy P 908765oddar",
         104.74
        ],
        [
         2016,
         "Dan Reichenbach",
         126.06
        ],
        [
         2016,
         "Charles Sheldon",
         18.35
        ],
        [
         2016,
         "Liz Thompson",
         28.380000000000003
        ],
        [
         2016,
         "Annie Thurman",
         51.67
        ],
        [
         2016,
         "Brad Eason",
         71.06
        ],
        [
         2016,
         "Dave Poirier",
         486.12
        ],
        [
         2016,
         "Evan Henry",
         209.28
        ],
        [
         2016,
         "Christine Kargatis",
         59.08
        ],
        [
         2016,
         "Kat rina Edelman",
         19.0
        ],
        [
         2016,
         "Troy Staebel",
         -57.290000000000006
        ],
        [
         2016,
         "Clay Rozendal",
         -34.400000000000006
        ],
        [
         2016,
         "Dan Lawera",
         311.98
        ],
        [
         2016,
         "Yoseph Carroll",
         427.27
        ],
        [
         2016,
         "Irene Maddox",
         329.3
        ],
        [
         2016,
         "Gene McClure",
         17.57
        ],
        [
         2016,
         "Bi 8761l Shonely",
         2405.71
        ],
        [
         2016,
         "Scot Coram",
         435.64
        ],
        [
         2016,
         "Benjamin Farhat",
         173.24
        ],
        [
         2016,
         "David Smith",
         -46.949999999999996
        ],
        [
         2016,
         "Arianne Irving",
         485.32
        ],
        [
         2016,
         "Rob Haberlin",
         7.25
        ],
        [
         2016,
         "Bobby Elias",
         577.1999999999999
        ],
        [
         2016,
         "Mike Caudle",
         86.95
        ],
        [
         2016,
         "\":[]|}-=Charles Crestani",
         7.86
        ],
        [
         2016,
         "Jim Epp",
         22.24
        ],
        [
         2016,
         "Tonja Turnell",
         2.4
        ],
        [
         2016,
         "Jas O'Carroll",
         51.21
        ],
        [
         2016,
         "Sanjit Chand",
         196.19
        ],
        [
         2016,
         "Jonathan Doherty",
         1179.8200000000002
        ],
        [
         2016,
         "Mick Crebagga",
         0.93
        ],
        [
         2016,
         "Trudy Schmidt",
         364.87
        ],
        [
         2016,
         "Frank Olsen",
         22.560000000000002
        ],
        [
         2016,
         "Tamara Chand",
         8764.949999999999
        ],
        [
         2016,
         "Scott Williamson",
         221.48
        ],
        [
         2016,
         "Ben Pet 987 -=erman",
         -33.890000000000015
        ],
        [
         2016,
         "Anthony Johnson",
         400.21
        ],
        [
         2016,
         "Paul Stevenson",
         3.44
        ],
        [
         2016,
         "Rick Bensley",
         123.82
        ],
        [
         2016,
         "Steve Chapman",
         347.96
        ],
        [
         2016,
         "Cynthia Voltz",
         -35.39
        ],
        [
         2016,
         "Carl Jackson",
         1.65
        ],
        [
         2016,
         "Lynn Smith",
         60.37
        ],
        [
         2016,
         "Edward Becker",
         139.81
        ],
        [
         2016,
         "Nicole Hansen",
         5.18
        ],
        [
         2016,
         "Phillip Flathmann",
         513.27
        ],
        [
         2016,
         "Allen Armold",
         122.72999999999999
        ],
        [
         2016,
         "Karen Dan!els",
         2318.7
        ],
        [
         2016,
         "Eudokia Martin",
         30.63
        ],
        [
         2016,
         "Xylona Preis",
         314.09
        ],
        [
         2016,
         "Denny Joy",
         378.27
        ],
        [
         2016,
         "Alice McCarthy",
         9.97
        ],
        [
         2016,
         "Jim Radford",
         0.0
        ],
        [
         2016,
         "Henia Zydlo",
         6.29
        ],
        [
         2016,
         "Maureen Gnade",
         16.7
        ],
        [
         2016,
         "Vivek Grady",
         28.14
        ],
        [
         2016,
         "Seth Vernon",
         39.77
        ],
        [
         2016,
         "Cindy Stewart",
         -6696.29
        ],
        [
         2016,
         "Eugene Moren",
         968.5699999999998
        ],
        [
         2016,
         "Tim Taslimi",
         32.53
        ],
        [
         2016,
         "Ricardo Sperren",
         14.42
        ],
        [
         2016,
         "Matt Collins",
         15.59
        ],
        [
         2016,
         "Michael Kennedy",
         -456.25999999999993
        ],
        [
         2016,
         "Cynthia Delaney",
         346.71
        ],
        [
         2016,
         "Caroline Jumper",
         1382.97
        ],
        [
         2016,
         "Jessica Myrick",
         232.13
        ],
        [
         2016,
         "Kunst Miller",
         54.92
        ],
        [
         2016,
         "Dionis Lloyd",
         97.83999999999999
        ],
        [
         2016,
         "Corey Catlett",
         -202.26999999999998
        ],
        [
         2016,
         "Amy Cox",
         381.04
        ],
        [
         2016,
         "Kat rina Willman",
         32.16
        ],
        [
         2016,
         "Sara Luxemburg",
         3.11
        ],
        [
         2016,
         "Fred Wa55erman",
         12.21
        ],
        [
         2016,
         "Penelope Sewall",
         6.32
        ],
        [
         2016,
         "Giulietta Weimer",
         44.58
        ],
        [
         2016,
         "Rick Duston",
         69.39
        ],
        [
         2016,
         "Andrew Allen",
         420.74999999999994
        ],
        [
         2016,
         "Shirley Jackson",
         253.82
        ],
        [
         2016,
         "Chloris Kastensmidt",
         -128.01
        ],
        [
         2016,
         "Chuck Magee",
         53.190000000000005
        ],
        [
         2016,
         "Brian Dahlen",
         124.5
        ],
        [
         2016,
         "Liz Pelletier",
         21.939999999999998
        ],
        [
         2016,
         "Ruben Dartt",
         177.10000000000002
        ],
        [
         2016,
         "Emily Phan",
         -393.67
        ],
        [
         2016,
         "Art Foster",
         -5.75
        ],
        [
         2016,
         "Jamie Kunitz",
         1.0300000000000002
        ],
        [
         2016,
         "Catherine Glotzbach",
         58.67999999999999
        ],
        [
         2016,
         "Vivek Sundaresam",
         -7.8100000000000005
        ],
        [
         2016,
         "Andy Yotov",
         6.7
        ],
        [
         2016,
         "Ionia McGrath",
         956.54
        ],
        [
         2016,
         "Bryan Mills",
         56.370000000000005
        ],
        [
         2016,
         "Bryan Davis",
         110.7
        ],
        [
         2016,
         "Jasper Cacioppo",
         -4.08
        ],
        [
         2016,
         "Alan Haines",
         -349.36
        ],
        [
         2016,
         "Debra Catini",
         10.46
        ],
        [
         2016,
         "Jill Matthias",
         113.72
        ],
        [
         2016,
         "Maxwell Schwartz",
         164.04000000000002
        ],
        [
         2016,
         "Nat Carroll",
         26.29
        ],
        [
         2016,
         "Sanjit Jacobs",
         266.13
        ],
        [
         2016,
         "Steven Ward",
         48.51
        ],
        [
         2016,
         "Heather Kirkland",
         17.020000000000003
        ],
        [
         2016,
         "Dario Medina",
         0.26
        ],
        [
         2016,
         "Sean Braxton",
         16.89
        ],
        [
         2016,
         "Sue Ann Reed",
         -17.11
        ],
        [
         2016,
         "Victoria Wilson",
         -188.81
        ],
        [
         2016,
         "Luke Foster",
         0.72
        ],
        [
         2016,
         "Justin Ritter",
         44.21
        ],
        [
         2016,
         "Guy Thornton",
         6.3
        ],
        [
         2016,
         "Giulietta Dortch",
         -155.3
        ],
        [
         2016,
         "Sarah Jordon",
         -3.24
        ],
        [
         2016,
         "Pete Armstrong",
         22.56
        ],
        [
         2016,
         "             Dorothy Wardle",
         92.61
        ],
        [
         2016,
         "Sean Wendt",
         146.09
        ],
        [
         2016,
         "Dennis Kane",
         360.96999999999997
        ],
        [
         2016,
         "Matthew Grinstein",
         204.83999999999997
        ],
        [
         2016,
         "Ken Heidel",
         30.61
        ],
        [
         2016,
         "Lena Creighton",
         147.88
        ],
        [
         2016,
         "Barry Franz",
         -365.71999999999997
        ],
        [
         2016,
         "Ivan Gibson",
         54.86
        ],
        [
         2016,
         "Filia McAdams",
         45.93
        ],
        [
         2016,
         "Corey-Lock",
         19.19
        ],
        [
         2016,
         "Peter McVee",
         30.35
        ],
        [
         2016,
         "Anna Andreadi",
         334.63
        ],
        [
         2016,
         "Scot Wooten",
         82.53
        ],
        [
         2016,
         "Doug Jacobs",
         25.78
        ],
        [
         2016,
         "Robert Dilbeck",
         151.77
        ],
        [
         2016,
         "Vivek Gonzalez",
         18.48
        ],
        [
         2016,
         "Maris LaWare",
         15.0
        ],
        [
         2016,
         "Mark Haberlin",
         12.58
        ],
        [
         2016,
         "John Castell",
         70.55
        ],
        [
         2016,
         "Christina Anderson",
         24.6
        ],
        [
         2016,
         "Michael Moore",
         447.84000000000003
        ],
        [
         2016,
         "Brian DeCherney",
         20.18
        ],
        [
         2016,
         "Stuart Van",
         11.24
        ],
        [
         2016,
         "Kelly Andreada",
         67.44
        ],
        [
         2016,
         "Sibella Parks",
         -203.14999999999998
        ],
        [
         2016,
         "Jeremy Pistek",
         130.51
        ],
        [
         2016,
         "Justin MacKendrick",
         23.86
        ],
        [
         2016,
         "Joseph Holt",
         72.03
        ],
        [
         2016,
         "Adrian Shami",
         1.5
        ],
        [
         2016,
         "Odella Nelson",
         -157.52999999999997
        ],
        [
         2016,
         "Stewart Visinsky",
         76.77
        ],
        [
         2016,
         "Jeremy Lonsdale",
         21.750000000000004
        ],
        [
         2016,
         "Anne McFarland",
         90.25999999999999
        ],
        [
         2016,
         "Harold Engle",
         112.71
        ],
        [
         2016,
         "Carlos Meador",
         -56.9
        ],
        [
         2016,
         "Patrick Jones",
         8.2
        ],
        [
         2016,
         "Steve Carroll",
         109.82000000000001
        ],
        [
         2016,
         "Ellis Ballard",
         0.0
        ],
        [
         2016,
         "Ross DeVincentis",
         115.75999999999999
        ],
        [
         2016,
         "Dorothy Dickinson",
         -6.9
        ],
        [
         2016,
         "Tom Ashbrook",
         -76.0
        ],
        [
         2016,
         "Benjamin Venier",
         127.00999999999999
        ],
        [
         2016,
         "Natalie Webber",
         -255.45000000000002
        ],
        [
         2016,
         "Peter Bühler",
         0.9
        ],
        [
         2016,
         "Erica Bern",
         151.89000000000001
        ],
        [
         2016,
         "Rick Huthwaite",
         1152.82
        ],
        [
         2016,
         "Nora Pelletier",
         31.419999999999998
        ],
        [
         2016,
         "Andy Reiter",
         9.53
        ],
        [
         2016,
         "Thea Hudgings",
         -76.64
        ],
        [
         2016,
         "Trudy Brown",
         70.93
        ],
        [
         2016,
         "Corinna Mitchell",
         599.89
        ],
        [
         2016,
         "654Dean Braden",
         -66.46999999999998
        ],
        [
         2016,
         "Lisa Ryan",
         -387.68
        ],
        [
         2016,
         "Brendan Sweed",
         12.36
        ],
        [
         2016,
         "Dean Katz",
         227.45
        ],
        [
         2016,
         "Nick Zandusky",
         -30.61
        ],
        [
         2016,
         "Jane Waco",
         131.25
        ],
        [
         2016,
         "Jack O'Briant",
         440.01
        ],
        [
         2016,
         "Maria Zettner",
         0.16
        ],
        [
         2016,
         "Tracy Collins",
         161.53
        ],
        [
         2016,
         "Damala Kotsonis",
         185.33999999999997
        ],
        [
         2016,
         "Laurel Beltran",
         -658.62
        ],
        [
         2016,
         "Patrick O'Brill",
         -316.63
        ],
        [
         2016,
         "Lisa DeCherney",
         111.25999999999999
        ],
        [
         2016,
         "Giulietta Baptist",
         73.22
        ],
        [
         2016,
         "Shirl)(*&ey Schmidt",
         14.87
        ],
        [
         2016,
         " Elpida Rittenbach ",
         -299.90000000000003
        ],
        [
         2016,
         "Luke Schmidt",
         18.28
        ],
        [
         2016,
         "Meg O'Connel",
         5.5
        ],
        [
         2015,
         "Jennifer Ferguson",
         56.64
        ],
        [
         2015,
         "         Helen Abelman",
         111.28
        ],
        [
         2015,
         "Maribeth Dona",
         51.66
        ],
        [
         2015,
         "John Stevenson",
         392.89000000000004
        ],
        [
         2015,
         "Ken Heidel",
         501.53999999999996
        ],
        [
         2015,
         "Grace Kelly",
         86.65
        ],
        [
         2015,
         "Alyssa Tate",
         -2.53
        ],
        [
         2015,
         "Alan Shonely",
         5.08
        ],
        [
         2015,
         "Joni Wa55erman",
         -201.65
        ],
        [
         2015,
         "Fred Hopkins",
         2139.7400000000002
        ],
        [
         2015,
         "Helen Wa55erman",
         17.2
        ],
        [
         2015,
         "Harold Pawlan",
         -21.700000000000003
        ],
        [
         2015,
         "Dave Poirier",
         16.29
        ],
        [
         2015,
         "Julia West",
         133.51
        ],
        [
         2015,
         "Maya Herman",
         94.71
        ],
        [
         2015,
         "Emily Burns",
         242.29999999999998
        ],
        [
         2015,
         "Neil Knudson%^&*(",
         1.79
        ],
        [
         2015,
         "UNKNOWN",
         2096.23
        ],
        [
         2015,
         "Sylvia Foulston",
         448.98
        ],
        [
         2015,
         "Aleksandra Gannaway",
         8.39
        ],
        [
         2015,
         "Arianne Irving",
         17.03
        ],
        [
         2015,
         "Clay Ludtke",
         490.36
        ],
        [
         2015,
         "Nathan Cano",
         36.230000000000004
        ],
        [
         2015,
         "Benjamin Venier",
         82.27000000000001
        ],
        [
         2015,
         "Nathan Gelder",
         54.0
        ],
        [
         2015,
         " Shahi  Shariari",
         -504.24
        ],
        [
         2015,
         "Amy Hunt",
         -342.08000000000004
        ],
        [
         2015,
         "Brosin34a Hoffman 09",
         5.84
        ],
        [
         2015,
         "Tony Chapman",
         27.0
        ],
        [
         2015,
         "Cari Sayre",
         -5.73
        ],
        [
         2015,
         "Mick Crebagga",
         -73.3
        ],
        [
         2015,
         "Fred Chung",
         12.6
        ],
        [
         2015,
         "Kat rina Willman",
         1600.8500000000001
        ],
        [
         2015,
         "Anna Andreadi",
         439.31
        ],
        [
         2015,
         "Sanjit Jacobs",
         -65.82
        ],
        [
         2015,
         "Bradley Drucker",
         70.98
        ],
        [
         2015,
         "James Galang",
         736.7600000000001
        ],
        [
         2015,
         "Victor Preis",
         8.93
        ],
        [
         2015,
         "Ge 1234orge Bell",
         74.28999999999999
        ],
        [
         2015,
         "Ross Baird",
         -18.46
        ],
        [
         2015,
         "Frank Carlisle",
         35.53
        ],
        [
         2015,
         "Emily Grady",
         55.0
        ],
        [
         2015,
         "Christopher Schild",
         75.7
        ],
        [
         2015,
         "_12312Patrick Bzostek",
         7.56
        ],
        [
         2015,
         "Rick Reed",
         32.5
        ],
        [
         2015,
         "Lisa Hazard",
         -27.0
        ],
        [
         2015,
         "Claudia Bergmann",
         249.13
        ],
        [
         2015,
         "Pierre Wener",
         1378.01
        ],
        [
         2015,
         "Neil Französisch",
         72.89
        ],
        [
         2015,
         "Dave Kipp",
         173.71
        ],
        [
         2015,
         "Brian Stugart",
         175.39000000000001
        ],
        [
         2015,
         "Pauline Johnson",
         40.07
        ],
        [
         2015,
         "Stewart Visinsky",
         209.66
        ],
        [
         2015,
         "Christopher Martinez",
         3197.7699999999995
        ],
        [
         2015,
         "Becky Castell",
         92.0
        ],
        [
         2015,
         "Sean Miller",
         -225.51999999999998
        ],
        [
         2015,
         "Kristen Hastings",
         -36.13000000000001
        ],
        [
         2015,
         "Thea Hendricks",
         0.81
        ],
        [
         2015,
         "Eric Hoffmann",
         10.62
        ],
        [
         2015,
         "Tom Prescott",
         64.52
        ],
        [
         2015,
         "Dave Hallsten",
         783.23
        ],
        [
         2015,
         "Hunter Glantz",
         55.9
        ],
        [
         2015,
         "Bruce Stewart",
         18.45
        ],
        [
         2015,
         "Tracy P 908765oddar",
         34.74
        ],
        [
         2015,
         "Liz Thompson",
         76.22
        ],
        [
         2015,
         "Toby Gnade",
         -198.33
        ],
        [
         2015,
         "Ellis Ballard",
         610.86
        ],
        [
         2015,
         "Alejandro Ballentine",
         34.34
        ],
        [
         2015,
         "Don Miller",
         167.54000000000002
        ],
        [
         2015,
         "Neil Ducich",
         18.66
        ],
        [
         2015,
         "Dean perceR__#$#",
         1145.83
        ],
        [
         2015,
         "Helen Andreada",
         197.82999999999998
        ],
        [
         2015,
         "Karl Braun",
         -18.21
        ],
        [
         2015,
         "Jim Radford",
         -785.16
        ],
        [
         2015,
         "Brenda Bowman",
         -77.85000000000001
        ],
        [
         2015,
         " Shahi  Hopkins",
         2.24
        ],
        [
         2015,
         "Pete Armstrong",
         121.57
        ],
        [
         2015,
         "Barry Blumstein",
         -8.219999999999999
        ],
        [
         2015,
         "Jonathan Howell",
         48.660000000000004
        ],
        [
         2015,
         "Brendan Sweed",
         103.1
        ],
        [
         2015,
         "Xylona Preis",
         24.849999999999998
        ],
        [
         2015,
         "Logan Currie",
         19.4
        ],
        [
         2015,
         "Joni Blumstein",
         -359.56
        ],
        [
         2015,
         "Karen Carlisle",
         279.99
        ],
        [
         2015,
         "Denise Monton",
         2.84
        ],
        [
         2015,
         "Daniel Lacy",
         304.39
        ],
        [
         2015,
         "David Smith",
         182.58
        ],
        [
         2015,
         "Julie Prescott",
         7.43
        ],
        [
         2015,
         "Gary Hwang",
         59.650000000000006
        ],
        [
         2015,
         "Harry Marie",
         2451.0099999999998
        ],
        [
         2015,
         "Erin Ashbrook",
         321.74
        ],
        [
         2015,
         "Joe Elijah",
         50.83
        ],
        [
         2015,
         "Heather Kirkland",
         300.07
        ],
        [
         2015,
         "Victo 3456ria Brennan",
         84.62
        ],
        [
         2015,
         "Kat rina Bavinger",
         42.96
        ],
        [
         2015,
         "Tonja Turnell",
         281.0
        ],
        [
         2015,
         "Aimee Bixby",
         7.02
        ],
        [
         2015,
         "Quincy Jones",
         1014.47
        ],
        [
         2015,
         "Sarah Brown",
         939.16
        ],
        [
         2015,
         "Cassandra Brandow",
         223.45000000000002
        ],
        [
         2015,
         "Chris Selesnick",
         95.25999999999999
        ],
        [
         2015,
         "Doug Jacobs",
         36.0
        ],
        [
         2015,
         "Thomas Brumley",
         3.06
        ],
        [
         2015,
         "Christy Brittain",
         -3.49
        ],
        [
         2015,
         "Sample Company A",
         9.1
        ],
        [
         2015,
         "Stephanie Phelps",
         95.84
        ],
        [
         2015,
         "Paul Stevenson",
         42.15
        ],
        [
         2015,
         "Nicole Fjeld",
         258.1
        ],
        [
         2015,
         "Alejandro Grove",
         16.96
        ],
        [
         2015,
         "Phillina Ober",
         -12.5
        ],
        [
         2015,
         "Brad Norvell",
         4.09
        ],
        [
         2015,
         "Michael Kennedy",
         0.6
        ],
        [
         2015,
         "Theresa Swint",
         311.53999999999996
        ],
        [
         2015,
         "Scott Cohen",
         373.95
        ],
        [
         2015,
         "Eugene Barchas",
         44.54
        ],
        [
         2015,
         "Valerie Dominguez",
         990.8600000000001
        ],
        [
         2015,
         "Darren Koutras",
         -76.42999999999999
        ],
        [
         2015,
         "Roger Barcio",
         -82.78
        ],
        [
         2015,
         "Neoma Murray",
         -26.66
        ],
        [
         2015,
         "Duane Huffman",
         28.89
        ],
        [
         2015,
         "Alex Avila",
         7.0
        ],
        [
         2015,
         "Philip Brown",
         157.66
        ],
        [
         2015,
         "Sam Zeldin",
         260.19
        ],
        [
         2015,
         "Robert Barroso",
         28.429999999999996
        ],
        [
         2015,
         "MaryBeth Skach",
         45.29
        ],
        [
         2015,
         "Roy Französisch",
         0.06
        ],
        [
         2015,
         "Mike Caudle",
         9.809999999999999
        ],
        [
         2015,
         "Matt Abelman",
         619.0599999999998
        ],
        [
         2015,
         "Philisse Overcash",
         823.24
        ],
        [
         2015,
         "Clytie Kelty",
         -36.93000000000001
        ],
        [
         2015,
         "Carlos Soltero",
         16.46
        ],
        [
         2015,
         "Sue Ann Reed",
         98.07999999999998
        ],
        [
         2015,
         "Ed Braxton",
         47.959999999999994
        ],
        [
         2015,
         "Brooke Gillingham",
         28.310000000000002
        ],
        [
         2015,
         "Maria Zettner",
         69.35000000000001
        ],
        [
         2015,
         "Keith Herrera",
         227.57
        ],
        [
         2015,
         "Denny Ordway",
         -136.09
        ],
        [
         2015,
         "Vivek Sundaresam",
         -176.60000000000002
        ],
        [
         2015,
         "Deirdre Greer",
         0.4200000000000017
        ],
        [
         2015,
         "Lori Olson",
         34.45
        ],
        [
         2015,
         "Grant Thornton",
         8.87
        ],
        [
         2015,
         "Bart Watters",
         103.49000000000001
        ],
        [
         2015,
         "Dana Kaydos",
         609.59
        ],
        [
         2015,
         "Paul Prost",
         67.55999999999999
        ],
        [
         2015,
         "Kalyca Meade",
         450.16
        ],
        [
         2015,
         "Sean Christensen",
         0.0
        ],
        [
         2015,
         "Ben Pet 987 -=erman",
         66.75999999999999
        ],
        [
         2015,
         "Sonia Cooley",
         -2.4299999999999997
        ],
        [
         2015,
         "Chris Cortes",
         21.01
        ],
        [
         2015,
         "Steven Roelle",
         2.4000000000000004
        ],
        [
         2015,
         "Adam Bellavance",
         8.71
        ],
        [
         2015,
         "Victoria Wilson",
         -1186.41
        ],
        [
         2015,
         " Elpida Rittenbach ",
         4.57
        ],
        [
         2015,
         "Katherine Nockton",
         -191.35999999999999
        ],
        [
         2015,
         "Michael Granlund",
         112.32
        ],
        [
         2015,
         "Maureen Gnade",
         -392.86
        ],
        [
         2015,
         "Elizabeth Moffitt",
         238.46999999999997
        ],
        [
         2015,
         "Erica Smith",
         44.05
        ],
        [
         2015,
         "Dennis Bolton",
         15.61
        ],
        [
         2015,
         "Tamara Chand",
         37.72
        ],
        [
         2015,
         "Matt Connell",
         13.08
        ],
        [
         2015,
         "Giulietta Baptist",
         767.6
        ],
        [
         2015,
         "Ivan Liston",
         656.6800000000001
        ],
        [
         2015,
         "Chad McGuire",
         8.11
        ],
        [
         2015,
         "Michelle Moray",
         -247.37
        ],
        [
         2015,
         "Hallie Redmond",
         48.12
        ],
        [
         2015,
         "Victoria Pisteka",
         -204.15
        ],
        [
         2015,
         "Bryan Mills",
         -39.67
        ],
        [
         2015,
         "Noah Childs",
         16.85
        ],
        [
         2015,
         "Lindsay Castell",
         278.20000000000005
        ],
        [
         2015,
         "Michelle Huthwaite",
         91.16
        ],
        [
         2015,
         "Frank Merwin",
         1.03
        ],
        [
         2015,
         "Gary Zandusky",
         126.31
        ],
        [
         2015,
         "Mark Packer",
         311.49999999999994
        ],
        [
         2015,
         "Kean Takahito",
         28.81
        ],
        [
         2015,
         "Giulietta Weimer",
         134.33
        ],
        [
         2015,
         "Ruben Ausman",
         1.67
        ],
        [
         2015,
         "Dan Campbell",
         4.89
        ],
        [
         2015,
         "Alan Barnes",
         79.94
        ],
        [
         2015,
         "Max Jones",
         -77.93
        ],
        [
         2015,
         "Todd Sumrall",
         1135.1000000000001
        ],
        [
         2015,
         "Allen Rosenblatt",
         105.47
        ],
        [
         2015,
         "Khloe Miller",
         34.35
        ],
        [
         2015,
         "Laurel Elliston",
         5.08
        ],
        [
         2015,
         "Julie Kriz",
         47.93
        ],
        [
         2015,
         "Bruce Degenhardt",
         149.49
        ],
        [
         2015,
         "Alex Russell",
         -2.57
        ],
        [
         2015,
         "Melanie Seite",
         32.45
        ],
        [
         2015,
         "Janet Molinari",
         -11.899999999999999
        ],
        [
         2015,
         "Gene Hale",
         -71.0
        ],
        [
         2015,
         "Rick Wi 4567@#$lson",
         -74.62
        ],
        [
         2015,
         "Steve Chapman",
         222.93
        ],
        [
         2015,
         "Nora Pelletier",
         449.44
        ],
        [
         2015,
         "Sean Braxton",
         79.76
        ],
        [
         2015,
         "Cindy Stewart",
         17.34
        ],
        [
         2015,
         "Marc Harrigan",
         2.18
        ],
        [
         2015,
         "Speros Goranitis",
         162.96
        ],
        [
         2015,
         "Evan Bailliet",
         119.43
        ],
        [
         2015,
         "Dario Medina",
         42.96
        ],
        [
         2015,
         "Bobby Odegard",
         2.07
        ],
        [
         2015,
         "Fred McMath",
         17.479999999999997
        ],
        [
         2015,
         "Lena Radford",
         30.79
        ],
        [
         2015,
         "Cyra Reiten",
         2.13
        ],
        [
         2015,
         "Emily Phan",
         361.2
        ],
        [
         2015,
         "Dan Reichenbach",
         428.64
        ],
        [
         2015,
         "Ralph Kennedy",
         265.57
        ],
        [
         2015,
         "Barry Gonzalez",
         -998.9100000000001
        ],
        [
         2015,
         "Julia Barnett",
         106.54
        ],
        [
         2015,
         "Denise Leinenbach",
         197.98
        ],
        [
         2015,
         "Ryan Akin",
         96.53999999999999
        ],
        [
         2015,
         "William Brown",
         -87.06
        ],
        [
         2015,
         "N0ra Paige",
         80.84
        ],
        [
         2015,
         "Guy Phonely",
         67.77
        ],
        [
         2015,
         "Marina Lichtenstein",
         -4.94
        ],
        [
         2015,
         "Tim Taslimi",
         61.39
        ],
        [
         2015,
         "Darren Powers",
         260.74
        ],
        [
         2015,
         "Lena Creighton",
         1007.7499999999999
        ],
        [
         2015,
         "Allen Armold",
         69.03
        ],
        [
         2015,
         "Jas O'Carroll",
         203.94
        ],
        [
         2015,
         "Duane Benoit",
         -17.29
        ],
        [
         2015,
         "Michelle Ellison",
         8.77
        ],
        [
         2015,
         "Amy Cox",
         24.98
        ],
        [
         2015,
         "Roger Demir",
         23.85
        ],
        [
         2015,
         "Dennis Pardue",
         -223.85
        ],
        [
         2015,
         "Evan Minnotte",
         4.0
        ],
        [
         2015,
         "Ben Ferrer",
         137.03
        ],
        [
         2015,
         "Bi1l Stewart",
         206.62
        ],
        [
         2015,
         "Erin Smith",
         -27.16
        ],
        [
         2015,
         "Jeremy Ellison",
         57.22
        ],
        [
         2015,
         "Stefanie Holloman",
         190.43
        ],
        [
         2015,
         "Rob Lucas",
         110.11
        ],
        [
         2015,
         "Annie Zypern",
         34.34
        ],
        [
         2015,
         "Denny Blanton",
         266.33
        ],
        [
         2015,
         "Valerie Takahito",
         -257.93
        ],
        [
         2015,
         "Matt Collins",
         62.769999999999996
        ],
        [
         2015,
         "Brad Thomas",
         117.39
        ],
        [
         2015,
         "Peter Fuller",
         -631.6999999999999
        ],
        [
         2015,
         "Frank Atkinson",
         224.56
        ],
        [
         2015,
         "Meg Tillman",
         1.7799999999999998
        ],
        [
         2015,
         "Logan Haushalter",
         94.85
        ],
        [
         2015,
         "Stefania Perrino",
         -0.6199999999999999
        ],
        [
         2015,
         "Michael Grace",
         -499.04999999999995
        ],
        [
         2015,
         "Craig Carreira",
         8.57
        ],
        [
         2015,
         "John Hus<>><>ton",
         19.6
        ],
        [
         2015,
         "Ad.       ..am Hart",
         0.34
        ],
        [
         2015,
         "Bart Pistole",
         53.56
        ],
        [
         2015,
         "Patrick O'Brill",
         7.32
        ],
        [
         2015,
         "Steve Nguyen",
         91.21
        ],
        [
         2015,
         "Greg Guthrie",
         -115.72
        ],
        [
         2015,
         "Larry Tron",
         20.16
        ],
        [
         2015,
         "Benjamin Patterson",
         -255.74
        ],
        [
         2015,
         "John Murray",
         371.88
        ],
        [
         2015,
         "Karen Seio",
         6.489999999999999
        ],
        [
         2015,
         "Anthony Rawles",
         9.33
        ],
        [
         2015,
         "Sung Shariari",
         -79.33
        ],
        [
         2015,
         "Chad Cunningham",
         77.44999999999999
        ],
        [
         2015,
         "Paul MacIntyre",
         -21.71
        ],
        [
         2015,
         "&^*(5678Shirley Daniels",
         1954.79
        ],
        [
         2015,
         "B*#^%ruce Geld",
         15.07
        ],
        [
         2015,
         "Claire Gute",
         -93.38
        ],
        [
         2015,
         "Max Engle",
         39.769999999999996
        ],
        [
         2015,
         "Toby Swindell",
         92.71000000000001
        ],
        [
         2015,
         "Rick Duston",
         25.41
        ],
        [
         2015,
         "Barbara Fisher",
         0.9599999999999997
        ],
        [
         2015,
         "Shaun Chance",
         375.28000000000003
        ],
        [
         2015,
         "Carol Triggs",
         19.45
        ],
        [
         2015,
         "Patrick Ryan",
         38.269999999999996
        ],
        [
         2015,
         "Luke Foster",
         146.20999999999998
        ],
        [
         2015,
         "Jessica Myrick",
         46.85
        ],
        [
         2015,
         "Sara Luxemburg",
         64.77
        ],
        [
         2015,
         "Penelope Sewall",
         1493.94
        ],
        [
         2015,
         "Brendan Dodson",
         36.47
        ],
        [
         2015,
         "Karen Bern",
         19.85
        ],
        [
         2015,
         "Irene Maddox",
         -55.7
        ],
        [
         2015,
         "Kunst Miller",
         112.09999999999998
        ],
        [
         2015,
         "Muhammed MacIntyre",
         68.2
        ],
        [
         2015,
         "Dianna Vittorini",
         101.77000000000001
        ],
        [
         2015,
         "Jill Fjeld",
         147.35
        ],
        [
         2015,
         "Sandra Flanagan",
         15.98
        ],
        [
         2015,
         "Nathan Mautz",
         333.49999999999994
        ],
        [
         2015,
         "Roy Phan",
         375.37999999999994
        ],
        [
         2015,
         "Lauren Leatherbury",
         404.91
        ],
        [
         2015,
         "Pamela Stobb",
         -113.1
        ],
        [
         2015,
         "       Kristi;'[]na Nunn",
         -183.10999999999999
        ],
        [
         2015,
         "Steven Cartwright",
         404.63000000000005
        ],
        [
         2015,
         "Carlos Meador",
         13.17
        ],
        [
         2015,
         "Ivan Gibson",
         144.35
        ],
        [
         2015,
         "Tam&^*ara Willing___)ham",
         610.3
        ],
        [
         2015,
         "Brian Dahlen",
         79.41
        ],
        [
         2015,
         "Chad Sievert",
         45.72
        ],
        [
         2015,
         "Suzanne McNair",
         468.40000000000003
        ],
        [
         2015,
         "   _Mike Vitt 12313orini",
         15.360000000000001
        ],
        [
         2015,
         "Anna Gayman",
         -25.990000000000002
        ],
        [
         2015,
         "Dennis Kane",
         -95.8
        ],
        [
         2015,
         "Anne Pryor",
         -1.36
        ],
        [
         2015,
         "Anth 34789ony Witt",
         -13.5
        ],
        [
         2015,
         "Chuck Clark",
         60.39
        ],
        [
         2015,
         "Marc Crier",
         197.66
        ],
        [
         2015,
         "Alice McCarthy",
         178.9
        ],
        [
         2015,
         "Joe Kamberova",
         42.080000000000005
        ],
        [
         2015,
         "Joel Jenkins",
         34.46
        ],
        [
         2015,
         "Beth Tho098-.,;;mpson",
         87.46
        ],
        [
         2015,
         "Sheri Gordon",
         44.5
        ],
        [
         2015,
         "Maribeth Yedwab",
         2.65
        ],
        [
         2015,
         "Fred Harton",
         365.68
        ],
        [
         2015,
         "Tim Brockman",
         318.53
        ],
        [
         2015,
         "Shui Tom",
         27.01
        ],
        [
         2015,
         "Lisa Ryan",
         -142.91
        ],
        [
         2015,
         "Jamie Frazer",
         17.99
        ],
        [
         2015,
         "Craig M 876olinari",
         -29.9
        ],
        [
         2015,
         "Thais Sissman",
         -1.35
        ],
        [
         2015,
         "Sandra Glassco",
         352.19
        ],
        [
         2015,
         "Jennifer Braxton",
         128.05
        ],
        [
         2015,
         "Barry Französisch",
         269.31
        ],
        [
         2015,
         "Alan Hwang",
         269.15000000000003
        ],
        [
         2015,
         "Ruben Dartt",
         9.09
        ],
        [
         2015,
         "Erica Hackney",
         28.380000000000003
        ],
        [
         2015,
         "Annie Thurman",
         739.52
        ],
        [
         2015,
         "Sonia Sunley",
         8.02
        ],
        [
         2015,
         "Doug O'Connell",
         26.82
        ],
        [
         2015,
         "Jane Waco",
         89.2
        ],
        [
         2015,
         "Mark Van Huff",
         -1.2799999999999976
        ],
        [
         2015,
         "Barry Weirich",
         12.11
        ],
        [
         2015,
         "Maurice Satty",
         299.8
        ],
        [
         2015,
         "John Dryer",
         -313.52
        ],
        [
         2015,
         "Ken Brennan",
         17.0
        ],
        [
         2015,
         "Michael Moore",
         -373.3
        ],
        [
         2015,
         "Justin Hirsh",
         106.41
        ],
        [
         2015,
         "Ritsa Hightower",
         -6.03
        ],
        [
         2015,
         "Jim Kriz",
         181.04
        ],
        [
         2015,
         "Sam Craven",
         43.32
        ],
        [
         2015,
         "Nick Zandusky",
         82.82
        ],
        [
         2015,
         "David Philippe",
         1.0
        ],
        [
         2015,
         "Cindy Schnelling",
         -58.129999999999995
        ],
        [
         2015,
         "Alan Schoenberger",
         12.86
        ],
        [
         2015,
         "Patrick Jones",
         382.38
        ],
        [
         2015,
         "Ann Chong",
         -32.300000000000004
        ],
        [
         2015,
         "Seth Vernon",
         -191.64
        ],
        [
         2015,
         "Harold Ryan",
         116.94000000000001
        ],
        [
         2015,
         "Kat rina Edelman",
         235.64
        ],
        [
         2015,
         "Trudy Schmidt",
         -34.08999999999999
        ],
        [
         2015,
         "Liz MacKendrick",
         -142.52
        ],
        [
         2015,
         "Gene McClure",
         359.46
        ],
        [
         2015,
         "Juliana Krohn",
         228.89999999999998
        ],
        [
         2015,
         "Christine Phan",
         -1044.46
        ],
        [
         2015,
         "Mark Hamilton",
         16.18
        ],
        [
         2015,
         "Rick Huthwaite",
         125.67
        ],
        [
         2015,
         "Trudy Brown",
         -8.469999999999999
        ],
        [
         2015,
         "Roland Schwarz",
         5.01
        ],
        [
         2015,
         "Art Ferguson",
         2.02
        ],
        [
         2015,
         "Guy Armstrong",
         11.54
        ],
        [
         2015,
         "Jennifer Patt",
         100.93
        ],
        [
         2015,
         "Mike Gockenbach",
         -137.49
        ],
        [
         2015,
         "Darren Budd",
         45.65
        ],
        [
         2015,
         "Carl Weiss",
         21.11
        ],
        [
         2015,
         "Guy Thornton",
         27.2
        ],
        [
         2015,
         "Anna Häberlin",
         106.62
        ],
        [
         2015,
         "Craig Yedwab",
         107.0
        ],
        [
         2015,
         "Cynthia Delaney",
         2.53
        ],
        [
         2015,
         "Harry Greene",
         -2.01
        ],
        [
         2015,
         "Scot Wooten",
         -10.840000000000002
        ],
        [
         2015,
         "Chloris Kastensmidt",
         5.53
        ],
        [
         2015,
         "Natalie DeCherney",
         330.79999999999995
        ],
        [
         2015,
         "Rose O'Brian",
         -998.0
        ],
        [
         2015,
         "Art Foster",
         101.17999999999999
        ],
        [
         2015,
         "Nat Carroll",
         326.28
        ],
        [
         2015,
         "Gary567 Hansen",
         38.97
        ],
        [
         2015,
         "Cathy Hwang",
         57.39
        ],
        [
         2015,
         "Anne McFarland",
         14.700000000000001
        ],
        [
         2015,
         "Michelle Arnett",
         3.48
        ],
        [
         2015,
         "Darrin Martin",
         6.6
        ],
        [
         2015,
         "Denny Joy",
         64.99
        ],
        [
         2015,
         "Heather Jas",
         28.71
        ],
        [
         2015,
         "             Dorothy Wardle",
         -371.25
        ],
        [
         2015,
         "Maxwell Schwartz",
         209.33
        ],
        [
         2015,
         "Randy Ferguson",
         102.00999999999999
        ],
        [
         2015,
         "Jesus Ocampo",
         153.90999999999997
        ],
        [
         2015,
         "Tracy Hopkins",
         391.55
        ],
        [
         2015,
         "Eric Murdock",
         51.93
        ],
        [
         2015,
         "Valerie Mitchum",
         -3.71
        ],
        [
         2015,
         "Edward Becker",
         177.41
        ],
        [
         2015,
         "Robert Marley",
         660.5200000000001
        ],
        [
         2015,
         "Keith Dawkins",
         2810.3499999999995
        ],
        [
         2015,
         "Jim Epp",
         -129.89
        ],
        [
         2015,
         "Monica Federle",
         152.73
        ],
        [
         2015,
         "Yana Sorensen",
         254.18
        ],
        [
         2015,
         "John Lee",
         252.42
        ],
        [
         2015,
         "Andrew Gjertsen",
         264.76000000000005
        ],
        [
         2015,
         "Justin MacKendrick",
         221.33
        ],
        [
         2015,
         "Dionis Lloyd",
         50.349999999999994
        ],
        [
         2015,
         "Jim Karlsson",
         438.0
        ],
        [
         2015,
         "Charlotte Melton",
         16.89
        ],
        [
         2015,
         "Aaron Hawkins",
         136.56
        ],
        [
         2015,
         "Jonathan Doherty",
         64.82
        ],
        [
         2015,
         "Stuart Van",
         184.2
        ],
        [
         2015,
         "Natalie Webber",
         1654.06
        ],
        [
         2015,
         "Julie Creighton",
         62.81
        ],
        [
         2015,
         "Ashley Jarboe",
         316.58
        ],
        [
         2015,
         "Harold Dahlen",
         30.990000000000002
        ],
        [
         2015,
         "Tanja Norvell",
         167.98
        ],
        [
         2015,
         "Carol Adams",
         182.16
        ],
        [
         2015,
         "Brendan Murry",
         37.33
        ],
        [
         2015,
         "Ann Steele",
         -10.81
        ],
        [
         2015,
         "Nat Gilpin",
         8.05
        ],
        [
         2015,
         "Tamara Dahlen",
         -4.520000000000001
        ],
        [
         2015,
         "Kelly Collister",
         49.27
        ],
        [
         2015,
         "Skye Norling",
         184.57999999999998
        ],
        [
         2015,
         "Christina Anderson",
         118.66
        ],
        [
         2015,
         "Stephanie Ulpright",
         76.4
        ],
        [
         2015,
         "Lycoris Saunders",
         55.239999999999995
        ],
        [
         2015,
         "Berenike Kampe",
         42.04
        ],
        [
         2015,
         "Raymond Messe",
         19.97
        ],
        [
         2015,
         "Brian Moss",
         181.48
        ],
        [
         2015,
         "Muhammed Lee",
         1.16
        ],
        [
         2015,
         "Ken Black",
         66.41999999999999
        ],
        [
         2015,
         "Fred Wa55erman",
         5.48
        ],
        [
         2015,
         "Michael Stewart",
         59.35
        ],
        [
         2015,
         "Doug Bickford",
         342.08
        ],
        [
         2015,
         "Henry Goldwyn",
         34.839999999999996
        ],
        [
         2015,
         "Resi Pölking",
         19.71
        ],
        [
         2015,
         "Jeremy Farry",
         -103.53999999999999
        ],
        [
         2015,
         "Andy Gerbode",
         -59.22
        ],
        [
         2015,
         "Sarah Foster",
         -87.01
        ],
        [
         2015,
         "Maria Bertelson",
         77.99000000000001
        ],
        [
         2015,
         "Bryan Spruell",
         77.11
        ],
        [
         2015,
         "Maribeth 5chnelling",
         145.5
        ],
        [
         2015,
         "Ann Blume",
         5.07
        ],
        [
         2015,
         "Jay Fein",
         161.11
        ],
        [
         2015,
         "Michael Paige",
         255.75
        ],
        [
         2015,
         "[]-=;''Becky Pak",
         431.98
        ],
        [
         2015,
         "John Grady",
         8.69
        ],
        [
         2015,
         "654Dean Braden",
         -41.79
        ],
        [
         2015,
         "Adrian Barton",
         -142.67000000000002
        ],
        [
         2015,
         "     Rac5467hel Payne",
         -50.03999999999999
        ],
        [
         2015,
         "David Bremer",
         -285.05999999999995
        ],
        [
         2015,
         "Parhena Norris",
         6.46
        ],
        [
         2015,
         "Joseph Holt",
         -1429.38
        ],
        [
         2015,
         "Rich.-=%&*ard Eichhorn",
         211.06
        ],
        [
         2015,
         "Jennifer Jackson",
         181.85
        ],
        [
         2015,
         "Natalie Fritzler",
         -1980.3799999999997
        ],
        [
         2015,
         "Eugene Moren",
         271.40999999999997
        ],
        [
         2015,
         "Catherine Glotzbach",
         5.76
        ],
        [
         2015,
         "Olvera Toch",
         81.0
        ],
        [
         2015,
         "Matt Hagelstein",
         14.67
        ],
        [
         2015,
         "Christine Sundaresam",
         288.11
        ],
        [
         2015,
         "Craig Carroll",
         895.35
        ],
        [
         2015,
         "Dean Katz",
         -339.65000000000003
        ],
        [
         2015,
         "Lindsay Shagiari",
         -108.19999999999999
        ],
        [
         2015,
         "Steve Carroll",
         213.7
        ],
        [
         2015,
         "Alan Dominguez",
         9.600000000000001
        ],
        [
         2015,
         "Tracy Zic",
         15.28
        ],
        [
         2015,
         "Michelle Tran",
         -6.29
        ],
        [
         2015,
         "Linda Southworth",
         9.82
        ],
        [
         2015,
         "Kean Thornton",
         36.699999999999996
        ],
        [
         2015,
         "Nona Balk",
         127.06
        ],
        [
         2015,
         "Kean Nguyen",
         -118.58
        ],
        [
         2015,
         "Brian Thompson",
         435.64000000000004
        ],
        [
         2015,
         "Bi1l Donatelli",
         799.49
        ],
        [
         2015,
         "Corey Catlett",
         18.310000000000002
        ],
        [
         2015,
         "Odella Nelson",
         -31.11
        ],
        [
         2015,
         "Jeremy Pistek",
         5.01
        ],
        [
         2015,
         ")(*&Sung Pak",
         -65.06000000000002
        ],
        [
         2015,
         "Saphhira Shifley",
         25.79
        ],
        [
         2015,
         "Anthony Garverick",
         61.71
        ],
        [
         2015,
         "Sarah Jordon",
         5.9
        ],
        [
         2015,
         "Lynn Smith",
         4.8
        ],
        [
         2015,
         "Ed Jacobs",
         15.86
        ],
        [
         2015,
         "Rob Haberlin",
         165.37
        ],
        [
         2015,
         "Eugene Hildebrand",
         -117.86999999999999
        ],
        [
         2015,
         "Daniel Raglin",
         296.67
        ],
        [
         2015,
         "Kelly Andreada",
         77.97
        ],
        [
         2015,
         "John Castell",
         27.630000000000003
        ],
        [
         2015,
         "Debra Catini",
         55.75
        ],
        [
         2015,
         "Sanjit Chand",
         92.68
        ],
        [
         2015,
         "C@thy Armstrong",
         -47.73
        ],
        [
         2015,
         "Greg Hansen",
         3.07
        ],
        [
         2015,
         "Eileen Kiefer",
         20.54
        ],
        [
         2015,
         "Thomas Thornton",
         52.519999999999996
        ],
        [
         2015,
         "Corey-Lock",
         44.03
        ],
        [
         2015,
         "Ted Trevino",
         205.15000000000003
        ],
        [
         2015,
         "Stuart Calhoun",
         40.63
        ],
        [
         2015,
         "Brian Derr",
         102.25
        ],
        [
         2015,
         "Tamara Manning",
         255.04
        ],
        [
         2015,
         "Frank Olsen",
         18.980000000000004
        ],
        [
         2015,
         "Nicole Hansen",
         85.82
        ],
        [
         2015,
         "Brad Eason",
         120.21
        ],
        [
         2015,
         "Sean O'Donnell",
         -282.31
        ],
        [
         2015,
         "Justin Deggeller",
         212.64000000000001
        ],
        [
         2015,
         "Mike Pelletier",
         526.73
        ],
        [
         2015,
         "Cathy Prescott",
         102.44
        ],
        [
         2015,
         "Alan Haines",
         -12.1
        ],
        [
         2015,
         "George Ashbrook",
         625.85
        ],
        [
         2015,
         "Cari Schnelling",
         -2.84
        ],
        [
         2015,
         "Zuschuss Carroll",
         307.48
        ],
        [
         2015,
         "Deborah Brumfield",
         1.7199999999999998
        ],
        [
         2015,
         "Roland Fjeld",
         187.1
        ],
        [
         2015,
         "Dan Lawera",
         9.04
        ],
        [
         2015,
         "Damala Kotsonis",
         369.26
        ],
        [
         2015,
         "Greg Tran",
         974.31
        ],
        [
         2015,
         "Cyma Kinney",
         14.5
        ],
        [
         2015,
         "Joel Eaton",
         -507.06000000000006
        ],
        [
         2015,
         "Michael Oakman",
         -79.31
        ],
        [
         2015,
         "Maureen Gastineau",
         -1.2
        ],
        [
         2015,
         "Ralph Arnett",
         234.81000000000003
        ],
        [
         2015,
         "Janet Lee",
         53.470000000000006
        ],
        [
         2015,
         "Joni Sundaresam",
         -312.06
        ],
        [
         2015,
         "Katherine Murray",
         29.310000000000002
        ],
        [
         2015,
         "Mary Zewe",
         8.21
        ],
        [
         2015,
         " &&Tracy Blumstein",
         -1524.01
        ],
        [
         2015,
         "Corinna Mitchell",
         116.62
        ],
        [
         2015,
         "Peter McVee",
         426.81000000000006
        ],
        [
         2015,
         "Arthur Wiediger",
         64.24000000000001
        ],
        [
         2015,
         "\":[]|}-=Charles Crestani",
         297.36
        ],
        [
         2015,
         "Justin Ritter",
         152.39
        ],
        [
         2015,
         "Laura Armstrong",
         -0.11999999999999922
        ],
        [
         2015,
         "Pauline Webber",
         15.15
        ],
        [
         2015,
         "Theone Pippenger",
         -1.85
        ],
        [
         2015,
         "Trudy Glocke",
         191.28
        ],
        [
         2015,
         "Philip Fox",
         75.23
        ],
        [
         2015,
         "Karen Dan!els",
         129.49
        ],
        [
         2015,
         "Henry MacAllister",
         73.82
        ],
        [
         2015,
         "Sanjit Engle",
         159.32
        ],
        [
         2015,
         "Frank Preis",
         -140.57
        ],
        [
         2015,
         "Stewart Carmichael",
         147.72
        ],
        [
         2015,
         "Ji11 Stevenson",
         4.53
        ],
        [
         2015,
         "Bi1l Tyler",
         194.73000000000002
        ],
        [
         2015,
         "Paul Gonzalez",
         174.73000000000002
        ],
        [
         2015,
         "Patrick Gardner",
         -564.6800000000001
        ],
        [
         2015,
         "Andy Reiter",
         247.28000000000003
        ],
        [
         2015,
         "Meg O'Connel",
         -16.970000000000002
        ],
        [
         2015,
         "Andrew Roberts",
         27.99
        ],
        [
         2015,
         "Robert Dilbeck",
         -73.41
        ],
        [
         2015,
         "Ken Lonsdale",
         252.53
        ],
        [
         2015,
         "Yoseph Carroll",
         7.07
        ],
        [
         2015,
         "Kelly Williams",
         97.14
        ],
        [
         2015,
         "Edward Nazzal",
         51.269999999999996
        ],
        [
         2015,
         "Julia Dunbar",
         -29.25
        ],
        [
         2015,
         "Tracy Collins",
         30.65
        ],
        [
         2015,
         "Mark Cousins",
         57.2
        ],
        [
         2015,
         "Rick Hansen",
         480.63
        ],
        [
         2015,
         "Lena Hernandez",
         121.10999999999999
        ],
        [
         2015,
         "Katherine Ducich",
         243.53000000000003
        ],
        [
         2015,
         "Carlos Daly",
         17.75
        ],
        [
         2015,
         "Russell Applegate",
         -118.15
        ],
        [
         2015,
         "Noel Staavos",
         151.68
        ],
        [
         2015,
         "Anthony Jacobs",
         5.32
        ],
        [
         2015,
         "Cynthia A;,.[]rntzen",
         -101.6
        ],
        [
         2015,
         "Mitch Webber",
         24.5
        ],
        [
         2015,
         "Richard Bierner",
         49.57000000000001
        ],
        [
         2015,
         "Arthur Gainer",
         18.82
        ],
        [
         2015,
         "David Flashing",
         99.94
        ],
        [
         2015,
         "Pauline Chand",
         -172.51
        ],
        [
         2015,
         "Maria Etezadi",
         -9.56
        ],
        [
         2015,
         "Jack Garza",
         -50.17
        ],
        [
         2015,
         "Jamie Kunitz",
         615.0300000000001
        ],
        [
         2015,
         "Jay Kimmel",
         37.34
        ],
        [
         2015,
         "Russell D'Ascenzo",
         39.0
        ],
        [
         2015,
         "Nancy Lomonaco",
         34.59
        ],
        [
         2015,
         "Adam Shillingsburg",
         243.85999999999999
        ],
        [
         2015,
         "Shaun Weien",
         618.4399999999999
        ],
        [
         2015,
         "  Shahi  Collister",
         52.910000000000004
        ],
        [
         2015,
         "Shirl)(*&ey Schmidt",
         174.01
        ],
        [
         2015,
         "Edward Hooks",
         224.82999999999998
        ],
        [
         2015,
         "Rob Dowd",
         302.64
        ],
        [
         2015,
         "Eudokia Martin",
         192.67000000000002
        ],
        [
         2015,
         "James Lanier",
         41.14
        ],
        [
         2015,
         "John Lucas",
         816.5100000000001
        ],
        [
         2014,
         "Fra9876nk Gasti  ;.,.,neau",
         314.52
        ],
        [
         2014,
         "Daniel Byrd",
         3.63
        ],
        [
         2014,
         "Ed Braxton",
         -127.42
        ],
        [
         2014,
         "Janet Molinari",
         59.06
        ],
        [
         2014,
         "Ricardo Sperren",
         318.93
        ],
        [
         2014,
         "Karen Carlisle",
         43.06
        ],
        [
         2014,
         "Odella Nelson",
         183.11
        ],
        [
         2014,
         "Jack Garza",
         734.7
        ],
        [
         2014,
         "Pierre Wener",
         -86.27
        ],
        [
         2014,
         "Dianna Arnett",
         21.72
        ],
        [
         2014,
         "Candace McMahon",
         25.229999999999997
        ],
        [
         2014,
         "Khloe Miller",
         3.0
        ],
        [
         2014,
         "Peter Bühler",
         204.07
        ],
        [
         2014,
         "Annie Zypern",
         72.86
        ],
        [
         2014,
         "Katherine Ducich",
         64.7
        ],
        [
         2014,
         "Joy Smith",
         3.4
        ],
        [
         2014,
         "Randy Bradley",
         -90.1
        ],
        [
         2014,
         "Greg Guthrie",
         122.54999999999998
        ],
        [
         2014,
         "Beth Paige",
         -70.1
        ],
        [
         2014,
         "Bradley Nguyen",
         185.37
        ],
        [
         2014,
         "Duane Benoit",
         31.01
        ],
        [
         2014,
         "Charles Sheldon",
         98.11
        ],
        [
         2014,
         "Allen Armold",
         16.72
        ],
        [
         2014,
         "Brad Norvell",
         24.68
        ],
        [
         2014,
         "Melanie Seite",
         10.92
        ],
        [
         2014,
         "Eric Barreto",
         1.3499999999999996
        ],
        [
         2014,
         "B         ecky Martin",
         -1878.7900000000002
        ],
        [
         2014,
         "Neil Ducich",
         45.43000000000001
        ],
        [
         2014,
         "John Hus<>><>ton",
         26.41
        ],
        [
         2014,
         "Jamie Kunitz",
         47.81
        ],
        [
         2014,
         "Gary Hwang",
         1073.1399999999999
        ],
        [
         2014,
         "Arianne Irving",
         288.24
        ],
        [
         2014,
         "Tho   12 =-.mas Boland",
         6.04
        ],
        [
         2014,
         "Denise Monton",
         3.71
        ],
        [
         2014,
         "Frank Atkinson",
         3.58
        ],
        [
         2014,
         "Valerie Dominguez",
         576.56
        ],
        [
         2014,
         "Cassandra Brandow",
         5.27
        ],
        [
         2014,
         "Randy Ferguson",
         92.94
        ],
        [
         2014,
         "Katherine Murray",
         955.8599999999999
        ],
        [
         2014,
         "Julie Prescott",
         6.92
        ],
        [
         2014,
         "         =--Katharine Harms",
         261.33
        ],
        [
         2014,
         "Maria Bertelson",
         -13.83
        ],
        [
         2014,
         "Nick Crebassa",
         690.2
        ],
        [
         2014,
         "Annie Thurman",
         71.66
        ],
        [
         2014,
         "Victoria Wilson",
         -65.32
        ],
        [
         2014,
         "Maurice Satty",
         40.730000000000004
        ],
        [
         2014,
         "Maya Herman",
         133.96
        ],
        [
         2014,
         "Thea Hudgings",
         5.45
        ],
        [
         2014,
         "Sean Braxton",
         -1272.36
        ],
        [
         2014,
         "Matthew Grinstein",
         24.37
        ],
        [
         2014,
         "Laura Armstrong",
         482.57
        ],
        [
         2014,
         "John Stevenson",
         -94.66
        ],
        [
         2014,
         "Russell Applegate",
         278.43
        ],
        [
         2014,
         "Roger Demir",
         73.67999999999999
        ],
        [
         2014,
         "Rick Reed",
         543.5699999999999
        ],
        [
         2014,
         "Valerie Mitchum",
         78.23
        ],
        [
         2014,
         "Mike Kennedy",
         -22.69
        ],
        [
         2014,
         "Janet Lee",
         -190.51
        ],
        [
         2014,
         "Rob Williams",
         30.78
        ],
        [
         2014,
         "Dean perceR__#$#",
         100.91999999999999
        ],
        [
         2014,
         "Pauline Webber",
         17.47
        ],
        [
         2014,
         "Cindy Chapman",
         3.38
        ],
        [
         2014,
         "Carlos Soltero",
         -88.07
        ],
        [
         2014,
         "Joseph Holt",
         644.0
        ],
        [
         2014,
         "Lena Creighton",
         201.07
        ],
        [
         2014,
         "Alan Hwang",
         87.19
        ],
        [
         2014,
         "Mark Hamilton",
         8.49
        ],
        [
         2014,
         "Giulietta Weimer",
         3.6299999999999955
        ],
        [
         2014,
         "Ruben Ausman",
         776.48
        ],
        [
         2014,
         "Arthur Wiediger",
         -42.56
        ],
        [
         2014,
         "Mathew Reese",
         9.11
        ],
        [
         2014,
         "Arthur Gainer",
         144.45999999999998
        ],
        [
         2014,
         "Guy Armstrong",
         101.45
        ],
        [
         2014,
         "Sam Zeldin",
         6.49
        ],
        [
         2014,
         "Joy Daniels",
         -10.34
        ],
        [
         2014,
         "Tamara Manning",
         112.58
        ],
        [
         2014,
         "Georgia Rosenberg",
         359.88
        ],
        [
         2014,
         "Kimberly Carter",
         5.82
        ],
        [
         2014,
         "5467Ben Wallace",
         87.44999999999999
        ],
        [
         2014,
         "Harry Greene",
         21.6
        ],
        [
         2014,
         "Nathan Gelder",
         134.82
        ],
        [
         2014,
         "Mitch Willin0009gham",
         1449.52
        ],
        [
         2014,
         "Rick Duston",
         109.52000000000001
        ],
        [
         2014,
         "Eva Jacobs",
         -23.49
        ],
        [
         2014,
         "Larry Tron",
         15.64
        ],
        [
         2014,
         "Natalie DeCherney",
         47.61
        ],
        [
         2014,
         "Nora Pelletier",
         33.64
        ],
        [
         2014,
         "Brian Moss",
         81.64999999999999
        ],
        [
         2014,
         "Vivek Gonzalez",
         19.54
        ],
        [
         2014,
         "Tracy Zic",
         132.3
        ],
        [
         2014,
         "Alyssa Crouse",
         -14.66
        ],
        [
         2014,
         "Michelle Tran",
         -89.7
        ],
        [
         2014,
         "Thomas Brumley",
         161.97
        ],
        [
         2014,
         "Art Foster",
         -258.56
        ],
        [
         2014,
         "\":[]|}-=Charles Crestani",
         78.74
        ],
        [
         2014,
         "Maribeth Dona",
         -84.11
        ],
        [
         2014,
         "Christine Sundaresam",
         77.03
        ],
        [
         2014,
         "Toby Carlisle",
         402.54
        ],
        [
         2014,
         "Chloris Kastensmidt",
         82.99
        ],
        [
         2014,
         "Michael Stewart",
         16.26
        ],
        [
         2014,
         "Sanjit Engle",
         54.410000000000004
        ],
        [
         2014,
         "Vivek Grady",
         -82.88
        ],
        [
         2014,
         "Clay Ludtke",
         199.77
        ],
        [
         2014,
         "Jamie Frazer",
         37.4
        ],
        [
         2014,
         "Maureen Fritzler",
         -459.99
        ],
        [
         2014,
         ")(*&Sung Pak",
         1.1899999999999995
        ],
        [
         2014,
         "Patrick O'Donnell",
         132.18
        ],
        [
         2014,
         "Anna Chung",
         -4.970000000000001
        ],
        [
         2014,
         "Ji11 Stevenson",
         -204.14
        ],
        [
         2014,
         "Thea Hendricks",
         -155.27
        ],
        [
         2014,
         "Herbert Flentye",
         132.47
        ],
        [
         2014,
         "Aaron Hawkins",
         188.28
        ],
        [
         2014,
         "Alan Barnes",
         -1.07
        ],
        [
         2014,
         "Shirl)(*&ey Schmidt",
         11.05
        ],
        [
         2014,
         "Matt Collins",
         -6.34
        ],
        [
         2014,
         "Barry Gonzalez",
         54.19
        ],
        [
         2014,
         "Lena Hernandez",
         282.09
        ],
        [
         2014,
         "Alex Avila",
         280.68
        ],
        [
         2014,
         "Vivian Mathis",
         6.51
        ],
        [
         2014,
         "Paul Stevenson",
         108.0
        ],
        [
         2014,
         "Michelle Ellison",
         104.98
        ],
        [
         2014,
         "Irene Maddox",
         240.6
        ],
        [
         2014,
         "John Castell",
         64.08
        ],
        [
         2014,
         "David Flashing",
         37.88
        ],
        [
         2014,
         "Henry Goldwyn",
         2.45
        ],
        [
         2014,
         "Mark Packer",
         279.86
        ],
        [
         2014,
         "Lycoris Saunders",
         9.33
        ],
        [
         2014,
         "Stefanie Holloman",
         70.2
        ],
        [
         2014,
         "Cindy Stewart",
         9.0
        ],
        [
         2014,
         "Nora Preis",
         285.95
        ],
        [
         2014,
         "Ann Blume",
         -23.89
        ],
        [
         2014,
         "Deborah Brumfield",
         45.1
        ],
        [
         2014,
         "Alex Russell",
         -242.44
        ],
        [
         2014,
         "Don Jones",
         187.74
        ],
        [
         2014,
         "Michael Dominguez",
         -47.36
        ],
        [
         2014,
         "Carol Triggs",
         285.45
        ],
        [
         2014,
         "Brendan Sweed",
         97.46000000000001
        ],
        [
         2014,
         "Bi1l Stewart",
         3.94
        ],
        [
         2014,
         "Gary Mitchum",
         316.15000000000003
        ],
        [
         2014,
         "Philip Brown",
         12.299999999999999
        ],
        [
         2014,
         "Gary Zandusky",
         50.43
        ],
        [
         2014,
         "Duane Huffman",
         87.79
        ],
        [
         2014,
         "Paul  4567Van Hugh",
         -4.5600000000000005
        ],
        [
         2014,
         "Jeremy Pistek",
         199.41
        ],
        [
         2014,
         "Bart Folk",
         3.96
        ],
        [
         2014,
         "Nicole Fjeld",
         42.35
        ],
        [
         2014,
         "Mark Haberlin",
         48.85
        ],
        [
         2014,
         "Russell D'Ascenzo",
         -23.29
        ],
        [
         2014,
         "Harold Pawlan",
         101.69
        ],
        [
         2014,
         "Alejandro Ballentine",
         6.49
        ],
        [
         2014,
         "Gary McGarr",
         202.78
        ],
        [
         2014,
         "Trudy Glocke",
         89.42
        ],
        [
         2014,
         "Kat rina Edelman",
         161.63
        ],
        [
         2014,
         "Dario Medina",
         58.4
        ],
        [
         2014,
         "Paul Lucas",
         31.83
        ],
        [
         2014,
         "Berenike Kampe",
         -129.01999999999998
        ],
        [
         2014,
         "Katherine Nockton",
         29.95
        ],
        [
         2014,
         "Benjamin Farhat",
         21.48
        ],
        [
         2014,
         "Mike Pelletier",
         -125.28999999999999
        ],
        [
         2014,
         "Carl Ludwig",
         -29.34
        ],
        [
         2014,
         "Chad Sievert",
         84.36
        ],
        [
         2014,
         "Zuschuss Carroll",
         328.8299999999999
        ],
        [
         2014,
         "Eugene Moren",
         2.21
        ],
        [
         2014,
         "Sandra Flanagan",
         98.59
        ],
        [
         2014,
         "Aimee Bixby",
         261.2
        ],
        [
         2014,
         "Ad.       ..am Hart",
         2.4
        ],
        [
         2014,
         "Jennifer Braxton",
         -124.57000000000001
        ],
        [
         2014,
         "Hallie Redmond",
         1.6
        ],
        [
         2014,
         "Liz Pelletier",
         0.96
        ],
        [
         2014,
         "Craig Yedwab",
         -336.63
        ],
        [
         2014,
         "Ivan Gibson",
         28.349999999999998
        ],
        [
         2014,
         "Penelope Sewall",
         623.1999999999999
        ],
        [
         2014,
         "Tim Brockman",
         13.799999999999999
        ],
        [
         2014,
         " &&Tracy Blumstein",
         -125.24
        ],
        [
         2014,
         "B*#^%ruce Geld",
         3.22
        ],
        [
         2014,
         "Patrick O'Brill",
         56.31
        ],
        [
         2014,
         "Ken Lonsdale",
         395.59999999999997
        ],
        [
         2014,
         "Muhammed YeDwab#",
         -103.13000000000001
        ],
        [
         2014,
         "Christopher Schild",
         80.63
        ],
        [
         2014,
         "Luke Foster",
         -3802.08
        ],
        [
         2014,
         "Brian Stugart",
         1.08
        ],
        [
         2014,
         "Jim Mi....tchum",
         7.72
        ],
        [
         2014,
         "Barry Blumstein",
         0.0
        ],
        [
         2014,
         "Philip Fox",
         -407.68
        ],
        [
         2014,
         "Steven Ward",
         19.72
        ],
        [
         2014,
         "Grant Thornton",
         -292.19000000000005
        ],
        [
         2014,
         "Jeremy Lonsdale",
         41.269999999999996
        ],
        [
         2014,
         "Vivek Sundaresam",
         -72.25
        ],
        [
         2014,
         "Roland Fjeld",
         22.65
        ],
        [
         2014,
         "Mike Caudle",
         24.98
        ],
        [
         2014,
         "Sample Company A",
         764.53
        ],
        [
         2014,
         "Greg Maxwell",
         112.28
        ],
        [
         2014,
         "Xylona Preis",
         202.30999999999997
        ],
        [
         2014,
         "Joe Kamberova",
         -212.60999999999996
        ],
        [
         2014,
         "Rick Hansen",
         34.94
        ],
        [
         2014,
         "James Galang",
         378.39
        ],
        [
         2014,
         "Frank Olsen",
         245.02
        ],
        [
         2014,
         "Daniel Lacy",
         -324.86999999999995
        ],
        [
         2014,
         "Craig Carreira",
         11.3
        ],
        [
         2014,
         "Valerie Takahito",
         33.0
        ],
        [
         2014,
         "Ross DeVincentis",
         7.66
        ],
        [
         2014,
         "Tom Stivers",
         17.14
        ],
        [
         2014,
         "Kelly Lampkin",
         -69.25000000000001
        ],
        [
         2014,
         "Ionia McGrath",
         19.24
        ],
        [
         2014,
         "Ryan Crowe",
         -98.43
        ],
        [
         2014,
         "Kean Thornton",
         103.44
        ],
        [
         2014,
         "Ken Black",
         175.16
        ],
        [
         2014,
         "Paul Knut_son",
         9.07
        ],
        [
         2014,
         "Barry Pond",
         2.5
        ],
        [
         2014,
         "Anna Häberlin",
         46.2
        ],
        [
         2014,
         "Maureen Gnade",
         -22.640000000000004
        ],
        [
         2014,
         "Bi1l Tyler",
         74.81
        ],
        [
         2014,
         "Dave Hallsten",
         323.13000000000005
        ],
        [
         2014,
         "Anne McFarland",
         472.08000000000004
        ],
        [
         2014,
         "Ken Brennan",
         2.85
        ],
        [
         2014,
         "Mick Brown",
         4.88
        ],
        [
         2014,
         "Corey Catlett",
         481.45
        ],
        [
         2014,
         "Phillina Ober",
         -65.99
        ],
        [
         2014,
         "Darren Budd",
         17.78
        ],
        [
         2014,
         "Ross Baird",
         7.49
        ],
        [
         2014,
         "Toby Ritter",
         28.52
        ],
        [
         2014,
         "Sally Matthias",
         51.25
        ],
        [
         2014,
         "Karl Braun",
         -29.74
        ],
        [
         2014,
         "Dorothy Dickinson",
         -8.630000000000003
        ],
        [
         2014,
         "Speros Goranitis",
         274.85
        ],
        [
         2014,
         "Steve Chapman",
         52.53
        ],
        [
         2014,
         "Alan Shonely",
         37.349999999999994
        ],
        [
         2014,
         "Duane Noonan",
         179.72
        ],
        [
         2014,
         "Jennifer Ferguson",
         28.14
        ],
        [
         2014,
         "Brooke Gillingham",
         9.7
        ],
        [
         2014,
         "Logan Haushalter",
         9.58
        ],
        [
         2014,
         "Maris LaWare",
         254.24
        ],
        [
         2014,
         "Alan Schoenberger",
         444.69
        ],
        [
         2014,
         "Andy Yotov",
         65.6
        ],
        [
         2014,
         "Gene McClure",
         2.69
        ],
        [
         2014,
         "Aleksandra Gannaway",
         28.740000000000002
        ],
        [
         2014,
         "Jasper Cacioppo",
         1.33
        ],
        [
         2014,
         "Allen Rosenblatt",
         17.59
        ],
        [
         2014,
         "Debra Catini",
         54.800000000000004
        ],
        [
         2014,
         "Shui Tom",
         45.32
        ],
        [
         2014,
         "Steve Nguyen",
         32.94
        ],
        [
         2014,
         "Mary O'Rourke",
         6.04
        ],
        [
         2014,
         "Roland Schwarz",
         552.0
        ],
        [
         2014,
         "Darren Powers",
         24.240000000000002
        ],
        [
         2014,
         "Andrew Roberts",
         -8.41
        ],
        [
         2014,
         "Kunst Miller",
         213.7
        ],
        [
         2014,
         "Dennis Kane",
         109.61
        ],
        [
         2014,
         "Robert Marley",
         200.12
        ],
        [
         2014,
         "Sharelle Roach",
         57.49
        ],
        [
         2014,
         "Adam Shillingsburg",
         129.55
        ],
        [
         2014,
         "Astrea Jones",
         57.650000000000006
        ],
        [
         2014,
         "Kean Nguyen",
         119.98
        ],
        [
         2014,
         "Tracy Hopkins",
         26.63
        ],
        [
         2014,
         "Ashley Jarboe",
         3.4
        ],
        [
         2014,
         "Ken Heidel",
         128.43
        ],
        [
         2014,
         "Barbara Fisher",
         61.99
        ],
        [
         2014,
         "   _Mike Vitt 12313orini",
         11.9
        ],
        [
         2014,
         "Natalie Webber",
         -387.79
        ],
        [
         2014,
         "Michelle Huthwaite",
         10.65
        ],
        [
         2014,
         "Rick Bensley",
         336.96
        ],
        [
         2014,
         "Katherine Hughes",
         -32.050000000000004
        ],
        [
         2014,
         "Helen Andreada",
         -57.040000000000006
        ],
        [
         2014,
         "Sarah Brown",
         -66.52
        ],
        [
         2014,
         "Jill Fjeld",
         78.55000000000001
        ],
        [
         2014,
         "Jack O'Briant",
         101.03
        ],
        [
         2014,
         "Anthony Garverick",
         -4.12
        ],
        [
         2014,
         "Bart Pistole",
         131.70000000000002
        ],
        [
         2014,
         "Anthony Jacobs",
         -56.950000000000045
        ],
        [
         2014,
         "Marc Crier",
         235.23
        ],
        [
         2014,
         "Logan Currie",
         -26.6
        ],
        [
         2014,
         "Nona Balk",
         87.38
        ],
        [
         2014,
         "Rob Lucas",
         42.29
        ],
        [
         2014,
         "Erica Hernandez",
         -248.95999999999998
        ],
        [
         2014,
         "Matthew Clasen",
         41.89
        ],
        [
         2014,
         "John Lee",
         -863.93
        ],
        [
         2014,
         "Mary Zewe",
         786.8000000000001
        ],
        [
         2014,
         "Noel Staavos",
         11.2
        ],
        [
         2014,
         "Toby Braunhardt",
         200.14
        ],
        [
         2014,
         "Tam&^*ara Willing___)ham",
         100.14
        ],
        [
         2014,
         "Karen Dan!els",
         -1340.6
        ],
        [
         2014,
         "Ricardo Emerson",
         6.04
        ],
        [
         2014,
         "Grace Kelly",
         42.92
        ],
        [
         2014,
         "Julie Creighton",
         76.49
        ],
        [
         2014,
         "Carol Adams",
         44.769999999999996
        ],
        [
         2014,
         "Darren Koutras",
         -8.08
        ],
        [
         2014,
         "Lisa Hazard",
         -79.34
        ],
        [
         2014,
         "Jason Klamczynski",
         17.55
        ],
        [
         2014,
         "Yoseph Carroll",
         833.77
        ],
        [
         2014,
         "Joseph Airdo",
         96.92999999999999
        ],
        [
         2014,
         "Greg Tran",
         738.65
        ],
        [
         2014,
         "Craig M 876olinari",
         206.22
        ],
        [
         2014,
         "Rob Dowd",
         341.38
        ],
        [
         2014,
         "Max Engle",
         16.28
        ],
        [
         2014,
         "     Rac5467hel Payne",
         97.86
        ],
        [
         2014,
         "Daniel Raglin",
         22.68
        ],
        [
         2014,
         "Vicky Freymann",
         -158.76
        ],
        [
         2014,
         "Maxwell Schwartz",
         -102.25999999999999
        ],
        [
         2014,
         "Patrick Ryan",
         2.0
        ],
        [
         2014,
         "Jay Kimmel",
         129.54
        ],
        [
         2014,
         "Rick Huthwaite",
         10.96
        ],
        [
         2014,
         "Laurel Elliston",
         -12.830000000000002
        ],
        [
         2014,
         "Ge 1234orge Bell",
         -33.190000000000005
        ],
        [
         2014,
         "Ruben Dartt",
         186.48999999999998
        ],
        [
         2014,
         "Matt Connell",
         49.370000000000005
        ],
        [
         2014,
         "Carl Weiss",
         17.160000000000004
        ],
        [
         2014,
         "Phillip Breyer",
         21.2
        ],
        [
         2014,
         "Sean Miller",
         -1789.74
        ],
        [
         2014,
         "Pauline Chand",
         -11.83
        ],
        [
         2014,
         "Craig Carroll",
         -45.32
        ],
        [
         2014,
         "Benjamin Patterson",
         27.56
        ],
        [
         2014,
         "Richard Bierner",
         65.11999999999998
        ],
        [
         2014,
         "James Lanier",
         59.49
        ],
        [
         2014,
         "Hilary Holden",
         60.27
        ],
        [
         2014,
         "         Helen Abelman",
         108.8
        ],
        [
         2014,
         "Marc Harrigan",
         12.21
        ],
        [
         2014,
         "Angele Hood",
         41.6
        ],
        [
         2014,
         "Harold Ryan",
         79.74000000000001
        ],
        [
         2014,
         "Sylvia Foulston",
         12.27
        ],
        [
         2014,
         "Steven Cartwright",
         114.84
        ],
        [
         2014,
         "George Zrebassa",
         12.0
        ],
        [
         2014,
         "Bruce Stewart",
         -330.55
        ],
        [
         2014,
         "Adrian Hane",
         -25.91
        ],
        [
         2014,
         "Frank Merwin",
         22.98
        ],
        [
         2014,
         "Nicole Hansen",
         33.2
        ],
        [
         2014,
         "Andy Reiter",
         20.12
        ],
        [
         2014,
         "Keith Dawkins",
         35.02
        ],
        [
         2014,
         "Matt Collister",
         -137.2
        ],
        [
         2014,
         "Rich.-=%&*ard Eichhorn",
         -24.87
        ],
        [
         2014,
         "Keith Herrera",
         -2.740000000000002
        ],
        [
         2014,
         "MaryBeth Skach",
         2.6899999999999995
        ],
        [
         2014,
         "Laurel Workman",
         423.60999999999996
        ],
        [
         2014,
         "Erin Smith",
         134.03
        ],
        [
         2014,
         "Todd Sumrall",
         18.619999999999997
        ],
        [
         2014,
         "Susan Pistek",
         24.22
        ],
        [
         2014,
         "Bobby Trafton",
         -5.370000000000002
        ],
        [
         2014,
         "Ellis Ballard",
         -36.36
        ],
        [
         2014,
         "Dave Brooks",
         409.76
        ],
        [
         2014,
         "Brian Derr",
         11.49
        ],
        [
         2014,
         "Joe Elijah",
         -59.8
        ],
        [
         2014,
         "David Smith",
         57.59
        ],
        [
         2014,
         "Erica Hackney",
         54.09
        ],
        [
         2014,
         "       Kristi;'[]na Nunn",
         186.0
        ],
        [
         2014,
         "Emily Phan",
         175.0
        ],
        [
         2014,
         "Michael Granlund",
         -4.8
        ],
        [
         2014,
         "             Dorothy Wardle",
         6.63
        ],
        [
         2014,
         "Michael Kennedy",
         43.22
        ],
        [
         2014,
         "Christine Abelman",
         101.4
        ],
        [
         2014,
         "Dianna Wilson",
         1154.67
        ],
        [
         2014,
         "Lisa DeCherney",
         445.50999999999993
        ],
        [
         2014,
         " Shahi  Shariari",
         -565.75
        ],
        [
         2014,
         "Justin Deggeller",
         17.560000000000002
        ],
        [
         2014,
         "Brian Thompson",
         -199.77
        ],
        [
         2014,
         "Troy Blackwell",
         6.75
        ],
        [
         2014,
         "Greg Matthias",
         214.53
        ],
        [
         2014,
         "Sung Shariari",
         -9.150000000000002
        ],
        [
         2014,
         "Linda Cazamias",
         29.34
        ],
        [
         2014,
         "Ed Jacobs",
         -7403.61
        ],
        [
         2014,
         "Jim Kriz",
         10.19
        ],
        [
         2014,
         "Craig Reiter",
         -6.02
        ],
        [
         2014,
         "Denny Ordway",
         6.09
        ],
        [
         2014,
         "Nat Gilpin",
         219.07999999999998
        ],
        [
         2014,
         "Peter Fuller",
         17.68
        ],
        [
         2014,
         "Alejandro Grove",
         17.990000000000002
        ],
        [
         2014,
         "Brian DeCherney",
         108.74
        ],
        [
         2014,
         "Maria Etezadi",
         1343.07
        ],
        [
         2014,
         "Michael Grace",
         -4.5200000000000005
        ],
        [
         2014,
         "Delfina Latchford",
         -11.89
        ],
        [
         2014,
         "Bi 8761l Shonely",
         210.7
        ],
        [
         2014,
         "Nicole Brennan",
         24.79
        ],
        [
         2014,
         "Jeremy Farry",
         35.4
        ],
        [
         2014,
         "Toby Swindell",
         -285.0
        ],
        [
         2014,
         "Ann Steele",
         71.95
        ],
        [
         2014,
         "Scott Williamson",
         11.0
        ],
        [
         2014,
         "David Philippe",
         -41.94
        ],
        [
         2014,
         "Giulietta Dortch",
         21.66
        ],
        [
         2014,
         "Cari Sayre",
         -13.9
        ],
        [
         2014,
         "Elizabeth Moffitt",
         7.99
        ],
        [
         2014,
         "Gary567 Hansen",
         53.339999999999996
        ],
        [
         2014,
         "Jessica Myrick",
         58.989999999999995
        ],
        [
         2014,
         "Heather Kirkland",
         240.86
        ],
        [
         2014,
         "Dan Campbell",
         -77.87
        ],
        [
         2014,
         "Edward Hooks",
         4.050000000000004
        ],
        [
         2014,
         "Michael Chen",
         395.76
        ],
        [
         2014,
         "Damala Kotsonis",
         -22.359999999999996
        ],
        [
         2014,
         "Tom Ashbrook",
         180.51999999999998
        ],
        [
         2014,
         "Becky Castell",
         38.13
        ],
        [
         2014,
         "Marina Lichtenstein",
         486.58
        ],
        [
         2014,
         "Lena Radford",
         604.5699999999999
        ],
        [
         2014,
         "Monica Federle",
         16.89
        ],
        [
         2014,
         "Tanja Norvell",
         21.25
        ],
        [
         2014,
         "Karen Ferguson",
         82.52
        ],
        [
         2014,
         "Pete Armstrong",
         45.84
        ],
        [
         2014,
         "Nick Zandusky",
         248.03000000000003
        ],
        [
         2014,
         "Corey-Lock",
         142.67999999999998
        ],
        [
         2014,
         "Jas O'Carroll",
         0.97
        ],
        [
         2014,
         "Doug Bickford",
         13.49
        ],
        [
         2014,
         "Harold Dahlen",
         -167.32
        ],
        [
         2014,
         "Aaron Smayling",
         32.23
        ],
        [
         2014,
         "Larry Hughes",
         -5.04
        ],
        [
         2014,
         "Thomas Thornton",
         18.38
        ],
        [
         2014,
         "Barry Französisch",
         7.21
        ],
        [
         2014,
         "Carlos Daly",
         11.7
        ],
        [
         2014,
         "Cynthia A;,.[]rntzen",
         111.78999999999999
        ],
        [
         2014,
         "Brosin34a Hoffman 09",
         235.35000000000002
        ],
        [
         2014,
         "Hunter Glantz",
         616.46
        ],
        [
         2014,
         "John Murray",
         1228.18
        ],
        [
         2014,
         "Frank Preis",
         138.01
        ],
        [
         2014,
         "Bradley Talbott",
         66.77
        ],
        [
         2014,
         "Anthony Rawles",
         10.37
        ],
        [
         2014,
         "Darrin Martin",
         1600.0600000000002
        ],
        [
         2014,
         "UNKNOWN",
         484.64
        ],
        [
         2014,
         "Sarah Bern",
         -33.39
        ],
        [
         2014,
         "Sonia Sunley",
         15.51
        ],
        [
         2014,
         "Luke Schmidt",
         167.72
        ],
        [
         2014,
         "Anthony Johnson",
         503.26
        ],
        [
         2014,
         "Jim Karlsson",
         303.87
        ],
        [
         2014,
         "Magdelene Morse",
         51.36
        ],
        [
         2014,
         "Fred Hopkins",
         -172.46
        ],
        [
         2014,
         "Troy Staebel",
         -227.49
        ],
        [
         2014,
         "Lindsay Shagiari",
         138.15999999999997
        ],
        [
         2014,
         "Stefania Perrino",
         67.46000000000001
        ],
        [
         2014,
         "Nathan Mautz",
         2413.8500000000004
        ],
        [
         2014,
         "Denise Leinenbach",
         2.1
        ],
        [
         2014,
         "Ted Trevino",
         121.40000000000002
        ],
        [
         2014,
         "Mitch Webber",
         1204.43
        ],
        [
         2014,
         "Alice McCarthy",
         7.68
        ],
        [
         2014,
         "Jonathan Doherty",
         -194.20000000000002
        ],
        [
         2014,
         "Joni Sundaresam",
         2.869999999999999
        ],
        [
         2014,
         "Julie Kriz",
         239.98
        ],
        [
         2014,
         "Kristen Hastings",
         1038.59
        ],
        [
         2014,
         "Patrick Jones",
         7.95
        ],
        [
         2014,
         "Guy Phonely",
         -35.93
        ],
        [
         2014,
         "Pamela Coakley",
         196.69
        ],
        [
         2014,
         "Nat Carroll",
         11.15
        ],
        [
         2014,
         "Erin Ashbrook",
         -53.42999999999999
        ],
        [
         2014,
         "Cyma Kinney",
         66.59
        ],
        [
         2014,
         "Theresa Swint",
         -2.0
        ],
        [
         2014,
         "George Ashbrook",
         22.41
        ],
        [
         2014,
         "Quincy Jones",
         120.03999999999999
        ],
        [
         2014,
         "Sanjit Chand",
         5462.589999999999
        ],
        [
         2014,
         "Andy Gerbode",
         -93.53
        ],
        [
         2014,
         "Michael Moore",
         55.03
        ],
        [
         2014,
         "Kelly Andreada",
         49.01
        ],
        [
         2014,
         "Tom Boeckenhauer",
         2567.3299999999995
        ],
        [
         2014,
         "Noah Childs",
         36.66
        ],
        [
         2014,
         "Sara Luxemburg",
         22.25
        ],
        [
         2014,
         "Laurel Beltran",
         -21.36
        ],
        [
         2014,
         "Roy Französisch",
         16.17
        ],
        [
         2014,
         "Thomas Seio",
         471.80999999999995
        ],
        [
         2014,
         "Steven Roelle",
         130.18
        ],
        [
         2014,
         "Pete@#$ Takahito",
         -8.03
        ],
        [
         2014,
         "Erin Creighton",
         -4.02
        ],
        [
         2014,
         "Pete Kriz",
         13.32
        ],
        [
         2014,
         "Resi Pölking",
         262.81000000000006
        ],
        [
         2014,
         "Seth Vernon",
         -218.92999999999998
        ],
        [
         2014,
         "Ivan Liston",
         6.91
        ],
        [
         2014,
         "Tracy Collins",
         3.36
        ],
        [
         2014,
         "Mike Gockenbach",
         -152.72
        ],
        [
         2014,
         "Jim Epp",
         27.19
        ],
        [
         2014,
         "Maribeth 5chnelling",
         143.89999999999998
        ],
        [
         2014,
         "Ben Ferrer",
         666.3900000000001
        ],
        [
         2014,
         "Kelly Williams",
         11.25
        ],
        [
         2014,
         "Sonia Cooley",
         32.39
        ],
        [
         2014,
         "Nancy Lomonaco",
         8.28
        ],
        [
         2014,
         "Roy Collins",
         6.88
        ],
        [
         2014,
         "Scot Wooten",
         -27.2
        ],
        [
         2014,
         "Christine Phan",
         -1031.67
        ],
        [
         2014,
         "Emily Burns",
         16.02
        ],
        [
         2014,
         "Victoria Pisteka",
         118.07
        ],
        [
         2014,
         "Justin MacKendrick",
         273.4
        ],
        [
         2014,
         "Chris Cortes",
         12.399999999999999
        ],
        [
         2014,
         "Dennis Pardue",
         83.78999999999999
        ],
        [
         2014,
         "David Wiener",
         55.470000000000006
        ],
        [
         2014,
         "Evan Bailliet",
         155.01999999999998
        ],
        [
         2014,
         "Christine Kargatis",
         326.42
        ],
        [
         2014,
         "Mick Crebagga",
         -18.729999999999997
        ],
        [
         2014,
         "Dennis Bolton",
         79.89
        ],
        [
         2014,
         "Corey Roper",
         114.4
        ],
        [
         2014,
         "Pauline Johnson",
         2.78
        ],
        [
         2014,
         " Shahi  Hopkins",
         -252.18999999999997
        ],
        [
         2014,
         "Allen Goldenen",
         67.97
        ],
        [
         2014,
         "Mark Van Huff",
         15.079999999999998
        ],
        [
         2014,
         "William Brown",
         106.42
        ],
        [
         2014,
         "Cari Schnelling",
         93.74000000000001
        ],
        [
         2014,
         "Paul MacIntyre",
         21.06
        ],
        [
         2014,
         "Barry Weirich",
         6.73
        ],
        [
         2014,
         "Jack Lebron",
         9.870000000000001
        ],
        [
         2014,
         "Lisa Ryan",
         48.129999999999995
        ],
        [
         2014,
         "Eric Hoffmann",
         22.15
        ],
        [
         2014,
         "Stephanie Phelps",
         72.4
        ],
        [
         2014,
         "Amy Cox",
         84.0
        ],
        [
         2014,
         "Tony Chapman",
         -16.47
        ],
        [
         2014,
         "Paul Prost",
         472.39
        ],
        [
         2014,
         "Clytie Kelty",
         1.23
        ],
        [
         2014,
         "Stewart Visinsky",
         189.13
        ],
        [
         2014,
         "Joni Blumstein",
         72.58
        ],
        [
         2014,
         "Susan Gilcrest",
         2.94
        ],
        [
         2014,
         "Jason Fortune-",
         47.349999999999994
        ],
        [
         2014,
         "6789Erin  Mull",
         59.260000000000005
        ],
        [
         2014,
         "David K ';lendrick",
         78.5
        ],
        [
         2014,
         "Dan Lawera",
         7.73
        ],
        [
         2014,
         "Robert Barroso",
         24.919999999999998
        ],
        [
         2014,
         "Cathy Prescott",
         62.39
        ],
        [
         2014,
         "Filia McAdams",
         228.76999999999998
        ],
        [
         2014,
         "Sean Christensen",
         93.39999999999999
        ],
        [
         2014,
         "Don Miller",
         14.489999999999998
        ],
        [
         2014,
         "Dean Katz",
         6.0
        ],
        [
         2014,
         "Aaron Bergman",
         12.82
        ],
        [
         2014,
         "Nick Radford",
         -123.79
        ],
        [
         2014,
         "Karen Bern",
         -1.0
        ],
        [
         2014,
         "Lynn Smith",
         230.20999999999998
        ],
        [
         2014,
         "Patrick Gardner",
         54.45
        ],
        [
         2014,
         "Luke Weiss",
         420.59
        ],
        [
         2014,
         "Ryan Akin",
         -436.72999999999996
        ],
        [
         2014,
         "Arthur Prichep",
         420.69
        ],
        [
         2014,
         "Fred Chung",
         112.57
        ],
        [
         2014,
         "Jennifer Patt",
         10.81
        ],
        [
         2014,
         "Natalie Fritzler",
         186.74
        ],
        [
         2014,
         "&^*(5678Shirley Daniels",
         122.77000000000001
        ],
        [
         2014,
         "Maureen Gastineau",
         12.91
        ],
        [
         2014,
         "Raymond Messe",
         13.83
        ],
        [
         2014,
         "Kean Takahito",
         68.8
        ],
        [
         2014,
         "Michael Nguyen",
         31.17000000000001
        ],
        [
         2014,
         "Michelle Arnett",
         53.699999999999996
        ],
        [
         2014,
         "Roy Phan",
         56.53
        ],
        [
         2014,
         "Michelle Moray",
         130.68
        ],
        [
         2014,
         "Deirdre Greer",
         22.07
        ],
        [
         2014,
         "Dianna Vittorini",
         9.72
        ],
        [
         2014,
         "Tamara Dahlen",
         9.23
        ],
        [
         2014,
         "Sheri Gordon",
         150.92
        ],
        [
         2014,
         "Jennifer Halladay",
         18.79
        ],
        [
         2014,
         "Sibella Parks",
         2.81
        ],
        [
         2014,
         "Frank Hawley",
         297.17
        ],
        [
         2014,
         "Liz Thompson",
         238.4
        ],
        [
         2014,
         "Shirley Jackson",
         57.93
        ],
        [
         2014,
         "Anne Pryor",
         54.65
        ],
        [
         2014,
         "Anna Andreadi",
         77.64
        ],
        [
         2014,
         "Sam Craven",
         -360.83000000000004
        ],
        [
         2014,
         "Neil Französisch",
         31.87
        ],
        [
         2014,
         "Harry Marie",
         -79.13
        ],
        [
         2014,
         "Evan Henry",
         26.419999999999995
        ],
        [
         2014,
         "Tamara Chand",
         178.64999999999998
        ],
        [
         2014,
         "Ralph Arnett",
         0.0
        ],
        [
         2014,
         "Eugene Hildebrand",
         20.1
        ],
        [
         2014,
         "Alyssa Tate",
         0.8399999999999999
        ],
        [
         2014,
         "Christina Anderson",
         16.97
        ],
        [
         2014,
         "Dorothy Badders",
         8.35
        ],
        [
         2014,
         "John Grady",
         28.26
        ],
        [
         2014,
         "Cynthia Delaney",
         40.21
        ],
        [
         2014,
         "Muhammed MacIntyre",
         -51.52
        ],
        [
         2014,
         "Tiffany House",
         -2.9300000000000006
        ],
        [
         2014,
         "Zuschuss Donatelli",
         25.490000000000002
        ],
        [
         2014,
         "Lauren Leatherbury",
         110.88
        ],
        [
         2014,
         "Bradley Drucker",
         309.08
        ],
        [
         2014,
         "Hunter Lopez",
         448.03000000000003
        ],
        [
         2014,
         "Scott Cohen",
         96.77
        ],
        [
         2014,
         "Saphhira Shifley",
         -88.04
        ],
        [
         2014,
         "Paul Gonzalez",
         -70.73
        ],
        [
         2014,
         "Suzanne McNair",
         -372.11
        ],
        [
         2014,
         "Adrian Barton",
         498.73
        ],
        [
         2014,
         "Joel Eaton",
         42.1
        ],
        [
         2014,
         "Matt Abelman",
         562.98
        ],
        [
         2014,
         "Chris Selesnick",
         446.75
        ],
        [
         2014,
         "Chad Cunningham",
         142.85
        ],
        [
         2014,
         "John Lucas",
         1.33
        ],
        [
         2014,
         "Eileen Kiefer",
         70.49
        ],
        [
         2014,
         "Barry Franz",
         2.37
        ],
        [
         2014,
         "  Shahi  Collister",
         -3462.2000000000003
        ],
        [
         2014,
         "Sue Ann Reed",
         351.32
        ],
        [
         2014,
         "Julia Dunbar",
         8.48
        ],
        [
         2014,
         "Bryan Mills",
         114.1
        ],
        [
         2014,
         "Darrin Sayre",
         29.470000000000002
        ],
        [
         2014,
         "Brian Dahlen",
         342.92
        ],
        [
         2014,
         "Chuck Magee",
         10.780000000000001
        ],
        [
         2014,
         "Dorris liebe",
         29.169999999999998
        ],
        [
         2014,
         "Sarah Foster",
         58.03
        ],
        [
         2014,
         "Denny Joy",
         39.77
        ],
        [
         2014,
         "Nathan Cano",
         10.04
        ],
        [
         2014,
         "Alan Dominguez",
         -6.6
        ],
        [
         2014,
         "Beth Tho098-.,;;mpson",
         290.89
        ],
        [
         2014,
         "Liz Carlisle",
         -128.09
        ],
        [
         2014,
         "Liz MacKendrick",
         76.1
        ],
        [
         2014,
         "Steve Carroll",
         31.53
        ],
        [
         2014,
         "Pamela Stobb",
         11.88
        ],
        [
         2014,
         "Erica Smith",
         15.22
        ],
        [
         2014,
         "Andrew Allen",
         9.89
        ],
        [
         2014,
         "Mark Cousins",
         135.0
        ],
        [
         2014,
         "Christina VanderZanden",
         163.49
        ],
        [
         2014,
         "Liz Willingham",
         21.75
        ],
        [
         2014,
         "Beth Fritzler",
         -12.129999999999999
        ],
        [
         2014,
         "Trudy Brown",
         83.99
        ]
       ],
       "datasetInfos": [
        {
         "name": "_sqldf",
         "schema": {
          "fields": [
           {
            "metadata": {},
            "name": "order_year",
            "nullable": true,
            "type": "integer"
           },
           {
            "metadata": {},
            "name": "customer_name",
            "nullable": true,
            "type": "string"
           },
           {
            "metadata": {},
            "name": "profit",
            "nullable": true,
            "type": "double"
           }
          ],
          "type": "struct"
         },
         "tableIdentifier": null,
         "typeStr": "pyspark.sql.connect.dataframe.DataFrame"
        }
       ],
       "dbfsResultPath": null,
       "isJsonSchema": true,
       "metadata": {
        "createTempViewForImplicitDf": true,
        "dataframeName": "_sqldf",
        "executionCount": 144
       },
       "overflow": false,
       "plotOptions": {
        "customPlotOptions": {},
        "displayType": "table",
        "pivotAggregation": null,
        "pivotColumns": null,
        "xColumns": null,
        "yColumns": null
       },
       "removedWidgets": [],
       "schema": [
        {
         "metadata": "{}",
         "name": "order_year",
         "type": "\"integer\""
        },
        {
         "metadata": "{}",
         "name": "customer_name",
         "type": "\"string\""
        },
        {
         "metadata": "{}",
         "name": "profit",
         "type": "\"double\""
        }
       ],
       "type": "table"
      }
     },
     "output_type": "display_data"
    }
   ],
   "source": [
    "%sql\n",
    "-- Create an aggregate table that shows profit by order_year, customer_name\n",
    "select order_year, customer_name, sum(profit)profit\n",
    "from prod.agg_orders\n",
    "group by 1,2\n",
    "order by 1 desc"
   ]
  }
 ],
 "metadata": {
  "application/vnd.databricks.v1+notebook": {
   "computePreferences": {
    "hardware": {
     "accelerator": null,
     "gpuPoolId": null,
     "memory": null
    }
   },
   "dashboards": [],
   "environmentMetadata": {
    "base_environment": "",
    "environment_version": "2"
   },
   "inputWidgetPreferences": null,
   "language": "python",
   "notebookMetadata": {
    "mostRecentlyExecutedCommandWithImplicitDF": {
     "commandId": 4584056610262457,
     "dataframes": [
      "_sqldf"
     ]
    },
    "pythonIndentUnit": 4
   },
   "notebookName": "main_interview",
   "widgets": {}
  },
  "language_info": {
   "name": "python"
  }
 },
 "nbformat": 4,
 "nbformat_minor": 0
}