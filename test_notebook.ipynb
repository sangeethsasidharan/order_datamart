{
 "cells": [
  {
   "cell_type": "code",
   "execution_count": 0,
   "metadata": {
    "application/vnd.databricks.v1+cell": {
     "cellMetadata": {
      "byteLimit": 2048000,
      "rowLimit": 10000
     },
     "inputWidgets": {},
     "nuid": "fe4c94fa-aeb4-45cb-add0-63d6f595c750",
     "showTitle": false,
     "tableResultSettingsMap": {},
     "title": ""
    }
   },
   "outputs": [
    {
     "output_type": "stream",
     "name": "stdout",
     "output_type": "stream",
     "text": [
      "Requirement already satisfied: pytest in /local_disk0/.ephemeral_nfs/envs/pythonEnv-e6bfe4b6-adf6-4155-a16b-75ed774cddb7/lib/python3.11/site-packages (8.4.1)\nRequirement already satisfied: iniconfig>=1 in /local_disk0/.ephemeral_nfs/envs/pythonEnv-e6bfe4b6-adf6-4155-a16b-75ed774cddb7/lib/python3.11/site-packages (from pytest) (2.1.0)\nRequirement already satisfied: packaging>=20 in /databricks/python3/lib/python3.11/site-packages (from pytest) (23.2)\nRequirement already satisfied: pluggy<2,>=1.5 in /local_disk0/.ephemeral_nfs/envs/pythonEnv-e6bfe4b6-adf6-4155-a16b-75ed774cddb7/lib/python3.11/site-packages (from pytest) (1.6.0)\nRequirement already satisfied: pygments>=2.7.2 in /databricks/python3/lib/python3.11/site-packages (from pytest) (2.15.1)\n\u001B[43mNote: you may need to restart the kernel using %restart_python or dbutils.library.restartPython() to use updated packages.\u001B[0m\n"
     ]
    }
   ],
   "source": [
    "%pip install pytest"
   ]
  },
  {
   "cell_type": "code",
   "execution_count": 0,
   "metadata": {
    "application/vnd.databricks.v1+cell": {
     "cellMetadata": {
      "byteLimit": 2048000,
      "rowLimit": 10000
     },
     "inputWidgets": {},
     "nuid": "eb7c082c-31fc-449f-984d-139d008443e9",
     "showTitle": false,
     "tableResultSettingsMap": {},
     "title": ""
    }
   },
   "outputs": [],
   "source": [
    "dbutils.library.restartPython()"
   ]
  },
  {
   "cell_type": "markdown",
   "metadata": {
    "application/vnd.databricks.v1+cell": {
     "cellMetadata": {},
     "inputWidgets": {},
     "nuid": "c66236c2-ee52-47ee-9cf2-54749917dae8",
     "showTitle": false,
     "tableResultSettingsMap": {},
     "title": ""
    }
   },
   "source": [
    "- Unit test added for all core logic functions\n",
    "- Schema and test data moved to sperate py file for readability\n",
    "- Test data is present in 'unit_test' schema"
   ]
  },
  {
   "cell_type": "code",
   "execution_count": 0,
   "metadata": {
    "application/vnd.databricks.v1+cell": {
     "cellMetadata": {
      "byteLimit": 2048000,
      "rowLimit": 10000
     },
     "inputWidgets": {},
     "nuid": "e2510300-9220-40f2-b3eb-dec3187b4682",
     "showTitle": false,
     "tableResultSettingsMap": {},
     "title": ""
    }
   },
   "outputs": [
    {
     "output_type": "stream",
     "name": "stdout",
     "output_type": "stream",
     "text": [
      "\u001B[1m============================= test session starts ==============================\u001B[0m\nplatform linux -- Python 3.11.10, pytest-8.4.1, pluggy-1.6.0 -- /local_disk0/.ephemeral_nfs/envs/pythonEnv-7ae4d15e-36a6-4d7f-8d87-252804cfae6f/bin/python\nrootdir: /Workspace/Users/sangeeth472@gmail.com/interview\nplugins: typeguard-4.3.0\n\u001B[1mcollecting ... \u001B[0mcollected 7 items\n\ntest_main_interview.py::test_save_table \u001B[32mPASSED\u001B[0m\u001B[32m                           [ 14%]\u001B[0m\ntest_main_interview.py::test_read_table \u001B[32mPASSED\u001B[0m\u001B[33m                           [ 28%]\u001B[0m\ntest_main_interview.py::test_format_column_names \u001B[32mPASSED\u001B[0m\u001B[33m                  [ 42%]\u001B[0m\ntest_main_interview.py::test_format_data \u001B[32mPASSED\u001B[0m\u001B[33m                          [ 57%]\u001B[0m\ntest_main_interview.py::test_drop_duplicates \u001B[32mPASSED\u001B[0m\u001B[33m                      [ 71%]\u001B[0m\ntest_main_interview.py::test_create_fact_table \u001B[32mPASSED\u001B[0m\u001B[33m                    [ 85%]\u001B[0m\ntest_main_interview.py::test_create_agg_table \u001B[32mPASSED\u001B[0m\u001B[33m                     [100%]\u001B[0m\n\n\u001B[33m=============================== warnings summary ===============================\u001B[0m\ntest_main_interview.py::test_save_table\ntest_main_interview.py::test_save_table\ntest_main_interview.py::test_drop_duplicates\ntest_main_interview.py::test_drop_duplicates\n  /databricks/python/lib/python3.11/site-packages/pyspark/sql/pandas/utils.py:51: DeprecationWarning: distutils Version classes are deprecated. Use packaging.version instead.\n    if LooseVersion(pandas.__version__) < LooseVersion(minimum_pandas_version):\n\ntest_main_interview.py::test_save_table\ntest_main_interview.py::test_save_table\ntest_main_interview.py::test_drop_duplicates\ntest_main_interview.py::test_drop_duplicates\n  /databricks/python/lib/python3.11/site-packages/pyspark/sql/pandas/utils.py:85: DeprecationWarning: distutils Version classes are deprecated. Use packaging.version instead.\n    if LooseVersion(pyarrow.__version__) < LooseVersion(minimum_pyarrow_version):\n\ntest_main_interview.py::test_save_table\ntest_main_interview.py::test_save_table\ntest_main_interview.py::test_drop_duplicates\ntest_main_interview.py::test_drop_duplicates\n  /databricks/python/lib/python3.11/site-packages/pyspark/sql/connect/utils.py:59: DeprecationWarning: distutils Version classes are deprecated. Use packaging.version instead.\n    if LooseVersion(grpc.__version__) < LooseVersion(minimum_grpc_version):\n\n-- Docs: https://docs.pytest.org/en/stable/how-to/capture-warnings.html\n\u001B[33m======================= \u001B[32m7 passed\u001B[0m, \u001B[33m\u001B[1m12 warnings\u001B[0m\u001B[33m in 12.45s\u001B[0m\u001B[33m ========================\u001B[0m\n"
     ]
    }
   ],
   "source": [
    "import pytest\n",
    "import sys\n",
    "import os\n",
    "\n",
    "# Skip writing pyc files on a readonly filesystem.\n",
    "sys.dont_write_bytecode = True\n",
    "\n",
    "sys.path.append('/Workspace/Users/sangeeth472@gmail.com/interview/')\n",
    "\n",
    "# Run pytest.\n",
    "retcode = pytest.main([\"./test_main_interview.py\", \"-v\", \"-p\", \"no:cacheprovider\"])\n",
    "\n",
    "# Fail the cell execution if there are any test failures.\n",
    "assert retcode == 0, \"The pytest invocation failed. See the log for details.\""
   ]
  }
 ],
 "metadata": {
  "application/vnd.databricks.v1+notebook": {
   "computePreferences": null,
   "dashboards": [],
   "environmentMetadata": {
    "base_environment": "",
    "environment_version": "2"
   },
   "inputWidgetPreferences": null,
   "language": "python",
   "notebookMetadata": {
    "pythonIndentUnit": 4
   },
   "notebookName": "test_notebook",
   "widgets": {}
  },
  "language_info": {
   "name": "python"
  }
 },
 "nbformat": 4,
 "nbformat_minor": 0
}